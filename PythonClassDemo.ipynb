{
 "cells": [
  {
   "cell_type": "code",
   "execution_count": 1,
   "id": "de509612-d83b-4423-b354-58ac940347df",
   "metadata": {},
   "outputs": [],
   "source": [
    "# instantiate a csv load and analysis class after experimentation"
   ]
  },
  {
   "cell_type": "code",
   "execution_count": 2,
   "id": "618627f4-fada-4f14-aa6e-422c03270c36",
   "metadata": {},
   "outputs": [],
   "source": [
    "class Person:\n",
    "    def __init__(self, name):\n",
    "        self.name = name\n",
    "        \n",
    "    def printPersonName(self):\n",
    "        return self.name"
   ]
  },
  {
   "cell_type": "code",
   "execution_count": 3,
   "id": "499fb7fa-eb6b-4689-a6f7-cdf26844a609",
   "metadata": {},
   "outputs": [],
   "source": [
    "me = Person('Eric')"
   ]
  },
  {
   "cell_type": "code",
   "execution_count": 4,
   "id": "4f891ec2-6d10-4832-b664-6aa85fffccd1",
   "metadata": {},
   "outputs": [
    {
     "data": {
      "text/plain": [
       "'Eric'"
      ]
     },
     "execution_count": 4,
     "metadata": {},
     "output_type": "execute_result"
    }
   ],
   "source": [
    "me.printPersonName()"
   ]
  }
 ],
 "metadata": {
  "kernelspec": {
   "display_name": "Python 3 (ipykernel)",
   "language": "python",
   "name": "python3"
  },
  "language_info": {
   "codemirror_mode": {
    "name": "ipython",
    "version": 3
   },
   "file_extension": ".py",
   "mimetype": "text/x-python",
   "name": "python",
   "nbconvert_exporter": "python",
   "pygments_lexer": "ipython3",
   "version": "3.10.9"
  }
 },
 "nbformat": 4,
 "nbformat_minor": 5
}
