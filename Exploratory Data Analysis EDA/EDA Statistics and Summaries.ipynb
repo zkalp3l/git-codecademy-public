{
 "cells": [
  {
   "cell_type": "code",
   "execution_count": 1,
   "id": "36eee92e-a24d-4153-8cde-397e6a64d485",
   "metadata": {},
   "outputs": [],
   "source": [
    "# DATA SUMMARIES\n",
    "# Introduction\n",
    "# 7 min\n",
    "# Before diving into formal analysis with a dataset, it is often helpful to perform some initial investigations of the data through exploratory data analysis (EDA) to get a better sense of what you will be working with. Basic summary statistics and visualizations are important components of EDA as they allow us to condense a large amount of information into a small set of numbers or graphics that can be easily interpreted.\n",
    "\n",
    "# This lesson focuses on univariate summaries, where we explore each variable separately. This is useful for answering questions about each individual feature. Variables can typically be classified as quantitative (i.e., numeric) or categorical (i.e., discrete). Depending on its type, we may want to choose different summary metrics and visuals to use.\n",
    "\n",
    "# Let’s say we have the following dataset on New York City rental listings imported into a pandas DataFrame (subsetted from the StreetEasy dataset):\n",
    "\n",
    "# import pandas as pd\n",
    "\n",
    "# # Import dataset\n",
    "# rentals = pd.read_csv('streeteasy.csv')\n",
    "\n",
    "# # Preview first 5 rows\n",
    "# print(rentals.head())\n",
    "\n",
    "# rent\tsize_sqft\tborough\n",
    "# 2550\t480\tManhattan\n",
    "# 11500\t2000\tManhattan\n",
    "# 3000\t1000\tQueens\n",
    "# 4500\t916\tManhattan\n",
    "# 4795\t975\tManhattan\n",
    "# As seen, we have two quantitative variables (rent and size_sqft) and one categorical variable (borough). The pandas library offers a handy method .describe() for displaying some of the most common summary statistics for the columns in a DataFrame. By default, the result only includes numeric columns, but we can specify include='all' to the method to display categorical ones as well:\n",
    "\n",
    "# # Display summary statistics for all columns\n",
    "# print(rentals.describe(include='all'))\n",
    "\n",
    "# rent\tsize_sqft\tborough\n",
    "# count\t5000.000000\t5000.000000\t5000\n",
    "# unique\tNaN\tNaN\t3\n",
    "# top\tNaN\tNaN\tManhattan\n",
    "# freq\tNaN\tNaN\t3539\n",
    "# mean\t4536.920800\t920.101400\tNaN\n",
    "# std\t2929.838953\t440.150464\tNaN\n",
    "# min\t1250.000000\t250.000000\tNaN\n",
    "# 25%\t2750.000000\t633.000000\tNaN\n",
    "# 50%\t3600.000000\t800.000000\tNaN\n",
    "# 75%\t5200.000000\t1094.000000\tNaN\n",
    "# max\t20000.000000\t4800.000000\tNaN\n",
    "# This is a great way to get an overview of all the variables in a dataset. Notice how different statistics are displayed depending on the variable type. In the rest of the lesson, we’ll look more closely at the common ways to summarize and visualize quantitative and categorical variables.\n",
    "\n"
   ]
  },
  {
   "cell_type": "code",
   "execution_count": 2,
   "id": "b5235445-b6da-43ad-ad8b-c6aafa75a479",
   "metadata": {},
   "outputs": [],
   "source": [
    "import pandas as pd\n",
    "from scipy.stats import trim_mean, iqr  #, median_absolute_deviation\n",
    "#from scipy import stats\n",
    "\n",
    "movies = pd.read_csv('movies.csv')"
   ]
  },
  {
   "cell_type": "code",
   "execution_count": 3,
   "id": "04cddac5-1db0-4fdd-979c-40c71badce06",
   "metadata": {},
   "outputs": [
    {
     "data": {
      "text/html": [
       "<div>\n",
       "<style scoped>\n",
       "    .dataframe tbody tr th:only-of-type {\n",
       "        vertical-align: middle;\n",
       "    }\n",
       "\n",
       "    .dataframe tbody tr th {\n",
       "        vertical-align: top;\n",
       "    }\n",
       "\n",
       "    .dataframe thead th {\n",
       "        text-align: right;\n",
       "    }\n",
       "</style>\n",
       "<table border=\"1\" class=\"dataframe\">\n",
       "  <thead>\n",
       "    <tr style=\"text-align: right;\">\n",
       "      <th></th>\n",
       "      <th>movie</th>\n",
       "      <th>production_budget</th>\n",
       "      <th>domestic_gross</th>\n",
       "      <th>worldwide_gross</th>\n",
       "      <th>mpaa_rating</th>\n",
       "      <th>genre</th>\n",
       "    </tr>\n",
       "  </thead>\n",
       "  <tbody>\n",
       "    <tr>\n",
       "      <th>0</th>\n",
       "      <td>Evan Almighty</td>\n",
       "      <td>175000000.0</td>\n",
       "      <td>100289690.0</td>\n",
       "      <td>1.741313e+08</td>\n",
       "      <td>PG</td>\n",
       "      <td>Comedy</td>\n",
       "    </tr>\n",
       "    <tr>\n",
       "      <th>1</th>\n",
       "      <td>Waterworld</td>\n",
       "      <td>175000000.0</td>\n",
       "      <td>88246220.0</td>\n",
       "      <td>2.642462e+08</td>\n",
       "      <td>PG-13</td>\n",
       "      <td>Action</td>\n",
       "    </tr>\n",
       "    <tr>\n",
       "      <th>2</th>\n",
       "      <td>King Arthur: Legend of the Sword</td>\n",
       "      <td>175000000.0</td>\n",
       "      <td>39175066.0</td>\n",
       "      <td>1.399507e+08</td>\n",
       "      <td>PG-13</td>\n",
       "      <td>Adventure</td>\n",
       "    </tr>\n",
       "    <tr>\n",
       "      <th>3</th>\n",
       "      <td>47 Ronin</td>\n",
       "      <td>175000000.0</td>\n",
       "      <td>38362475.0</td>\n",
       "      <td>1.517168e+08</td>\n",
       "      <td>PG-13</td>\n",
       "      <td>Action</td>\n",
       "    </tr>\n",
       "    <tr>\n",
       "      <th>4</th>\n",
       "      <td>Jurassic World: Fallen Kingdom</td>\n",
       "      <td>170000000.0</td>\n",
       "      <td>416769345.0</td>\n",
       "      <td>1.304866e+09</td>\n",
       "      <td>PG-13</td>\n",
       "      <td>Action</td>\n",
       "    </tr>\n",
       "  </tbody>\n",
       "</table>\n",
       "</div>"
      ],
      "text/plain": [
       "                              movie  production_budget  domestic_gross  \\\n",
       "0                     Evan Almighty        175000000.0     100289690.0   \n",
       "1                        Waterworld        175000000.0      88246220.0   \n",
       "2  King Arthur: Legend of the Sword        175000000.0      39175066.0   \n",
       "3                          47 Ronin        175000000.0      38362475.0   \n",
       "4    Jurassic World: Fallen Kingdom        170000000.0     416769345.0   \n",
       "\n",
       "   worldwide_gross mpaa_rating      genre  \n",
       "0     1.741313e+08          PG     Comedy  \n",
       "1     2.642462e+08       PG-13     Action  \n",
       "2     1.399507e+08       PG-13  Adventure  \n",
       "3     1.517168e+08       PG-13     Action  \n",
       "4     1.304866e+09       PG-13     Action  "
      ]
     },
     "execution_count": 3,
     "metadata": {},
     "output_type": "execute_result"
    }
   ],
   "source": [
    "# Print the first 5 rows \n",
    "movies.head()\n"
   ]
  },
  {
   "cell_type": "code",
   "execution_count": 4,
   "id": "2aa2334b-7681-4287-8317-a1e7a88ae8e0",
   "metadata": {},
   "outputs": [
    {
     "data": {
      "text/html": [
       "<div>\n",
       "<style scoped>\n",
       "    .dataframe tbody tr th:only-of-type {\n",
       "        vertical-align: middle;\n",
       "    }\n",
       "\n",
       "    .dataframe tbody tr th {\n",
       "        vertical-align: top;\n",
       "    }\n",
       "\n",
       "    .dataframe thead th {\n",
       "        text-align: right;\n",
       "    }\n",
       "</style>\n",
       "<table border=\"1\" class=\"dataframe\">\n",
       "  <thead>\n",
       "    <tr style=\"text-align: right;\">\n",
       "      <th></th>\n",
       "      <th>production_budget</th>\n",
       "      <th>domestic_gross</th>\n",
       "      <th>worldwide_gross</th>\n",
       "    </tr>\n",
       "  </thead>\n",
       "  <tbody>\n",
       "    <tr>\n",
       "      <th>count</th>\n",
       "      <td>3.401000e+03</td>\n",
       "      <td>3.401000e+03</td>\n",
       "      <td>3.401000e+03</td>\n",
       "    </tr>\n",
       "    <tr>\n",
       "      <th>mean</th>\n",
       "      <td>3.328474e+07</td>\n",
       "      <td>4.542179e+07</td>\n",
       "      <td>9.411512e+07</td>\n",
       "    </tr>\n",
       "    <tr>\n",
       "      <th>std</th>\n",
       "      <td>3.489239e+07</td>\n",
       "      <td>5.882566e+07</td>\n",
       "      <td>1.409182e+08</td>\n",
       "    </tr>\n",
       "    <tr>\n",
       "      <th>min</th>\n",
       "      <td>2.500000e+05</td>\n",
       "      <td>0.000000e+00</td>\n",
       "      <td>0.000000e+00</td>\n",
       "    </tr>\n",
       "    <tr>\n",
       "      <th>25%</th>\n",
       "      <td>9.000000e+06</td>\n",
       "      <td>6.118683e+06</td>\n",
       "      <td>1.061881e+07</td>\n",
       "    </tr>\n",
       "    <tr>\n",
       "      <th>50%</th>\n",
       "      <td>2.000000e+07</td>\n",
       "      <td>2.553382e+07</td>\n",
       "      <td>4.015902e+07</td>\n",
       "    </tr>\n",
       "    <tr>\n",
       "      <th>75%</th>\n",
       "      <td>4.500000e+07</td>\n",
       "      <td>6.032379e+07</td>\n",
       "      <td>1.176152e+08</td>\n",
       "    </tr>\n",
       "    <tr>\n",
       "      <th>max</th>\n",
       "      <td>1.750000e+08</td>\n",
       "      <td>4.745447e+08</td>\n",
       "      <td>1.304866e+09</td>\n",
       "    </tr>\n",
       "  </tbody>\n",
       "</table>\n",
       "</div>"
      ],
      "text/plain": [
       "       production_budget  domestic_gross  worldwide_gross\n",
       "count       3.401000e+03    3.401000e+03     3.401000e+03\n",
       "mean        3.328474e+07    4.542179e+07     9.411512e+07\n",
       "std         3.489239e+07    5.882566e+07     1.409182e+08\n",
       "min         2.500000e+05    0.000000e+00     0.000000e+00\n",
       "25%         9.000000e+06    6.118683e+06     1.061881e+07\n",
       "50%         2.000000e+07    2.553382e+07     4.015902e+07\n",
       "75%         4.500000e+07    6.032379e+07     1.176152e+08\n",
       "max         1.750000e+08    4.745447e+08     1.304866e+09"
      ]
     },
     "execution_count": 4,
     "metadata": {},
     "output_type": "execute_result"
    }
   ],
   "source": [
    "\n",
    "# Print the summary statistics for all columns\n",
    "\n",
    "movies.describe() ## NOTE: this is different than    :: movies.describe w/o parentheses, will give very different resullts\n",
    "#movies.describe(  include = 'all' )"
   ]
  },
  {
   "cell_type": "code",
   "execution_count": 5,
   "id": "c710d40c-cfe3-4fb0-a2e9-8c59a31c1bf7",
   "metadata": {},
   "outputs": [],
   "source": [
    "# DATA SUMMARIES\n",
    "# Central Tendency for Quantitative Data\n",
    "# 9 min\n",
    "# For quantitative variables, we often want to describe the central tendency, or the “typical” value of a variable. For example, what is the typical cost of rent in New York City?\n",
    "\n",
    "# There are several common measures of central tendency:\n",
    "\n",
    "# Mean: The average value of the variable, calculated as the sum of all values divided by the number of values.\n",
    "# Median: The middle value of the variable when sorted.\n",
    "# Mode: The most frequent value of the variable.\n",
    "# Trimmed mean: The mean excluding x percent of the lowest and highest data points.\n",
    "# For our rentals DataFrame with a column named rent that contains rental prices, we can calculate the central tendency statistics listed above as follows:\n",
    "\n",
    "# # Mean\n",
    "# rentals.rent.mean()\n",
    "\n",
    "# # Median\n",
    "# rentals.rent.median()\n",
    "\n",
    "# # Mode\n",
    "# rentals.rent.mode()\n",
    "\n",
    "# # Trimmed mean\n",
    "# from scipy.stats import trim_mean\n",
    "# trim_mean(rentals.rent, proportiontocut=0.1)  # trim extreme 10%\n"
   ]
  },
  {
   "cell_type": "code",
   "execution_count": 6,
   "id": "0a037309-01f7-452c-a5a9-1ef7fcddff8e",
   "metadata": {},
   "outputs": [],
   "source": [
    "# 1.\n",
    "# Using the same movies DataFrame from the last exercise, find the mean production_budget for all movies and save it to a variable called mean_budget. Print mean_budget to see the result."
   ]
  },
  {
   "cell_type": "code",
   "execution_count": 7,
   "id": "904e4f57-130a-421e-95a0-51ca8732c8b8",
   "metadata": {},
   "outputs": [],
   "source": [
    "# Save the mean to mean_budget\n",
    "\n",
    "mean_budget = movies.production_budget.mean()\n"
   ]
  },
  {
   "cell_type": "code",
   "execution_count": 8,
   "id": "49bb9ec4-02a1-4647-aa22-fde220172eb0",
   "metadata": {},
   "outputs": [],
   "source": [
    "# Save the median to med_budget\n",
    "\n",
    "med_budget = movies.production_budget.median()"
   ]
  },
  {
   "cell_type": "code",
   "execution_count": 9,
   "id": "90ea1af5-3c16-4c80-9724-30097068d99d",
   "metadata": {},
   "outputs": [],
   "source": [
    "\n",
    "# Save the mode to mode_budget\n",
    "\n",
    "mode_budget = movies.production_budget.mode()\n"
   ]
  },
  {
   "cell_type": "code",
   "execution_count": 10,
   "id": "1a114181-f85c-4cab-86ad-d7ed4d178d32",
   "metadata": {},
   "outputs": [],
   "source": [
    "# Save the trimmed mean to trmean_budget\n",
    "\n",
    "trmean_budget = trim_mean(movies.production_budget, proportiontocut=0.1)  # trim extreme 10%"
   ]
  },
  {
   "cell_type": "code",
   "execution_count": 11,
   "id": "181abe00-f44d-4406-ae24-9d6b59dd3f1d",
   "metadata": {},
   "outputs": [],
   "source": [
    "# Spread for Quantitative Data\n",
    "# 11 min\n",
    "# The spread of a quantitative variable describes the amount of variability. This is important because it provides context for measures of central tendency. For example, if there is a lot of variability in New York City rent prices, we can be less certain that the mean or median price is representative of what the typical rent is.\n",
    "\n",
    "# There are several common measures of spread:\n",
    "\n",
    "# Range: The difference between the maximum and minimum values of a variable.\n",
    "# Interquartile range (IQR): The difference between the 75th and 25th percentile values.\n",
    "# Variance: The average of the squared distance from each data point to the mean.\n",
    "# Standard deviation (SD): The square root of the variance.\n",
    "# Mean absolute deviation (MAD): The mean absolute value of the distance between each data point and the mean.\n",
    "# For our rentals DataFrame, we can calculate the spread for the rent column as follows:\n",
    "\n",
    "# # Range\n",
    "# rentals.rent.max() - rentals.rent.min()\n",
    "\n",
    "# # Interquartile range\n",
    "# rentals.rent.quantile(0.75) - rentals.rent.quantile(0.25)\n",
    "\n",
    "# from scipy.stats import iqr\n",
    "# iqr(rentals.rent)  # alternative way\n",
    "\n",
    "# # Variance\n",
    "# rentals.rent.var()\n",
    "\n",
    "# # Standard deviation\n",
    "# rentals.rent.std()\n",
    "\n",
    "# # Mean absolute deviation\n",
    "# rentals.rent.mad()\n"
   ]
  },
  {
   "cell_type": "code",
   "execution_count": 12,
   "id": "217d837e-102a-4c1d-94ed-c706b0f0fecc",
   "metadata": {},
   "outputs": [
    {
     "name": "stdout",
     "output_type": "stream",
     "text": [
      "174750000.0\n"
     ]
    }
   ],
   "source": [
    "# Using the movies DataFrame, find the range for production_budget and save it to a variable called range_budget. Print range_budget to see the result.\n",
    "\n",
    "#movies.head()\n",
    "\n",
    "movies.production_budget.max()\n",
    "movies.production_budget.min()\n",
    "\n",
    "range_budget = movies.production_budget.max()  - movies.production_budget.min()\n",
    "print(range_budget)"
   ]
  },
  {
   "cell_type": "code",
   "execution_count": 13,
   "id": "739906b9-315b-4eb4-a7f5-7545c3699aee",
   "metadata": {},
   "outputs": [
    {
     "name": "stdout",
     "output_type": "stream",
     "text": [
      "36000000.0\n"
     ]
    },
    {
     "data": {
      "text/plain": [
       "36000000.0"
      ]
     },
     "execution_count": 13,
     "metadata": {},
     "output_type": "execute_result"
    }
   ],
   "source": [
    "# Save the interquartile range for budget to a variable called iqr_budget and print the result.\n",
    "\n",
    "movies.production_budget.quantile(.75)\n",
    "movies.production_budget.quantile(.25)\n",
    "\n",
    "iqr_budget = movies.production_budget.quantile(.75) - movies.production_budget.quantile(.25) \n",
    "\n",
    "# check work with alternate method\n",
    "\n",
    "print(iqr_budget)\n",
    "iqr( movies.production_budget ) # check!\n"
   ]
  },
  {
   "cell_type": "code",
   "execution_count": 14,
   "id": "54d7e5fd-039d-4d5c-8e9e-edef381876e7",
   "metadata": {},
   "outputs": [
    {
     "name": "stdout",
     "output_type": "stream",
     "text": [
      "1217478921139135.5\n"
     ]
    }
   ],
   "source": [
    "# Save the variance to a variable called var_budget and print the result.\n",
    "\n",
    "var_budget = movies.production_budget.var()\n",
    "print(var_budget)"
   ]
  },
  {
   "cell_type": "code",
   "execution_count": 15,
   "id": "c791c963-cf47-49a0-a8a8-a20c2b326000",
   "metadata": {},
   "outputs": [
    {
     "name": "stdout",
     "output_type": "stream",
     "text": [
      "34892390.59077402\n"
     ]
    },
    {
     "data": {
      "text/plain": [
       "1217478921139135.5"
      ]
     },
     "execution_count": 15,
     "metadata": {},
     "output_type": "execute_result"
    }
   ],
   "source": [
    "# Save the standard deviation to a variable called std_budget and print the result.\n",
    "\n",
    "std_budget = movies.production_budget.std()\n",
    "print(std_budget)\n",
    "\n",
    "#check against variance\n",
    "std_budget * std_budget  # check!"
   ]
  },
  {
   "cell_type": "code",
   "execution_count": 16,
   "id": "b3d86e81-32d0-4ef5-813e-ffd091c8a72d",
   "metadata": {},
   "outputs": [
    {
     "data": {
      "text/plain": [
       "26090426.818845242"
      ]
     },
     "execution_count": 16,
     "metadata": {},
     "output_type": "execute_result"
    }
   ],
   "source": [
    "# Save the mean absolute deviation to mad_budget and print result\n",
    "\n",
    "#movies.production_budget.mad()  ## pandas mad() no longer works. Deprecated per doc.\n",
    "\n",
    "#stats.median_absolute_deviation()\n",
    "# stats.median_absolute_deviation(movies.production_budget, scale=1)\n",
    "\n",
    "\n",
    "### GOT THIS METHOD FROM pandas github; check against codecademy instance which still supports mad() ::: 26090426.818845242\n",
    "\n",
    "abs(movies.production_budget - movies.production_budget.mean()).mean() # check!!\n",
    "\n"
   ]
  }
 ],
 "metadata": {
  "kernelspec": {
   "display_name": "Python 3 (ipykernel)",
   "language": "python",
   "name": "python3"
  },
  "language_info": {
   "codemirror_mode": {
    "name": "ipython",
    "version": 3
   },
   "file_extension": ".py",
   "mimetype": "text/x-python",
   "name": "python",
   "nbconvert_exporter": "python",
   "pygments_lexer": "ipython3",
   "version": "3.10.9"
  }
 },
 "nbformat": 4,
 "nbformat_minor": 5
}
