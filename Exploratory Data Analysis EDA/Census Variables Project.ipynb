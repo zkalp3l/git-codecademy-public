{
 "cells": [
  {
   "cell_type": "code",
   "execution_count": 1,
   "id": "8c71fc84-7ca5-4f2c-b5ed-2312bab38ccd",
   "metadata": {},
   "outputs": [],
   "source": [
    "# Import pandas with alias\n",
    "import pandas as pd"
   ]
  },
  {
   "cell_type": "code",
   "execution_count": 2,
   "id": "fe0fe7c7-83a1-48c5-9cf4-8f7e6a8ddb94",
   "metadata": {},
   "outputs": [],
   "source": [
    "# Read in the census dataframe\n",
    "census = pd.read_csv('census_data.csv', index_col=0)"
   ]
  },
  {
   "cell_type": "code",
   "execution_count": 3,
   "id": "898ae3bc-1a2f-4a39-9950-0806cd5c9ad5",
   "metadata": {},
   "outputs": [],
   "source": [
    "# DATA SCIENCE FOUNDATIONS II\n",
    "# Census Variables\n",
    "# You have decided to volunteer for your local community by offering to clean their recently collected census data. The description of this dataset is as follows:\n",
    "\n",
    "# column\tdescription\n",
    "# first_name\tThe respondent’s first name.\n",
    "# last_name\tThe respondent’s last name.\n",
    "# birth_year\tThe respondent’s year of birth.\n",
    "# voted\tIf the respondent participated in the current voting cycle.\n",
    "# num_children\tThe number of children the respondent has.\n",
    "# income_year\tThe average yearly income the respondent earns.\n",
    "# higher_tax\tThe respondent’s answer to the question: “Rate your agreement with the statement: the wealthy should pay higher taxes.”\n",
    "# marital_status\tThe respondent’s current marital status."
   ]
  },
  {
   "cell_type": "code",
   "execution_count": null,
   "id": "8958ac7f-20aa-448e-a4eb-ca5392e324fc",
   "metadata": {},
   "outputs": [],
   "source": []
  },
  {
   "cell_type": "code",
   "execution_count": 4,
   "id": "42745ffe-1447-4548-b485-209d52c80425",
   "metadata": {},
   "outputs": [],
   "source": [
    "\n",
    "# The census dataframe is composed of simulated census data to represent demographics of a small community in the U.S. Call the .head() method on the census dataframe and print the output to view the first five rows."
   ]
  },
  {
   "cell_type": "code",
   "execution_count": 5,
   "id": "bc4a3616-60a3-4f75-a6ce-abba3b4a2faf",
   "metadata": {},
   "outputs": [
    {
     "data": {
      "text/html": [
       "<div>\n",
       "<style scoped>\n",
       "    .dataframe tbody tr th:only-of-type {\n",
       "        vertical-align: middle;\n",
       "    }\n",
       "\n",
       "    .dataframe tbody tr th {\n",
       "        vertical-align: top;\n",
       "    }\n",
       "\n",
       "    .dataframe thead th {\n",
       "        text-align: right;\n",
       "    }\n",
       "</style>\n",
       "<table border=\"1\" class=\"dataframe\">\n",
       "  <thead>\n",
       "    <tr style=\"text-align: right;\">\n",
       "      <th></th>\n",
       "      <th>first_name</th>\n",
       "      <th>last_name</th>\n",
       "      <th>birth_year</th>\n",
       "      <th>voted</th>\n",
       "      <th>num_children</th>\n",
       "      <th>income_year</th>\n",
       "      <th>higher_tax</th>\n",
       "      <th>marital_status</th>\n",
       "    </tr>\n",
       "  </thead>\n",
       "  <tbody>\n",
       "    <tr>\n",
       "      <th>0</th>\n",
       "      <td>Denise</td>\n",
       "      <td>Ratke</td>\n",
       "      <td>2005</td>\n",
       "      <td>False</td>\n",
       "      <td>0</td>\n",
       "      <td>92129.41</td>\n",
       "      <td>disagree</td>\n",
       "      <td>single</td>\n",
       "    </tr>\n",
       "    <tr>\n",
       "      <th>1</th>\n",
       "      <td>Hali</td>\n",
       "      <td>Cummerata</td>\n",
       "      <td>1987</td>\n",
       "      <td>False</td>\n",
       "      <td>0</td>\n",
       "      <td>75649.17</td>\n",
       "      <td>neutral</td>\n",
       "      <td>divorced</td>\n",
       "    </tr>\n",
       "    <tr>\n",
       "      <th>2</th>\n",
       "      <td>Salomon</td>\n",
       "      <td>Orn</td>\n",
       "      <td>1992</td>\n",
       "      <td>True</td>\n",
       "      <td>2</td>\n",
       "      <td>166313.45</td>\n",
       "      <td>agree</td>\n",
       "      <td>single</td>\n",
       "    </tr>\n",
       "    <tr>\n",
       "      <th>3</th>\n",
       "      <td>Sarina</td>\n",
       "      <td>Schiller</td>\n",
       "      <td>1965</td>\n",
       "      <td>False</td>\n",
       "      <td>2</td>\n",
       "      <td>71704.81</td>\n",
       "      <td>strongly agree</td>\n",
       "      <td>married</td>\n",
       "    </tr>\n",
       "    <tr>\n",
       "      <th>4</th>\n",
       "      <td>Gust</td>\n",
       "      <td>Abernathy</td>\n",
       "      <td>1945</td>\n",
       "      <td>False</td>\n",
       "      <td>2</td>\n",
       "      <td>143316.08</td>\n",
       "      <td>agree</td>\n",
       "      <td>married</td>\n",
       "    </tr>\n",
       "  </tbody>\n",
       "</table>\n",
       "</div>"
      ],
      "text/plain": [
       "  first_name  last_name birth_year  voted  num_children  income_year  \\\n",
       "0     Denise      Ratke       2005  False             0     92129.41   \n",
       "1       Hali  Cummerata       1987  False             0     75649.17   \n",
       "2    Salomon        Orn       1992   True             2    166313.45   \n",
       "3     Sarina   Schiller       1965  False             2     71704.81   \n",
       "4       Gust  Abernathy       1945  False             2    143316.08   \n",
       "\n",
       "       higher_tax marital_status  \n",
       "0        disagree         single  \n",
       "1         neutral       divorced  \n",
       "2           agree         single  \n",
       "3  strongly agree        married  \n",
       "4           agree        married  "
      ]
     },
     "execution_count": 5,
     "metadata": {},
     "output_type": "execute_result"
    }
   ],
   "source": [
    "census.head()"
   ]
  },
  {
   "cell_type": "code",
   "execution_count": 6,
   "id": "932be76b-20ce-40f1-b6f0-ff77fa563a84",
   "metadata": {},
   "outputs": [],
   "source": [
    "\n",
    "# Review the dataframe description and values returned by .head() to assess the variable types of each of the variables. This is an important step to understand what preprocessing will be necessary to work with the data."
   ]
  },
  {
   "cell_type": "code",
   "execution_count": 7,
   "id": "0a7ccd3f-3f78-4c0c-9229-4a1c7c269212",
   "metadata": {},
   "outputs": [
    {
     "data": {
      "text/plain": [
       "first_name         object\n",
       "last_name          object\n",
       "birth_year         object\n",
       "voted                bool\n",
       "num_children        int64\n",
       "income_year       float64\n",
       "higher_tax         object\n",
       "marital_status     object\n",
       "dtype: object"
      ]
     },
     "execution_count": 7,
     "metadata": {},
     "output_type": "execute_result"
    }
   ],
   "source": [
    "#Compare the values returned from the .head() method with the data types of each variable by calling .dtypes on the census dataframe and print the result.\n",
    "\n",
    "census.dtypes"
   ]
  },
  {
   "cell_type": "code",
   "execution_count": 8,
   "id": "870e0a70-5e33-4551-af65-73165f9fe1db",
   "metadata": {},
   "outputs": [
    {
     "data": {
      "text/plain": [
       "array(['2005', '1987', '1992', '1965', '1945', '1951', '1963', '1949',\n",
       "       '1950', '1971', '2007', '1944', '1995', '1973', '1946', '1954',\n",
       "       '1994', '1989', '1947', '1993', '1976', '1984', 'missing', '1966',\n",
       "       '1941', '2000', '1953', '1956', '1960', '2001', '1980', '1955',\n",
       "       '1985', '1996', '1968', '1979', '2006', '1962', '1981', '1959',\n",
       "       '1977', '1978', '1983', '1957', '1961', '1982', '2002', '1998',\n",
       "       '1999', '1952', '1940', '1986', '1958'], dtype=object)"
      ]
     },
     "execution_count": 8,
     "metadata": {},
     "output_type": "execute_result"
    }
   ],
   "source": [
    "\n",
    "# The manager of the census would like to know the average birth year of the respondents. We were able to see from .dtypes that birth_year has been assigned the str datatype whereas it should be expressed in int.\n",
    "\n",
    "# Print the unique values of the variable using the .unique() method.\n",
    "\n",
    "census.birth_year.unique()"
   ]
  },
  {
   "cell_type": "code",
   "execution_count": 9,
   "id": "b9a0d81c-f317-4484-bba9-629db0843604",
   "metadata": {},
   "outputs": [],
   "source": [
    "# try channging birth_year to int; it will fail because of the MISSING value\n",
    "#census.birth_year = census.birth_year.astype('int')"
   ]
  },
  {
   "cell_type": "code",
   "execution_count": 10,
   "id": "7a804e17-580c-44b4-ae7d-1287b949ac86",
   "metadata": {},
   "outputs": [],
   "source": [
    "\n",
    "# There appears to be a missing value in the birth_year column. With some research you find that the respondent’s birth year is 1967.\n",
    "\n",
    "# Use the .replace() method to replace the missing value with 1967, so that the data type can be changed to int. Then recheck the values in birth_year by calling the .unique() method and printing the results.\n",
    "\n",
    "census.birth_year.replace('missing', 1967, inplace=True)"
   ]
  },
  {
   "cell_type": "code",
   "execution_count": 11,
   "id": "62d12061-9ed4-45b3-8dd6-88a8f3b9d468",
   "metadata": {},
   "outputs": [],
   "source": [
    "\n",
    "#Now that we have adjusted the values in the birth_year variable, change the datatype from str to int and print the datatypes of the census dataframe with .dtypes.\n",
    "\n",
    "census.birth_year = census.birth_year.astype(int)\n"
   ]
  },
  {
   "cell_type": "code",
   "execution_count": 12,
   "id": "e6ed19db-8b2e-45d1-b176-b8ea20d86760",
   "metadata": {},
   "outputs": [
    {
     "data": {
      "text/plain": [
       "1973.4"
      ]
     },
     "execution_count": 12,
     "metadata": {},
     "output_type": "execute_result"
    }
   ],
   "source": [
    "# Having assigned birth_year to the appropriate data type, print the average birth year of the respondents to the census using the pandas .mean() method.\n",
    "\n",
    "census.describe() # expect mean value 1973\n",
    "\n",
    "census.birth_year.mean() # 1973.4\n"
   ]
  },
  {
   "cell_type": "code",
   "execution_count": 13,
   "id": "88a8d3b6-f31b-460d-9251-f438e95eadc4",
   "metadata": {},
   "outputs": [
    {
     "data": {
      "text/plain": [
       "array(['disagree', 'neutral', 'agree', 'strongly agree',\n",
       "       'strongly disagree'], dtype=object)"
      ]
     },
     "execution_count": 13,
     "metadata": {},
     "output_type": "execute_result"
    }
   ],
   "source": [
    "# Your manager would like to set an order to the higher_tax variable so that: strongly disagree < disagree < neutral < agree < strongly agree.\n",
    "\n",
    "# Convert the higher_tax variable to the category data type with the appropriate order, then print the new order using the .unique() method.\n",
    "\n",
    "census.higher_tax.unique()"
   ]
  },
  {
   "cell_type": "code",
   "execution_count": 14,
   "id": "f80738da-2b85-4911-bf78-7304936aa9b5",
   "metadata": {},
   "outputs": [
    {
     "data": {
      "text/plain": [
       "array(['disagree', 'neutral', 'agree', 'strongly agree',\n",
       "       'strongly disagree'], dtype=object)"
      ]
     },
     "execution_count": 14,
     "metadata": {},
     "output_type": "execute_result"
    }
   ],
   "source": [
    "census.higher_tax.unique()"
   ]
  },
  {
   "cell_type": "code",
   "execution_count": 15,
   "id": "adcb85f0-be5c-4b70-a5e6-4c9ab05c6fa4",
   "metadata": {},
   "outputs": [],
   "source": [
    "\n",
    "\n",
    "census.higher_tax = pd.Categorical(census.higher_tax,['strongly disagree', 'disagree' , 'neutral', 'agree', 'strongly agree'], ordered = True)"
   ]
  },
  {
   "cell_type": "code",
   "execution_count": 16,
   "id": "beb5332c-e54a-422a-a254-d77b713e25d4",
   "metadata": {},
   "outputs": [],
   "source": [
    "# \n",
    "# Your manager is interested in using machine learning models on the census data in the future. To help, let’s One-Hot Encode marital_status to create binary variables of each category. Use the pandas get_dummies() method to One-Hot Encode the marital_status variable.\n",
    "\n",
    "# Print the first five rows of the new dataframe with the .head() method. Note that you’ll have to scroll to the right or expand the web-browser to see the dummy variables."
   ]
  },
  {
   "cell_type": "code",
   "execution_count": 17,
   "id": "1e2b48ba-ccab-4eca-b7ed-c691dd10bd8c",
   "metadata": {},
   "outputs": [],
   "source": [
    "# census=pd.get_dummies(data=census.marital_status) #NO, this clobbers the df\n",
    "# census.marital_status_bool=pd.get_dummies(data=census.marital_status)  # Doesnt work\n",
    "census=pd.get_dummies(data=census, columns=['marital_status'])  # this is the correct method: data source columns must be named seperately"
   ]
  },
  {
   "cell_type": "code",
   "execution_count": 18,
   "id": "c03990b4-2943-475c-a665-2712a34f6140",
   "metadata": {},
   "outputs": [],
   "source": [
    "\n",
    "# Congratulations! You have used your variable skills to help the census team with managing their data. Feel free to explore the data further. There are additional operations you can perform on the data, such as:\n",
    "\n",
    "# Create a new variable called marital_codes by Label Encoding the marital_status variable. This could help the Census team use machine learning to predict if a respondent thinks the wealthy should pay higher taxes based on their marital status.\n",
    "\n",
    "# Create a new variable called age_group, which groups respondents based on their birth year. The groups should be in five-year increments, e.g., 25-30, 31-35, etc. Then label encode the age_group variable to assist the Census team in the event they would like to use machine learning to predict if a respondent thinks the wealthy should pay higher taxes based on their age group."
   ]
  },
  {
   "cell_type": "code",
   "execution_count": 19,
   "id": "2d5c14e4-f275-4b3e-9c5f-f2cd257b0613",
   "metadata": {},
   "outputs": [
    {
     "data": {
      "text/plain": [
       "0     2005\n",
       "1     1987\n",
       "2     1992\n",
       "3     1965\n",
       "4     1945\n",
       "      ... \n",
       "95    1958\n",
       "96    2001\n",
       "97    1987\n",
       "98    1985\n",
       "99    1961\n",
       "Name: birth_year, Length: 100, dtype: int32"
      ]
     },
     "execution_count": 19,
     "metadata": {},
     "output_type": "execute_result"
    }
   ],
   "source": [
    "# We'll do three agre groups, and then we move on...\n",
    "\n",
    "census.birth_year"
   ]
  },
  {
   "cell_type": "code",
   "execution_count": 20,
   "id": "8f18153b-12fe-4ad1-9f81-ae600c3985ac",
   "metadata": {},
   "outputs": [
    {
     "data": {
      "text/plain": [
       "2024"
      ]
     },
     "execution_count": 20,
     "metadata": {},
     "output_type": "execute_result"
    }
   ],
   "source": [
    "# methods to isolate current year\n",
    "\n",
    "import datetime\n",
    "\n",
    "datetime.date.today()\n",
    "datetime.datetime.now().year\n",
    "\n",
    "#pd.DatetimeIndex.year\n",
    "#census.age = ( current_y )\n",
    "#pd.DatetimeIndex(df['Date Attribute']).year"
   ]
  },
  {
   "cell_type": "code",
   "execution_count": 21,
   "id": "eaab74f7-1e2c-4f31-9ff7-c64c8247cd7e",
   "metadata": {},
   "outputs": [],
   "source": [
    "#census.age = ( datetime.datetime.now().year - census.birth_year ) # UserWarning: Pandas doesn't allow columns to be created via a new attribute name - see https://pandas.pydata.org/pandas-docs/stable/indexing.html#attribute-access\n",
    "census.age =  datetime.datetime.now().year"
   ]
  },
  {
   "cell_type": "code",
   "execution_count": 22,
   "id": "f854e2fb-d8e9-442a-8d9e-23758701caac",
   "metadata": {},
   "outputs": [
    {
     "data": {
      "text/plain": [
       "2024"
      ]
     },
     "execution_count": 22,
     "metadata": {},
     "output_type": "execute_result"
    }
   ],
   "source": [
    "census.age # it's callable, but not visible in the df"
   ]
  },
  {
   "cell_type": "code",
   "execution_count": 23,
   "id": "e93419ac-f1dc-4ab0-8824-dcc3288806a9",
   "metadata": {},
   "outputs": [
    {
     "data": {
      "text/plain": [
       "first_name                   object\n",
       "last_name                    object\n",
       "birth_year                    int32\n",
       "voted                          bool\n",
       "num_children                  int64\n",
       "income_year                 float64\n",
       "higher_tax                 category\n",
       "marital_status_divorced        bool\n",
       "marital_status_married         bool\n",
       "marital_status_single          bool\n",
       "marital_status_widowed         bool\n",
       "dtype: object"
      ]
     },
     "execution_count": 23,
     "metadata": {},
     "output_type": "execute_result"
    }
   ],
   "source": [
    "census.dtypes"
   ]
  },
  {
   "cell_type": "code",
   "execution_count": 24,
   "id": "1384df44-6af1-4830-8a60-c5a37cc49454",
   "metadata": {},
   "outputs": [],
   "source": [
    "#census.describe"
   ]
  },
  {
   "cell_type": "code",
   "execution_count": 25,
   "id": "a32f3559-cee8-47ff-ac1b-851298684f98",
   "metadata": {},
   "outputs": [],
   "source": [
    "#census.age = 2024 - census.birth_year # this works, but still doesnt seem to add the column\n",
    "census['age'] = 2024 - census.birth_year # THIS adds the column to the df; the bracket notation was the key"
   ]
  },
  {
   "cell_type": "code",
   "execution_count": 26,
   "id": "72ae9ed2-4619-4fa4-8329-ae9e1dcba201",
   "metadata": {},
   "outputs": [],
   "source": [
    "# test adding a new column ; not sure why this wouldnt work\n",
    "\n",
    "static_value = 'Male'\n",
    "census['occupation'] = static_value # that works fine ; the bracket notation does the trick. \n",
    "\n",
    "# good test, now drop the col\n",
    "census.drop(columns=['occupation'], inplace=True\n",
    "           )"
   ]
  },
  {
   "cell_type": "code",
   "execution_count": 27,
   "id": "bdec111e-6e99-4112-b4f2-1fdcec890efc",
   "metadata": {},
   "outputs": [],
   "source": [
    "census.age = ( datetime.datetime.now().year - census.birth_year )"
   ]
  },
  {
   "cell_type": "code",
   "execution_count": 28,
   "id": "95acd0d4-c66a-4cf9-9350-2ccaf38b949c",
   "metadata": {},
   "outputs": [],
   "source": [
    "# finally, we have the age. Now create the brackets\n",
    "# there are several methods, but here we will use Pandas loc()\n",
    "\n",
    "\n",
    "\n",
    "\n",
    "#df.loc[(df['Age'] >= 13) & (df['Age'] < 20), 'Age'] = 'Teenager'\n",
    "census.loc[ (census['age'] < 18) , 'age_group'] = 'Under 18'\n",
    "census.loc[ (census['age'] >= 18) & (census['age'] < 50) , 'age_group'] = '18 to 49'\n",
    "census.loc[ (census['age'] >= 50)  , 'age_group'] = 'Over 50'\n",
    "\n",
    "#works!"
   ]
  },
  {
   "cell_type": "code",
   "execution_count": 29,
   "id": "f22b2908-8f0d-4248-9122-f2e88dece49d",
   "metadata": {},
   "outputs": [],
   "source": [
    "# Now 'One-Hot encode' the age group\n",
    "\n",
    "census=pd.get_dummies(data=census, columns=['age_group'])\n",
    "\n",
    "#works!"
   ]
  },
  {
   "cell_type": "code",
   "execution_count": 30,
   "id": "cecbf635-1431-4cbf-a489-32eb9cd3688e",
   "metadata": {},
   "outputs": [
    {
     "name": "stdout",
     "output_type": "stream",
     "text": [
      "<class 'pandas.core.frame.DataFrame'>\n",
      "Index: 100 entries, 0 to 99\n",
      "Data columns (total 15 columns):\n",
      " #   Column                   Non-Null Count  Dtype   \n",
      "---  ------                   --------------  -----   \n",
      " 0   first_name               100 non-null    object  \n",
      " 1   last_name                100 non-null    object  \n",
      " 2   birth_year               100 non-null    int32   \n",
      " 3   voted                    100 non-null    bool    \n",
      " 4   num_children             100 non-null    int64   \n",
      " 5   income_year              100 non-null    float64 \n",
      " 6   higher_tax               100 non-null    category\n",
      " 7   marital_status_divorced  100 non-null    bool    \n",
      " 8   marital_status_married   100 non-null    bool    \n",
      " 9   marital_status_single    100 non-null    bool    \n",
      " 10  marital_status_widowed   100 non-null    bool    \n",
      " 11  age                      100 non-null    int32   \n",
      " 12  age_group_18 to 49       100 non-null    bool    \n",
      " 13  age_group_Over 50        100 non-null    bool    \n",
      " 14  age_group_Under 18       100 non-null    bool    \n",
      "dtypes: bool(8), category(1), float64(1), int32(2), int64(1), object(2)\n",
      "memory usage: 5.8+ KB\n"
     ]
    }
   ],
   "source": [
    "census.info()"
   ]
  },
  {
   "cell_type": "code",
   "execution_count": 31,
   "id": "e17c6abe-d349-40c3-82bb-601a7dc64e20",
   "metadata": {},
   "outputs": [
    {
     "data": {
      "text/html": [
       "<div>\n",
       "<style scoped>\n",
       "    .dataframe tbody tr th:only-of-type {\n",
       "        vertical-align: middle;\n",
       "    }\n",
       "\n",
       "    .dataframe tbody tr th {\n",
       "        vertical-align: top;\n",
       "    }\n",
       "\n",
       "    .dataframe thead th {\n",
       "        text-align: right;\n",
       "    }\n",
       "</style>\n",
       "<table border=\"1\" class=\"dataframe\">\n",
       "  <thead>\n",
       "    <tr style=\"text-align: right;\">\n",
       "      <th></th>\n",
       "      <th>first_name</th>\n",
       "      <th>last_name</th>\n",
       "      <th>birth_year</th>\n",
       "      <th>voted</th>\n",
       "      <th>num_children</th>\n",
       "      <th>income_year</th>\n",
       "      <th>higher_tax</th>\n",
       "      <th>marital_status_divorced</th>\n",
       "      <th>marital_status_married</th>\n",
       "      <th>marital_status_single</th>\n",
       "      <th>marital_status_widowed</th>\n",
       "      <th>age</th>\n",
       "      <th>age_group_18 to 49</th>\n",
       "      <th>age_group_Over 50</th>\n",
       "      <th>age_group_Under 18</th>\n",
       "    </tr>\n",
       "  </thead>\n",
       "  <tbody>\n",
       "    <tr>\n",
       "      <th>0</th>\n",
       "      <td>Denise</td>\n",
       "      <td>Ratke</td>\n",
       "      <td>2005</td>\n",
       "      <td>False</td>\n",
       "      <td>0</td>\n",
       "      <td>92129.41</td>\n",
       "      <td>disagree</td>\n",
       "      <td>False</td>\n",
       "      <td>False</td>\n",
       "      <td>True</td>\n",
       "      <td>False</td>\n",
       "      <td>19</td>\n",
       "      <td>True</td>\n",
       "      <td>False</td>\n",
       "      <td>False</td>\n",
       "    </tr>\n",
       "    <tr>\n",
       "      <th>1</th>\n",
       "      <td>Hali</td>\n",
       "      <td>Cummerata</td>\n",
       "      <td>1987</td>\n",
       "      <td>False</td>\n",
       "      <td>0</td>\n",
       "      <td>75649.17</td>\n",
       "      <td>neutral</td>\n",
       "      <td>True</td>\n",
       "      <td>False</td>\n",
       "      <td>False</td>\n",
       "      <td>False</td>\n",
       "      <td>37</td>\n",
       "      <td>True</td>\n",
       "      <td>False</td>\n",
       "      <td>False</td>\n",
       "    </tr>\n",
       "    <tr>\n",
       "      <th>2</th>\n",
       "      <td>Salomon</td>\n",
       "      <td>Orn</td>\n",
       "      <td>1992</td>\n",
       "      <td>True</td>\n",
       "      <td>2</td>\n",
       "      <td>166313.45</td>\n",
       "      <td>agree</td>\n",
       "      <td>False</td>\n",
       "      <td>False</td>\n",
       "      <td>True</td>\n",
       "      <td>False</td>\n",
       "      <td>32</td>\n",
       "      <td>True</td>\n",
       "      <td>False</td>\n",
       "      <td>False</td>\n",
       "    </tr>\n",
       "    <tr>\n",
       "      <th>3</th>\n",
       "      <td>Sarina</td>\n",
       "      <td>Schiller</td>\n",
       "      <td>1965</td>\n",
       "      <td>False</td>\n",
       "      <td>2</td>\n",
       "      <td>71704.81</td>\n",
       "      <td>strongly agree</td>\n",
       "      <td>False</td>\n",
       "      <td>True</td>\n",
       "      <td>False</td>\n",
       "      <td>False</td>\n",
       "      <td>59</td>\n",
       "      <td>False</td>\n",
       "      <td>True</td>\n",
       "      <td>False</td>\n",
       "    </tr>\n",
       "    <tr>\n",
       "      <th>4</th>\n",
       "      <td>Gust</td>\n",
       "      <td>Abernathy</td>\n",
       "      <td>1945</td>\n",
       "      <td>False</td>\n",
       "      <td>2</td>\n",
       "      <td>143316.08</td>\n",
       "      <td>agree</td>\n",
       "      <td>False</td>\n",
       "      <td>True</td>\n",
       "      <td>False</td>\n",
       "      <td>False</td>\n",
       "      <td>79</td>\n",
       "      <td>False</td>\n",
       "      <td>True</td>\n",
       "      <td>False</td>\n",
       "    </tr>\n",
       "  </tbody>\n",
       "</table>\n",
       "</div>"
      ],
      "text/plain": [
       "  first_name  last_name  birth_year  voted  num_children  income_year  \\\n",
       "0     Denise      Ratke        2005  False             0     92129.41   \n",
       "1       Hali  Cummerata        1987  False             0     75649.17   \n",
       "2    Salomon        Orn        1992   True             2    166313.45   \n",
       "3     Sarina   Schiller        1965  False             2     71704.81   \n",
       "4       Gust  Abernathy        1945  False             2    143316.08   \n",
       "\n",
       "       higher_tax  marital_status_divorced  marital_status_married  \\\n",
       "0        disagree                    False                   False   \n",
       "1         neutral                     True                   False   \n",
       "2           agree                    False                   False   \n",
       "3  strongly agree                    False                    True   \n",
       "4           agree                    False                    True   \n",
       "\n",
       "   marital_status_single  marital_status_widowed  age  age_group_18 to 49  \\\n",
       "0                   True                   False   19                True   \n",
       "1                  False                   False   37                True   \n",
       "2                   True                   False   32                True   \n",
       "3                  False                   False   59               False   \n",
       "4                  False                   False   79               False   \n",
       "\n",
       "   age_group_Over 50  age_group_Under 18  \n",
       "0              False               False  \n",
       "1              False               False  \n",
       "2              False               False  \n",
       "3               True               False  \n",
       "4               True               False  "
      ]
     },
     "execution_count": 31,
     "metadata": {},
     "output_type": "execute_result"
    }
   ],
   "source": [
    "census.head()"
   ]
  }
 ],
 "metadata": {
  "kernelspec": {
   "display_name": "Python 3 (ipykernel)",
   "language": "python",
   "name": "python3"
  },
  "language_info": {
   "codemirror_mode": {
    "name": "ipython",
    "version": 3
   },
   "file_extension": ".py",
   "mimetype": "text/x-python",
   "name": "python",
   "nbconvert_exporter": "python",
   "pygments_lexer": "ipython3",
   "version": "3.10.9"
  }
 },
 "nbformat": 4,
 "nbformat_minor": 5
}
