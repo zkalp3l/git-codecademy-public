{
 "cells": [
  {
   "cell_type": "code",
   "execution_count": null,
   "id": "cc94218f-3682-4b17-b0e1-9deed4b75edd",
   "metadata": {},
   "outputs": [],
   "source": [
    "# ATA SCIENCE FOUNDATIONS II\n",
    "# Exploring Student Data\n",
    "# Imagine that you work for a school district and have collected some data on local students and their parents. You’ve been tasked with answering some important questions:\n",
    "\n",
    "# How are students performing in their math classes?\n",
    "# What do students’ parents do for work?\n",
    "# How often are students absent from school?\n",
    "# In this project, you’ll explore and summarize some student data in order to answer these questions.\n",
    "\n",
    "# Data citation:\n",
    "\n",
    "# Dua, D. and Graff, C. (2019). UCI Machine Learning Repository [http://archive.ics.uci.edu/ml]. Irvine, CA: University of California, School of Information and Computer Science. http://archive.ics.uci.edu/ml/datasets/Student+Performance\n",
    "\n",
    "# Paulo Cortez, University of Minho, Guimarães, Portugal, http://www3.dsi.uminho.pt/pcortez"
   ]
  },
  {
   "cell_type": "code",
   "execution_count": 2,
   "id": "3d6b19b0-de60-4b66-b634-f9d3b42a8303",
   "metadata": {},
   "outputs": [],
   "source": [
    "# Load libraries\n",
    "import pandas as pd\n",
    "import numpy as np\n",
    "\n",
    "import matplotlib.pyplot as plt\n",
    "import seaborn as sns"
   ]
  },
  {
   "cell_type": "code",
   "execution_count": null,
   "id": "b64bd143-b5d4-4c72-af9d-e68733a6c140",
   "metadata": {},
   "outputs": [],
   "source": []
  }
 ],
 "metadata": {
  "kernelspec": {
   "display_name": "Python 3 (ipykernel)",
   "language": "python",
   "name": "python3"
  },
  "language_info": {
   "codemirror_mode": {
    "name": "ipython",
    "version": 3
   },
   "file_extension": ".py",
   "mimetype": "text/x-python",
   "name": "python",
   "nbconvert_exporter": "python",
   "pygments_lexer": "ipython3",
   "version": "3.10.9"
  }
 },
 "nbformat": 4,
 "nbformat_minor": 5
}
