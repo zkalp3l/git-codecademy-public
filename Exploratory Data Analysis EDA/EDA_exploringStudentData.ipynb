{
 "cells": [
  {
   "cell_type": "code",
   "execution_count": 1,
   "id": "cc94218f-3682-4b17-b0e1-9deed4b75edd",
   "metadata": {},
   "outputs": [],
   "source": [
    "# ATA SCIENCE FOUNDATIONS II\n",
    "# Exploring Student Data\n",
    "# Imagine that you work for a school district and have collected some data on local students and their parents. You’ve been tasked with answering some important questions:\n",
    "\n",
    "# How are students performing in their math classes?\n",
    "# What do students’ parents do for work?\n",
    "# How often are students absent from school?\n",
    "# In this project, you’ll explore and summarize some student data in order to answer these questions.\n",
    "\n",
    "# Data citation:\n",
    "\n",
    "# Dua, D. and Graff, C. (2019). UCI Machine Learning Repository [http://archive.ics.uci.edu/ml]. Irvine, CA: University of California, School of Information and Computer Science. http://archive.ics.uci.edu/ml/datasets/Student+Performance\n",
    "\n",
    "# Paulo Cortez, University of Minho, Guimarães, Portugal, http://www3.dsi.uminho.pt/pcortez"
   ]
  },
  {
   "cell_type": "code",
   "execution_count": 2,
   "id": "3d6b19b0-de60-4b66-b634-f9d3b42a8303",
   "metadata": {},
   "outputs": [],
   "source": [
    "# Load libraries\n",
    "import pandas as pd\n",
    "import numpy as np\n",
    "\n",
    "import matplotlib.pyplot as plt\n",
    "import seaborn as sns"
   ]
  },
  {
   "cell_type": "code",
   "execution_count": 3,
   "id": "b64bd143-b5d4-4c72-af9d-e68733a6c140",
   "metadata": {},
   "outputs": [],
   "source": [
    "# Import data\n",
    "students = pd.read_csv('students.csv')"
   ]
  },
  {
   "cell_type": "code",
   "execution_count": 4,
   "id": "0d0b0f6b-753a-49a9-9ad9-df4bdebd26e8",
   "metadata": {},
   "outputs": [],
   "source": [
    "# The provided dataframe (saved as students) includes the following variables/features:\n",
    "\n",
    "# address: the location of the student’s home ('U' for urban and 'R' for rural)\n",
    "# absences: the number of times the student was absent during the school year\n",
    "# Mjob: the student’s mother’s job industry\n",
    "# Fjob: the student’s father’s job industry\n",
    "# math_grade: the student’s final grade in math, ranging from 0 to 20\n",
    "# Use the pandas .head() method to inspect the first few rows of data."
   ]
  },
  {
   "cell_type": "code",
   "execution_count": 5,
   "id": "cf4998f3-9d91-4042-9cd4-6408e64fb058",
   "metadata": {},
   "outputs": [
    {
     "data": {
      "text/html": [
       "<div>\n",
       "<style scoped>\n",
       "    .dataframe tbody tr th:only-of-type {\n",
       "        vertical-align: middle;\n",
       "    }\n",
       "\n",
       "    .dataframe tbody tr th {\n",
       "        vertical-align: top;\n",
       "    }\n",
       "\n",
       "    .dataframe thead th {\n",
       "        text-align: right;\n",
       "    }\n",
       "</style>\n",
       "<table border=\"1\" class=\"dataframe\">\n",
       "  <thead>\n",
       "    <tr style=\"text-align: right;\">\n",
       "      <th></th>\n",
       "      <th>address</th>\n",
       "      <th>absences</th>\n",
       "      <th>Mjob</th>\n",
       "      <th>Fjob</th>\n",
       "      <th>math_grade</th>\n",
       "    </tr>\n",
       "  </thead>\n",
       "  <tbody>\n",
       "    <tr>\n",
       "      <th>0</th>\n",
       "      <td>U</td>\n",
       "      <td>6</td>\n",
       "      <td>at_home</td>\n",
       "      <td>teacher</td>\n",
       "      <td>6</td>\n",
       "    </tr>\n",
       "    <tr>\n",
       "      <th>1</th>\n",
       "      <td>U</td>\n",
       "      <td>4</td>\n",
       "      <td>at_home</td>\n",
       "      <td>other</td>\n",
       "      <td>6</td>\n",
       "    </tr>\n",
       "    <tr>\n",
       "      <th>2</th>\n",
       "      <td>U</td>\n",
       "      <td>10</td>\n",
       "      <td>at_home</td>\n",
       "      <td>other</td>\n",
       "      <td>10</td>\n",
       "    </tr>\n",
       "    <tr>\n",
       "      <th>3</th>\n",
       "      <td>U</td>\n",
       "      <td>2</td>\n",
       "      <td>health</td>\n",
       "      <td>services</td>\n",
       "      <td>15</td>\n",
       "    </tr>\n",
       "    <tr>\n",
       "      <th>4</th>\n",
       "      <td>U</td>\n",
       "      <td>4</td>\n",
       "      <td>other</td>\n",
       "      <td>other</td>\n",
       "      <td>10</td>\n",
       "    </tr>\n",
       "    <tr>\n",
       "      <th>5</th>\n",
       "      <td>U</td>\n",
       "      <td>10</td>\n",
       "      <td>services</td>\n",
       "      <td>other</td>\n",
       "      <td>15</td>\n",
       "    </tr>\n",
       "    <tr>\n",
       "      <th>6</th>\n",
       "      <td>U</td>\n",
       "      <td>0</td>\n",
       "      <td>other</td>\n",
       "      <td>other</td>\n",
       "      <td>11</td>\n",
       "    </tr>\n",
       "    <tr>\n",
       "      <th>7</th>\n",
       "      <td>U</td>\n",
       "      <td>6</td>\n",
       "      <td>other</td>\n",
       "      <td>teacher</td>\n",
       "      <td>6</td>\n",
       "    </tr>\n",
       "    <tr>\n",
       "      <th>8</th>\n",
       "      <td>U</td>\n",
       "      <td>0</td>\n",
       "      <td>services</td>\n",
       "      <td>other</td>\n",
       "      <td>19</td>\n",
       "    </tr>\n",
       "    <tr>\n",
       "      <th>9</th>\n",
       "      <td>U</td>\n",
       "      <td>0</td>\n",
       "      <td>other</td>\n",
       "      <td>other</td>\n",
       "      <td>15</td>\n",
       "    </tr>\n",
       "    <tr>\n",
       "      <th>10</th>\n",
       "      <td>U</td>\n",
       "      <td>0</td>\n",
       "      <td>teacher</td>\n",
       "      <td>health</td>\n",
       "      <td>9</td>\n",
       "    </tr>\n",
       "    <tr>\n",
       "      <th>11</th>\n",
       "      <td>U</td>\n",
       "      <td>4</td>\n",
       "      <td>services</td>\n",
       "      <td>other</td>\n",
       "      <td>12</td>\n",
       "    </tr>\n",
       "  </tbody>\n",
       "</table>\n",
       "</div>"
      ],
      "text/plain": [
       "   address  absences      Mjob      Fjob  math_grade\n",
       "0        U         6   at_home   teacher           6\n",
       "1        U         4   at_home     other           6\n",
       "2        U        10   at_home     other          10\n",
       "3        U         2    health  services          15\n",
       "4        U         4     other     other          10\n",
       "5        U        10  services     other          15\n",
       "6        U         0     other     other          11\n",
       "7        U         6     other   teacher           6\n",
       "8        U         0  services     other          19\n",
       "9        U         0     other     other          15\n",
       "10       U         0   teacher    health           9\n",
       "11       U         4  services     other          12"
      ]
     },
     "execution_count": 5,
     "metadata": {},
     "output_type": "execute_result"
    }
   ],
   "source": [
    "students.head(12)"
   ]
  },
  {
   "cell_type": "code",
   "execution_count": 6,
   "id": "385242a2-a320-446b-9928-0bc07bcc26df",
   "metadata": {
    "tags": []
   },
   "outputs": [
    {
     "data": {
      "text/html": [
       "<div>\n",
       "<style scoped>\n",
       "    .dataframe tbody tr th:only-of-type {\n",
       "        vertical-align: middle;\n",
       "    }\n",
       "\n",
       "    .dataframe tbody tr th {\n",
       "        vertical-align: top;\n",
       "    }\n",
       "\n",
       "    .dataframe thead th {\n",
       "        text-align: right;\n",
       "    }\n",
       "</style>\n",
       "<table border=\"1\" class=\"dataframe\">\n",
       "  <thead>\n",
       "    <tr style=\"text-align: right;\">\n",
       "      <th></th>\n",
       "      <th>address</th>\n",
       "      <th>absences</th>\n",
       "      <th>Mjob</th>\n",
       "      <th>Fjob</th>\n",
       "      <th>math_grade</th>\n",
       "    </tr>\n",
       "  </thead>\n",
       "  <tbody>\n",
       "    <tr>\n",
       "      <th>count</th>\n",
       "      <td>395</td>\n",
       "      <td>395.000000</td>\n",
       "      <td>395</td>\n",
       "      <td>395</td>\n",
       "      <td>395.000000</td>\n",
       "    </tr>\n",
       "    <tr>\n",
       "      <th>unique</th>\n",
       "      <td>2</td>\n",
       "      <td>NaN</td>\n",
       "      <td>5</td>\n",
       "      <td>5</td>\n",
       "      <td>NaN</td>\n",
       "    </tr>\n",
       "    <tr>\n",
       "      <th>top</th>\n",
       "      <td>U</td>\n",
       "      <td>NaN</td>\n",
       "      <td>other</td>\n",
       "      <td>other</td>\n",
       "      <td>NaN</td>\n",
       "    </tr>\n",
       "    <tr>\n",
       "      <th>freq</th>\n",
       "      <td>307</td>\n",
       "      <td>NaN</td>\n",
       "      <td>141</td>\n",
       "      <td>217</td>\n",
       "      <td>NaN</td>\n",
       "    </tr>\n",
       "    <tr>\n",
       "      <th>mean</th>\n",
       "      <td>NaN</td>\n",
       "      <td>5.708861</td>\n",
       "      <td>NaN</td>\n",
       "      <td>NaN</td>\n",
       "      <td>10.415190</td>\n",
       "    </tr>\n",
       "    <tr>\n",
       "      <th>std</th>\n",
       "      <td>NaN</td>\n",
       "      <td>8.003096</td>\n",
       "      <td>NaN</td>\n",
       "      <td>NaN</td>\n",
       "      <td>4.581443</td>\n",
       "    </tr>\n",
       "    <tr>\n",
       "      <th>min</th>\n",
       "      <td>NaN</td>\n",
       "      <td>0.000000</td>\n",
       "      <td>NaN</td>\n",
       "      <td>NaN</td>\n",
       "      <td>0.000000</td>\n",
       "    </tr>\n",
       "    <tr>\n",
       "      <th>25%</th>\n",
       "      <td>NaN</td>\n",
       "      <td>0.000000</td>\n",
       "      <td>NaN</td>\n",
       "      <td>NaN</td>\n",
       "      <td>8.000000</td>\n",
       "    </tr>\n",
       "    <tr>\n",
       "      <th>50%</th>\n",
       "      <td>NaN</td>\n",
       "      <td>4.000000</td>\n",
       "      <td>NaN</td>\n",
       "      <td>NaN</td>\n",
       "      <td>11.000000</td>\n",
       "    </tr>\n",
       "    <tr>\n",
       "      <th>75%</th>\n",
       "      <td>NaN</td>\n",
       "      <td>8.000000</td>\n",
       "      <td>NaN</td>\n",
       "      <td>NaN</td>\n",
       "      <td>14.000000</td>\n",
       "    </tr>\n",
       "    <tr>\n",
       "      <th>max</th>\n",
       "      <td>NaN</td>\n",
       "      <td>75.000000</td>\n",
       "      <td>NaN</td>\n",
       "      <td>NaN</td>\n",
       "      <td>20.000000</td>\n",
       "    </tr>\n",
       "  </tbody>\n",
       "</table>\n",
       "</div>"
      ],
      "text/plain": [
       "       address    absences   Mjob   Fjob  math_grade\n",
       "count      395  395.000000    395    395  395.000000\n",
       "unique       2         NaN      5      5         NaN\n",
       "top          U         NaN  other  other         NaN\n",
       "freq       307         NaN    141    217         NaN\n",
       "mean       NaN    5.708861    NaN    NaN   10.415190\n",
       "std        NaN    8.003096    NaN    NaN    4.581443\n",
       "min        NaN    0.000000    NaN    NaN    0.000000\n",
       "25%        NaN    0.000000    NaN    NaN    8.000000\n",
       "50%        NaN    4.000000    NaN    NaN   11.000000\n",
       "75%        NaN    8.000000    NaN    NaN   14.000000\n",
       "max        NaN   75.000000    NaN    NaN   20.000000"
      ]
     },
     "execution_count": 6,
     "metadata": {},
     "output_type": "execute_result"
    }
   ],
   "source": [
    "# Use the pandas .describe() method to print out summary statistics for all five features in the dataset. Inspect the output. Do more students live in urban or rural locations?\n",
    "\n",
    "students.describe(include='all')\n",
    "# students.describe()  "
   ]
  },
  {
   "cell_type": "code",
   "execution_count": 7,
   "id": "1ae6fe6a-68bc-4df5-b21b-8fae30715061",
   "metadata": {},
   "outputs": [
    {
     "data": {
      "text/plain": [
       "10.415189873417722"
      ]
     },
     "execution_count": 7,
     "metadata": {},
     "output_type": "execute_result"
    }
   ],
   "source": [
    "# Summarize a typical student grade\n",
    "# 3.\n",
    "# Let’s start by trying to summarize the math_grade column. Calculate and print the mean value of math_grade.\n",
    "\n",
    "students.math_grade.mean()"
   ]
  },
  {
   "cell_type": "code",
   "execution_count": 8,
   "id": "21ab67b6-0bcf-45cd-8969-05fc26c7b97a",
   "metadata": {},
   "outputs": [
    {
     "data": {
      "text/plain": [
       "11.0"
      ]
     },
     "execution_count": 8,
     "metadata": {},
     "output_type": "execute_result"
    }
   ],
   "source": [
    "# Next, calculate and print the median value of math_grade. Compare this value to the mean. Is it smaller? larger?\n",
    "\n",
    "students.math_grade.median()"
   ]
  },
  {
   "cell_type": "code",
   "execution_count": 9,
   "id": "493e6085-0bbc-4f0a-818b-1d180e0c5a93",
   "metadata": {},
   "outputs": [
    {
     "data": {
      "text/plain": [
       "10"
      ]
     },
     "execution_count": 9,
     "metadata": {},
     "output_type": "execute_result"
    }
   ],
   "source": [
    "# 5.\n",
    "# Finally, calculate and print the mode of the math_grade column. What is the most common grade earned by students in this dataset? How different is this number from the mean and median?\n",
    "\n",
    "students.math_grade.mode()[0]  ## Note that, because of how this function is written, the mode is returned as a pandas series. In order to convert it to a single value, we can extract the first value in the series (eg., students.math_grade.mode()[0])"
   ]
  },
  {
   "cell_type": "code",
   "execution_count": 10,
   "id": "4356bf5c-fb2a-4efe-9b81-6d2dd11be4dd",
   "metadata": {},
   "outputs": [
    {
     "data": {
      "text/plain": [
       "20"
      ]
     },
     "execution_count": 10,
     "metadata": {},
     "output_type": "execute_result"
    }
   ],
   "source": [
    "# Next, let’s summarize the spread of student grades. Calculate and print the range of the math_grade column.\n",
    "\n",
    "students.math_grade.max() - students.math_grade.min()"
   ]
  },
  {
   "cell_type": "code",
   "execution_count": 11,
   "id": "fe4533ff-31bd-4ab8-bc04-a20a846f5b3b",
   "metadata": {},
   "outputs": [
    {
     "data": {
      "text/plain": [
       "4.5814426109978434"
      ]
     },
     "execution_count": 11,
     "metadata": {},
     "output_type": "execute_result"
    }
   ],
   "source": [
    "# Calculate and print the standard deviation of the math_grade column. About two thirds of values fall within one standard deviation of the mean. What does this number tell you about how much math grades vary?\n",
    "\n",
    "students.math_grade.std()"
   ]
  },
  {
   "cell_type": "code",
   "execution_count": 12,
   "id": "6d0e312b-f3e4-494c-9eef-2e3100ba4265",
   "metadata": {},
   "outputs": [],
   "source": [
    "\n",
    "# Finally, calculate the mean absolute deviation of the math_grade column. This is the mean difference between each students’s score and the average score."
   ]
  },
  {
   "cell_type": "code",
   "execution_count": 13,
   "id": "6607a57b-dbd7-4ca5-b665-e660dee59ea4",
   "metadata": {},
   "outputs": [
    {
     "data": {
      "text/plain": [
       "3.4289889440794745"
      ]
     },
     "execution_count": 13,
     "metadata": {},
     "output_type": "execute_result"
    }
   ],
   "source": [
    "abs(students.math_grade.mean() - students.math_grade).mean() # checked result in codecademy :: 3.4289889440794745"
   ]
  },
  {
   "cell_type": "code",
   "execution_count": 14,
   "id": "a45ee559-442f-46a4-a030-1ff42ea7d5e4",
   "metadata": {},
   "outputs": [],
   "source": [
    "\n",
    "# Now that we’ve summarized student grades using statistics for central tendency and spread, let’s visualize the distribution using a histogram. Use the seaborn histplot() function to create a histogram of math_grade.\n",
    "\n",
    "# Note that we’ve provided code to show and clear each plot using:\n",
    "    \n",
    "# plt.show()\n",
    "# plt.clf()"
   ]
  },
  {
   "cell_type": "code",
   "execution_count": 15,
   "id": "952bd78b-3e91-430c-872d-b44787cd0595",
   "metadata": {},
   "outputs": [
    {
     "data": {
      "image/png": "[encoded data removed]",
      "text/plain": [
       "<Figure size 432x288 with 1 Axes>"
      ]
     },
     "metadata": {
      "needs_background": "light"
     },
     "output_type": "display_data"
    },
    {
     "data": {
      "text/plain": [
       "<Figure size 432x288 with 0 Axes>"
      ]
     },
     "metadata": {},
     "output_type": "display_data"
    }
   ],
   "source": [
    "sns.histplot(data=students, x='math_grade')\n",
    "plt.show()\n",
    "plt.clf()"
   ]
  },
  {
   "cell_type": "code",
   "execution_count": 16,
   "id": "0519e138-6bf4-4696-beda-2596a2789daa",
   "metadata": {},
   "outputs": [
    {
     "data": {
      "image/png": "[encoded data removed]",
      "text/plain": [
       "<Figure size 432x288 with 1 Axes>"
      ]
     },
     "metadata": {
      "needs_background": "light"
     },
     "output_type": "display_data"
    },
    {
     "data": {
      "text/plain": [
       "<Figure size 432x288 with 0 Axes>"
      ]
     },
     "metadata": {},
     "output_type": "display_data"
    }
   ],
   "source": [
    "# Another way to visualize the distribution of a quantitative variable is using a box plot. Use the seaborn boxplot() function to create a boxplot of math_grade.\n",
    "\n",
    "# Make sure to add this code after the first call to plt.clf() from the above plot and before the second call to plt.show().\n",
    "\n",
    "sns.boxplot(data=students, x='math_grade')\n",
    "plt.show()\n",
    "plt.clf()"
   ]
  },
  {
   "cell_type": "code",
   "execution_count": 17,
   "id": "d6c5f2f4-7beb-4ae4-b636-4577ae972f7f",
   "metadata": {},
   "outputs": [],
   "source": [
    "# Summarize mothers' jobs\n",
    "\n",
    "# 11.\n",
    "\n",
    "# The Mjob column in the dataset contains information about what the students mothers do as a profession. Summarize the Mjob column by printing the number of students who have mothers with each job type.\n",
    "\n",
    "# Which value of Mjob is most common?\n"
   ]
  },
  {
   "cell_type": "code",
   "execution_count": 33,
   "id": "d9cc4d37-df30-4705-8d03-728a1b8e18d3",
   "metadata": {},
   "outputs": [
    {
     "name": "stdout",
     "output_type": "stream",
     "text": [
      "Mjob\n",
      "other       141\n",
      "services    103\n",
      "at_home      59\n",
      "teacher      58\n",
      "health       34\n",
      "dtype: int64\n",
      "Mjob\n",
      "other       0.356962\n",
      "services    0.260759\n",
      "at_home     0.149367\n",
      "teacher     0.146835\n",
      "health      0.086076\n",
      "dtype: float64\n"
     ]
    }
   ],
   "source": [
    "\n",
    "\n",
    "# Calculate number of students with mothers in each job category\n",
    "print(students.value_counts('Mjob'))\n"
   ]
  },
  {
   "cell_type": "code",
   "execution_count": 34,
   "id": "2cd3e00d-49bc-4c4e-8be6-4e2e69464f46",
   "metadata": {},
   "outputs": [
    {
     "name": "stdout",
     "output_type": "stream",
     "text": [
      "Mjob\n",
      "other       0.356962\n",
      "services    0.260759\n",
      "at_home     0.149367\n",
      "teacher     0.146835\n",
      "health      0.086076\n",
      "dtype: float64\n"
     ]
    }
   ],
   "source": [
    "# Calculate proportion of students with mothers in each job category\n",
    "\n",
    "print(students.value_counts('Mjob', normalize=True))"
   ]
  },
  {
   "cell_type": "code",
   "execution_count": 42,
   "id": "74a1167d-c20e-4575-96ec-4c34531af8ce",
   "metadata": {},
   "outputs": [
    {
     "data": {
      "image/png": "[encoded data removed]",
      "text/plain": [
       "<Figure size 432x288 with 1 Axes>"
      ]
     },
     "metadata": {
      "needs_background": "light"
     },
     "output_type": "display_data"
    },
    {
     "data": {
      "text/plain": [
       "<Figure size 432x288 with 0 Axes>"
      ]
     },
     "metadata": {},
     "output_type": "display_data"
    }
   ],
   "source": [
    "# 13.\n",
    "\n",
    "# Now that we’ve used summary statistics to understand the relative frequencies of different mothers’ jobs, let’s visualize the same information with a bar chart. Use the seaborn countplot() function to create a bar chart of the Mjob variable.\n",
    "\n",
    "\n",
    "# Create bar chart of Mjob\n",
    "# sns.barplot(data=students, x='Mjob') # seaborn bar plot needs numeric variable\n",
    "\n",
    "\n",
    "sns.countplot(data=students, x='Mjob') # seaborn countplot works\n",
    "plt.show()\n",
    "plt.clf()"
   ]
  },
  {
   "cell_type": "code",
   "execution_count": 50,
   "id": "ef4123b8-af8b-4246-92a4-a83cd570f156",
   "metadata": {},
   "outputs": [
    {
     "data": {
      "image/png": "[encoded data removed]",
      "text/plain": [
       "<Figure size 432x288 with 1 Axes>"
      ]
     },
     "metadata": {},
     "output_type": "display_data"
    }
   ],
   "source": [
    "# We can also visualize the same information using a pie chart. Create a pie chart of the Mjob column.\n",
    "\n",
    "students.Mjob.value_counts().plot.pie()\n",
    "\n",
    "plt.show()\n",
    "\n",
    "plt.close()"
   ]
  },
  {
   "cell_type": "code",
   "execution_count": null,
   "id": "7cd6ecb3-39ec-43a6-bb96-92311b26e681",
   "metadata": {},
   "outputs": [],
   "source": [
    "# 15.\n",
    "\n",
    "# Congratulations! You’ve begun to explore a dataset by calculating summary statistics and creating some basic data visualizations. There are still a few more columns in this dataset that we haven’t looked at carefully:\n",
    "\n",
    "#     address: the location of the student’s home ('U' for urban and 'R' for rural)\n",
    "#     absences: the number of times the student was absent during the school year\n",
    "#     Fjob: the student’s father’s job industry\n",
    "\n",
    "# Now that we’ve walked you through an exploration of math_grade and Mjob in more detail, take some time to explore the rest of the columns in the dataset! Which kinds of summary statistics and visualizations can you use to summarize these columns?\n"
   ]
  },
  {
   "cell_type": "code",
   "execution_count": 51,
   "id": "28190f3c-2b7b-4ece-a03e-d45f6aa9ec13",
   "metadata": {},
   "outputs": [
    {
     "data": {
      "text/html": [
       "<div>\n",
       "<style scoped>\n",
       "    .dataframe tbody tr th:only-of-type {\n",
       "        vertical-align: middle;\n",
       "    }\n",
       "\n",
       "    .dataframe tbody tr th {\n",
       "        vertical-align: top;\n",
       "    }\n",
       "\n",
       "    .dataframe thead th {\n",
       "        text-align: right;\n",
       "    }\n",
       "</style>\n",
       "<table border=\"1\" class=\"dataframe\">\n",
       "  <thead>\n",
       "    <tr style=\"text-align: right;\">\n",
       "      <th></th>\n",
       "      <th>address</th>\n",
       "      <th>absences</th>\n",
       "      <th>Mjob</th>\n",
       "      <th>Fjob</th>\n",
       "      <th>math_grade</th>\n",
       "    </tr>\n",
       "  </thead>\n",
       "  <tbody>\n",
       "    <tr>\n",
       "      <th>count</th>\n",
       "      <td>395</td>\n",
       "      <td>395.000000</td>\n",
       "      <td>395</td>\n",
       "      <td>395</td>\n",
       "      <td>395.000000</td>\n",
       "    </tr>\n",
       "    <tr>\n",
       "      <th>unique</th>\n",
       "      <td>2</td>\n",
       "      <td>NaN</td>\n",
       "      <td>5</td>\n",
       "      <td>5</td>\n",
       "      <td>NaN</td>\n",
       "    </tr>\n",
       "    <tr>\n",
       "      <th>top</th>\n",
       "      <td>U</td>\n",
       "      <td>NaN</td>\n",
       "      <td>other</td>\n",
       "      <td>other</td>\n",
       "      <td>NaN</td>\n",
       "    </tr>\n",
       "    <tr>\n",
       "      <th>freq</th>\n",
       "      <td>307</td>\n",
       "      <td>NaN</td>\n",
       "      <td>141</td>\n",
       "      <td>217</td>\n",
       "      <td>NaN</td>\n",
       "    </tr>\n",
       "    <tr>\n",
       "      <th>mean</th>\n",
       "      <td>NaN</td>\n",
       "      <td>5.708861</td>\n",
       "      <td>NaN</td>\n",
       "      <td>NaN</td>\n",
       "      <td>10.415190</td>\n",
       "    </tr>\n",
       "    <tr>\n",
       "      <th>std</th>\n",
       "      <td>NaN</td>\n",
       "      <td>8.003096</td>\n",
       "      <td>NaN</td>\n",
       "      <td>NaN</td>\n",
       "      <td>4.581443</td>\n",
       "    </tr>\n",
       "    <tr>\n",
       "      <th>min</th>\n",
       "      <td>NaN</td>\n",
       "      <td>0.000000</td>\n",
       "      <td>NaN</td>\n",
       "      <td>NaN</td>\n",
       "      <td>0.000000</td>\n",
       "    </tr>\n",
       "    <tr>\n",
       "      <th>25%</th>\n",
       "      <td>NaN</td>\n",
       "      <td>0.000000</td>\n",
       "      <td>NaN</td>\n",
       "      <td>NaN</td>\n",
       "      <td>8.000000</td>\n",
       "    </tr>\n",
       "    <tr>\n",
       "      <th>50%</th>\n",
       "      <td>NaN</td>\n",
       "      <td>4.000000</td>\n",
       "      <td>NaN</td>\n",
       "      <td>NaN</td>\n",
       "      <td>11.000000</td>\n",
       "    </tr>\n",
       "    <tr>\n",
       "      <th>75%</th>\n",
       "      <td>NaN</td>\n",
       "      <td>8.000000</td>\n",
       "      <td>NaN</td>\n",
       "      <td>NaN</td>\n",
       "      <td>14.000000</td>\n",
       "    </tr>\n",
       "    <tr>\n",
       "      <th>max</th>\n",
       "      <td>NaN</td>\n",
       "      <td>75.000000</td>\n",
       "      <td>NaN</td>\n",
       "      <td>NaN</td>\n",
       "      <td>20.000000</td>\n",
       "    </tr>\n",
       "  </tbody>\n",
       "</table>\n",
       "</div>"
      ],
      "text/plain": [
       "       address    absences   Mjob   Fjob  math_grade\n",
       "count      395  395.000000    395    395  395.000000\n",
       "unique       2         NaN      5      5         NaN\n",
       "top          U         NaN  other  other         NaN\n",
       "freq       307         NaN    141    217         NaN\n",
       "mean       NaN    5.708861    NaN    NaN   10.415190\n",
       "std        NaN    8.003096    NaN    NaN    4.581443\n",
       "min        NaN    0.000000    NaN    NaN    0.000000\n",
       "25%        NaN    0.000000    NaN    NaN    8.000000\n",
       "50%        NaN    4.000000    NaN    NaN   11.000000\n",
       "75%        NaN    8.000000    NaN    NaN   14.000000\n",
       "max        NaN   75.000000    NaN    NaN   20.000000"
      ]
     },
     "execution_count": 51,
     "metadata": {},
     "output_type": "execute_result"
    }
   ],
   "source": [
    "students.describe(include='all')"
   ]
  },
  {
   "cell_type": "code",
   "execution_count": 65,
   "id": "2ca47142-e2e6-4d98-a937-072b6f801dd7",
   "metadata": {},
   "outputs": [
    {
     "data": {
      "image/png": "[encoded data removed]",
      "text/plain": [
       "<Figure size 432x288 with 1 Axes>"
      ]
     },
     "metadata": {
      "needs_background": "light"
     },
     "output_type": "display_data"
    },
    {
     "data": {
      "text/plain": [
       "<Figure size 432x288 with 0 Axes>"
      ]
     },
     "metadata": {},
     "output_type": "display_data"
    }
   ],
   "source": [
    "# Eric question : do kids with stay-at-home moms perform better?\n",
    "\n",
    "#sns.countplot(data=students, x='Mjob', ) \n",
    "#sns.histplot(data=students, y='math_grade', x='Mjob')\n",
    "sns.barplot(data=students, y='math_grade', x='Mjob')\n",
    "plt.show()\n",
    "plt.clf()\n",
    "\n",
    "# answer: no, they perform the worst!\n",
    "# ( actually I may be doing this wrong ; the y axis should be AVERAGE math grade )\n",
    "\n"
   ]
  }
 ],
 "metadata": {
  "kernelspec": {
   "display_name": "Python 3 (ipykernel)",
   "language": "python",
   "name": "python3"
  },
  "language_info": {
   "codemirror_mode": {
    "name": "ipython",
    "version": 3
   },
   "file_extension": ".py",
   "mimetype": "text/x-python",
   "name": "python",
   "nbconvert_exporter": "python",
   "pygments_lexer": "ipython3",
   "version": "3.9.7"
  }
 },
 "nbformat": 4,
 "nbformat_minor": 5
}
