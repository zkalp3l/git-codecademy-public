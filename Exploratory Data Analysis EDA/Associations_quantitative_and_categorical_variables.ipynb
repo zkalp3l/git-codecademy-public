{
 "cells": [
  {
   "cell_type": "code",
   "execution_count": 1,
   "id": "47920cf0-efe0-4ab7-9bf4-d2c4979ee193",
   "metadata": {},
   "outputs": [],
   "source": [
    "import pandas as pd\n",
    "#import codecademylib3\n",
    "import matplotlib.pyplot as plt \n",
    "import seaborn as sns\n",
    "import numpy as np\n",
    "import pandas as pd"
   ]
  },
  {
   "cell_type": "code",
   "execution_count": 2,
   "id": "8732f9d2-b888-4342-a02d-b40a6c8fca38",
   "metadata": {},
   "outputs": [],
   "source": [
    "# ASSOCIATIONS: QUANTITATIVE AND CATEGORICAL VARIABLES\n",
    "# Introduction\n",
    "# 7 min\n",
    "# Examining the relationship between variables can give us key insight into our data. In this lesson, we will cover ways of assessing the association between a quantitative variable and a categorical variable.\n",
    "\n",
    "# In the next few exercises, we’ll explore a dataset that contains the following information about students at two portuguese schools:\n",
    "\n",
    "# school: the school each student attends, Gabriel Periera ('GP') or Mousinho da Silveria ('MS')\n",
    "# address: the location of the student’s home ('U' for urban and 'R' for rural)\n",
    "# absences: the number of times the student was absent during the school year\n",
    "# Mjob: the student’s mother’s job industry\n",
    "# Fjob: the student’s father’s job industry\n",
    "# G3: the student’s score on a math assessment, ranging from 0 to 20\n",
    "# Suppose we want to know: Is a student’s score (G3) associated with their school (school)? If so, then knowing what school a student attends gives us information about what their score is likely to be. For example, maybe students at one of the schools consistently score higher than students at the other school.\n",
    "\n",
    "# To start answering this question, it is useful to save scores from each school in two separate lists:\n",
    "\n",
    "# scores_GP = students.G3[students.school == 'GP']\n",
    "# scores_MS = students.G3[students.school == 'MS']\n"
   ]
  },
  {
   "cell_type": "code",
   "execution_count": 3,
   "id": "10fb05eb-b4d3-493a-bf88-b292547cf58a",
   "metadata": {},
   "outputs": [],
   "source": [
    "students = pd.read_csv('students_associations.csv')"
   ]
  },
  {
   "cell_type": "code",
   "execution_count": 4,
   "id": "dea31d03-9e12-4614-865f-3df629d13cee",
   "metadata": {},
   "outputs": [
    {
     "data": {
      "text/html": [
       "<div>\n",
       "<style scoped>\n",
       "    .dataframe tbody tr th:only-of-type {\n",
       "        vertical-align: middle;\n",
       "    }\n",
       "\n",
       "    .dataframe tbody tr th {\n",
       "        vertical-align: top;\n",
       "    }\n",
       "\n",
       "    .dataframe thead th {\n",
       "        text-align: right;\n",
       "    }\n",
       "</style>\n",
       "<table border=\"1\" class=\"dataframe\">\n",
       "  <thead>\n",
       "    <tr style=\"text-align: right;\">\n",
       "      <th></th>\n",
       "      <th>school</th>\n",
       "      <th>address</th>\n",
       "      <th>absences</th>\n",
       "      <th>Mjob</th>\n",
       "      <th>Fjob</th>\n",
       "      <th>G3</th>\n",
       "    </tr>\n",
       "  </thead>\n",
       "  <tbody>\n",
       "    <tr>\n",
       "      <th>0</th>\n",
       "      <td>GP</td>\n",
       "      <td>U</td>\n",
       "      <td>6</td>\n",
       "      <td>at_home</td>\n",
       "      <td>teacher</td>\n",
       "      <td>6</td>\n",
       "    </tr>\n",
       "    <tr>\n",
       "      <th>1</th>\n",
       "      <td>GP</td>\n",
       "      <td>U</td>\n",
       "      <td>4</td>\n",
       "      <td>at_home</td>\n",
       "      <td>other</td>\n",
       "      <td>6</td>\n",
       "    </tr>\n",
       "    <tr>\n",
       "      <th>2</th>\n",
       "      <td>GP</td>\n",
       "      <td>U</td>\n",
       "      <td>10</td>\n",
       "      <td>at_home</td>\n",
       "      <td>other</td>\n",
       "      <td>10</td>\n",
       "    </tr>\n",
       "    <tr>\n",
       "      <th>3</th>\n",
       "      <td>GP</td>\n",
       "      <td>U</td>\n",
       "      <td>2</td>\n",
       "      <td>health</td>\n",
       "      <td>services</td>\n",
       "      <td>15</td>\n",
       "    </tr>\n",
       "    <tr>\n",
       "      <th>4</th>\n",
       "      <td>GP</td>\n",
       "      <td>U</td>\n",
       "      <td>4</td>\n",
       "      <td>other</td>\n",
       "      <td>other</td>\n",
       "      <td>10</td>\n",
       "    </tr>\n",
       "  </tbody>\n",
       "</table>\n",
       "</div>"
      ],
      "text/plain": [
       "  school address  absences     Mjob      Fjob  G3\n",
       "0     GP       U         6  at_home   teacher   6\n",
       "1     GP       U         4  at_home     other   6\n",
       "2     GP       U        10  at_home     other  10\n",
       "3     GP       U         2   health  services  15\n",
       "4     GP       U         4    other     other  10"
      ]
     },
     "execution_count": 4,
     "metadata": {},
     "output_type": "execute_result"
    }
   ],
   "source": [
    "#The dataset described above has been saved for you in the workspace as a Pandas dataframe named students. Inspect the first five rows of students using the .head() method. \n",
    "#Take a look at the other columns. Which are categorical and which are quantitative?\n",
    "\n",
    "#print the first five rows of students:\n",
    "students.head()"
   ]
  },
  {
   "cell_type": "code",
   "execution_count": 5,
   "id": "04ceabda-ef6b-4f71-a276-185bd5cd700f",
   "metadata": {},
   "outputs": [],
   "source": [
    "# Suppose that we want to know whether there is an association between student math scores (G3) and the student’s address (urban or rural). \n",
    "# Separate out G3 scores into two separate lists: one for students who live in an urban location ('U') and one for students who live in a rural location ('R'). \n",
    "# Name these lists scores_urban and scores_rural.\n",
    "\n",
    "#students.address\n",
    "#students.loc(students.address=='U') \n",
    "\n",
    "#print(students.G3[students.address == 'U'])\n",
    "students[students.address == 'U']\n",
    "sschoolgrp=students.school.groupby(students.school)\n",
    "\n",
    "#separate out scores for students who live in urban and rural locations:"
   ]
  },
  {
   "cell_type": "code",
   "execution_count": 6,
   "id": "416956e5-cbc5-4228-b001-18967597ee4a",
   "metadata": {},
   "outputs": [
    {
     "name": "stdout",
     "output_type": "stream",
     "text": [
      "<pandas.core.groupby.generic.SeriesGroupBy object at 0x00000265B3A9E5F0>\n"
     ]
    }
   ],
   "source": [
    "print(sschoolgrp)"
   ]
  },
  {
   "cell_type": "code",
   "execution_count": 7,
   "id": "72d52910-253b-474d-93cf-734968916b8d",
   "metadata": {},
   "outputs": [
    {
     "name": "stdout",
     "output_type": "stream",
     "text": [
      "count    395.000000\n",
      "mean      10.415190\n",
      "std        4.581443\n",
      "min        0.000000\n",
      "25%        8.000000\n",
      "50%       11.000000\n",
      "75%       14.000000\n",
      "max       20.000000\n",
      "Name: G3, dtype: float64\n"
     ]
    }
   ],
   "source": [
    "## validate stats with describe()\n",
    "print(students.G3.describe())"
   ]
  },
  {
   "cell_type": "code",
   "execution_count": 8,
   "id": "840991ea-6ea2-4292-97e4-2522b2259b39",
   "metadata": {},
   "outputs": [],
   "source": [
    "scores_urban = students.G3[students.address == 'U']\n",
    "scores_rural = students.G3[students.address == 'R']"
   ]
  },
  {
   "cell_type": "code",
   "execution_count": 9,
   "id": "7e103df3-3410-44c5-a4bd-9e8a03de96e7",
   "metadata": {},
   "outputs": [
    {
     "data": {
      "text/plain": [
       "pandas.core.series.Series"
      ]
     },
     "execution_count": 9,
     "metadata": {},
     "output_type": "execute_result"
    }
   ],
   "source": [
    "#scores_urban.head()\n",
    "#scores_rural.head()\n",
    "type(scores_rural)"
   ]
  },
  {
   "cell_type": "code",
   "execution_count": 10,
   "id": "5617f921-1081-4dcc-9508-cf0bda7aa897",
   "metadata": {},
   "outputs": [],
   "source": [
    "# ASSOCIATIONS: QUANTITATIVE AND CATEGORICAL VARIABLES\n",
    "# Mean and Median Differences\n",
    "# 8 min\n",
    "# Recall that in the last exercise, we began investigating whether or not there is an association between math scores and the school a student attends. We can begin quantifying this association by using two common summary statistics, mean and median differences. To calculate the difference in mean G3 scores for the two schools, we can start by finding the mean math score for students at each school. We can then find the difference between them:\n",
    "\n",
    "# mean_GP = np.mean(scores_GP)\n",
    "# mean_MS = np.mean(scores_MS)\n",
    "# print(mean_GP) #output: 10.49\n",
    "# print(mean_MS) #output: 9.85\n",
    "# print(mean_GP - mean_MS) #Output: 0.64\n",
    "\n",
    "# We see that the mean math score for students at GP is 10.49, while the mean score for students at MS is 9.85. The mean difference is 0.64. We can follow a similar process to calculate a median difference:\n",
    "\n",
    "# median_GP = np.median(scores_GP)\n",
    "# median_MS = np.median(scores_MS)\n",
    "# print(median_GP) #Output: 11.0\n",
    "# print(median_MS) #Output: 10.0\n",
    "# print(median_GP-median_MS) #Output: 1.0\n",
    "\n",
    "# GP students also have a higher median score, by one point. Highly associated variables tend to have a large mean or median difference. Since “large” could have different meanings depending on the variable, we will go into more detail in the next exercise."
   ]
  },
  {
   "cell_type": "code",
   "execution_count": 11,
   "id": "012c993b-7024-4876-8536-1aa24e52b6cc",
   "metadata": {},
   "outputs": [],
   "source": [
    "#students"
   ]
  },
  {
   "cell_type": "code",
   "execution_count": 12,
   "id": "375cc31e-54a4-466e-b35d-3f0559ef9953",
   "metadata": {},
   "outputs": [
    {
     "name": "stdout",
     "output_type": "stream",
     "text": [
      "10.67\n",
      "9.51\n"
     ]
    }
   ],
   "source": [
    "#Your lists from the previous exercise (scores_urban and scores_rural) have been created for you in script.py. \n",
    "#Use these lists to calculate the mean score for both groups. Store the results as scores_urban_mean and scores_rural_mean, respectively.\n",
    "\n",
    "scores_urban_mean = scores_urban.mean()\n",
    "scores_rural_mean = scores_rural.mean()\n",
    "\n",
    "print(round(scores_urban_mean, 2))\n",
    "print(round(scores_rural_mean, 2))"
   ]
  },
  {
   "cell_type": "code",
   "execution_count": 13,
   "id": "34f84a09-fd5a-484b-bc5a-9c59634fe2ba",
   "metadata": {},
   "outputs": [
    {
     "name": "stdout",
     "output_type": "stream",
     "text": [
      "1.16\n"
     ]
    }
   ],
   "source": [
    "#Calculate the mean difference between the two groups and save the result as mean_diff. Based on this number, do you think the variables are associated? Why or why not?\n",
    "\n",
    "#calculate mean difference:\n",
    "mean_diff = scores_urban_mean - scores_rural_mean\n",
    "print(round(mean_diff, 2))"
   ]
  },
  {
   "cell_type": "code",
   "execution_count": 14,
   "id": "b533b1c7-9035-47a4-a808-db3bf6934708",
   "metadata": {},
   "outputs": [
    {
     "name": "stdout",
     "output_type": "stream",
     "text": [
      "11.0\n",
      "10.0\n"
     ]
    }
   ],
   "source": [
    "#Use the lists to calculate the median score for both groups. Store the results as scores_urban_median, scores_rural_median, respectively. Print out the result of each variable.\n",
    "\n",
    "#calculate medians for each group:\n",
    "scores_urban_median = scores_urban.median()\n",
    "scores_rural_median = scores_rural.median()\n",
    "\n",
    "print(round(scores_urban_median, 2))\n",
    "print(round(scores_rural_median,2))"
   ]
  },
  {
   "cell_type": "code",
   "execution_count": 15,
   "id": "1649908c-bd16-40ab-afa5-54aa6f787213",
   "metadata": {},
   "outputs": [],
   "source": [
    "#Calculate the median difference between the two groups, save the result as median_diff. Based on this value, do you think the variables are associated? Why or why not?\n",
    "\n",
    "#calculate median difference\n",
    "median_diff = scores_urban_median - scores_rural_median\n"
   ]
  },
  {
   "cell_type": "code",
   "execution_count": 16,
   "id": "78eff366-7efb-44cf-8a48-21c6a313565f",
   "metadata": {},
   "outputs": [
    {
     "data": {
      "text/plain": [
       "1.0"
      ]
     },
     "execution_count": 16,
     "metadata": {},
     "output_type": "execute_result"
    }
   ],
   "source": [
    "median_diff"
   ]
  },
  {
   "cell_type": "code",
   "execution_count": 17,
   "id": "d850b0cb-5523-426b-868c-ff8ed37666c7",
   "metadata": {},
   "outputs": [],
   "source": [
    "# ASSOCIATIONS: QUANTITATIVE AND CATEGORICAL VARIABLES\n",
    "# Side-by-Side Box Plots\n",
    "# 6 min\n",
    "# The difference in mean math scores for students at GP and MS was 0.64. How do we know whether this difference is considered small or large? To answer this question, we need to know something about the spread of the data.\n",
    "\n",
    "# One way to get a better sense of spread is by looking at a visual representation of the data. Side-by-side box plots are useful in visualizing mean and median differences because they allow us to visually estimate the variation in the data. This can help us determine if mean or median differences are “large” or “small”.\n",
    "\n",
    "# Let’s take a look at side by side boxplots of math scores at each school:\n",
    "\n",
    "# sns.boxplot(data = df, x = 'school', y = 'G3')\n",
    "# plt.show()\n",
    "\n",
    "# title\n",
    "\n",
    "# Looking at the plot, we can clearly see that there is a lot of overlap between the boxes (i.e. the middle 50% of the data). Therefore, we can be more confident that there is not much difference between the math scores of the two groups.\n",
    "\n",
    "# In contrast, suppose we saw the following plot:\n",
    "\n",
    "# title\n",
    "\n",
    "# In this version, the boxes barely overlap, demonstrating that the middle 50% of scores are different for the two schools. This would be evidence of a stronger association between school and math score."
   ]
  },
  {
   "cell_type": "code",
   "execution_count": 18,
   "id": "bef63d72-1494-416b-bd77-0ae47b67f410",
   "metadata": {},
   "outputs": [
    {
     "data": {
      "text/html": [
       "<div>\n",
       "<style scoped>\n",
       "    .dataframe tbody tr th:only-of-type {\n",
       "        vertical-align: middle;\n",
       "    }\n",
       "\n",
       "    .dataframe tbody tr th {\n",
       "        vertical-align: top;\n",
       "    }\n",
       "\n",
       "    .dataframe thead th {\n",
       "        text-align: right;\n",
       "    }\n",
       "</style>\n",
       "<table border=\"1\" class=\"dataframe\">\n",
       "  <thead>\n",
       "    <tr style=\"text-align: right;\">\n",
       "      <th></th>\n",
       "      <th>school</th>\n",
       "      <th>address</th>\n",
       "      <th>absences</th>\n",
       "      <th>Mjob</th>\n",
       "      <th>Fjob</th>\n",
       "      <th>G3</th>\n",
       "    </tr>\n",
       "  </thead>\n",
       "  <tbody>\n",
       "    <tr>\n",
       "      <th>0</th>\n",
       "      <td>GP</td>\n",
       "      <td>U</td>\n",
       "      <td>6</td>\n",
       "      <td>at_home</td>\n",
       "      <td>teacher</td>\n",
       "      <td>6</td>\n",
       "    </tr>\n",
       "    <tr>\n",
       "      <th>1</th>\n",
       "      <td>GP</td>\n",
       "      <td>U</td>\n",
       "      <td>4</td>\n",
       "      <td>at_home</td>\n",
       "      <td>other</td>\n",
       "      <td>6</td>\n",
       "    </tr>\n",
       "    <tr>\n",
       "      <th>2</th>\n",
       "      <td>GP</td>\n",
       "      <td>U</td>\n",
       "      <td>10</td>\n",
       "      <td>at_home</td>\n",
       "      <td>other</td>\n",
       "      <td>10</td>\n",
       "    </tr>\n",
       "    <tr>\n",
       "      <th>3</th>\n",
       "      <td>GP</td>\n",
       "      <td>U</td>\n",
       "      <td>2</td>\n",
       "      <td>health</td>\n",
       "      <td>services</td>\n",
       "      <td>15</td>\n",
       "    </tr>\n",
       "    <tr>\n",
       "      <th>4</th>\n",
       "      <td>GP</td>\n",
       "      <td>U</td>\n",
       "      <td>4</td>\n",
       "      <td>other</td>\n",
       "      <td>other</td>\n",
       "      <td>10</td>\n",
       "    </tr>\n",
       "    <tr>\n",
       "      <th>...</th>\n",
       "      <td>...</td>\n",
       "      <td>...</td>\n",
       "      <td>...</td>\n",
       "      <td>...</td>\n",
       "      <td>...</td>\n",
       "      <td>...</td>\n",
       "    </tr>\n",
       "    <tr>\n",
       "      <th>390</th>\n",
       "      <td>MS</td>\n",
       "      <td>U</td>\n",
       "      <td>11</td>\n",
       "      <td>services</td>\n",
       "      <td>services</td>\n",
       "      <td>9</td>\n",
       "    </tr>\n",
       "    <tr>\n",
       "      <th>391</th>\n",
       "      <td>MS</td>\n",
       "      <td>U</td>\n",
       "      <td>3</td>\n",
       "      <td>services</td>\n",
       "      <td>services</td>\n",
       "      <td>16</td>\n",
       "    </tr>\n",
       "    <tr>\n",
       "      <th>392</th>\n",
       "      <td>MS</td>\n",
       "      <td>R</td>\n",
       "      <td>3</td>\n",
       "      <td>other</td>\n",
       "      <td>other</td>\n",
       "      <td>7</td>\n",
       "    </tr>\n",
       "    <tr>\n",
       "      <th>393</th>\n",
       "      <td>MS</td>\n",
       "      <td>R</td>\n",
       "      <td>0</td>\n",
       "      <td>services</td>\n",
       "      <td>other</td>\n",
       "      <td>10</td>\n",
       "    </tr>\n",
       "    <tr>\n",
       "      <th>394</th>\n",
       "      <td>MS</td>\n",
       "      <td>U</td>\n",
       "      <td>5</td>\n",
       "      <td>other</td>\n",
       "      <td>at_home</td>\n",
       "      <td>9</td>\n",
       "    </tr>\n",
       "  </tbody>\n",
       "</table>\n",
       "<p>395 rows × 6 columns</p>\n",
       "</div>"
      ],
      "text/plain": [
       "    school address  absences      Mjob      Fjob  G3\n",
       "0       GP       U         6   at_home   teacher   6\n",
       "1       GP       U         4   at_home     other   6\n",
       "2       GP       U        10   at_home     other  10\n",
       "3       GP       U         2    health  services  15\n",
       "4       GP       U         4     other     other  10\n",
       "..     ...     ...       ...       ...       ...  ..\n",
       "390     MS       U        11  services  services   9\n",
       "391     MS       U         3  services  services  16\n",
       "392     MS       R         3     other     other   7\n",
       "393     MS       R         0  services     other  10\n",
       "394     MS       U         5     other   at_home   9\n",
       "\n",
       "[395 rows x 6 columns]"
      ]
     },
     "execution_count": 18,
     "metadata": {},
     "output_type": "execute_result"
    }
   ],
   "source": [
    "students"
   ]
  },
  {
   "cell_type": "code",
   "execution_count": 19,
   "id": "fb6b6fb7-faed-4aed-a955-b8b7c5c8334f",
   "metadata": {},
   "outputs": [
    {
     "data": {
      "image/png": "[encoded data removed]",
      "text/plain": [
       "<Figure size 640x480 with 1 Axes>"
      ]
     },
     "metadata": {},
     "output_type": "display_data"
    }
   ],
   "source": [
    "#create the boxplot here:\n",
    "\n",
    "sns.boxplot(data=students, x='address', y='G3' )\n",
    "\n",
    "plt.show()"
   ]
  },
  {
   "cell_type": "code",
   "execution_count": 20,
   "id": "86b56685-4f0f-4efe-8fc2-7ff098049e69",
   "metadata": {},
   "outputs": [
    {
     "name": "stdout",
     "output_type": "stream",
     "text": [
      "count    395.000000\n",
      "mean      10.415190\n",
      "std        4.581443\n",
      "min        0.000000\n",
      "25%        8.000000\n",
      "50%       11.000000\n",
      "75%       14.000000\n",
      "max       20.000000\n",
      "Name: G3, dtype: float64\n",
      "count    307.000000\n",
      "mean      10.674267\n",
      "std        4.563075\n",
      "min        0.000000\n",
      "25%        9.000000\n",
      "50%       11.000000\n",
      "75%       14.000000\n",
      "max       20.000000\n",
      "Name: G3, dtype: float64\n",
      "count    88.000000\n",
      "mean      9.511364\n",
      "std       4.556149\n",
      "min       0.000000\n",
      "25%       7.000000\n",
      "50%      10.000000\n",
      "75%      12.000000\n",
      "max      19.000000\n",
      "Name: G3, dtype: float64\n"
     ]
    }
   ],
   "source": [
    "## validate stats with describe()\n",
    "print(students.G3.describe())\n",
    "print(students.G3[students.address == 'U'].describe())\n",
    "print(students.G3[students.address == 'R'].describe())"
   ]
  },
  {
   "cell_type": "code",
   "execution_count": 21,
   "id": "20394905-66a6-47a2-b237-135d91c102e2",
   "metadata": {},
   "outputs": [],
   "source": [
    "# ASSOCIATIONS: QUANTITATIVE AND CATEGORICAL VARIABLES\n",
    "# Inspecting Overlapping Histograms\n",
    "# 8 min\n",
    "# Another way to explore the relationship between a quantitative and categorical variable in more detail is by inspecting overlapping histograms. In the code below, setting alpha = .5 ensures that the histograms are see-through enough that we can see both of them at once. We have also used normed=True make sure that the y-axis is a density rather than a frequency (note: the newest version of matplotlib renamed this parameter density instead of normed):\n",
    "\n",
    "# plt.hist(scores_GP , color=\"blue\", label=\"GP\", normed=True, alpha=0.5)\n",
    "# plt.hist(scores_MS , color=\"red\", label=\"MS\", normed=True, alpha=0.5)\n",
    "# plt.legend()\n",
    "# plt.show()\n",
    "\n",
    "# title\n",
    "\n",
    "# By inspecting this histogram, we can clearly see that the entire distribution of scores at GP (not just the mean or median) appears slightly shifted to the right (higher) compared to the scores at MS. However, there is also still a lot of overlap between the scores, suggesting that the association is relatively weak.\n",
    "\n",
    "# Note that there are only 46 students at MS, but there are 349 students at GP. If we hadn’t used normed = True, our histogram would have looked like this, making it impossible to compare the distributions fairly:\n",
    "\n",
    "# title\n",
    "\n",
    "# While overlapping histograms and side by side boxplots can convey similar information, histograms give us more detail and can be useful in spotting patterns that were not visible in a box plot (eg., a bimodal distribution). For example, the following set of box plots and overlapping histograms illustrate the same hypothetical data:\n",
    "\n",
    "# title\n",
    "\n",
    "# While the box plots and means/medians appear similar, the overlapping histograms illuminate the differences between these two distributions of scores."
   ]
  },
  {
   "cell_type": "code",
   "execution_count": 22,
   "id": "ef0e697f-3501-4463-a3e8-1a5d9e6799ab",
   "metadata": {},
   "outputs": [],
   "source": [
    "# Your lists from the previous exercise (scores_urban and scores_rural) have been created for you in script.py. Use them to create an overlaid histogram of scores for students who live in urban and rural locations.\n",
    "\n",
    "# Remember to use different colors for each histogram, set normed = True, alpha = 0.5, and use the labels 'Urban' and 'Rural', respectively.\n",
    "\n",
    "# Based on the overlaid histogram, do you think there is an association between these two variables?"
   ]
  },
  {
   "cell_type": "code",
   "execution_count": 23,
   "id": "881c6b48-33da-462f-ab66-6f7d0feb5f29",
   "metadata": {},
   "outputs": [],
   "source": [
    "scores_urban = students.G3[students.address == 'U']\n",
    "scores_rural = students.G3[students.address == 'R']\n",
    "#print(scores_rural)"
   ]
  },
  {
   "cell_type": "code",
   "execution_count": 24,
   "id": "fb7de7f2-0b6f-4dd6-9c26-897dfa230ad6",
   "metadata": {},
   "outputs": [
    {
     "data": {
      "image/png": "[encoded data removed]",
      "text/plain": [
       "<Figure size 640x480 with 1 Axes>"
      ]
     },
     "metadata": {},
     "output_type": "display_data"
    }
   ],
   "source": [
    "#students\n",
    "plt.hist(scores_urban , color=\"blue\", label=\"Urban\", density=True, alpha=0.5)\n",
    "plt.hist(scores_rural , color=\"red\", label=\"Rural\", density=True, alpha=0.5)\n",
    "plt.legend()\n",
    "plt.show()"
   ]
  },
  {
   "cell_type": "code",
   "execution_count": 25,
   "id": "4ff9de19-44cc-4e61-86c7-e7ed84397aaf",
   "metadata": {},
   "outputs": [],
   "source": [
    "# ASSOCIATIONS: QUANTITATIVE AND CATEGORICAL VARIABLES\n",
    "# Exploring Non-Binary Categorical Variables\n",
    "# 5 min\n",
    "# In each of the previous exercises, we assessed whether there was an association between a quantitative variable (math scores) and a BINARY categorical variable (school). The categorical variable is considered binary because there are only two available options, either MS or GP. However, sometimes we are interested in an association between a quantitative variable and non-binary categorical variable. Non-binary categorical variables have more than two categories.\n",
    "\n",
    "# When looking at an association between a quantitative variable and a non-binary categorical variable, we must examine all pair-wise differences. For example, suppose we want to know whether or not an association exists between math scores (G3) and (Mjob), a categorical variable representing the mother’s job. This variable has five possible categories: at_home, health, services, teacher, or other. There are actually 10 different comparisons that we can make. For example, we can compare scores for students whose mothers work at_home or in health; at_home or other; at home or `services; etc.. The easiest way to quickly visualize these comparisons is with side-by-side box plots:\n",
    "\n",
    "# sns.boxplot(data = df, x = 'Mjob', y = 'G3')\n",
    "# plt.show()\n",
    "\n",
    "# title\n",
    "\n",
    "# Visually, we need to compare each box to every other box. While most of these boxes overlap with each other, there are some pairs for which there are some apparent differences. For example, scores appear to be higher among students with mothers working in health than among students with mothers working at home or in an “other” job. If there are ANY pairwise differences, we can say that the variables are associated; however, it is more useful to specifically report which groups are different.\n",
    "\n",
    "# Instructions\n",
    "# Checkpoint 1 Enabled\n",
    "# 1.\n",
    "# Create a side-by-side boxplot to assess whether there is an association between students’ math score (G3) and their fathers’ job (Fjob). Do you think there is an association between these variables? For which pairs of groups do you see differences?\n",
    "\n",
    "\n",
    "# Stuck? Get a hint\n",
    "# Community Forums\n",
    "# Still have questions? View this exercise's thread in the Codecademy Forums."
   ]
  },
  {
   "cell_type": "code",
   "execution_count": 26,
   "id": "9bcc0c42-7e75-4032-9215-e40a29e4afcb",
   "metadata": {},
   "outputs": [],
   "source": [
    "# 1. Create a side-by-side boxplot to assess whether there is an association between students’ math score (G3) and their fathers’ job (Fjob). Do you think there is an association between these variables? For which pairs of groups do you see differences?"
   ]
  },
  {
   "cell_type": "code",
   "execution_count": 27,
   "id": "e2d07555-2783-491c-bc7c-6e6863bc4ca8",
   "metadata": {},
   "outputs": [
    {
     "data": {
      "text/plain": [
       "<Axes: xlabel='Fjob', ylabel='G3'>"
      ]
     },
     "execution_count": 27,
     "metadata": {},
     "output_type": "execute_result"
    },
    {
     "data": {
      "image/png": "[encoded data removed]",
      "text/plain": [
       "<Figure size 640x480 with 1 Axes>"
      ]
     },
     "metadata": {},
     "output_type": "display_data"
    }
   ],
   "source": [
    "# students\n",
    "sns.boxplot(data=students, x='Fjob', y='G3')"
   ]
  },
  {
   "cell_type": "code",
   "execution_count": 28,
   "id": "f2d88f50-d2cf-4a7c-a03e-b490ea406002",
   "metadata": {},
   "outputs": [
    {
     "data": {
      "image/png": "[encoded data removed]",
      "text/plain": [
       "<Figure size 640x480 with 1 Axes>"
      ]
     },
     "metadata": {},
     "output_type": "display_data"
    }
   ],
   "source": [
    "plt.show()\n",
    "sns.boxplot(data=students, x='Fjob', y='absences')\n",
    "plt.show()\n",
    "plt.close()"
   ]
  },
  {
   "cell_type": "code",
   "execution_count": 29,
   "id": "629e30c2-64f9-48a5-8826-1b0969ac253b",
   "metadata": {},
   "outputs": [],
   "source": [
    "plt.show()"
   ]
  },
  {
   "cell_type": "code",
   "execution_count": 30,
   "id": "22fa945e-c2d9-4c79-8e52-be0f8ce376a9",
   "metadata": {},
   "outputs": [],
   "source": [
    "# ASSOCIATIONS: QUANTITATIVE AND CATEGORICAL VARIABLES\n",
    "# Review\n",
    "# 4 min\n",
    "# In this lesson, we used summary statistics and data visualization tools to examine an association between a quantitative and categorical variable. More specifically, we:\n",
    "\n",
    "# evaluated mean and median differences\n",
    "# inspected side-by-side box plots\n",
    "# examined overlapping histograms\n",
    "# looked at pair-wise comparisons for a quantitative and a non-binary categorical variable\n",
    "# After calculating a mean or median difference and visually comparing distributions, the next step might be to run a hypothesis test to look for evidence of population-level differences (will a similar difference in scores be observed for ALL students who ever attend these schools?). Now that you know how to investigate whether variables are associated, you can use these techniques to explore associations on more datasets.\n",
    "\n",
    "# Note that data in this lesson was downloaded from the UCI Machine Learning repository:\n",
    "\n",
    "# Dua, D. and Graff, C. (2019). UCI Machine Learning Repository [archive.ics.uci.edu/ml/index.php]. Irvine, CA: University of California, School of Information and Computer Science.\n",
    "\n",
    "# The data was originally collected by:\n",
    "\n",
    "# P. Cortez and A. Silva. Using Data Mining to Predict Secondary School Student Performance. In A. Brito and J. Teixeira Eds., Proceedings of 5th FUture BUsiness TEChnology Conference (FUBUTEC 2008) pp. 5-12, Porto, Portugal, April, 2008, EUROSIS, ISBN 978-9077381-39-7.\n",
    "\n",
    "# Instructions\n",
    "# A new dataset named titanic has been uploaded for you in script.py. This data contains information about passengers on the Titanic, including the amount they paid for their fare and whether or not they survived (note: this is a subset of the full data available). To practice the skills learned in this lesson,\n",
    "# let’s investigate whether there is an association between the fare that a passenger paid (Fare) and whether or not they survived (Survived, which is equal to 0 if the passenger died and 1 if they survived):\n",
    "\n",
    "# Calculate the difference in mean fare paid by those who survived and those who died. Which group paid a higher average fare?\n",
    "# Calculate the difference in median fare for those who survived and those who died.\n",
    "# Create side-by-side box plots of fares by survival. Now that you can see the spread of the data, do the mean/median differences seem relatively small or large?\n",
    "# Create overlapping histograms of fares by survival (you’ll have to delete or comment out your box plot code before you try to make a histogram). Does this provide any additional information?\n",
    "# Solution code is provided for you in solution.py if you need assistance."
   ]
  },
  {
   "cell_type": "code",
   "execution_count": 31,
   "id": "504adfe3-c6c8-4607-924b-5ad2e064d4ab",
   "metadata": {},
   "outputs": [],
   "source": [
    "titanic = pd.read_csv('titanic.csv')"
   ]
  },
  {
   "cell_type": "code",
   "execution_count": 32,
   "id": "2b6502b0-7dc3-49b0-91ab-3767601f35e1",
   "metadata": {},
   "outputs": [
    {
     "data": {
      "text/html": [
       "<div>\n",
       "<style scoped>\n",
       "    .dataframe tbody tr th:only-of-type {\n",
       "        vertical-align: middle;\n",
       "    }\n",
       "\n",
       "    .dataframe tbody tr th {\n",
       "        vertical-align: top;\n",
       "    }\n",
       "\n",
       "    .dataframe thead th {\n",
       "        text-align: right;\n",
       "    }\n",
       "</style>\n",
       "<table border=\"1\" class=\"dataframe\">\n",
       "  <thead>\n",
       "    <tr style=\"text-align: right;\">\n",
       "      <th></th>\n",
       "      <th>PassengerId</th>\n",
       "      <th>Survived</th>\n",
       "      <th>Pclass</th>\n",
       "      <th>Age</th>\n",
       "      <th>SibSp</th>\n",
       "      <th>Parch</th>\n",
       "      <th>Fare</th>\n",
       "    </tr>\n",
       "  </thead>\n",
       "  <tbody>\n",
       "    <tr>\n",
       "      <th>count</th>\n",
       "      <td>871.000000</td>\n",
       "      <td>871.000000</td>\n",
       "      <td>871.000000</td>\n",
       "      <td>696.000000</td>\n",
       "      <td>871.000000</td>\n",
       "      <td>871.000000</td>\n",
       "      <td>871.000000</td>\n",
       "    </tr>\n",
       "    <tr>\n",
       "      <th>mean</th>\n",
       "      <td>445.319173</td>\n",
       "      <td>0.376579</td>\n",
       "      <td>2.338691</td>\n",
       "      <td>29.661164</td>\n",
       "      <td>0.517796</td>\n",
       "      <td>0.366246</td>\n",
       "      <td>26.530170</td>\n",
       "    </tr>\n",
       "    <tr>\n",
       "      <th>std</th>\n",
       "      <td>257.761917</td>\n",
       "      <td>0.484806</td>\n",
       "      <td>0.821469</td>\n",
       "      <td>14.571894</td>\n",
       "      <td>1.101448</td>\n",
       "      <td>0.792325</td>\n",
       "      <td>29.351184</td>\n",
       "    </tr>\n",
       "    <tr>\n",
       "      <th>min</th>\n",
       "      <td>1.000000</td>\n",
       "      <td>0.000000</td>\n",
       "      <td>1.000000</td>\n",
       "      <td>0.420000</td>\n",
       "      <td>0.000000</td>\n",
       "      <td>0.000000</td>\n",
       "      <td>0.000000</td>\n",
       "    </tr>\n",
       "    <tr>\n",
       "      <th>25%</th>\n",
       "      <td>221.500000</td>\n",
       "      <td>0.000000</td>\n",
       "      <td>2.000000</td>\n",
       "      <td>20.000000</td>\n",
       "      <td>0.000000</td>\n",
       "      <td>0.000000</td>\n",
       "      <td>7.895800</td>\n",
       "    </tr>\n",
       "    <tr>\n",
       "      <th>50%</th>\n",
       "      <td>446.000000</td>\n",
       "      <td>0.000000</td>\n",
       "      <td>3.000000</td>\n",
       "      <td>28.000000</td>\n",
       "      <td>0.000000</td>\n",
       "      <td>0.000000</td>\n",
       "      <td>13.862500</td>\n",
       "    </tr>\n",
       "    <tr>\n",
       "      <th>75%</th>\n",
       "      <td>665.500000</td>\n",
       "      <td>1.000000</td>\n",
       "      <td>3.000000</td>\n",
       "      <td>38.000000</td>\n",
       "      <td>1.000000</td>\n",
       "      <td>0.000000</td>\n",
       "      <td>30.000000</td>\n",
       "    </tr>\n",
       "    <tr>\n",
       "      <th>max</th>\n",
       "      <td>891.000000</td>\n",
       "      <td>1.000000</td>\n",
       "      <td>3.000000</td>\n",
       "      <td>80.000000</td>\n",
       "      <td>8.000000</td>\n",
       "      <td>6.000000</td>\n",
       "      <td>164.866700</td>\n",
       "    </tr>\n",
       "  </tbody>\n",
       "</table>\n",
       "</div>"
      ],
      "text/plain": [
       "       PassengerId    Survived      Pclass         Age       SibSp  \\\n",
       "count   871.000000  871.000000  871.000000  696.000000  871.000000   \n",
       "mean    445.319173    0.376579    2.338691   29.661164    0.517796   \n",
       "std     257.761917    0.484806    0.821469   14.571894    1.101448   \n",
       "min       1.000000    0.000000    1.000000    0.420000    0.000000   \n",
       "25%     221.500000    0.000000    2.000000   20.000000    0.000000   \n",
       "50%     446.000000    0.000000    3.000000   28.000000    0.000000   \n",
       "75%     665.500000    1.000000    3.000000   38.000000    1.000000   \n",
       "max     891.000000    1.000000    3.000000   80.000000    8.000000   \n",
       "\n",
       "            Parch        Fare  \n",
       "count  871.000000  871.000000  \n",
       "mean     0.366246   26.530170  \n",
       "std      0.792325   29.351184  \n",
       "min      0.000000    0.000000  \n",
       "25%      0.000000    7.895800  \n",
       "50%      0.000000   13.862500  \n",
       "75%      0.000000   30.000000  \n",
       "max      6.000000  164.866700  "
      ]
     },
     "execution_count": 32,
     "metadata": {},
     "output_type": "execute_result"
    }
   ],
   "source": [
    "titanic.describe()\n",
    "#titanic.head()"
   ]
  },
  {
   "cell_type": "code",
   "execution_count": 33,
   "id": "ba998ad4-d2f8-4ebd-bd1d-b918739123c5",
   "metadata": {},
   "outputs": [
    {
     "data": {
      "text/html": [
       "<div>\n",
       "<style scoped>\n",
       "    .dataframe tbody tr th:only-of-type {\n",
       "        vertical-align: middle;\n",
       "    }\n",
       "\n",
       "    .dataframe tbody tr th {\n",
       "        vertical-align: top;\n",
       "    }\n",
       "\n",
       "    .dataframe thead th {\n",
       "        text-align: right;\n",
       "    }\n",
       "</style>\n",
       "<table border=\"1\" class=\"dataframe\">\n",
       "  <thead>\n",
       "    <tr style=\"text-align: right;\">\n",
       "      <th></th>\n",
       "      <th>PassengerId</th>\n",
       "      <th>Survived</th>\n",
       "      <th>Pclass</th>\n",
       "      <th>Name</th>\n",
       "      <th>Sex</th>\n",
       "      <th>Age</th>\n",
       "      <th>SibSp</th>\n",
       "      <th>Parch</th>\n",
       "      <th>Ticket</th>\n",
       "      <th>Fare</th>\n",
       "      <th>Cabin</th>\n",
       "      <th>Embarked</th>\n",
       "    </tr>\n",
       "  </thead>\n",
       "  <tbody>\n",
       "    <tr>\n",
       "      <th>0</th>\n",
       "      <td>1</td>\n",
       "      <td>0</td>\n",
       "      <td>3</td>\n",
       "      <td>Braund, Mr. Owen Harris</td>\n",
       "      <td>male</td>\n",
       "      <td>22.0</td>\n",
       "      <td>1</td>\n",
       "      <td>0</td>\n",
       "      <td>A/5 21171</td>\n",
       "      <td>7.2500</td>\n",
       "      <td>NaN</td>\n",
       "      <td>S</td>\n",
       "    </tr>\n",
       "    <tr>\n",
       "      <th>1</th>\n",
       "      <td>2</td>\n",
       "      <td>1</td>\n",
       "      <td>1</td>\n",
       "      <td>Cumings, Mrs. John Bradley (Florence Briggs Th...</td>\n",
       "      <td>female</td>\n",
       "      <td>38.0</td>\n",
       "      <td>1</td>\n",
       "      <td>0</td>\n",
       "      <td>PC 17599</td>\n",
       "      <td>71.2833</td>\n",
       "      <td>C85</td>\n",
       "      <td>C</td>\n",
       "    </tr>\n",
       "    <tr>\n",
       "      <th>2</th>\n",
       "      <td>3</td>\n",
       "      <td>1</td>\n",
       "      <td>3</td>\n",
       "      <td>Heikkinen, Miss. Laina</td>\n",
       "      <td>female</td>\n",
       "      <td>26.0</td>\n",
       "      <td>0</td>\n",
       "      <td>0</td>\n",
       "      <td>STON/O2. 3101282</td>\n",
       "      <td>7.9250</td>\n",
       "      <td>NaN</td>\n",
       "      <td>S</td>\n",
       "    </tr>\n",
       "    <tr>\n",
       "      <th>3</th>\n",
       "      <td>4</td>\n",
       "      <td>1</td>\n",
       "      <td>1</td>\n",
       "      <td>Futrelle, Mrs. Jacques Heath (Lily May Peel)</td>\n",
       "      <td>female</td>\n",
       "      <td>35.0</td>\n",
       "      <td>1</td>\n",
       "      <td>0</td>\n",
       "      <td>113803</td>\n",
       "      <td>53.1000</td>\n",
       "      <td>C123</td>\n",
       "      <td>S</td>\n",
       "    </tr>\n",
       "    <tr>\n",
       "      <th>4</th>\n",
       "      <td>5</td>\n",
       "      <td>0</td>\n",
       "      <td>3</td>\n",
       "      <td>Allen, Mr. William Henry</td>\n",
       "      <td>male</td>\n",
       "      <td>35.0</td>\n",
       "      <td>0</td>\n",
       "      <td>0</td>\n",
       "      <td>373450</td>\n",
       "      <td>8.0500</td>\n",
       "      <td>NaN</td>\n",
       "      <td>S</td>\n",
       "    </tr>\n",
       "    <tr>\n",
       "      <th>5</th>\n",
       "      <td>6</td>\n",
       "      <td>0</td>\n",
       "      <td>3</td>\n",
       "      <td>Moran, Mr. James</td>\n",
       "      <td>male</td>\n",
       "      <td>NaN</td>\n",
       "      <td>0</td>\n",
       "      <td>0</td>\n",
       "      <td>330877</td>\n",
       "      <td>8.4583</td>\n",
       "      <td>NaN</td>\n",
       "      <td>Q</td>\n",
       "    </tr>\n",
       "    <tr>\n",
       "      <th>6</th>\n",
       "      <td>7</td>\n",
       "      <td>0</td>\n",
       "      <td>1</td>\n",
       "      <td>McCarthy, Mr. Timothy J</td>\n",
       "      <td>male</td>\n",
       "      <td>54.0</td>\n",
       "      <td>0</td>\n",
       "      <td>0</td>\n",
       "      <td>17463</td>\n",
       "      <td>51.8625</td>\n",
       "      <td>E46</td>\n",
       "      <td>S</td>\n",
       "    </tr>\n",
       "    <tr>\n",
       "      <th>7</th>\n",
       "      <td>8</td>\n",
       "      <td>0</td>\n",
       "      <td>3</td>\n",
       "      <td>Palsson, Master. Gosta Leonard</td>\n",
       "      <td>male</td>\n",
       "      <td>2.0</td>\n",
       "      <td>3</td>\n",
       "      <td>1</td>\n",
       "      <td>349909</td>\n",
       "      <td>21.0750</td>\n",
       "      <td>NaN</td>\n",
       "      <td>S</td>\n",
       "    </tr>\n",
       "    <tr>\n",
       "      <th>8</th>\n",
       "      <td>9</td>\n",
       "      <td>1</td>\n",
       "      <td>3</td>\n",
       "      <td>Johnson, Mrs. Oscar W (Elisabeth Vilhelmina Berg)</td>\n",
       "      <td>female</td>\n",
       "      <td>27.0</td>\n",
       "      <td>0</td>\n",
       "      <td>2</td>\n",
       "      <td>347742</td>\n",
       "      <td>11.1333</td>\n",
       "      <td>NaN</td>\n",
       "      <td>S</td>\n",
       "    </tr>\n",
       "    <tr>\n",
       "      <th>9</th>\n",
       "      <td>10</td>\n",
       "      <td>1</td>\n",
       "      <td>2</td>\n",
       "      <td>Nasser, Mrs. Nicholas (Adele Achem)</td>\n",
       "      <td>female</td>\n",
       "      <td>14.0</td>\n",
       "      <td>1</td>\n",
       "      <td>0</td>\n",
       "      <td>237736</td>\n",
       "      <td>30.0708</td>\n",
       "      <td>NaN</td>\n",
       "      <td>C</td>\n",
       "    </tr>\n",
       "  </tbody>\n",
       "</table>\n",
       "</div>"
      ],
      "text/plain": [
       "   PassengerId  Survived  Pclass  \\\n",
       "0            1         0       3   \n",
       "1            2         1       1   \n",
       "2            3         1       3   \n",
       "3            4         1       1   \n",
       "4            5         0       3   \n",
       "5            6         0       3   \n",
       "6            7         0       1   \n",
       "7            8         0       3   \n",
       "8            9         1       3   \n",
       "9           10         1       2   \n",
       "\n",
       "                                                Name     Sex   Age  SibSp  \\\n",
       "0                            Braund, Mr. Owen Harris    male  22.0      1   \n",
       "1  Cumings, Mrs. John Bradley (Florence Briggs Th...  female  38.0      1   \n",
       "2                             Heikkinen, Miss. Laina  female  26.0      0   \n",
       "3       Futrelle, Mrs. Jacques Heath (Lily May Peel)  female  35.0      1   \n",
       "4                           Allen, Mr. William Henry    male  35.0      0   \n",
       "5                                   Moran, Mr. James    male   NaN      0   \n",
       "6                            McCarthy, Mr. Timothy J    male  54.0      0   \n",
       "7                     Palsson, Master. Gosta Leonard    male   2.0      3   \n",
       "8  Johnson, Mrs. Oscar W (Elisabeth Vilhelmina Berg)  female  27.0      0   \n",
       "9                Nasser, Mrs. Nicholas (Adele Achem)  female  14.0      1   \n",
       "\n",
       "   Parch            Ticket     Fare Cabin Embarked  \n",
       "0      0         A/5 21171   7.2500   NaN        S  \n",
       "1      0          PC 17599  71.2833   C85        C  \n",
       "2      0  STON/O2. 3101282   7.9250   NaN        S  \n",
       "3      0            113803  53.1000  C123        S  \n",
       "4      0            373450   8.0500   NaN        S  \n",
       "5      0            330877   8.4583   NaN        Q  \n",
       "6      0             17463  51.8625   E46        S  \n",
       "7      1            349909  21.0750   NaN        S  \n",
       "8      2            347742  11.1333   NaN        S  \n",
       "9      0            237736  30.0708   NaN        C  "
      ]
     },
     "execution_count": 33,
     "metadata": {},
     "output_type": "execute_result"
    }
   ],
   "source": [
    "#print the first 10 rows of data:\n",
    "titanic.head(10)"
   ]
  },
  {
   "cell_type": "code",
   "execution_count": 34,
   "id": "5817dd1b-04d5-42ba-9890-f4097beff602",
   "metadata": {},
   "outputs": [],
   "source": [
    "# Calculate the difference in mean fare paid by those who survived and those who died. Which group paid a higher average fare?\n",
    "titanic_died = titanic.Fare[titanic.Survived == 0]\n",
    "titanic_survived = titanic.Fare[titanic.Survived == 1]"
   ]
  },
  {
   "cell_type": "code",
   "execution_count": 35,
   "id": "b93c605d-635c-4043-be6f-ea28eedab055",
   "metadata": {},
   "outputs": [
    {
     "name": "stdout",
     "output_type": "stream",
     "text": [
      "0     7.2500\n",
      "4     8.0500\n",
      "5     8.4583\n",
      "6    51.8625\n",
      "7    21.0750\n",
      "Name: Fare, dtype: float64 1    71.2833\n",
      "2     7.9250\n",
      "3    53.1000\n",
      "8    11.1333\n",
      "9    30.0708\n",
      "Name: Fare, dtype: float64\n",
      "count    543.000000\n",
      "mean      19.720801\n",
      "std       21.562705\n",
      "min        0.000000\n",
      "25%        7.854200\n",
      "50%       10.462500\n",
      "75%       26.000000\n",
      "max      153.462500\n",
      "Name: Fare, dtype: float64 count    328.000000\n",
      "mean      37.802998\n",
      "std       36.289537\n",
      "min        0.000000\n",
      "25%       12.215625\n",
      "50%       26.000000\n",
      "75%       55.110425\n",
      "max      164.866700\n",
      "Name: Fare, dtype: float64\n"
     ]
    }
   ],
   "source": [
    "print( titanic_died.head(), titanic_survived.head())\n",
    "print( titanic_died.describe(), titanic_survived.describe())"
   ]
  },
  {
   "cell_type": "code",
   "execution_count": 36,
   "id": "bea720f2-f80f-4717-b818-17ecbb27ca5f",
   "metadata": {},
   "outputs": [
    {
     "data": {
      "text/plain": [
       "543"
      ]
     },
     "execution_count": 36,
     "metadata": {},
     "output_type": "execute_result"
    }
   ],
   "source": [
    "titanic_died.count()\n",
    "#titanic_survived.count()"
   ]
  },
  {
   "cell_type": "code",
   "execution_count": 37,
   "id": "086382a4-8426-4c51-845d-de87b8bedc76",
   "metadata": {},
   "outputs": [
    {
     "name": "stdout",
     "output_type": "stream",
     "text": [
      "19.72\n",
      "37.8\n",
      "-18.08\n"
     ]
    }
   ],
   "source": [
    "# Calculate the difference in mean fare paid by those who survived and those who died. Which group paid a higher average fare?\n",
    "# print(titanic_died.Fare.mean())\n",
    "# print(titanic_survived.Fare.mean())\n",
    "# print( titanic_died.Fare.mean()- titanic_survived.Fare.mean()) #diff\n",
    "\n",
    "print(round(titanic_died.mean(),2))\n",
    "print(round(titanic_survived.mean(),2))\n",
    "print( round(titanic_died.mean()- titanic_survived.mean(),2)) #diff\n"
   ]
  },
  {
   "cell_type": "code",
   "execution_count": 38,
   "id": "4cb847a2-61ab-4458-a42e-889c98ccf0ab",
   "metadata": {},
   "outputs": [
    {
     "name": "stdout",
     "output_type": "stream",
     "text": [
      "10.46\n",
      "26.0\n",
      "-15.54\n"
     ]
    }
   ],
   "source": [
    "#Calculate the difference in median fare for those who survived and those who died.\n",
    "# print(titanic_died.Fare.median())\n",
    "# print(titanic_survived.Fare.median())\n",
    "# print( titanic_died.Fare.median() - titanic_survived.Fare.median() ) #diff\n",
    "\n",
    "print(round(titanic_died.median(),2))\n",
    "print(round(titanic_survived.median(),2))\n",
    "print( round(titanic_died.median()- titanic_survived.median(),2)) #diff"
   ]
  },
  {
   "cell_type": "code",
   "execution_count": 39,
   "id": "f5bb8295-78bb-4b9f-b9e8-7164f8285bd8",
   "metadata": {},
   "outputs": [
    {
     "data": {
      "text/plain": [
       "<Axes: xlabel='Survived', ylabel='Fare'>"
      ]
     },
     "execution_count": 39,
     "metadata": {},
     "output_type": "execute_result"
    },
    {
     "data": {
      "image/png": "[encoded data removed]",
      "text/plain": [
       "<Figure size 640x480 with 1 Axes>"
      ]
     },
     "metadata": {},
     "output_type": "display_data"
    }
   ],
   "source": [
    "#Create side-by-side box plots of fares by survival. Now that you can see the spread of the data, do the mean/median differences seem relatively small or large?\n",
    "sns.boxplot(data=titanic, y='Fare', x='Survived') "
   ]
  },
  {
   "cell_type": "code",
   "execution_count": null,
   "id": "5a1b39f9-34ae-484f-a301-0a51747f6a7b",
   "metadata": {},
   "outputs": [],
   "source": []
  },
  {
   "cell_type": "code",
   "execution_count": 40,
   "id": "98faecee-0aea-4c6b-a9e1-311fe32d9d56",
   "metadata": {},
   "outputs": [
    {
     "data": {
      "image/png": "[encoded data removed]",
      "text/plain": [
       "<Figure size 640x480 with 1 Axes>"
      ]
     },
     "metadata": {},
     "output_type": "display_data"
    }
   ],
   "source": [
    "####\n",
    "#Create overlapping histograms of fares by survival (you’ll have to delete or comment out your box plot code before you try to make a histogram). Does this provide any additional information?\n",
    "###\n",
    "\n",
    "#plt.hist(scores_urban , color=\"blue\", label=\"Urban\", density=True, alpha=0.5)\n",
    "plt.hist(titanic_survived , color=\"green\", label=\"Survived\", density=True, alpha=0.5)\n",
    "plt.hist(titanic_died , color=\"red\", label=\"Died\", density=True, alpha=0.5)\n",
    "\n",
    "#print(titanic_survived)\n",
    "#plt.hist(titanic_survived.Fare , color=\"green\", label=\"Survived\", density=True, alpha=0.5)\n",
    "#plt.hist(titanic_survived.Fare , color=\"green\", density=True, alpha=0.5)\n",
    "#plt.hist(titanic_survived.Fare , color=\"green\", density=True, alpha=.25)\n",
    "#plt.close()\n",
    "#plt.hist(titanic_died.Fare , color=\"red\", label=\"Died\", density=True, alpha=0.5)\n",
    "#plt.hist(titanic_died.Fare , color=\"red\",  density=True, alpha=0.5)\n",
    "plt.legend()\n",
    "plt.show()\n"
   ]
  },
  {
   "cell_type": "code",
   "execution_count": 41,
   "id": "4ff2e65e-8e09-431b-b25e-efefb757c86e",
   "metadata": {},
   "outputs": [],
   "source": [
    "# ASSOCIATIONS: TWO QUANTITATIVE VARIABLES\n",
    "# Introduction\n",
    "# 3 min\n",
    "# When associations exist between variables, it means that information about the value of one variable gives us information about the value of the other variable. In this lesson, we will cover ways of examining an association between two quantitative variables.\n",
    "\n",
    "# Throughout the next few exercises, we’ll examine some data about Texas housing rentals on Craigslist — an online classifieds site. The data dictionary is as follows:\n",
    "\n",
    "# price: monthly rental price in U.S.D.\n",
    "# type: type of housing (eg., 'apartment', 'house', 'condo', etc.)\n",
    "# sqfeet: housing area, in square feet\n",
    "# beds: number of beds\n",
    "# baths: number of baths\n",
    "# lat: latitude\n",
    "# long: longitude\n",
    "# Except for type, all of these variables are quantitative. Which pairs of variables do you think might be associated? For example, does knowing something about price give you any information about square footage?"
   ]
  },
  {
   "cell_type": "code",
   "execution_count": 42,
   "id": "cadc703d-d262-4fe5-91b5-552ffaa0e41e",
   "metadata": {},
   "outputs": [],
   "source": [
    "housing = pd.read_csv('housing_sample.csv')"
   ]
  },
  {
   "cell_type": "code",
   "execution_count": 43,
   "id": "017746f4-7c80-41f5-ab91-cdceec6f3dda",
   "metadata": {},
   "outputs": [
    {
     "data": {
      "text/html": [
       "<div>\n",
       "<style scoped>\n",
       "    .dataframe tbody tr th:only-of-type {\n",
       "        vertical-align: middle;\n",
       "    }\n",
       "\n",
       "    .dataframe tbody tr th {\n",
       "        vertical-align: top;\n",
       "    }\n",
       "\n",
       "    .dataframe thead th {\n",
       "        text-align: right;\n",
       "    }\n",
       "</style>\n",
       "<table border=\"1\" class=\"dataframe\">\n",
       "  <thead>\n",
       "    <tr style=\"text-align: right;\">\n",
       "      <th></th>\n",
       "      <th>price</th>\n",
       "      <th>type</th>\n",
       "      <th>sqfeet</th>\n",
       "      <th>beds</th>\n",
       "      <th>baths</th>\n",
       "      <th>lat</th>\n",
       "      <th>long</th>\n",
       "    </tr>\n",
       "  </thead>\n",
       "  <tbody>\n",
       "    <tr>\n",
       "      <th>0</th>\n",
       "      <td>615</td>\n",
       "      <td>apartment</td>\n",
       "      <td>364</td>\n",
       "      <td>0</td>\n",
       "      <td>1.0</td>\n",
       "      <td>35.1653</td>\n",
       "      <td>-101.8840</td>\n",
       "    </tr>\n",
       "    <tr>\n",
       "      <th>1</th>\n",
       "      <td>1346</td>\n",
       "      <td>apartment</td>\n",
       "      <td>816</td>\n",
       "      <td>1</td>\n",
       "      <td>1.0</td>\n",
       "      <td>32.9865</td>\n",
       "      <td>-96.6860</td>\n",
       "    </tr>\n",
       "    <tr>\n",
       "      <th>2</th>\n",
       "      <td>900</td>\n",
       "      <td>apartment</td>\n",
       "      <td>500</td>\n",
       "      <td>1</td>\n",
       "      <td>1.0</td>\n",
       "      <td>30.2355</td>\n",
       "      <td>-97.7292</td>\n",
       "    </tr>\n",
       "    <tr>\n",
       "      <th>3</th>\n",
       "      <td>650</td>\n",
       "      <td>apartment</td>\n",
       "      <td>700</td>\n",
       "      <td>1</td>\n",
       "      <td>1.0</td>\n",
       "      <td>26.1923</td>\n",
       "      <td>-98.2657</td>\n",
       "    </tr>\n",
       "    <tr>\n",
       "      <th>4</th>\n",
       "      <td>1330</td>\n",
       "      <td>apartment</td>\n",
       "      <td>1040</td>\n",
       "      <td>2</td>\n",
       "      <td>2.0</td>\n",
       "      <td>30.6380</td>\n",
       "      <td>-96.2940</td>\n",
       "    </tr>\n",
       "  </tbody>\n",
       "</table>\n",
       "</div>"
      ],
      "text/plain": [
       "   price       type  sqfeet  beds  baths      lat      long\n",
       "0    615  apartment     364     0    1.0  35.1653 -101.8840\n",
       "1   1346  apartment     816     1    1.0  32.9865  -96.6860\n",
       "2    900  apartment     500     1    1.0  30.2355  -97.7292\n",
       "3    650  apartment     700     1    1.0  26.1923  -98.2657\n",
       "4   1330  apartment    1040     2    2.0  30.6380  -96.2940"
      ]
     },
     "execution_count": 43,
     "metadata": {},
     "output_type": "execute_result"
    }
   ],
   "source": [
    "#Use the .head() method to print the first 10 rows and inspect some more of the data. What are some other quantitative variables that might be related to each other?\n",
    "housing.head()"
   ]
  },
  {
   "cell_type": "code",
   "execution_count": 44,
   "id": "a96fb567-41f0-424e-b4ec-f3eb01a9f162",
   "metadata": {},
   "outputs": [],
   "source": [
    "# ASSOCIATIONS: TWO QUANTITATIVE VARIABLES\n",
    "# Scatter Plots\n",
    "# 5 min\n",
    "# One of the best ways to quickly visualize the relationship between quantitative variables is to plot them against each other in a scatter plot. This makes it easy to look for patterns or trends in the data. Let’s start by plotting the area of a rental against its monthly price to see if we can spot any patterns.\n",
    "\n",
    "# plt.scatter(x = housing.price, y = housing.sqfeet)\n",
    "# plt.xlabel('Rental Price (USD)')\n",
    "# plt.ylabel('Area (Square Feet)')\n",
    "# plt.show()\n",
    "\n",
    "# This image shows a scatter plot with price on the x-axis and area on the y-axis. There is a clear linear relationship; rentals that cost more tend to have larger area.\n",
    "\n",
    "# While there’s a lot of variation in the data, it seems like more expensive housing tends to come with slightly more space. This suggests an association between these two variables.\n",
    "\n",
    "# It’s important to note that different kinds of associations can lead to different patterns in a scatter plot. For example, the following plot shows the relationship between the age of a child in months and their weight in pounds. We can see that older children tend to weigh more but that the growth rate starts leveling off after 36 months:\n",
    "\n",
    "# Plot showing the relationship between the age of a child in months and their weight in pounds. We can see that older children tend to weigh more but that the growth rate starts leveling off after 36 months\n",
    "\n",
    "# If we don’t see any patterns in a scatter plot, we can probably guess that the variables are not associated. For example, a scatter plot like this would suggest no association:\n",
    "\n",
    "# Scatter plot with no apparent pattern; the points appear randomly distributed."
   ]
  },
  {
   "cell_type": "code",
   "execution_count": 45,
   "id": "76d565df-481a-4865-bc4d-ab8074c0d60e",
   "metadata": {},
   "outputs": [
    {
     "data": {
      "image/png": "[encoded data removed]",
      "text/plain": [
       "<Figure size 640x480 with 1 Axes>"
      ]
     },
     "metadata": {},
     "output_type": "display_data"
    }
   ],
   "source": [
    "# The housing data has been saved for you as a dataframe named housing in script.py. Create a scatter plot to see if there is an association between the number of bedrooms (beds) and the area (sqfeet) of a rental. \n",
    "# Use Number of Bedrooms for the x-axis of your scatter plot. Do you think these variables are associated? If so, is the relationship what you expected?\n",
    "\n",
    "plt.scatter(x = housing.beds, y = housing.sqfeet)\n",
    "#plt.legend()\n",
    "plt.xlabel( \"Nbr. bedrooms\" )\n",
    "plt.ylabel( \"Sqft\" )\n",
    "plt.show()\n"
   ]
  },
  {
   "cell_type": "code",
   "execution_count": 46,
   "id": "5344885f-d562-4a29-9178-409d38faf476",
   "metadata": {},
   "outputs": [],
   "source": [
    "# ASSOCIATIONS: TWO QUANTITATIVE VARIABLES\n",
    "# Exploring Covariance\n",
    "# 7 min\n",
    "# Beyond visualizing relationships, we can also use summary statistics to quantify the strength of certain associations. Covariance is a summary statistic that describes the strength of a linear relationship. A linear relationship is one where a straight line would best describe the pattern of points in a scatter plot.\n",
    "\n",
    "# Covariance can range from negative infinity to positive infinity. A positive covariance indicates that a larger value of one variable is associated with a larger value of the other. A negative covariance indicates a larger value of one variable is associated with a smaller value of the other. A covariance of 0 indicates no linear relationship. Here are some examples:\n",
    "\n",
    "# This figure shows three different plots. In the first, the points are almost exactly along a line with a positive slope and the label is \"large positive covariance\". In the middle plot, the points are randomly scattered and the label is \"covariance of zero\". In the last plot, the points are almost exactly on a negatively sloping line and the label is \"large negative covariance\"\n",
    "\n",
    "# To calculate covariance, we can use the cov() function from NumPy, which produces a covariance matrix for two or more variables. A covariance matrix for two variables looks something like this:\n",
    "\n",
    "# variable 1\tvariable 2\n",
    "# variable 1\tvariance(variable 1)\tcovariance\n",
    "# variable 2\tcovariance\tvariance(variable 2)\n",
    "# In python, we can calculate this matrix as follows:\n",
    "\n",
    "# cov_mat_price_sqfeet = np.cov(housing.price, housing.sqfeet)\n",
    "# print(cov_mat_price_sqfeet)\n",
    "# #output: \n",
    "# [[184332.9  57336.2]\n",
    "#  [ 57336.2 122045.2]]\n",
    "\n",
    "# Notice that the covariance appears twice in this matrix and is equal to 57336.2."
   ]
  },
  {
   "cell_type": "code",
   "execution_count": 47,
   "id": "dcd81f25-d2b7-4ecd-a66b-2000f0a607e7",
   "metadata": {},
   "outputs": [],
   "source": [
    "# Use the cov() function from NumPy to calculate the covariance matrix for the sqfeet variable and the beds variable. Save the covariance matrix as cov_mat_sqfeet_beds"
   ]
  },
  {
   "cell_type": "code",
   "execution_count": 48,
   "id": "c27503b2-3b56-4ac5-a958-d00af2e6bbbd",
   "metadata": {},
   "outputs": [],
   "source": [
    "# calculate and print covariance matrix:\n",
    "\n",
    "#np.cov(housing.sqfeet, housing.beds)\n",
    "cov_mat_sqfeet_beds =  np.cov(housing.sqfeet, housing.beds)"
   ]
  },
  {
   "cell_type": "code",
   "execution_count": 49,
   "id": "755e7d19-a9f6-4143-95fd-f70618d3df7b",
   "metadata": {},
   "outputs": [
    {
     "data": {
      "text/plain": [
       "array([[1.10668978e+05, 2.28223306e+02],\n",
       "       [2.28223306e+02, 7.24471949e-01]])"
      ]
     },
     "execution_count": 49,
     "metadata": {},
     "output_type": "execute_result"
    }
   ],
   "source": [
    "cov_mat_sqfeet_beds"
   ]
  },
  {
   "cell_type": "code",
   "execution_count": 50,
   "id": "7d7cb00f-2145-46b8-8025-fc7d355c0383",
   "metadata": {},
   "outputs": [],
   "source": [
    "#Look at the covariance matrix you just printed and find the covariance of sqfeet and beds. Save that number as a variable named cov_sqfeet_beds."
   ]
  },
  {
   "cell_type": "code",
   "execution_count": 51,
   "id": "dcc110ed-c81e-4a92-b52e-229628c7904e",
   "metadata": {},
   "outputs": [],
   "source": [
    "\n",
    "#len(cov_mat_sqfeet_beds)\n",
    "#print(cov_mat_sqfeet_beds[0][1])\n",
    "cov_sqfeet_beds = cov_mat_sqfeet_beds[0][1]"
   ]
  },
  {
   "cell_type": "code",
   "execution_count": 52,
   "id": "167994d3-75d5-4cde-a9d4-5ddae9a6f8ad",
   "metadata": {},
   "outputs": [
    {
     "data": {
      "text/plain": [
       "228.2233061940595"
      ]
     },
     "execution_count": 52,
     "metadata": {},
     "output_type": "execute_result"
    }
   ],
   "source": [
    "cov_sqfeet_beds"
   ]
  },
  {
   "cell_type": "code",
   "execution_count": 53,
   "id": "de44ab21-7c33-483d-ba1a-8bc3adf3ee62",
   "metadata": {},
   "outputs": [],
   "source": [
    "# ASSOCIATIONS: TWO QUANTITATIVE VARIABLES\n",
    "# Correlation- Part 1\n",
    "# 8 min\n",
    "# Like covariance, Pearson Correlation (often referred to simply as “correlation”) is a scaled form of covariance. It also measures the strength of a linear relationship, but ranges from -1 to +1, making it more interpretable.\n",
    "\n",
    "# Highly associated variables with a positive linear relationship will have a correlation close to 1. Highly associated variables with a negative linear relationship will have a correlation close to -1. Variables that do not have a linear association (or a linear association with a slope of zero) will have correlations close to 0.\n",
    "\n",
    "# This figure shows 5 different plots. From left to right, the plots show a correlation of 1, a large positive correlation, no correlation, a large negative correlation, and a correlation of -1.)\n",
    "\n",
    "# The pearsonr() function from scipy.stats can be used to calculate correlation as follows:\n",
    "\n",
    "# from scipy.stats import pearsonr\n",
    "# corr_price_sqfeet, p = pearsonr(housing.price, housing.sqfeet)\n",
    "# print(corr_price_sqfeet) #output: 0.507\n",
    "\n",
    "# Generally, a correlation larger than about .3 indicates a linear association. A correlation greater than about .6 suggestions a strong linear association."
   ]
  },
  {
   "cell_type": "code",
   "execution_count": 54,
   "id": "dc8f8df1-a4c0-4080-bd2f-086035f91aff",
   "metadata": {},
   "outputs": [],
   "source": [
    "from scipy.stats import pearsonr"
   ]
  },
  {
   "cell_type": "code",
   "execution_count": 55,
   "id": "067d5b64-7bcc-4eeb-bbbe-ae5008e27b60",
   "metadata": {},
   "outputs": [],
   "source": [
    "#Use the pearsonr function from scipy.stats to calculate the correlation between sqfeet and beds. Store the result in a variable named corr_sqfeet_beds and print out the result. How strong is the linear association between these variables?"
   ]
  },
  {
   "cell_type": "code",
   "execution_count": 56,
   "id": "b08b8278-3304-40bc-b025-c1649e7c90c5",
   "metadata": {},
   "outputs": [
    {
     "name": "stdout",
     "output_type": "stream",
     "text": [
      "PearsonRResult(statistic=0.8060022524416222, pvalue=0.0)\n",
      "PearsonRResult(statistic=0.8060022524416222, pvalue=0.0)\n",
      "0.8060022524416222 0.0\n"
     ]
    }
   ],
   "source": [
    "# calculate corr_sqfeet_beds and print it out:\n",
    "print(pearsonr(housing.beds, housing.sqfeet))\n",
    "print(pearsonr(housing.sqfeet, housing.beds)) # same result in either order ( at least in this case )\n",
    "\n",
    "corr_sqfeet_beds, p = pearsonr(housing.sqfeet, housing.beds)\n",
    "\n",
    "print(corr_sqfeet_beds, p)"
   ]
  },
  {
   "cell_type": "code",
   "execution_count": 57,
   "id": "c291027e-c0ac-4c76-b0ec-22da4f0783e1",
   "metadata": {},
   "outputs": [],
   "source": [
    "#Generate a scatter plot of beds and sqfeet again. Does the correlation value make sense?"
   ]
  },
  {
   "cell_type": "code",
   "execution_count": 58,
   "id": "3ef33c4e-eedb-4a25-be87-3882ad887644",
   "metadata": {},
   "outputs": [
    {
     "data": {
      "text/plain": [
       "<matplotlib.collections.PathCollection at 0x265b47031c0>"
      ]
     },
     "execution_count": 58,
     "metadata": {},
     "output_type": "execute_result"
    },
    {
     "data": {
      "image/png": "[encoded data removed]",
      "text/plain": [
       "<Figure size 640x480 with 1 Axes>"
      ]
     },
     "metadata": {},
     "output_type": "display_data"
    }
   ],
   "source": [
    "plt.scatter(x = housing.beds, y = housing.sqfeet)"
   ]
  },
  {
   "cell_type": "code",
   "execution_count": 59,
   "id": "222799bf-388e-474d-9753-ad4935bee34e",
   "metadata": {},
   "outputs": [],
   "source": [
    "# ASSOCIATIONS: TWO QUANTITATIVE VARIABLES\n",
    "# Correlation Part 2\n",
    "# 6 min\n",
    "# It’s important to note that there are some limitations to using correlation or covariance as a way of assessing whether there is an association between two variables. Because correlation and covariance both measure the strength of linear relationships with non-zero slopes, but not other kinds of relationships, correlation can be misleading.\n",
    "\n",
    "# For example, the four scatter plots below all show pairs of variables with near-zero correlations. The bottom left image shows an example of a perfect linear association where the slope is zero (the line is horizontal). Meanwhile, the other three plots show non-linear relationships — if we drew a line through any of these sets of points, that line would need to be curved, not straight!\n",
    "\n",
    "# This figure shows four different scatter plots where the correlation is equal to zero in every case. The bottom left image shows an example of a perfect linear association where the slope is zero (the line is horizontal). Meanwhile, the other three plots show non-linear relationships, where the points follow a curved pattern."
   ]
  },
  {
   "cell_type": "code",
   "execution_count": 60,
   "id": "b76002c1-4c15-4683-bdcf-653ed8ef917e",
   "metadata": {},
   "outputs": [],
   "source": [
    "# 1.\n",
    "# A simulated dataset named sleep has been loaded for you in script.py. The hypothetical data contains two columns:\n",
    "\n",
    "# hours_sleep: the number of hours that a person slept\n",
    "# performance: that person’s performance score on a physical task the next day\n",
    "# Create a scatter plot of hours_sleep (on the x-axis) and performance (on the y-axis). What is the relationship between these variables?"
   ]
  },
  {
   "cell_type": "code",
   "execution_count": 61,
   "id": "8bf08ff9-afb1-4275-9d47-fea720e7660b",
   "metadata": {},
   "outputs": [],
   "source": [
    "sleep = pd.read_csv('sleep_performance.csv')\n",
    "#sleep.head()"
   ]
  },
  {
   "cell_type": "code",
   "execution_count": 62,
   "id": "9c46ffd3-37ee-47a0-b55b-dccfb8dfdd9f",
   "metadata": {},
   "outputs": [
    {
     "data": {
      "image/png": "[encoded data removed]",
      "text/plain": [
       "<Figure size 640x480 with 1 Axes>"
      ]
     },
     "metadata": {},
     "output_type": "display_data"
    }
   ],
   "source": [
    "plt.scatter(x = sleep.hours_sleep, y = sleep.performance)\n",
    "#plt.scatter(sleep, x = hours_sleep, y = performance)  ## doesnt work\n",
    "plt.show()"
   ]
  },
  {
   "cell_type": "code",
   "execution_count": 63,
   "id": "441c7bcb-6ed0-4fe1-90dd-7c21e5f703b7",
   "metadata": {},
   "outputs": [],
   "source": [
    "# Calculate the correlation for hours_sleep and performance and save the result as corr_sleep_performance. Then, print out corr_sleep_performance. Does the correlation accurately reflect the strength of the relationship between these variables?"
   ]
  },
  {
   "cell_type": "code",
   "execution_count": 64,
   "id": "13844d90-1c0e-4a0c-92e0-bfef08f2557a",
   "metadata": {},
   "outputs": [],
   "source": [
    "corr_sleep_performance, p  = pearsonr(sleep.hours_sleep, sleep.performance)"
   ]
  },
  {
   "cell_type": "code",
   "execution_count": 65,
   "id": "a8cbac5d-8fa0-4ca7-85c2-51448513e96e",
   "metadata": {},
   "outputs": [
    {
     "data": {
      "text/plain": [
       "0.2814978189049413"
      ]
     },
     "execution_count": 65,
     "metadata": {},
     "output_type": "execute_result"
    }
   ],
   "source": [
    "corr_sleep_performance"
   ]
  },
  {
   "cell_type": "code",
   "execution_count": 66,
   "id": "3323174d-fda6-488c-8d48-8bb5175c956b",
   "metadata": {},
   "outputs": [],
   "source": [
    "# ASSOCIATIONS: TWO QUANTITATIVE VARIABLES\n",
    "# Review\n",
    "# 5 min\n",
    "# In this lesson we discussed several ways of examining an association between two quantitative variables. More specifically, we:\n",
    "\n",
    "# Used scatter plots to examine relationships between quantitative variables\n",
    "# Used covariance and correlation to quantify the strength of a linear relationship between two quantitative variables\n",
    "# Note that the dataset used in this lesson was downloaded from kaggle.\n",
    "\n",
    "# Instructions\n",
    "# As a final exercise, a new dataset named penguins has been uploaded for you in script.py. This dataset contains various measurements for a sample of penguins. To practice the skills learned in this lesson, here are some things to try:\n",
    "\n",
    "# Inspect the first few rows of data.\n",
    "# Create a scatter plot of flipper length (flipper_length_mm) and body mass (body_mass_g).\n",
    "# Inspect your plot. What is the relationship between these variables?\n",
    "# Calculate the covariance for these two variables.\n",
    "# Calculate the correlation for these two variables. Does this number make sense given the plot you created?\n",
    "# Solution code is available to you in solution.py if you want to compare your work.\n",
    "\n"
   ]
  },
  {
   "cell_type": "code",
   "execution_count": null,
   "id": "4c35e72c-86c6-4fe9-8989-045bffa0c132",
   "metadata": {},
   "outputs": [],
   "source": [
    "# As a final exercise, a new dataset named penguins has been uploaded for you in script.py. This dataset contains various measurements for a sample of penguins. To practice the skills learned in this lesson, here are some things to try:\n",
    "\n",
    "# Inspect the first few rows of data.\n",
    "# Create a scatter plot of flipper length (flipper_length_mm) and body mass (body_mass_g).\n",
    "# Inspect your plot. What is the relationship between these variables?\n",
    "# Calculate the covariance for these two variables.\n",
    "# Calculate the correlation for these two variables. Does this number make sense given the plot you created?\n",
    "# Solution code is available to you in solution.py if you want to compare your work."
   ]
  },
  {
   "cell_type": "code",
   "execution_count": 67,
   "id": "c3430ed7-3852-4547-88dd-a28da72cad6f",
   "metadata": {},
   "outputs": [],
   "source": [
    "penguins = pd.read_csv('penguins.csv')"
   ]
  },
  {
   "cell_type": "code",
   "execution_count": 68,
   "id": "dd03d4ed-1605-40bb-9ee9-a6fefca75d56",
   "metadata": {},
   "outputs": [
    {
     "data": {
      "text/html": [
       "<div>\n",
       "<style scoped>\n",
       "    .dataframe tbody tr th:only-of-type {\n",
       "        vertical-align: middle;\n",
       "    }\n",
       "\n",
       "    .dataframe tbody tr th {\n",
       "        vertical-align: top;\n",
       "    }\n",
       "\n",
       "    .dataframe thead th {\n",
       "        text-align: right;\n",
       "    }\n",
       "</style>\n",
       "<table border=\"1\" class=\"dataframe\">\n",
       "  <thead>\n",
       "    <tr style=\"text-align: right;\">\n",
       "      <th></th>\n",
       "      <th>species</th>\n",
       "      <th>bill_length_mm</th>\n",
       "      <th>bill_depth_mm</th>\n",
       "      <th>flipper_length_mm</th>\n",
       "      <th>body_mass_g</th>\n",
       "      <th>sex</th>\n",
       "    </tr>\n",
       "  </thead>\n",
       "  <tbody>\n",
       "    <tr>\n",
       "      <th>0</th>\n",
       "      <td>Adelie</td>\n",
       "      <td>39.1</td>\n",
       "      <td>18.7</td>\n",
       "      <td>181.0</td>\n",
       "      <td>3750.0</td>\n",
       "      <td>male</td>\n",
       "    </tr>\n",
       "    <tr>\n",
       "      <th>1</th>\n",
       "      <td>Adelie</td>\n",
       "      <td>39.5</td>\n",
       "      <td>17.4</td>\n",
       "      <td>186.0</td>\n",
       "      <td>3800.0</td>\n",
       "      <td>female</td>\n",
       "    </tr>\n",
       "    <tr>\n",
       "      <th>2</th>\n",
       "      <td>Adelie</td>\n",
       "      <td>40.3</td>\n",
       "      <td>18.0</td>\n",
       "      <td>195.0</td>\n",
       "      <td>3250.0</td>\n",
       "      <td>female</td>\n",
       "    </tr>\n",
       "    <tr>\n",
       "      <th>3</th>\n",
       "      <td>Adelie</td>\n",
       "      <td>36.7</td>\n",
       "      <td>19.3</td>\n",
       "      <td>193.0</td>\n",
       "      <td>3450.0</td>\n",
       "      <td>female</td>\n",
       "    </tr>\n",
       "    <tr>\n",
       "      <th>4</th>\n",
       "      <td>Adelie</td>\n",
       "      <td>39.3</td>\n",
       "      <td>20.6</td>\n",
       "      <td>190.0</td>\n",
       "      <td>3650.0</td>\n",
       "      <td>male</td>\n",
       "    </tr>\n",
       "  </tbody>\n",
       "</table>\n",
       "</div>"
      ],
      "text/plain": [
       "  species  bill_length_mm  bill_depth_mm  flipper_length_mm  body_mass_g  \\\n",
       "0  Adelie            39.1           18.7              181.0       3750.0   \n",
       "1  Adelie            39.5           17.4              186.0       3800.0   \n",
       "2  Adelie            40.3           18.0              195.0       3250.0   \n",
       "3  Adelie            36.7           19.3              193.0       3450.0   \n",
       "4  Adelie            39.3           20.6              190.0       3650.0   \n",
       "\n",
       "      sex  \n",
       "0    male  \n",
       "1  female  \n",
       "2  female  \n",
       "3  female  \n",
       "4    male  "
      ]
     },
     "execution_count": 68,
     "metadata": {},
     "output_type": "execute_result"
    }
   ],
   "source": [
    "# Inspect the first few rows of data.\n",
    "\n",
    "penguins.head()"
   ]
  },
  {
   "cell_type": "code",
   "execution_count": 69,
   "id": "bda8df96-f156-4b04-8466-60b28508f29f",
   "metadata": {},
   "outputs": [
    {
     "data": {
      "text/plain": [
       "<matplotlib.collections.PathCollection at 0x265b6f36050>"
      ]
     },
     "execution_count": 69,
     "metadata": {},
     "output_type": "execute_result"
    },
    {
     "data": {
      "image/png": "[encoded data removed]",
      "text/plain": [
       "<Figure size 640x480 with 1 Axes>"
      ]
     },
     "metadata": {},
     "output_type": "display_data"
    }
   ],
   "source": [
    "# Create a scatter plot of flipper length (flipper_length_mm) and body mass (body_mass_g).\n",
    "# Inspect your plot. What is the relationship between these variables?\n",
    "\n",
    "plt.scatter(x = penguins.flipper_length_mm, y = penguins.body_mass_g) # apparent positive covariance"
   ]
  },
  {
   "cell_type": "code",
   "execution_count": 70,
   "id": "c46609f1-5568-4541-8409-15ba8ae7802f",
   "metadata": {},
   "outputs": [
    {
     "data": {
      "text/plain": [
       "array([[1.96441677e+02, 9.85219165e+03],\n",
       "       [9.85219165e+03, 6.48372488e+05]])"
      ]
     },
     "execution_count": 70,
     "metadata": {},
     "output_type": "execute_result"
    }
   ],
   "source": [
    "# Calculate the covariance for these two variables.\n",
    "\n",
    "np.cov(penguins.flipper_length_mm, penguins.body_mass_g)"
   ]
  }
 ],
 "metadata": {
  "kernelspec": {
   "display_name": "Python 3 (ipykernel)",
   "language": "python",
   "name": "python3"
  },
  "language_info": {
   "codemirror_mode": {
    "name": "ipython",
    "version": 3
   },
   "file_extension": ".py",
   "mimetype": "text/x-python",
   "name": "python",
   "nbconvert_exporter": "python",
   "pygments_lexer": "ipython3",
   "version": "3.10.9"
  }
 },
 "nbformat": 4,
 "nbformat_minor": 5
}
