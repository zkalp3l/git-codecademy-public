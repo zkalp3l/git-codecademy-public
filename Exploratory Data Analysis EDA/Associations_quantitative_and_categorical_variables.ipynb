{
 "cells": [
  {
   "cell_type": "code",
   "execution_count": 1,
   "id": "47920cf0-efe0-4ab7-9bf4-d2c4979ee193",
   "metadata": {},
   "outputs": [],
   "source": [
    "import pandas as pd\n",
    "#import codecademylib3\n",
    "import matplotlib.pyplot as plt \n",
    "import seaborn as sns\n",
    "import numpy as np\n",
    "import pandas as pd"
   ]
  },
  {
   "cell_type": "code",
   "execution_count": 2,
   "id": "8732f9d2-b888-4342-a02d-b40a6c8fca38",
   "metadata": {},
   "outputs": [],
   "source": [
    "# ASSOCIATIONS: QUANTITATIVE AND CATEGORICAL VARIABLES\n",
    "# Introduction\n",
    "# 7 min\n",
    "# Examining the relationship between variables can give us key insight into our data. In this lesson, we will cover ways of assessing the association between a quantitative variable and a categorical variable.\n",
    "\n",
    "# In the next few exercises, we’ll explore a dataset that contains the following information about students at two portuguese schools:\n",
    "\n",
    "# school: the school each student attends, Gabriel Periera ('GP') or Mousinho da Silveria ('MS')\n",
    "# address: the location of the student’s home ('U' for urban and 'R' for rural)\n",
    "# absences: the number of times the student was absent during the school year\n",
    "# Mjob: the student’s mother’s job industry\n",
    "# Fjob: the student’s father’s job industry\n",
    "# G3: the student’s score on a math assessment, ranging from 0 to 20\n",
    "# Suppose we want to know: Is a student’s score (G3) associated with their school (school)? If so, then knowing what school a student attends gives us information about what their score is likely to be. For example, maybe students at one of the schools consistently score higher than students at the other school.\n",
    "\n",
    "# To start answering this question, it is useful to save scores from each school in two separate lists:\n",
    "\n",
    "# scores_GP = students.G3[students.school == 'GP']\n",
    "# scores_MS = students.G3[students.school == 'MS']\n"
   ]
  },
  {
   "cell_type": "code",
   "execution_count": 3,
   "id": "10fb05eb-b4d3-493a-bf88-b292547cf58a",
   "metadata": {},
   "outputs": [],
   "source": [
    "students = pd.read_csv('students_associations.csv')"
   ]
  },
  {
   "cell_type": "code",
   "execution_count": 4,
   "id": "dea31d03-9e12-4614-865f-3df629d13cee",
   "metadata": {},
   "outputs": [
    {
     "data": {
      "text/html": [
       "<div>\n",
       "<style scoped>\n",
       "    .dataframe tbody tr th:only-of-type {\n",
       "        vertical-align: middle;\n",
       "    }\n",
       "\n",
       "    .dataframe tbody tr th {\n",
       "        vertical-align: top;\n",
       "    }\n",
       "\n",
       "    .dataframe thead th {\n",
       "        text-align: right;\n",
       "    }\n",
       "</style>\n",
       "<table border=\"1\" class=\"dataframe\">\n",
       "  <thead>\n",
       "    <tr style=\"text-align: right;\">\n",
       "      <th></th>\n",
       "      <th>school</th>\n",
       "      <th>address</th>\n",
       "      <th>absences</th>\n",
       "      <th>Mjob</th>\n",
       "      <th>Fjob</th>\n",
       "      <th>G3</th>\n",
       "    </tr>\n",
       "  </thead>\n",
       "  <tbody>\n",
       "    <tr>\n",
       "      <th>0</th>\n",
       "      <td>GP</td>\n",
       "      <td>U</td>\n",
       "      <td>6</td>\n",
       "      <td>at_home</td>\n",
       "      <td>teacher</td>\n",
       "      <td>6</td>\n",
       "    </tr>\n",
       "    <tr>\n",
       "      <th>1</th>\n",
       "      <td>GP</td>\n",
       "      <td>U</td>\n",
       "      <td>4</td>\n",
       "      <td>at_home</td>\n",
       "      <td>other</td>\n",
       "      <td>6</td>\n",
       "    </tr>\n",
       "    <tr>\n",
       "      <th>2</th>\n",
       "      <td>GP</td>\n",
       "      <td>U</td>\n",
       "      <td>10</td>\n",
       "      <td>at_home</td>\n",
       "      <td>other</td>\n",
       "      <td>10</td>\n",
       "    </tr>\n",
       "    <tr>\n",
       "      <th>3</th>\n",
       "      <td>GP</td>\n",
       "      <td>U</td>\n",
       "      <td>2</td>\n",
       "      <td>health</td>\n",
       "      <td>services</td>\n",
       "      <td>15</td>\n",
       "    </tr>\n",
       "    <tr>\n",
       "      <th>4</th>\n",
       "      <td>GP</td>\n",
       "      <td>U</td>\n",
       "      <td>4</td>\n",
       "      <td>other</td>\n",
       "      <td>other</td>\n",
       "      <td>10</td>\n",
       "    </tr>\n",
       "  </tbody>\n",
       "</table>\n",
       "</div>"
      ],
      "text/plain": [
       "  school address  absences     Mjob      Fjob  G3\n",
       "0     GP       U         6  at_home   teacher   6\n",
       "1     GP       U         4  at_home     other   6\n",
       "2     GP       U        10  at_home     other  10\n",
       "3     GP       U         2   health  services  15\n",
       "4     GP       U         4    other     other  10"
      ]
     },
     "execution_count": 4,
     "metadata": {},
     "output_type": "execute_result"
    }
   ],
   "source": [
    "#The dataset described above has been saved for you in the workspace as a Pandas dataframe named students. Inspect the first five rows of students using the .head() method. \n",
    "#Take a look at the other columns. Which are categorical and which are quantitative?\n",
    "\n",
    "#print the first five rows of students:\n",
    "students.head()"
   ]
  },
  {
   "cell_type": "code",
   "execution_count": 5,
   "id": "04ceabda-ef6b-4f71-a276-185bd5cd700f",
   "metadata": {},
   "outputs": [],
   "source": [
    "# Suppose that we want to know whether there is an association between student math scores (G3) and the student’s address (urban or rural). \n",
    "# Separate out G3 scores into two separate lists: one for students who live in an urban location ('U') and one for students who live in a rural location ('R'). \n",
    "# Name these lists scores_urban and scores_rural.\n",
    "\n",
    "#students.address\n",
    "#students.loc(students.address=='U') \n",
    "\n",
    "#print(students.G3[students.address == 'U'])\n",
    "students[students.address == 'U']\n",
    "sschoolgrp=students.school.groupby(students.school)\n",
    "\n",
    "#separate out scores for students who live in urban and rural locations:"
   ]
  },
  {
   "cell_type": "code",
   "execution_count": 6,
   "id": "416956e5-cbc5-4228-b001-18967597ee4a",
   "metadata": {},
   "outputs": [
    {
     "name": "stdout",
     "output_type": "stream",
     "text": [
      "<pandas.core.groupby.generic.SeriesGroupBy object at 0x00000204E902E230>\n"
     ]
    }
   ],
   "source": [
    "print(sschoolgrp)"
   ]
  },
  {
   "cell_type": "code",
   "execution_count": 7,
   "id": "840991ea-6ea2-4292-97e4-2522b2259b39",
   "metadata": {},
   "outputs": [],
   "source": [
    "scores_urban = students.G3[students.address == 'U']\n",
    "scores_rural = students.G3[students.address == 'R']"
   ]
  },
  {
   "cell_type": "code",
   "execution_count": 8,
   "id": "7e103df3-3410-44c5-a4bd-9e8a03de96e7",
   "metadata": {},
   "outputs": [
    {
     "data": {
      "text/plain": [
       "pandas.core.series.Series"
      ]
     },
     "execution_count": 8,
     "metadata": {},
     "output_type": "execute_result"
    }
   ],
   "source": [
    "#scores_urban.head()\n",
    "#scores_rural.head()\n",
    "type(scores_rural)"
   ]
  },
  {
   "cell_type": "code",
   "execution_count": 9,
   "id": "5617f921-1081-4dcc-9508-cf0bda7aa897",
   "metadata": {},
   "outputs": [],
   "source": [
    "# ASSOCIATIONS: QUANTITATIVE AND CATEGORICAL VARIABLES\n",
    "# Mean and Median Differences\n",
    "# 8 min\n",
    "# Recall that in the last exercise, we began investigating whether or not there is an association between math scores and the school a student attends. We can begin quantifying this association by using two common summary statistics, mean and median differences. To calculate the difference in mean G3 scores for the two schools, we can start by finding the mean math score for students at each school. We can then find the difference between them:\n",
    "\n",
    "# mean_GP = np.mean(scores_GP)\n",
    "# mean_MS = np.mean(scores_MS)\n",
    "# print(mean_GP) #output: 10.49\n",
    "# print(mean_MS) #output: 9.85\n",
    "# print(mean_GP - mean_MS) #Output: 0.64\n",
    "\n",
    "# We see that the mean math score for students at GP is 10.49, while the mean score for students at MS is 9.85. The mean difference is 0.64. We can follow a similar process to calculate a median difference:\n",
    "\n",
    "# median_GP = np.median(scores_GP)\n",
    "# median_MS = np.median(scores_MS)\n",
    "# print(median_GP) #Output: 11.0\n",
    "# print(median_MS) #Output: 10.0\n",
    "# print(median_GP-median_MS) #Output: 1.0\n",
    "\n",
    "# GP students also have a higher median score, by one point. Highly associated variables tend to have a large mean or median difference. Since “large” could have different meanings depending on the variable, we will go into more detail in the next exercise."
   ]
  },
  {
   "cell_type": "code",
   "execution_count": 10,
   "id": "012c993b-7024-4876-8536-1aa24e52b6cc",
   "metadata": {},
   "outputs": [],
   "source": [
    "#students"
   ]
  },
  {
   "cell_type": "code",
   "execution_count": 11,
   "id": "375cc31e-54a4-466e-b35d-3f0559ef9953",
   "metadata": {},
   "outputs": [
    {
     "name": "stdout",
     "output_type": "stream",
     "text": [
      "10.67\n",
      "9.51\n"
     ]
    }
   ],
   "source": [
    "#Your lists from the previous exercise (scores_urban and scores_rural) have been created for you in script.py. \n",
    "#Use these lists to calculate the mean score for both groups. Store the results as scores_urban_mean and scores_rural_mean, respectively.\n",
    "\n",
    "scores_urban_mean = scores_urban.mean()\n",
    "scores_rural_mean = scores_rural.mean()\n",
    "\n",
    "print(round(scores_urban_mean, 2))\n",
    "print(round(scores_rural_mean, 2))"
   ]
  },
  {
   "cell_type": "code",
   "execution_count": 12,
   "id": "34f84a09-fd5a-484b-bc5a-9c59634fe2ba",
   "metadata": {},
   "outputs": [
    {
     "name": "stdout",
     "output_type": "stream",
     "text": [
      "1.16\n"
     ]
    }
   ],
   "source": [
    "#Calculate the mean difference between the two groups and save the result as mean_diff. Based on this number, do you think the variables are associated? Why or why not?\n",
    "\n",
    "#calculate mean difference:\n",
    "mean_diff = scores_urban_mean - scores_rural_mean\n",
    "print(round(mean_diff, 2))"
   ]
  },
  {
   "cell_type": "code",
   "execution_count": 13,
   "id": "b533b1c7-9035-47a4-a808-db3bf6934708",
   "metadata": {},
   "outputs": [
    {
     "name": "stdout",
     "output_type": "stream",
     "text": [
      "11.0\n",
      "10.0\n"
     ]
    }
   ],
   "source": [
    "#Use the lists to calculate the median score for both groups. Store the results as scores_urban_median, scores_rural_median, respectively. Print out the result of each variable.\n",
    "\n",
    "#calculate medians for each group:\n",
    "scores_urban_median = scores_urban.median()\n",
    "scores_rural_median = scores_rural.median()\n",
    "\n",
    "print(round(scores_urban_median, 2))\n",
    "print(round(scores_rural_median,2))"
   ]
  },
  {
   "cell_type": "code",
   "execution_count": 14,
   "id": "1649908c-bd16-40ab-afa5-54aa6f787213",
   "metadata": {},
   "outputs": [],
   "source": [
    "#Calculate the median difference between the two groups, save the result as median_diff. Based on this value, do you think the variables are associated? Why or why not?\n",
    "\n",
    "#calculate median difference\n",
    "median_diff = scores_urban_median - scores_rural_median\n"
   ]
  },
  {
   "cell_type": "code",
   "execution_count": 15,
   "id": "78eff366-7efb-44cf-8a48-21c6a313565f",
   "metadata": {},
   "outputs": [
    {
     "data": {
      "text/plain": [
       "1.0"
      ]
     },
     "execution_count": 15,
     "metadata": {},
     "output_type": "execute_result"
    }
   ],
   "source": [
    "median_diff"
   ]
  },
  {
   "cell_type": "code",
   "execution_count": 16,
   "id": "d850b0cb-5523-426b-868c-ff8ed37666c7",
   "metadata": {},
   "outputs": [],
   "source": [
    "# ASSOCIATIONS: QUANTITATIVE AND CATEGORICAL VARIABLES\n",
    "# Side-by-Side Box Plots\n",
    "# 6 min\n",
    "# The difference in mean math scores for students at GP and MS was 0.64. How do we know whether this difference is considered small or large? To answer this question, we need to know something about the spread of the data.\n",
    "\n",
    "# One way to get a better sense of spread is by looking at a visual representation of the data. Side-by-side box plots are useful in visualizing mean and median differences because they allow us to visually estimate the variation in the data. This can help us determine if mean or median differences are “large” or “small”.\n",
    "\n",
    "# Let’s take a look at side by side boxplots of math scores at each school:\n",
    "\n",
    "# sns.boxplot(data = df, x = 'school', y = 'G3')\n",
    "# plt.show()\n",
    "\n",
    "# title\n",
    "\n",
    "# Looking at the plot, we can clearly see that there is a lot of overlap between the boxes (i.e. the middle 50% of the data). Therefore, we can be more confident that there is not much difference between the math scores of the two groups.\n",
    "\n",
    "# In contrast, suppose we saw the following plot:\n",
    "\n",
    "# title\n",
    "\n",
    "# In this version, the boxes barely overlap, demonstrating that the middle 50% of scores are different for the two schools. This would be evidence of a stronger association between school and math score."
   ]
  },
  {
   "cell_type": "code",
   "execution_count": 20,
   "id": "bef63d72-1494-416b-bd77-0ae47b67f410",
   "metadata": {},
   "outputs": [
    {
     "data": {
      "text/html": [
       "<div>\n",
       "<style scoped>\n",
       "    .dataframe tbody tr th:only-of-type {\n",
       "        vertical-align: middle;\n",
       "    }\n",
       "\n",
       "    .dataframe tbody tr th {\n",
       "        vertical-align: top;\n",
       "    }\n",
       "\n",
       "    .dataframe thead th {\n",
       "        text-align: right;\n",
       "    }\n",
       "</style>\n",
       "<table border=\"1\" class=\"dataframe\">\n",
       "  <thead>\n",
       "    <tr style=\"text-align: right;\">\n",
       "      <th></th>\n",
       "      <th>school</th>\n",
       "      <th>address</th>\n",
       "      <th>absences</th>\n",
       "      <th>Mjob</th>\n",
       "      <th>Fjob</th>\n",
       "      <th>G3</th>\n",
       "    </tr>\n",
       "  </thead>\n",
       "  <tbody>\n",
       "    <tr>\n",
       "      <th>0</th>\n",
       "      <td>GP</td>\n",
       "      <td>U</td>\n",
       "      <td>6</td>\n",
       "      <td>at_home</td>\n",
       "      <td>teacher</td>\n",
       "      <td>6</td>\n",
       "    </tr>\n",
       "    <tr>\n",
       "      <th>1</th>\n",
       "      <td>GP</td>\n",
       "      <td>U</td>\n",
       "      <td>4</td>\n",
       "      <td>at_home</td>\n",
       "      <td>other</td>\n",
       "      <td>6</td>\n",
       "    </tr>\n",
       "    <tr>\n",
       "      <th>2</th>\n",
       "      <td>GP</td>\n",
       "      <td>U</td>\n",
       "      <td>10</td>\n",
       "      <td>at_home</td>\n",
       "      <td>other</td>\n",
       "      <td>10</td>\n",
       "    </tr>\n",
       "    <tr>\n",
       "      <th>3</th>\n",
       "      <td>GP</td>\n",
       "      <td>U</td>\n",
       "      <td>2</td>\n",
       "      <td>health</td>\n",
       "      <td>services</td>\n",
       "      <td>15</td>\n",
       "    </tr>\n",
       "    <tr>\n",
       "      <th>4</th>\n",
       "      <td>GP</td>\n",
       "      <td>U</td>\n",
       "      <td>4</td>\n",
       "      <td>other</td>\n",
       "      <td>other</td>\n",
       "      <td>10</td>\n",
       "    </tr>\n",
       "    <tr>\n",
       "      <th>...</th>\n",
       "      <td>...</td>\n",
       "      <td>...</td>\n",
       "      <td>...</td>\n",
       "      <td>...</td>\n",
       "      <td>...</td>\n",
       "      <td>...</td>\n",
       "    </tr>\n",
       "    <tr>\n",
       "      <th>390</th>\n",
       "      <td>MS</td>\n",
       "      <td>U</td>\n",
       "      <td>11</td>\n",
       "      <td>services</td>\n",
       "      <td>services</td>\n",
       "      <td>9</td>\n",
       "    </tr>\n",
       "    <tr>\n",
       "      <th>391</th>\n",
       "      <td>MS</td>\n",
       "      <td>U</td>\n",
       "      <td>3</td>\n",
       "      <td>services</td>\n",
       "      <td>services</td>\n",
       "      <td>16</td>\n",
       "    </tr>\n",
       "    <tr>\n",
       "      <th>392</th>\n",
       "      <td>MS</td>\n",
       "      <td>R</td>\n",
       "      <td>3</td>\n",
       "      <td>other</td>\n",
       "      <td>other</td>\n",
       "      <td>7</td>\n",
       "    </tr>\n",
       "    <tr>\n",
       "      <th>393</th>\n",
       "      <td>MS</td>\n",
       "      <td>R</td>\n",
       "      <td>0</td>\n",
       "      <td>services</td>\n",
       "      <td>other</td>\n",
       "      <td>10</td>\n",
       "    </tr>\n",
       "    <tr>\n",
       "      <th>394</th>\n",
       "      <td>MS</td>\n",
       "      <td>U</td>\n",
       "      <td>5</td>\n",
       "      <td>other</td>\n",
       "      <td>at_home</td>\n",
       "      <td>9</td>\n",
       "    </tr>\n",
       "  </tbody>\n",
       "</table>\n",
       "<p>395 rows × 6 columns</p>\n",
       "</div>"
      ],
      "text/plain": [
       "    school address  absences      Mjob      Fjob  G3\n",
       "0       GP       U         6   at_home   teacher   6\n",
       "1       GP       U         4   at_home     other   6\n",
       "2       GP       U        10   at_home     other  10\n",
       "3       GP       U         2    health  services  15\n",
       "4       GP       U         4     other     other  10\n",
       "..     ...     ...       ...       ...       ...  ..\n",
       "390     MS       U        11  services  services   9\n",
       "391     MS       U         3  services  services  16\n",
       "392     MS       R         3     other     other   7\n",
       "393     MS       R         0  services     other  10\n",
       "394     MS       U         5     other   at_home   9\n",
       "\n",
       "[395 rows x 6 columns]"
      ]
     },
     "execution_count": 20,
     "metadata": {},
     "output_type": "execute_result"
    }
   ],
   "source": [
    "students"
   ]
  },
  {
   "cell_type": "code",
   "execution_count": 21,
   "id": "fb6b6fb7-faed-4aed-a955-b8b7c5c8334f",
   "metadata": {},
   "outputs": [
    {
     "data": {
      "image/png": "[encoded data removed]",
      "text/plain": [
       "<Figure size 640x480 with 1 Axes>"
      ]
     },
     "metadata": {},
     "output_type": "display_data"
    }
   ],
   "source": [
    "#create the boxplot here:\n",
    "\n",
    "sns.boxplot(data=students, x='address', y='G3' )\n",
    "\n",
    "plt.show()"
   ]
  },
  {
   "cell_type": "code",
   "execution_count": null,
   "id": "20394905-66a6-47a2-b237-135d91c102e2",
   "metadata": {},
   "outputs": [],
   "source": [
    "# ASSOCIATIONS: QUANTITATIVE AND CATEGORICAL VARIABLES\n",
    "# Inspecting Overlapping Histograms\n",
    "# 8 min\n",
    "# Another way to explore the relationship between a quantitative and categorical variable in more detail is by inspecting overlapping histograms. In the code below, setting alpha = .5 ensures that the histograms are see-through enough that we can see both of them at once. We have also used normed=True make sure that the y-axis is a density rather than a frequency (note: the newest version of matplotlib renamed this parameter density instead of normed):\n",
    "\n",
    "# plt.hist(scores_GP , color=\"blue\", label=\"GP\", normed=True, alpha=0.5)\n",
    "# plt.hist(scores_MS , color=\"red\", label=\"MS\", normed=True, alpha=0.5)\n",
    "# plt.legend()\n",
    "# plt.show()\n",
    "\n",
    "# title\n",
    "\n",
    "# By inspecting this histogram, we can clearly see that the entire distribution of scores at GP (not just the mean or median) appears slightly shifted to the right (higher) compared to the scores at MS. However, there is also still a lot of overlap between the scores, suggesting that the association is relatively weak.\n",
    "\n",
    "# Note that there are only 46 students at MS, but there are 349 students at GP. If we hadn’t used normed = True, our histogram would have looked like this, making it impossible to compare the distributions fairly:\n",
    "\n",
    "# title\n",
    "\n",
    "# While overlapping histograms and side by side boxplots can convey similar information, histograms give us more detail and can be useful in spotting patterns that were not visible in a box plot (eg., a bimodal distribution). For example, the following set of box plots and overlapping histograms illustrate the same hypothetical data:\n",
    "\n",
    "# title\n",
    "\n",
    "# While the box plots and means/medians appear similar, the overlapping histograms illuminate the differences between these two distributions of scores."
   ]
  }
 ],
 "metadata": {
  "kernelspec": {
   "display_name": "Python 3 (ipykernel)",
   "language": "python",
   "name": "python3"
  },
  "language_info": {
   "codemirror_mode": {
    "name": "ipython",
    "version": 3
   },
   "file_extension": ".py",
   "mimetype": "text/x-python",
   "name": "python",
   "nbconvert_exporter": "python",
   "pygments_lexer": "ipython3",
   "version": "3.10.9"
  }
 },
 "nbformat": 4,
 "nbformat_minor": 5
}
