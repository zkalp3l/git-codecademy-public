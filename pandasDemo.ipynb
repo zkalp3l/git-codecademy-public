{
 "cells": [
  {
   "cell_type": "code",
   "execution_count": 1,
   "id": "886991e9-c169-4c3b-b7fe-f8c4daf30a88",
   "metadata": {},
   "outputs": [],
   "source": [
    "import numpy as np\n",
    "import pandas as pd"
   ]
  },
  {
   "cell_type": "code",
   "execution_count": 13,
   "id": "5e33099d-d041-4e95-80a6-5c4020b2016b",
   "metadata": {},
   "outputs": [
    {
     "name": "stdout",
     "output_type": "stream",
     "text": [
      "[[1, 2, 3, 4], [-1, -2, -3, -4]]\n"
     ]
    }
   ],
   "source": [
    "# create list\n",
    "\n",
    "list1 = [1,2,3,4]\n",
    "list2 = [-1,-2,-3,-4]\n",
    "list3 = [ list1, list2  ]\n",
    "print(list3)"
   ]
  },
  {
   "cell_type": "code",
   "execution_count": 3,
   "id": "78cc9a59-780a-433c-9a7c-7e1f0b9192eb",
   "metadata": {},
   "outputs": [],
   "source": [
    "# ar_list1 =  array(\"i\", list1)  # doesnt work"
   ]
  },
  {
   "cell_type": "code",
   "execution_count": 4,
   "id": "b73f089f-584f-4ab2-9c98-c1c08550e801",
   "metadata": {},
   "outputs": [
    {
     "name": "stdout",
     "output_type": "stream",
     "text": [
      "[1 2 3 4]\n"
     ]
    }
   ],
   "source": [
    "# list to array\n",
    "\n",
    "array1 = np.array(list1)\n",
    "print(array1)"
   ]
  },
  {
   "cell_type": "code",
   "execution_count": 26,
   "id": "3508e65e-5918-4131-b630-939edd3c837f",
   "metadata": {},
   "outputs": [
    {
     "name": "stdout",
     "output_type": "stream",
     "text": [
      "10\n",
      "1\n"
     ]
    }
   ],
   "source": [
    "print(sum(array1))\n",
    "print(array1[0])"
   ]
  },
  {
   "cell_type": "code",
   "execution_count": 16,
   "id": "0b0be934-fdec-421e-abc6-b9ea17080cdc",
   "metadata": {},
   "outputs": [],
   "source": [
    "dimArray = np.array( list3 )"
   ]
  },
  {
   "cell_type": "code",
   "execution_count": 28,
   "id": "781e6699-986b-4276-ba81-3acdab5a366e",
   "metadata": {},
   "outputs": [
    {
     "name": "stdout",
     "output_type": "stream",
     "text": [
      "[[ 2  3  4  5]\n",
      " [ 0 -1 -2 -3]]\n"
     ]
    }
   ],
   "source": [
    "print ( dimArray )"
   ]
  },
  {
   "cell_type": "code",
   "execution_count": 22,
   "id": "c4ace2c7-6e64-42ba-a516-3b6fb19a3fc0",
   "metadata": {},
   "outputs": [
    {
     "name": "stdout",
     "output_type": "stream",
     "text": [
      "-1\n"
     ]
    }
   ],
   "source": [
    "print( dimArray[1][0] )"
   ]
  },
  {
   "cell_type": "code",
   "execution_count": 27,
   "id": "1d2a8c49-45ef-4811-8bbc-3cbf55547b2e",
   "metadata": {},
   "outputs": [],
   "source": [
    "#increrment all by 1\n",
    "dimArray = dimArray +1"
   ]
  },
  {
   "cell_type": "code",
   "execution_count": 5,
   "id": "cfeee093-9cc7-4d43-a48a-88562ce4e7cb",
   "metadata": {},
   "outputs": [
    {
     "name": "stdout",
     "output_type": "stream",
     "text": [
      "0    1\n",
      "1    2\n",
      "2    3\n",
      "3    4\n",
      "dtype: int64\n",
      "0    1\n",
      "1    2\n",
      "2    3\n",
      "3    4\n",
      "dtype: int32\n"
     ]
    }
   ],
   "source": [
    "# list to series ( with default index )\n",
    "print ( pd.Series(list1) )\n",
    "\n",
    "# array to series also works \n",
    "print ( pd.Series(array1) )"
   ]
  },
  {
   "cell_type": "code",
   "execution_count": 6,
   "id": "519acda6-f0d3-48bb-b8cc-f407217cd23e",
   "metadata": {},
   "outputs": [],
   "source": [
    "# Series with explicit index\n",
    "#print ( pd.Series(array1, index=['zero', 'one', 'two', 'three']) )\n",
    "\n",
    "indexedSeries = pd.Series(array1, index=['zero', 'one', 'two', 'three'])"
   ]
  },
  {
   "cell_type": "code",
   "execution_count": 7,
   "id": "af482af8-ce4d-48bd-a08a-46876f8efa85",
   "metadata": {},
   "outputs": [
    {
     "name": "stdout",
     "output_type": "stream",
     "text": [
      "zero     1\n",
      "one      2\n",
      "two      3\n",
      "three    4\n",
      "dtype: int32\n"
     ]
    }
   ],
   "source": [
    "print(indexedSeries)"
   ]
  }
 ],
 "metadata": {
  "kernelspec": {
   "display_name": "Python 3 (ipykernel)",
   "language": "python",
   "name": "python3"
  },
  "language_info": {
   "codemirror_mode": {
    "name": "ipython",
    "version": 3
   },
   "file_extension": ".py",
   "mimetype": "text/x-python",
   "name": "python",
   "nbconvert_exporter": "python",
   "pygments_lexer": "ipython3",
   "version": "3.10.9"
  }
 },
 "nbformat": 4,
 "nbformat_minor": 5
}
