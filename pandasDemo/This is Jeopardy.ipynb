{
 "cells": [
  {
   "cell_type": "markdown",
   "metadata": {},
   "source": [
    "# This is Jeopardy!"
   ]
  },
  {
   "cell_type": "markdown",
   "metadata": {},
   "source": [
    "#### Overview"
   ]
  },
  {
   "cell_type": "markdown",
   "metadata": {},
   "source": [
    "This project is slightly different than others you have encountered thus far. Instead of a step-by-step tutorial, this project contains a series of open-ended requirements which describe the project you'll be building. There are many possible ways to correctly fulfill all of these requirements, and you should expect to use the internet, Codecademy, and/or other resources when you encounter a problem that you cannot easily solve."
   ]
  },
  {
   "cell_type": "markdown",
   "metadata": {},
   "source": [
    "#### Project Goals"
   ]
  },
  {
   "cell_type": "markdown",
   "metadata": {},
   "source": [
    "You will work to write several functions that investigate a dataset of _Jeopardy!_ questions and answers. Filter the dataset for topics that you're interested in, compute the average difficulty of those questions, and train to become the next Jeopardy champion!"
   ]
  },
  {
   "cell_type": "markdown",
   "metadata": {},
   "source": [
    "## Prerequisites"
   ]
  },
  {
   "cell_type": "markdown",
   "metadata": {
    "tags": []
   },
   "source": [
    "In order to complete this project, you should have completed the Pandas lessons in the <a href=\"https://www.codecademy.com/learn/paths/analyze-data-with-python\">Analyze Data with Python Skill Path</a>. You can also find those lessons in the <a href=\"https://www.codecademy.com/learn/data-processing-pandas\">Data Analysis with Pandas course</a> or the <a href=\"https://www.codecademy.com/learn/paths/data-science/\">Data Scientist Career Path</a>.\n",
    "\n",
    "Finally, the <a href=\"https://www.codecademy.com/learn/practical-data-cleaning\">Practical Data Cleaning</a> course may also be helpful."
   ]
  },
  {
   "cell_type": "markdown",
   "metadata": {
    "tags": []
   },
   "source": [
    "## Project Requirements"
   ]
  },
  {
   "cell_type": "markdown",
   "metadata": {
    "tags": []
   },
   "source": [
    "1. We've provided a csv file containing data about the game show _Jeopardy!_ in a file named `jeopardy.csv`. Load the data into a DataFrame and investigate its contents. Try to print out specific columns.\n",
    "\n",
    "   Note that in order to make this project as \"real-world\" as possible, we haven't modified the data at all - we're giving it to you exactly how we found it. As a result, this data isn't as \"clean\" as the datasets you normally find on Codecademy. More specifically, there's something odd about the column names. After you figure out the problem with the column names, you may want to rename them to make your life easier for the rest of the project.\n",
    "   \n",
    "   In order to display the full contents of a column, we've added this line of code for you:\n",
    "   \n",
    "   ```py\n",
    "   pd.set_option('display.max_colwidth', None)\n",
    "   ```"
   ]
  },
  {
   "cell_type": "code",
   "execution_count": 1,
   "metadata": {
    "tags": []
   },
   "outputs": [],
   "source": [
    "import pandas as pd\n",
    "pd.set_option('display.max_colwidth', None)\n",
    "\n",
    "JeopardyDF = pd.read_csv('jeopardy.csv')\n",
    "\n",
    "#JeopardyDF\n",
    "#print(JeopardyDF)"
   ]
  },
  {
   "cell_type": "code",
   "execution_count": 2,
   "metadata": {},
   "outputs": [
    {
     "data": {
      "text/html": [
       "<div>\n",
       "<style scoped>\n",
       "    .dataframe tbody tr th:only-of-type {\n",
       "        vertical-align: middle;\n",
       "    }\n",
       "\n",
       "    .dataframe tbody tr th {\n",
       "        vertical-align: top;\n",
       "    }\n",
       "\n",
       "    .dataframe thead th {\n",
       "        text-align: right;\n",
       "    }\n",
       "</style>\n",
       "<table border=\"1\" class=\"dataframe\">\n",
       "  <thead>\n",
       "    <tr style=\"text-align: right;\">\n",
       "      <th></th>\n",
       "      <th>Show Number</th>\n",
       "      <th>Air Date</th>\n",
       "      <th>Round</th>\n",
       "      <th>Category</th>\n",
       "      <th>Value</th>\n",
       "      <th>Question</th>\n",
       "      <th>Answer</th>\n",
       "    </tr>\n",
       "  </thead>\n",
       "  <tbody>\n",
       "    <tr>\n",
       "      <th>0</th>\n",
       "      <td>4680</td>\n",
       "      <td>2004-12-31</td>\n",
       "      <td>Jeopardy!</td>\n",
       "      <td>HISTORY</td>\n",
       "      <td>$200</td>\n",
       "      <td>For the last 8 years of his life, Galileo was under house arrest for espousing this man's theory</td>\n",
       "      <td>Copernicus</td>\n",
       "    </tr>\n",
       "    <tr>\n",
       "      <th>1</th>\n",
       "      <td>4680</td>\n",
       "      <td>2004-12-31</td>\n",
       "      <td>Jeopardy!</td>\n",
       "      <td>ESPN's TOP 10 ALL-TIME ATHLETES</td>\n",
       "      <td>$200</td>\n",
       "      <td>No. 2: 1912 Olympian; football star at Carlisle Indian School; 6 MLB seasons with the Reds, Giants &amp; Braves</td>\n",
       "      <td>Jim Thorpe</td>\n",
       "    </tr>\n",
       "    <tr>\n",
       "      <th>2</th>\n",
       "      <td>4680</td>\n",
       "      <td>2004-12-31</td>\n",
       "      <td>Jeopardy!</td>\n",
       "      <td>EVERYBODY TALKS ABOUT IT...</td>\n",
       "      <td>$200</td>\n",
       "      <td>The city of Yuma in this state has a record average of 4,055 hours of sunshine each year</td>\n",
       "      <td>Arizona</td>\n",
       "    </tr>\n",
       "    <tr>\n",
       "      <th>3</th>\n",
       "      <td>4680</td>\n",
       "      <td>2004-12-31</td>\n",
       "      <td>Jeopardy!</td>\n",
       "      <td>THE COMPANY LINE</td>\n",
       "      <td>$200</td>\n",
       "      <td>In 1963, live on \"The Art Linkletter Show\", this company served its billionth burger</td>\n",
       "      <td>McDonald's</td>\n",
       "    </tr>\n",
       "    <tr>\n",
       "      <th>4</th>\n",
       "      <td>4680</td>\n",
       "      <td>2004-12-31</td>\n",
       "      <td>Jeopardy!</td>\n",
       "      <td>EPITAPHS &amp; TRIBUTES</td>\n",
       "      <td>$200</td>\n",
       "      <td>Signer of the Dec. of Indep., framer of the Constitution of Mass., second President of the United States</td>\n",
       "      <td>John Adams</td>\n",
       "    </tr>\n",
       "    <tr>\n",
       "      <th>...</th>\n",
       "      <td>...</td>\n",
       "      <td>...</td>\n",
       "      <td>...</td>\n",
       "      <td>...</td>\n",
       "      <td>...</td>\n",
       "      <td>...</td>\n",
       "      <td>...</td>\n",
       "    </tr>\n",
       "    <tr>\n",
       "      <th>216925</th>\n",
       "      <td>4999</td>\n",
       "      <td>2006-05-11</td>\n",
       "      <td>Double Jeopardy!</td>\n",
       "      <td>RIDDLE ME THIS</td>\n",
       "      <td>$2000</td>\n",
       "      <td>This Puccini opera turns on the solution to 3 riddles posed by the heroine</td>\n",
       "      <td>Turandot</td>\n",
       "    </tr>\n",
       "    <tr>\n",
       "      <th>216926</th>\n",
       "      <td>4999</td>\n",
       "      <td>2006-05-11</td>\n",
       "      <td>Double Jeopardy!</td>\n",
       "      <td>\"T\" BIRDS</td>\n",
       "      <td>$2000</td>\n",
       "      <td>In North America this term is properly applied to only 4 species that are crested, including the tufted</td>\n",
       "      <td>a titmouse</td>\n",
       "    </tr>\n",
       "    <tr>\n",
       "      <th>216927</th>\n",
       "      <td>4999</td>\n",
       "      <td>2006-05-11</td>\n",
       "      <td>Double Jeopardy!</td>\n",
       "      <td>AUTHORS IN THEIR YOUTH</td>\n",
       "      <td>$2000</td>\n",
       "      <td>In Penny Lane, where this \"Hellraiser\" grew up, the barber shaves another customer--then flays him alive!</td>\n",
       "      <td>Clive Barker</td>\n",
       "    </tr>\n",
       "    <tr>\n",
       "      <th>216928</th>\n",
       "      <td>4999</td>\n",
       "      <td>2006-05-11</td>\n",
       "      <td>Double Jeopardy!</td>\n",
       "      <td>QUOTATIONS</td>\n",
       "      <td>$2000</td>\n",
       "      <td>From Ft. Sill, Okla. he made the plea, Arizona is my land, my home, my father's land, to which I now ask to... return\"</td>\n",
       "      <td>Geronimo</td>\n",
       "    </tr>\n",
       "    <tr>\n",
       "      <th>216929</th>\n",
       "      <td>4999</td>\n",
       "      <td>2006-05-11</td>\n",
       "      <td>Final Jeopardy!</td>\n",
       "      <td>HISTORIC NAMES</td>\n",
       "      <td>NaN</td>\n",
       "      <td>A silent movie title includes the last name of this 18th c. statesman &amp; favorite of Catherine the Great</td>\n",
       "      <td>Grigori Alexandrovich Potemkin</td>\n",
       "    </tr>\n",
       "  </tbody>\n",
       "</table>\n",
       "<p>216930 rows × 7 columns</p>\n",
       "</div>"
      ],
      "text/plain": [
       "        Show Number    Air Date             Round  \\\n",
       "0              4680  2004-12-31         Jeopardy!   \n",
       "1              4680  2004-12-31         Jeopardy!   \n",
       "2              4680  2004-12-31         Jeopardy!   \n",
       "3              4680  2004-12-31         Jeopardy!   \n",
       "4              4680  2004-12-31         Jeopardy!   \n",
       "...             ...         ...               ...   \n",
       "216925         4999  2006-05-11  Double Jeopardy!   \n",
       "216926         4999  2006-05-11  Double Jeopardy!   \n",
       "216927         4999  2006-05-11  Double Jeopardy!   \n",
       "216928         4999  2006-05-11  Double Jeopardy!   \n",
       "216929         4999  2006-05-11   Final Jeopardy!   \n",
       "\n",
       "                               Category  Value  \\\n",
       "0                               HISTORY   $200   \n",
       "1       ESPN's TOP 10 ALL-TIME ATHLETES   $200   \n",
       "2           EVERYBODY TALKS ABOUT IT...   $200   \n",
       "3                      THE COMPANY LINE   $200   \n",
       "4                   EPITAPHS & TRIBUTES   $200   \n",
       "...                                 ...    ...   \n",
       "216925                   RIDDLE ME THIS  $2000   \n",
       "216926                        \"T\" BIRDS  $2000   \n",
       "216927           AUTHORS IN THEIR YOUTH  $2000   \n",
       "216928                       QUOTATIONS  $2000   \n",
       "216929                   HISTORIC NAMES    NaN   \n",
       "\n",
       "                                                                                                                      Question  \\\n",
       "0                             For the last 8 years of his life, Galileo was under house arrest for espousing this man's theory   \n",
       "1                  No. 2: 1912 Olympian; football star at Carlisle Indian School; 6 MLB seasons with the Reds, Giants & Braves   \n",
       "2                                     The city of Yuma in this state has a record average of 4,055 hours of sunshine each year   \n",
       "3                                         In 1963, live on \"The Art Linkletter Show\", this company served its billionth burger   \n",
       "4                     Signer of the Dec. of Indep., framer of the Constitution of Mass., second President of the United States   \n",
       "...                                                                                                                        ...   \n",
       "216925                                              This Puccini opera turns on the solution to 3 riddles posed by the heroine   \n",
       "216926                 In North America this term is properly applied to only 4 species that are crested, including the tufted   \n",
       "216927               In Penny Lane, where this \"Hellraiser\" grew up, the barber shaves another customer--then flays him alive!   \n",
       "216928  From Ft. Sill, Okla. he made the plea, Arizona is my land, my home, my father's land, to which I now ask to... return\"   \n",
       "216929                 A silent movie title includes the last name of this 18th c. statesman & favorite of Catherine the Great   \n",
       "\n",
       "                                Answer  \n",
       "0                           Copernicus  \n",
       "1                           Jim Thorpe  \n",
       "2                              Arizona  \n",
       "3                           McDonald's  \n",
       "4                           John Adams  \n",
       "...                                ...  \n",
       "216925                        Turandot  \n",
       "216926                      a titmouse  \n",
       "216927                    Clive Barker  \n",
       "216928                        Geronimo  \n",
       "216929  Grigori Alexandrovich Potemkin  \n",
       "\n",
       "[216930 rows x 7 columns]"
      ]
     },
     "execution_count": 2,
     "metadata": {},
     "output_type": "execute_result"
    }
   ],
   "source": [
    "JeopardyDF"
   ]
  },
  {
   "cell_type": "code",
   "execution_count": 3,
   "metadata": {
    "tags": []
   },
   "outputs": [
    {
     "data": {
      "text/plain": [
       "Show Number     int64\n",
       " Air Date      object\n",
       " Round         object\n",
       " Category      object\n",
       " Value         object\n",
       " Question      object\n",
       " Answer        object\n",
       "dtype: object"
      ]
     },
     "execution_count": 3,
     "metadata": {},
     "output_type": "execute_result"
    }
   ],
   "source": [
    "\n",
    "JeopardyDF.dtypes\n",
    "#JeopardyDF.Question\n",
    "#questions = JeopardyDF['Question']\n",
    "#JeopardyDF[1][1]\n"
   ]
  },
  {
   "cell_type": "code",
   "execution_count": 4,
   "metadata": {},
   "outputs": [],
   "source": [
    "# Rename columns - they are not handling correctly as dtype objects\n",
    "\n",
    "JeopardyDF.rename( columns={ \"Question\" : 'boner' }, inplace=True ) # df.rename() is not working\n"
   ]
  },
  {
   "cell_type": "code",
   "execution_count": 5,
   "metadata": {},
   "outputs": [],
   "source": [
    "JeopardyDF.columns = [ 'showNbr', 'airDate', 'round', 'category', 'value', 'question', 'answer' ] ## That seemed to fix it; though I'm still not clear on what was wrong with the original column names"
   ]
  },
  {
   "cell_type": "code",
   "execution_count": 6,
   "metadata": {},
   "outputs": [
    {
     "data": {
      "text/plain": [
       "0                               For the last 8 years of his life, Galileo was under house arrest for espousing this man's theory\n",
       "1                    No. 2: 1912 Olympian; football star at Carlisle Indian School; 6 MLB seasons with the Reds, Giants & Braves\n",
       "2                                       The city of Yuma in this state has a record average of 4,055 hours of sunshine each year\n",
       "3                                           In 1963, live on \"The Art Linkletter Show\", this company served its billionth burger\n",
       "4                       Signer of the Dec. of Indep., framer of the Constitution of Mass., second President of the United States\n",
       "                                                                   ...                                                          \n",
       "216925                                                This Puccini opera turns on the solution to 3 riddles posed by the heroine\n",
       "216926                   In North America this term is properly applied to only 4 species that are crested, including the tufted\n",
       "216927                 In Penny Lane, where this \"Hellraiser\" grew up, the barber shaves another customer--then flays him alive!\n",
       "216928    From Ft. Sill, Okla. he made the plea, Arizona is my land, my home, my father's land, to which I now ask to... return\"\n",
       "216929                   A silent movie title includes the last name of this 18th c. statesman & favorite of Catherine the Great\n",
       "Name: question, Length: 216930, dtype: object"
      ]
     },
     "execution_count": 6,
     "metadata": {},
     "output_type": "execute_result"
    }
   ],
   "source": [
    "JeopardyDF.question"
   ]
  },
  {
   "cell_type": "code",
   "execution_count": 7,
   "metadata": {},
   "outputs": [],
   "source": [
    "## Filter for substrings in string\n",
    "\n",
    "#JeopardyDF.query('question.str.contains(\"city|love\")') ## Works! ( this was not covered before; found online )\n",
    "#JeopardyDF.query('question.str.contains({\"city\", \"love\"])') #nope, will not take a list\n",
    "#JeopardyDF.query('question.str.contains(\"city|love\")')"
   ]
  },
  {
   "cell_type": "code",
   "execution_count": 8,
   "metadata": {},
   "outputs": [],
   "source": [
    "## OR / ANY of search terms  \n",
    "\n",
    "search_terms = ['city', 'love']\n",
    "search_terms_joined = '|'.join(search_terms)"
   ]
  },
  {
   "cell_type": "code",
   "execution_count": 9,
   "metadata": {},
   "outputs": [
    {
     "data": {
      "text/plain": [
       "(['city', 'love'], 'city|love')"
      ]
     },
     "execution_count": 9,
     "metadata": {},
     "output_type": "execute_result"
    }
   ],
   "source": [
    "search_terms , search_terms_joined"
   ]
  },
  {
   "cell_type": "code",
   "execution_count": 10,
   "metadata": {},
   "outputs": [
    {
     "data": {
      "text/html": [
       "<div>\n",
       "<style scoped>\n",
       "    .dataframe tbody tr th:only-of-type {\n",
       "        vertical-align: middle;\n",
       "    }\n",
       "\n",
       "    .dataframe tbody tr th {\n",
       "        vertical-align: top;\n",
       "    }\n",
       "\n",
       "    .dataframe thead th {\n",
       "        text-align: right;\n",
       "    }\n",
       "</style>\n",
       "<table border=\"1\" class=\"dataframe\">\n",
       "  <thead>\n",
       "    <tr style=\"text-align: right;\">\n",
       "      <th></th>\n",
       "      <th>showNbr</th>\n",
       "      <th>airDate</th>\n",
       "      <th>round</th>\n",
       "      <th>category</th>\n",
       "      <th>value</th>\n",
       "      <th>question</th>\n",
       "      <th>answer</th>\n",
       "    </tr>\n",
       "  </thead>\n",
       "  <tbody>\n",
       "    <tr>\n",
       "      <th>2</th>\n",
       "      <td>4680</td>\n",
       "      <td>2004-12-31</td>\n",
       "      <td>Jeopardy!</td>\n",
       "      <td>EVERYBODY TALKS ABOUT IT...</td>\n",
       "      <td>$200</td>\n",
       "      <td>The city of Yuma in this state has a record average of 4,055 hours of sunshine each year</td>\n",
       "      <td>Arizona</td>\n",
       "    </tr>\n",
       "    <tr>\n",
       "      <th>94</th>\n",
       "      <td>5957</td>\n",
       "      <td>2010-07-06</td>\n",
       "      <td>Double Jeopardy!</td>\n",
       "      <td>JUST THE FACTS</td>\n",
       "      <td>$800</td>\n",
       "      <td>This city, the seat of Clark County, Nevada, has been called \"the entertainment capital of the world\"</td>\n",
       "      <td>Las Vegas</td>\n",
       "    </tr>\n",
       "    <tr>\n",
       "      <th>119</th>\n",
       "      <td>3751</td>\n",
       "      <td>2000-12-18</td>\n",
       "      <td>Jeopardy!</td>\n",
       "      <td>TRAVEL &amp; TOURISM</td>\n",
       "      <td>$100</td>\n",
       "      <td>The Cinderella Castle Mystery Tour is a highlight of this Asian city's Disneyland</td>\n",
       "      <td>Tokyo</td>\n",
       "    </tr>\n",
       "    <tr>\n",
       "      <th>125</th>\n",
       "      <td>3751</td>\n",
       "      <td>2000-12-18</td>\n",
       "      <td>Jeopardy!</td>\n",
       "      <td>TRAVEL &amp; TOURISM</td>\n",
       "      <td>$200</td>\n",
       "      <td>The home of silk merchant Jim Thompson, who disappeared in 1967, is a tourist attraction in this Thai city</td>\n",
       "      <td>Bangkok</td>\n",
       "    </tr>\n",
       "    <tr>\n",
       "      <th>143</th>\n",
       "      <td>3751</td>\n",
       "      <td>2000-12-18</td>\n",
       "      <td>Jeopardy!</td>\n",
       "      <td>TRAVEL &amp; TOURISM</td>\n",
       "      <td>$500</td>\n",
       "      <td>Andrea Palladio's 1554 book on \"The Antiquities of\" this city was the standard guidebook for some 200 years</td>\n",
       "      <td>Rome</td>\n",
       "    </tr>\n",
       "    <tr>\n",
       "      <th>...</th>\n",
       "      <td>...</td>\n",
       "      <td>...</td>\n",
       "      <td>...</td>\n",
       "      <td>...</td>\n",
       "      <td>...</td>\n",
       "      <td>...</td>\n",
       "      <td>...</td>\n",
       "    </tr>\n",
       "    <tr>\n",
       "      <th>216811</th>\n",
       "      <td>5195</td>\n",
       "      <td>2007-03-23</td>\n",
       "      <td>Jeopardy!</td>\n",
       "      <td>AFRICAN CITIES</td>\n",
       "      <td>$200</td>\n",
       "      <td>In ancient times Giza, a suburb of this city, served as a large cemetery, or necropolis</td>\n",
       "      <td>Cairo</td>\n",
       "    </tr>\n",
       "    <tr>\n",
       "      <th>216823</th>\n",
       "      <td>5195</td>\n",
       "      <td>2007-03-23</td>\n",
       "      <td>Jeopardy!</td>\n",
       "      <td>AFRICAN CITIES</td>\n",
       "      <td>$600</td>\n",
       "      <td>Crosby, Stills &amp; Nash could tell you that the 220-foot-high Kutubiyyah Mosque towers over this Moroccan city</td>\n",
       "      <td>Marrakesh</td>\n",
       "    </tr>\n",
       "    <tr>\n",
       "      <th>216824</th>\n",
       "      <td>5195</td>\n",
       "      <td>2007-03-23</td>\n",
       "      <td>Jeopardy!</td>\n",
       "      <td>HORSING AROUND</td>\n",
       "      <td>$600</td>\n",
       "      <td>In Act One of Berlioz' opera \"Les Troyens\", this object is dragged inside a city's walls</td>\n",
       "      <td>the Trojan Horse</td>\n",
       "    </tr>\n",
       "    <tr>\n",
       "      <th>216829</th>\n",
       "      <td>5195</td>\n",
       "      <td>2007-03-23</td>\n",
       "      <td>Jeopardy!</td>\n",
       "      <td>AFRICAN CITIES</td>\n",
       "      <td>$3,000</td>\n",
       "      <td>The name of this South African city honors someone's first name; there's dispute over which of 3 Dutchmen it was</td>\n",
       "      <td>Johannesburg</td>\n",
       "    </tr>\n",
       "    <tr>\n",
       "      <th>216906</th>\n",
       "      <td>4999</td>\n",
       "      <td>2006-05-11</td>\n",
       "      <td>Double Jeopardy!</td>\n",
       "      <td>OFF-BROADWAY</td>\n",
       "      <td>$800</td>\n",
       "      <td>\"Red Light Winter\" centers on a love triangle that begins in the famous Red Light District of this European city</td>\n",
       "      <td>Amsterdam</td>\n",
       "    </tr>\n",
       "  </tbody>\n",
       "</table>\n",
       "<p>8261 rows × 7 columns</p>\n",
       "</div>"
      ],
      "text/plain": [
       "        showNbr     airDate             round                     category  \\\n",
       "2          4680  2004-12-31         Jeopardy!  EVERYBODY TALKS ABOUT IT...   \n",
       "94         5957  2010-07-06  Double Jeopardy!               JUST THE FACTS   \n",
       "119        3751  2000-12-18         Jeopardy!             TRAVEL & TOURISM   \n",
       "125        3751  2000-12-18         Jeopardy!             TRAVEL & TOURISM   \n",
       "143        3751  2000-12-18         Jeopardy!             TRAVEL & TOURISM   \n",
       "...         ...         ...               ...                          ...   \n",
       "216811     5195  2007-03-23         Jeopardy!               AFRICAN CITIES   \n",
       "216823     5195  2007-03-23         Jeopardy!               AFRICAN CITIES   \n",
       "216824     5195  2007-03-23         Jeopardy!               HORSING AROUND   \n",
       "216829     5195  2007-03-23         Jeopardy!               AFRICAN CITIES   \n",
       "216906     4999  2006-05-11  Double Jeopardy!                 OFF-BROADWAY   \n",
       "\n",
       "         value  \\\n",
       "2         $200   \n",
       "94        $800   \n",
       "119       $100   \n",
       "125       $200   \n",
       "143       $500   \n",
       "...        ...   \n",
       "216811    $200   \n",
       "216823    $600   \n",
       "216824    $600   \n",
       "216829  $3,000   \n",
       "216906    $800   \n",
       "\n",
       "                                                                                                                question  \\\n",
       "2                               The city of Yuma in this state has a record average of 4,055 hours of sunshine each year   \n",
       "94                 This city, the seat of Clark County, Nevada, has been called \"the entertainment capital of the world\"   \n",
       "119                                    The Cinderella Castle Mystery Tour is a highlight of this Asian city's Disneyland   \n",
       "125           The home of silk merchant Jim Thompson, who disappeared in 1967, is a tourist attraction in this Thai city   \n",
       "143          Andrea Palladio's 1554 book on \"The Antiquities of\" this city was the standard guidebook for some 200 years   \n",
       "...                                                                                                                  ...   \n",
       "216811                           In ancient times Giza, a suburb of this city, served as a large cemetery, or necropolis   \n",
       "216823      Crosby, Stills & Nash could tell you that the 220-foot-high Kutubiyyah Mosque towers over this Moroccan city   \n",
       "216824                          In Act One of Berlioz' opera \"Les Troyens\", this object is dragged inside a city's walls   \n",
       "216829  The name of this South African city honors someone's first name; there's dispute over which of 3 Dutchmen it was   \n",
       "216906  \"Red Light Winter\" centers on a love triangle that begins in the famous Red Light District of this European city   \n",
       "\n",
       "                  answer  \n",
       "2                Arizona  \n",
       "94             Las Vegas  \n",
       "119                Tokyo  \n",
       "125              Bangkok  \n",
       "143                 Rome  \n",
       "...                  ...  \n",
       "216811             Cairo  \n",
       "216823         Marrakesh  \n",
       "216824  the Trojan Horse  \n",
       "216829      Johannesburg  \n",
       "216906         Amsterdam  \n",
       "\n",
       "[8261 rows x 7 columns]"
      ]
     },
     "execution_count": 10,
     "metadata": {},
     "output_type": "execute_result"
    }
   ],
   "source": [
    "#JeopardyDF.query('question.str.contains(search_terms_joined)') # nope, variable is literal inside single quotes\n",
    "\n",
    "JeopardyDF[JeopardyDF.question.str.contains(search_terms_joined)]"
   ]
  },
  {
   "cell_type": "code",
   "execution_count": 11,
   "metadata": {},
   "outputs": [],
   "source": [
    "##AND / ALL of search terms\n",
    "\n",
    "search_terms = ['city', 'love']\n",
    "search_terms_joined = '|'.join(search_terms)"
   ]
  },
  {
   "cell_type": "code",
   "execution_count": 12,
   "metadata": {},
   "outputs": [],
   "source": [
    "#JeopardyDF.filter( like = 'city' , axis = 1 ) #nope"
   ]
  },
  {
   "cell_type": "markdown",
   "metadata": {},
   "source": [
    "2. Write a function that filters the dataset for questions that contains all of the words in a list of words. For example, when the list `[\"King\", \"England\"]` was passed to our function, the function returned a DataFrame of 49 rows. Every row had the strings `\"King\"` and `\"England\"` somewhere in its `\" Question\"`.\n",
    "\n",
    "   Test your function by printing out the column containing the question of each row of the dataset."
   ]
  },
  {
   "cell_type": "code",
   "execution_count": 13,
   "metadata": {},
   "outputs": [],
   "source": [
    "def JeopardyDFStringFilter(search_terms, df):\n",
    "    print(\"I am searching in Jeopardy questions for the words: \" )\n",
    "    for term in search_terms:\n",
    "        print(term)\n",
    "    #return JeopardyDF[JeopardyDF['Question'].isin(search_terms)]\n",
    "    #print(df.loc[df['question'].isin(search_terms)])\n",
    "    #df['question']\n",
    "    #search_terms_joined = '|'.join(search_terms)  ##ALL terms, not ANY\n",
    "    filteredDf = df[df.question.str.contains(search_terms_joined)]\n",
    "    return filteredDf"
   ]
  },
  {
   "cell_type": "code",
   "execution_count": 14,
   "metadata": {},
   "outputs": [
    {
     "name": "stdout",
     "output_type": "stream",
     "text": [
      "I am searching in Jeopardy questions for the words: \n",
      "King\n",
      "England\n"
     ]
    },
    {
     "data": {
      "text/html": [
       "<div>\n",
       "<style scoped>\n",
       "    .dataframe tbody tr th:only-of-type {\n",
       "        vertical-align: middle;\n",
       "    }\n",
       "\n",
       "    .dataframe tbody tr th {\n",
       "        vertical-align: top;\n",
       "    }\n",
       "\n",
       "    .dataframe thead th {\n",
       "        text-align: right;\n",
       "    }\n",
       "</style>\n",
       "<table border=\"1\" class=\"dataframe\">\n",
       "  <thead>\n",
       "    <tr style=\"text-align: right;\">\n",
       "      <th></th>\n",
       "      <th>showNbr</th>\n",
       "      <th>airDate</th>\n",
       "      <th>round</th>\n",
       "      <th>category</th>\n",
       "      <th>value</th>\n",
       "      <th>question</th>\n",
       "      <th>answer</th>\n",
       "    </tr>\n",
       "  </thead>\n",
       "  <tbody>\n",
       "    <tr>\n",
       "      <th>2</th>\n",
       "      <td>4680</td>\n",
       "      <td>2004-12-31</td>\n",
       "      <td>Jeopardy!</td>\n",
       "      <td>EVERYBODY TALKS ABOUT IT...</td>\n",
       "      <td>$200</td>\n",
       "      <td>The city of Yuma in this state has a record average of 4,055 hours of sunshine each year</td>\n",
       "      <td>Arizona</td>\n",
       "    </tr>\n",
       "    <tr>\n",
       "      <th>94</th>\n",
       "      <td>5957</td>\n",
       "      <td>2010-07-06</td>\n",
       "      <td>Double Jeopardy!</td>\n",
       "      <td>JUST THE FACTS</td>\n",
       "      <td>$800</td>\n",
       "      <td>This city, the seat of Clark County, Nevada, has been called \"the entertainment capital of the world\"</td>\n",
       "      <td>Las Vegas</td>\n",
       "    </tr>\n",
       "    <tr>\n",
       "      <th>119</th>\n",
       "      <td>3751</td>\n",
       "      <td>2000-12-18</td>\n",
       "      <td>Jeopardy!</td>\n",
       "      <td>TRAVEL &amp; TOURISM</td>\n",
       "      <td>$100</td>\n",
       "      <td>The Cinderella Castle Mystery Tour is a highlight of this Asian city's Disneyland</td>\n",
       "      <td>Tokyo</td>\n",
       "    </tr>\n",
       "    <tr>\n",
       "      <th>125</th>\n",
       "      <td>3751</td>\n",
       "      <td>2000-12-18</td>\n",
       "      <td>Jeopardy!</td>\n",
       "      <td>TRAVEL &amp; TOURISM</td>\n",
       "      <td>$200</td>\n",
       "      <td>The home of silk merchant Jim Thompson, who disappeared in 1967, is a tourist attraction in this Thai city</td>\n",
       "      <td>Bangkok</td>\n",
       "    </tr>\n",
       "    <tr>\n",
       "      <th>143</th>\n",
       "      <td>3751</td>\n",
       "      <td>2000-12-18</td>\n",
       "      <td>Jeopardy!</td>\n",
       "      <td>TRAVEL &amp; TOURISM</td>\n",
       "      <td>$500</td>\n",
       "      <td>Andrea Palladio's 1554 book on \"The Antiquities of\" this city was the standard guidebook for some 200 years</td>\n",
       "      <td>Rome</td>\n",
       "    </tr>\n",
       "    <tr>\n",
       "      <th>...</th>\n",
       "      <td>...</td>\n",
       "      <td>...</td>\n",
       "      <td>...</td>\n",
       "      <td>...</td>\n",
       "      <td>...</td>\n",
       "      <td>...</td>\n",
       "      <td>...</td>\n",
       "    </tr>\n",
       "    <tr>\n",
       "      <th>216811</th>\n",
       "      <td>5195</td>\n",
       "      <td>2007-03-23</td>\n",
       "      <td>Jeopardy!</td>\n",
       "      <td>AFRICAN CITIES</td>\n",
       "      <td>$200</td>\n",
       "      <td>In ancient times Giza, a suburb of this city, served as a large cemetery, or necropolis</td>\n",
       "      <td>Cairo</td>\n",
       "    </tr>\n",
       "    <tr>\n",
       "      <th>216823</th>\n",
       "      <td>5195</td>\n",
       "      <td>2007-03-23</td>\n",
       "      <td>Jeopardy!</td>\n",
       "      <td>AFRICAN CITIES</td>\n",
       "      <td>$600</td>\n",
       "      <td>Crosby, Stills &amp; Nash could tell you that the 220-foot-high Kutubiyyah Mosque towers over this Moroccan city</td>\n",
       "      <td>Marrakesh</td>\n",
       "    </tr>\n",
       "    <tr>\n",
       "      <th>216824</th>\n",
       "      <td>5195</td>\n",
       "      <td>2007-03-23</td>\n",
       "      <td>Jeopardy!</td>\n",
       "      <td>HORSING AROUND</td>\n",
       "      <td>$600</td>\n",
       "      <td>In Act One of Berlioz' opera \"Les Troyens\", this object is dragged inside a city's walls</td>\n",
       "      <td>the Trojan Horse</td>\n",
       "    </tr>\n",
       "    <tr>\n",
       "      <th>216829</th>\n",
       "      <td>5195</td>\n",
       "      <td>2007-03-23</td>\n",
       "      <td>Jeopardy!</td>\n",
       "      <td>AFRICAN CITIES</td>\n",
       "      <td>$3,000</td>\n",
       "      <td>The name of this South African city honors someone's first name; there's dispute over which of 3 Dutchmen it was</td>\n",
       "      <td>Johannesburg</td>\n",
       "    </tr>\n",
       "    <tr>\n",
       "      <th>216906</th>\n",
       "      <td>4999</td>\n",
       "      <td>2006-05-11</td>\n",
       "      <td>Double Jeopardy!</td>\n",
       "      <td>OFF-BROADWAY</td>\n",
       "      <td>$800</td>\n",
       "      <td>\"Red Light Winter\" centers on a love triangle that begins in the famous Red Light District of this European city</td>\n",
       "      <td>Amsterdam</td>\n",
       "    </tr>\n",
       "  </tbody>\n",
       "</table>\n",
       "<p>8261 rows × 7 columns</p>\n",
       "</div>"
      ],
      "text/plain": [
       "        showNbr     airDate             round                     category  \\\n",
       "2          4680  2004-12-31         Jeopardy!  EVERYBODY TALKS ABOUT IT...   \n",
       "94         5957  2010-07-06  Double Jeopardy!               JUST THE FACTS   \n",
       "119        3751  2000-12-18         Jeopardy!             TRAVEL & TOURISM   \n",
       "125        3751  2000-12-18         Jeopardy!             TRAVEL & TOURISM   \n",
       "143        3751  2000-12-18         Jeopardy!             TRAVEL & TOURISM   \n",
       "...         ...         ...               ...                          ...   \n",
       "216811     5195  2007-03-23         Jeopardy!               AFRICAN CITIES   \n",
       "216823     5195  2007-03-23         Jeopardy!               AFRICAN CITIES   \n",
       "216824     5195  2007-03-23         Jeopardy!               HORSING AROUND   \n",
       "216829     5195  2007-03-23         Jeopardy!               AFRICAN CITIES   \n",
       "216906     4999  2006-05-11  Double Jeopardy!                 OFF-BROADWAY   \n",
       "\n",
       "         value  \\\n",
       "2         $200   \n",
       "94        $800   \n",
       "119       $100   \n",
       "125       $200   \n",
       "143       $500   \n",
       "...        ...   \n",
       "216811    $200   \n",
       "216823    $600   \n",
       "216824    $600   \n",
       "216829  $3,000   \n",
       "216906    $800   \n",
       "\n",
       "                                                                                                                question  \\\n",
       "2                               The city of Yuma in this state has a record average of 4,055 hours of sunshine each year   \n",
       "94                 This city, the seat of Clark County, Nevada, has been called \"the entertainment capital of the world\"   \n",
       "119                                    The Cinderella Castle Mystery Tour is a highlight of this Asian city's Disneyland   \n",
       "125           The home of silk merchant Jim Thompson, who disappeared in 1967, is a tourist attraction in this Thai city   \n",
       "143          Andrea Palladio's 1554 book on \"The Antiquities of\" this city was the standard guidebook for some 200 years   \n",
       "...                                                                                                                  ...   \n",
       "216811                           In ancient times Giza, a suburb of this city, served as a large cemetery, or necropolis   \n",
       "216823      Crosby, Stills & Nash could tell you that the 220-foot-high Kutubiyyah Mosque towers over this Moroccan city   \n",
       "216824                          In Act One of Berlioz' opera \"Les Troyens\", this object is dragged inside a city's walls   \n",
       "216829  The name of this South African city honors someone's first name; there's dispute over which of 3 Dutchmen it was   \n",
       "216906  \"Red Light Winter\" centers on a love triangle that begins in the famous Red Light District of this European city   \n",
       "\n",
       "                  answer  \n",
       "2                Arizona  \n",
       "94             Las Vegas  \n",
       "119                Tokyo  \n",
       "125              Bangkok  \n",
       "143                 Rome  \n",
       "...                  ...  \n",
       "216811             Cairo  \n",
       "216823         Marrakesh  \n",
       "216824  the Trojan Horse  \n",
       "216829      Johannesburg  \n",
       "216906         Amsterdam  \n",
       "\n",
       "[8261 rows x 7 columns]"
      ]
     },
     "execution_count": 14,
     "metadata": {},
     "output_type": "execute_result"
    }
   ],
   "source": [
    "JeopardyDFStringFilter([\"King\", \"England\"], JeopardyDF)"
   ]
  },
  {
   "cell_type": "code",
   "execution_count": 15,
   "metadata": {},
   "outputs": [],
   "source": [
    "## this approach is not working : I need whole word matches only, and all words matching vs any\n",
    "\n",
    "#JeopardyDF\n",
    "#JeopardyDF\n",
    "#JeopardyDF[JeopardyDF.question.str.contains(\"city|love\", regex=True)]\n",
    "#(?=.*test)(?=.*long)\n",
    "#JeopardyDF.question.str.contains(\"(?=.*test)(?=.*long)\", regex=True)\n",
    "#JeopardyDF.question.str.contains(r'^(?=.*king)(?=.*england)')\n",
    "#JeopardyDF[JeopardyDF.question.str.contains(\"(\\test\\b)(\\long\\b)\", regex=True)]"
   ]
  },
  {
   "cell_type": "code",
   "execution_count": 16,
   "metadata": {},
   "outputs": [],
   "source": [
    "## NEW APPROACH: filter for each word one at a time , sorting down the df \n",
    "\n",
    "#JeopardyDF[JeopardyDF.question.str.contains(r\"\\bArt\\b\", case=False, na=False, regex=True)]\n",
    "#JeopardyDF[JeopardyDF.question.str.contains((rb\\'Art'b\\), case=False, na=False, regex=True)]"
   ]
  },
  {
   "cell_type": "code",
   "execution_count": 17,
   "metadata": {},
   "outputs": [
    {
     "data": {
      "text/html": [
       "<div>\n",
       "<style scoped>\n",
       "    .dataframe tbody tr th:only-of-type {\n",
       "        vertical-align: middle;\n",
       "    }\n",
       "\n",
       "    .dataframe tbody tr th {\n",
       "        vertical-align: top;\n",
       "    }\n",
       "\n",
       "    .dataframe thead th {\n",
       "        text-align: right;\n",
       "    }\n",
       "</style>\n",
       "<table border=\"1\" class=\"dataframe\">\n",
       "  <thead>\n",
       "    <tr style=\"text-align: right;\">\n",
       "      <th></th>\n",
       "      <th>showNbr</th>\n",
       "      <th>airDate</th>\n",
       "      <th>round</th>\n",
       "      <th>category</th>\n",
       "      <th>value</th>\n",
       "      <th>question</th>\n",
       "      <th>answer</th>\n",
       "    </tr>\n",
       "  </thead>\n",
       "  <tbody>\n",
       "    <tr>\n",
       "      <th>3</th>\n",
       "      <td>4680</td>\n",
       "      <td>2004-12-31</td>\n",
       "      <td>Jeopardy!</td>\n",
       "      <td>THE COMPANY LINE</td>\n",
       "      <td>$200</td>\n",
       "      <td>In 1963, live on \"The Art Linkletter Show\", this company served its billionth burger</td>\n",
       "      <td>McDonald's</td>\n",
       "    </tr>\n",
       "    <tr>\n",
       "      <th>34</th>\n",
       "      <td>4680</td>\n",
       "      <td>2004-12-31</td>\n",
       "      <td>Double Jeopardy!</td>\n",
       "      <td>\"X\"s &amp; \"O\"s</td>\n",
       "      <td>$400</td>\n",
       "      <td>Around 100 A.D. Tacitus wrote a book on how this art of persuasive speaking had declined since Cicero</td>\n",
       "      <td>oratory</td>\n",
       "    </tr>\n",
       "    <tr>\n",
       "      <th>105</th>\n",
       "      <td>5957</td>\n",
       "      <td>2010-07-06</td>\n",
       "      <td>Double Jeopardy!</td>\n",
       "      <td>KIDS IN SPORTS</td>\n",
       "      <td>$1600</td>\n",
       "      <td>11-year-old Ashlyn White won a 2009 U.S. youth title in this martial art in which you try to throw your opponent</td>\n",
       "      <td>judo</td>\n",
       "    </tr>\n",
       "    <tr>\n",
       "      <th>414</th>\n",
       "      <td>2825</td>\n",
       "      <td>1996-12-06</td>\n",
       "      <td>Double Jeopardy!</td>\n",
       "      <td>ART &amp; ARTISTS</td>\n",
       "      <td>$1000</td>\n",
       "      <td>You can see this British sculptor's \"Reclining Mother and Child\" at the Walker Art Center in Minneapolis</td>\n",
       "      <td>Henry Moore</td>\n",
       "    </tr>\n",
       "    <tr>\n",
       "      <th>579</th>\n",
       "      <td>3036</td>\n",
       "      <td>1997-11-10</td>\n",
       "      <td>Double Jeopardy!</td>\n",
       "      <td>ART</td>\n",
       "      <td>$600</td>\n",
       "      <td>Edward Steichen led the movement to recognize as art these images, whose name means \"drawn with light\"</td>\n",
       "      <td>photographs</td>\n",
       "    </tr>\n",
       "    <tr>\n",
       "      <th>...</th>\n",
       "      <td>...</td>\n",
       "      <td>...</td>\n",
       "      <td>...</td>\n",
       "      <td>...</td>\n",
       "      <td>...</td>\n",
       "      <td>...</td>\n",
       "      <td>...</td>\n",
       "    </tr>\n",
       "    <tr>\n",
       "      <th>215756</th>\n",
       "      <td>4720</td>\n",
       "      <td>2005-02-25</td>\n",
       "      <td>Jeopardy!</td>\n",
       "      <td>QUOTES</td>\n",
       "      <td>$1000</td>\n",
       "      <td>Shakespeare: \"Dost thou think, because thou art virtuous, there shall be no more cakes and\" this?</td>\n",
       "      <td>ale</td>\n",
       "    </tr>\n",
       "    <tr>\n",
       "      <th>215910</th>\n",
       "      <td>6003</td>\n",
       "      <td>2010-10-20</td>\n",
       "      <td>Double Jeopardy!</td>\n",
       "      <td>STATE / COLLEGES</td>\n",
       "      <td>$2000</td>\n",
       "      <td>Flagler College &amp; Ringling School of Art &amp; Design</td>\n",
       "      <td>Florida</td>\n",
       "    </tr>\n",
       "    <tr>\n",
       "      <th>216623</th>\n",
       "      <td>2046</td>\n",
       "      <td>1993-06-28</td>\n",
       "      <td>Double Jeopardy!</td>\n",
       "      <td>GEMS &amp; JEWELRY</td>\n",
       "      <td>$1000</td>\n",
       "      <td>An English art critic said this gem \"shows the most glorious colors to be seen in the world...\"</td>\n",
       "      <td>the opal</td>\n",
       "    </tr>\n",
       "    <tr>\n",
       "      <th>216643</th>\n",
       "      <td>3940</td>\n",
       "      <td>2001-10-19</td>\n",
       "      <td>Jeopardy!</td>\n",
       "      <td>ART ATTACK</td>\n",
       "      <td>$300</td>\n",
       "      <td>In 1998 an art student in London painted a yellow pound sign on a self-portrait by this Dutchman</td>\n",
       "      <td>Rembrandt</td>\n",
       "    </tr>\n",
       "    <tr>\n",
       "      <th>216770</th>\n",
       "      <td>5070</td>\n",
       "      <td>2006-09-29</td>\n",
       "      <td>Jeopardy!</td>\n",
       "      <td>SIGNING OFF</td>\n",
       "      <td>$800</td>\n",
       "      <td>The statue seen &lt;a href=\"http://www.j-archive.com/media/2006-09-29_J_29.jpg\" target=\"_blank\"&gt;here&lt;/a&gt; is the only work of art he ever signed</td>\n",
       "      <td>Michelangelo (Buonarroti)</td>\n",
       "    </tr>\n",
       "  </tbody>\n",
       "</table>\n",
       "<p>640 rows × 7 columns</p>\n",
       "</div>"
      ],
      "text/plain": [
       "        showNbr     airDate             round          category  value  \\\n",
       "3          4680  2004-12-31         Jeopardy!  THE COMPANY LINE   $200   \n",
       "34         4680  2004-12-31  Double Jeopardy!       \"X\"s & \"O\"s   $400   \n",
       "105        5957  2010-07-06  Double Jeopardy!    KIDS IN SPORTS  $1600   \n",
       "414        2825  1996-12-06  Double Jeopardy!     ART & ARTISTS  $1000   \n",
       "579        3036  1997-11-10  Double Jeopardy!               ART   $600   \n",
       "...         ...         ...               ...               ...    ...   \n",
       "215756     4720  2005-02-25         Jeopardy!            QUOTES  $1000   \n",
       "215910     6003  2010-10-20  Double Jeopardy!  STATE / COLLEGES  $2000   \n",
       "216623     2046  1993-06-28  Double Jeopardy!    GEMS & JEWELRY  $1000   \n",
       "216643     3940  2001-10-19         Jeopardy!        ART ATTACK   $300   \n",
       "216770     5070  2006-09-29         Jeopardy!       SIGNING OFF   $800   \n",
       "\n",
       "                                                                                                                                            question  \\\n",
       "3                                                               In 1963, live on \"The Art Linkletter Show\", this company served its billionth burger   \n",
       "34                                             Around 100 A.D. Tacitus wrote a book on how this art of persuasive speaking had declined since Cicero   \n",
       "105                                 11-year-old Ashlyn White won a 2009 U.S. youth title in this martial art in which you try to throw your opponent   \n",
       "414                                         You can see this British sculptor's \"Reclining Mother and Child\" at the Walker Art Center in Minneapolis   \n",
       "579                                           Edward Steichen led the movement to recognize as art these images, whose name means \"drawn with light\"   \n",
       "...                                                                                                                                              ...   \n",
       "215756                                             Shakespeare: \"Dost thou think, because thou art virtuous, there shall be no more cakes and\" this?   \n",
       "215910                                                                                             Flagler College & Ringling School of Art & Design   \n",
       "216623                                               An English art critic said this gem \"shows the most glorious colors to be seen in the world...\"   \n",
       "216643                                              In 1998 an art student in London painted a yellow pound sign on a self-portrait by this Dutchman   \n",
       "216770  The statue seen <a href=\"http://www.j-archive.com/media/2006-09-29_J_29.jpg\" target=\"_blank\">here</a> is the only work of art he ever signed   \n",
       "\n",
       "                           answer  \n",
       "3                      McDonald's  \n",
       "34                        oratory  \n",
       "105                          judo  \n",
       "414                   Henry Moore  \n",
       "579                   photographs  \n",
       "...                           ...  \n",
       "215756                        ale  \n",
       "215910                    Florida  \n",
       "216623                   the opal  \n",
       "216643                  Rembrandt  \n",
       "216770  Michelangelo (Buonarroti)  \n",
       "\n",
       "[640 rows x 7 columns]"
      ]
     },
     "execution_count": 17,
     "metadata": {},
     "output_type": "execute_result"
    }
   ],
   "source": [
    "#str = 'Art'\n",
    "str = 'Art'.strip()\n",
    "#rex = 'r\\'\\\\b(' + str + ')\\\\b\\''\n",
    "\n",
    "#JeopardyDF[JeopardyDF.question.str.contains(r\"\\b(str)\\b\", case=False, na=False, regex=True)]\n",
    "#JeopardyDF[JeopardyDF.question.str.contains((\\b(str)\\b), case=False, na=False, regex=True)]\n",
    "#eopardyDF[JeopardyDF.question.str.contains(r'\\bstr\\b', case=False, na=False, regex=True)]\n",
    "JeopardyDF[JeopardyDF.question.str.contains(' '+str+' ', case=False, na=False, regex=True)]   #works, but kludgy\n",
    "#print(rex)\n",
    "#JeopardyDF[JeopardyDF.question.str.contains(rex, case=False, na=False, regex=True)]\n",
    "#JeopardyDF[JeopardyDF.question.eq(str).any()]"
   ]
  },
  {
   "cell_type": "code",
   "execution_count": 18,
   "metadata": {},
   "outputs": [],
   "source": [
    "def dfSearchAllWholeWords ( df, dfColumn, searchList ):\n",
    "    dfLocal = df\n",
    "    for word in searchList:\n",
    "        print( df[df[dfColumn].str.contains( (' '+word.strip()+' '), case=False)  ])"
   ]
  },
  {
   "cell_type": "code",
   "execution_count": 19,
   "metadata": {},
   "outputs": [],
   "source": [
    "## I wasnt even close ##########################\n",
    "## from cheat sheet ######\n",
    "# Filtering a dataset by a list of words\n",
    "def filter_data(data, words):\n",
    "  # Lowercases all words in the list of words as well as the questions. Returns true if all of the words in the list appear in the question.\n",
    "  filter = lambda x: all(word in x for word in words)\n",
    "  # Applies the lambda function to the Question column and returns the rows where the function returned True\n",
    "  return data.loc[data[\"question\"].apply(filter)]"
   ]
  },
  {
   "cell_type": "code",
   "execution_count": 20,
   "metadata": {},
   "outputs": [],
   "source": [
    "searchTerms = [ 'Art' , 'thou', 'among' ]"
   ]
  },
  {
   "cell_type": "code",
   "execution_count": 21,
   "metadata": {},
   "outputs": [],
   "source": [
    "filteredDf = filter_data(JeopardyDF, searchTerms)"
   ]
  },
  {
   "cell_type": "code",
   "execution_count": 22,
   "metadata": {},
   "outputs": [
    {
     "data": {
      "text/plain": [
       "Series([], Name: question, dtype: object)"
      ]
     },
     "execution_count": 22,
     "metadata": {},
     "output_type": "execute_result"
    }
   ],
   "source": [
    "filteredDf.question"
   ]
  },
  {
   "cell_type": "markdown",
   "metadata": {},
   "source": [
    "3. Test your original function with a few different sets of words to try to find some ways your function breaks. Edit your function so it is more robust.\n",
    "\n",
    "   For example, think about capitalization. We probably want to find questions that contain the word `\"King\"` or `\"king\"`.\n",
    "   \n",
    "   You may also want to check to make sure you don't find rows that contain substrings of your given words. For example, our function found a question that didn't contain the word `\"king\"`, however it did contain the word `\"viking\"` &mdash; it found the `\"king\"` inside `\"viking\"`. Note that this also comes with some drawbacks &mdash; you would no longer find questions that contained words like `\"England's\"`."
   ]
  },
  {
   "cell_type": "code",
   "execution_count": 23,
   "metadata": {},
   "outputs": [],
   "source": [
    "### Since I could not come up with it, perhaps I can improve it\n",
    "\n",
    "################## This works well :: filters whole words only, case insensitive ##################\n",
    "\n",
    "def filter_data_improved(data, words):\n",
    "  # Lowercases all words in the list of words as well as the questions. Returns true if all of the words in the list appear in the question.\n",
    "  #filter = lambda x: all(word.lower() in x.lower() for word in words)\n",
    "  filter = lambda x: all(' '+word.lower()+' ' in x.lower() for word in words)\n",
    "  # Applies the lambda function to the Question column and returns the rows where the function returned True\n",
    "  return data.loc[data[\"question\"].apply(filter)]"
   ]
  },
  {
   "cell_type": "code",
   "execution_count": 24,
   "metadata": {},
   "outputs": [],
   "source": [
    "filteredDf = filter_data_improved(JeopardyDF, searchTerms)"
   ]
  },
  {
   "cell_type": "code",
   "execution_count": 25,
   "metadata": {},
   "outputs": [
    {
     "data": {
      "text/plain": [
       "120871                  Her words to Mary, \"Blessed art thou among women\", are part of the \"Hail Mary\" prayer\n",
       "174810    Cousin to whom Elisabeth said, \"Blessed art thou among women, and blessed is the fruit of thy womb\"\n",
       "200868             \"Hail, thou that art highly favoured, the Lord is with thee: blessed art thou among women\"\n",
       "Name: question, dtype: object"
      ]
     },
     "execution_count": 25,
     "metadata": {},
     "output_type": "execute_result"
    }
   ],
   "source": [
    "filteredDf.question"
   ]
  },
  {
   "cell_type": "markdown",
   "metadata": {},
   "source": [
    "4. We may want to eventually compute aggregate statistics, like `.mean()` on the `\" Value\"` column. But right now, the values in that column are strings. Convert the`\" Value\"` column to floats. If you'd like to, you can create a new column with float values.\n",
    "\n",
    "   Now that you can filter the dataset of question, use your new column that contains the float values of each question to find the \"difficulty\" of certain topics. For example, what is the average value of questions that contain the word `\"King\"`?\n",
    "   \n",
    "   Make sure to use the dataset that contains the float values as the dataset you use in your filtering function."
   ]
  },
  {
   "cell_type": "code",
   "execution_count": 26,
   "metadata": {},
   "outputs": [],
   "source": [
    "#float(filteredDf['value'].item())"
   ]
  },
  {
   "cell_type": "code",
   "execution_count": 27,
   "metadata": {},
   "outputs": [
    {
     "data": {
      "text/plain": [
       "120871    $1200\n",
       "174810     $100\n",
       "200868    $1000\n",
       "Name: value, dtype: object"
      ]
     },
     "execution_count": 27,
     "metadata": {},
     "output_type": "execute_result"
    }
   ],
   "source": [
    "#filteredDf['numValue'] =  filteredDf['value'].replace('$', '')\n",
    "#filteredDf['numValue'] =  filteredDf['value'].apply(float)\n",
    "#filteredDf['numValue'] =  filteredDf['value'].apply(int)\n",
    "\n",
    "#filteredDf['value'].replace(\"0\", \"1\")\n",
    "filteredDf['value']"
   ]
  },
  {
   "cell_type": "code",
   "execution_count": 28,
   "metadata": {},
   "outputs": [
    {
     "data": {
      "text/html": [
       "<div>\n",
       "<style scoped>\n",
       "    .dataframe tbody tr th:only-of-type {\n",
       "        vertical-align: middle;\n",
       "    }\n",
       "\n",
       "    .dataframe tbody tr th {\n",
       "        vertical-align: top;\n",
       "    }\n",
       "\n",
       "    .dataframe thead th {\n",
       "        text-align: right;\n",
       "    }\n",
       "</style>\n",
       "<table border=\"1\" class=\"dataframe\">\n",
       "  <thead>\n",
       "    <tr style=\"text-align: right;\">\n",
       "      <th></th>\n",
       "      <th>showNbr</th>\n",
       "      <th>airDate</th>\n",
       "      <th>round</th>\n",
       "      <th>category</th>\n",
       "      <th>value</th>\n",
       "      <th>question</th>\n",
       "      <th>answer</th>\n",
       "    </tr>\n",
       "  </thead>\n",
       "  <tbody>\n",
       "    <tr>\n",
       "      <th>120871</th>\n",
       "      <td>4734</td>\n",
       "      <td>2005-03-17</td>\n",
       "      <td>Double Jeopardy!</td>\n",
       "      <td>\"E\" GADS!</td>\n",
       "      <td>$1200</td>\n",
       "      <td>Her words to Mary, \"Blessed art thou among women\", are part of the \"Hail Mary\" prayer</td>\n",
       "      <td>Elizabeth</td>\n",
       "    </tr>\n",
       "    <tr>\n",
       "      <th>174810</th>\n",
       "      <td>2896</td>\n",
       "      <td>1997-03-17</td>\n",
       "      <td>Jeopardy!</td>\n",
       "      <td>THE BIBLE</td>\n",
       "      <td>$100</td>\n",
       "      <td>Cousin to whom Elisabeth said, \"Blessed art thou among women, and blessed is the fruit of thy womb\"</td>\n",
       "      <td>Mary</td>\n",
       "    </tr>\n",
       "    <tr>\n",
       "      <th>200868</th>\n",
       "      <td>6206</td>\n",
       "      <td>2011-09-19</td>\n",
       "      <td>Jeopardy!</td>\n",
       "      <td>WHO'S BIBLICALLY SPEAKING?</td>\n",
       "      <td>$1000</td>\n",
       "      <td>\"Hail, thou that art highly favoured, the Lord is with thee: blessed art thou among women\"</td>\n",
       "      <td>Gabriel</td>\n",
       "    </tr>\n",
       "  </tbody>\n",
       "</table>\n",
       "</div>"
      ],
      "text/plain": [
       "        showNbr     airDate             round                    category  \\\n",
       "120871     4734  2005-03-17  Double Jeopardy!                   \"E\" GADS!   \n",
       "174810     2896  1997-03-17         Jeopardy!                   THE BIBLE   \n",
       "200868     6206  2011-09-19         Jeopardy!  WHO'S BIBLICALLY SPEAKING?   \n",
       "\n",
       "        value  \\\n",
       "120871  $1200   \n",
       "174810   $100   \n",
       "200868  $1000   \n",
       "\n",
       "                                                                                                   question  \\\n",
       "120871                Her words to Mary, \"Blessed art thou among women\", are part of the \"Hail Mary\" prayer   \n",
       "174810  Cousin to whom Elisabeth said, \"Blessed art thou among women, and blessed is the fruit of thy womb\"   \n",
       "200868           \"Hail, thou that art highly favoured, the Lord is with thee: blessed art thou among women\"   \n",
       "\n",
       "           answer  \n",
       "120871  Elizabeth  \n",
       "174810       Mary  \n",
       "200868    Gabriel  "
      ]
     },
     "execution_count": 28,
     "metadata": {},
     "output_type": "execute_result"
    }
   ],
   "source": [
    "filteredDf"
   ]
  },
  {
   "cell_type": "code",
   "execution_count": 29,
   "metadata": {},
   "outputs": [
    {
     "data": {
      "text/plain": [
       "120871    11200.0\n",
       "174810     1100.0\n",
       "200868    11000.0\n",
       "Name: value, dtype: float64"
      ]
     },
     "execution_count": 29,
     "metadata": {},
     "output_type": "execute_result"
    }
   ],
   "source": [
    "filteredDf[filteredDf.columns[4].replace('$', '1')]\n",
    "filteredDf.columns[4].replace('$', '1')\n",
    "#filteredDf.columns[4].astype('int')\n",
    "filteredDf.answer.replace('Mary', 'Heather')\n",
    "filteredDf.value.replace('$', '1')\n",
    "filteredDf.answer.replace('a', '8') ## Replace only works on the WHoLE COLUMN VALUE\n",
    "filteredDf.value.convert_dtypes('int') # seems to do nothing in this case\n",
    "#filteredDf['value'].apply(float) # error: $ breaks the conversion\n",
    "#flteredDf['value'].apply(int) # error: $ breaks the conversion\n",
    "filteredDf.value.str.replace('$', '1')   #### WORKS ! need to add the .str.\n",
    "filteredDf.value.str.replace('$', '1').apply(float) #### WORKS ! can now chain together the character replace with the convert! \n"
   ]
  },
  {
   "cell_type": "code",
   "execution_count": 30,
   "metadata": {},
   "outputs": [
    {
     "name": "stderr",
     "output_type": "stream",
     "text": [
      "C:\\Users\\erics\\AppData\\Local\\Temp\\ipykernel_21548\\3332499918.py:1: SettingWithCopyWarning: \n",
      "A value is trying to be set on a copy of a slice from a DataFrame.\n",
      "Try using .loc[row_indexer,col_indexer] = value instead\n",
      "\n",
      "See the caveats in the documentation: https://pandas.pydata.org/pandas-docs/stable/user_guide/indexing.html#returning-a-view-versus-a-copy\n",
      "  filteredDf['numValue'] =  filteredDf.value.str.replace('$', '1').apply(float)\n"
     ]
    }
   ],
   "source": [
    "filteredDf['numValue'] =  filteredDf.value.str.replace('$', '1').apply(float)"
   ]
  },
  {
   "cell_type": "code",
   "execution_count": 34,
   "metadata": {},
   "outputs": [
    {
     "data": {
      "text/html": [
       "<div>\n",
       "<style scoped>\n",
       "    .dataframe tbody tr th:only-of-type {\n",
       "        vertical-align: middle;\n",
       "    }\n",
       "\n",
       "    .dataframe tbody tr th {\n",
       "        vertical-align: top;\n",
       "    }\n",
       "\n",
       "    .dataframe thead th {\n",
       "        text-align: right;\n",
       "    }\n",
       "</style>\n",
       "<table border=\"1\" class=\"dataframe\">\n",
       "  <thead>\n",
       "    <tr style=\"text-align: right;\">\n",
       "      <th></th>\n",
       "      <th>showNbr</th>\n",
       "      <th>airDate</th>\n",
       "      <th>round</th>\n",
       "      <th>category</th>\n",
       "      <th>value</th>\n",
       "      <th>question</th>\n",
       "      <th>answer</th>\n",
       "      <th>numValue</th>\n",
       "    </tr>\n",
       "  </thead>\n",
       "  <tbody>\n",
       "    <tr>\n",
       "      <th>120871</th>\n",
       "      <td>4734</td>\n",
       "      <td>2005-03-17</td>\n",
       "      <td>Double Jeopardy!</td>\n",
       "      <td>\"E\" GADS!</td>\n",
       "      <td>$1200</td>\n",
       "      <td>Her words to Mary, \"Blessed art thou among women\", are part of the \"Hail Mary\" prayer</td>\n",
       "      <td>Elizabeth</td>\n",
       "      <td>11200.0</td>\n",
       "    </tr>\n",
       "    <tr>\n",
       "      <th>174810</th>\n",
       "      <td>2896</td>\n",
       "      <td>1997-03-17</td>\n",
       "      <td>Jeopardy!</td>\n",
       "      <td>THE BIBLE</td>\n",
       "      <td>$100</td>\n",
       "      <td>Cousin to whom Elisabeth said, \"Blessed art thou among women, and blessed is the fruit of thy womb\"</td>\n",
       "      <td>Mary</td>\n",
       "      <td>1100.0</td>\n",
       "    </tr>\n",
       "    <tr>\n",
       "      <th>200868</th>\n",
       "      <td>6206</td>\n",
       "      <td>2011-09-19</td>\n",
       "      <td>Jeopardy!</td>\n",
       "      <td>WHO'S BIBLICALLY SPEAKING?</td>\n",
       "      <td>$1000</td>\n",
       "      <td>\"Hail, thou that art highly favoured, the Lord is with thee: blessed art thou among women\"</td>\n",
       "      <td>Gabriel</td>\n",
       "      <td>11000.0</td>\n",
       "    </tr>\n",
       "  </tbody>\n",
       "</table>\n",
       "</div>"
      ],
      "text/plain": [
       "        showNbr     airDate             round                    category  \\\n",
       "120871     4734  2005-03-17  Double Jeopardy!                   \"E\" GADS!   \n",
       "174810     2896  1997-03-17         Jeopardy!                   THE BIBLE   \n",
       "200868     6206  2011-09-19         Jeopardy!  WHO'S BIBLICALLY SPEAKING?   \n",
       "\n",
       "        value  \\\n",
       "120871  $1200   \n",
       "174810   $100   \n",
       "200868  $1000   \n",
       "\n",
       "                                                                                                   question  \\\n",
       "120871                Her words to Mary, \"Blessed art thou among women\", are part of the \"Hail Mary\" prayer   \n",
       "174810  Cousin to whom Elisabeth said, \"Blessed art thou among women, and blessed is the fruit of thy womb\"   \n",
       "200868           \"Hail, thou that art highly favoured, the Lord is with thee: blessed art thou among women\"   \n",
       "\n",
       "           answer  numValue  \n",
       "120871  Elizabeth   11200.0  \n",
       "174810       Mary    1100.0  \n",
       "200868    Gabriel   11000.0  "
      ]
     },
     "execution_count": 34,
     "metadata": {},
     "output_type": "execute_result"
    }
   ],
   "source": [
    "filteredDf"
   ]
  },
  {
   "cell_type": "code",
   "execution_count": 40,
   "metadata": {},
   "outputs": [],
   "source": [
    "## Now update the original full df\n",
    "\n",
    "#JeopardyDF['numValue'] =  JeopardyDF.value.str.replace('$', '').apply(float) # new error : could not convert string to float: '12,000'\n",
    "JeopardyDF['numValue'] =  JeopardyDF.value.str.replace('$', '').str.replace(',', '').apply(float)    ### WORKS - you can chain expressions till your hearts content"
   ]
  },
  {
   "cell_type": "code",
   "execution_count": 49,
   "metadata": {},
   "outputs": [
    {
     "data": {
      "text/html": [
       "<div>\n",
       "<style scoped>\n",
       "    .dataframe tbody tr th:only-of-type {\n",
       "        vertical-align: middle;\n",
       "    }\n",
       "\n",
       "    .dataframe tbody tr th {\n",
       "        vertical-align: top;\n",
       "    }\n",
       "\n",
       "    .dataframe thead th {\n",
       "        text-align: right;\n",
       "    }\n",
       "</style>\n",
       "<table border=\"1\" class=\"dataframe\">\n",
       "  <thead>\n",
       "    <tr style=\"text-align: right;\">\n",
       "      <th></th>\n",
       "      <th>showNbr</th>\n",
       "      <th>airDate</th>\n",
       "      <th>round</th>\n",
       "      <th>category</th>\n",
       "      <th>value</th>\n",
       "      <th>question</th>\n",
       "      <th>answer</th>\n",
       "      <th>numValue</th>\n",
       "    </tr>\n",
       "  </thead>\n",
       "  <tbody>\n",
       "    <tr>\n",
       "      <th>0</th>\n",
       "      <td>4680</td>\n",
       "      <td>2004-12-31</td>\n",
       "      <td>Jeopardy!</td>\n",
       "      <td>HISTORY</td>\n",
       "      <td>$200</td>\n",
       "      <td>For the last 8 years of his life, Galileo was under house arrest for espousing this man's theory</td>\n",
       "      <td>Copernicus</td>\n",
       "      <td>200.0</td>\n",
       "    </tr>\n",
       "    <tr>\n",
       "      <th>1</th>\n",
       "      <td>4680</td>\n",
       "      <td>2004-12-31</td>\n",
       "      <td>Jeopardy!</td>\n",
       "      <td>ESPN's TOP 10 ALL-TIME ATHLETES</td>\n",
       "      <td>$200</td>\n",
       "      <td>No. 2: 1912 Olympian; football star at Carlisle Indian School; 6 MLB seasons with the Reds, Giants &amp; Braves</td>\n",
       "      <td>Jim Thorpe</td>\n",
       "      <td>200.0</td>\n",
       "    </tr>\n",
       "    <tr>\n",
       "      <th>2</th>\n",
       "      <td>4680</td>\n",
       "      <td>2004-12-31</td>\n",
       "      <td>Jeopardy!</td>\n",
       "      <td>EVERYBODY TALKS ABOUT IT...</td>\n",
       "      <td>$200</td>\n",
       "      <td>The city of Yuma in this state has a record average of 4,055 hours of sunshine each year</td>\n",
       "      <td>Arizona</td>\n",
       "      <td>200.0</td>\n",
       "    </tr>\n",
       "    <tr>\n",
       "      <th>3</th>\n",
       "      <td>4680</td>\n",
       "      <td>2004-12-31</td>\n",
       "      <td>Jeopardy!</td>\n",
       "      <td>THE COMPANY LINE</td>\n",
       "      <td>$200</td>\n",
       "      <td>In 1963, live on \"The Art Linkletter Show\", this company served its billionth burger</td>\n",
       "      <td>McDonald's</td>\n",
       "      <td>200.0</td>\n",
       "    </tr>\n",
       "    <tr>\n",
       "      <th>4</th>\n",
       "      <td>4680</td>\n",
       "      <td>2004-12-31</td>\n",
       "      <td>Jeopardy!</td>\n",
       "      <td>EPITAPHS &amp; TRIBUTES</td>\n",
       "      <td>$200</td>\n",
       "      <td>Signer of the Dec. of Indep., framer of the Constitution of Mass., second President of the United States</td>\n",
       "      <td>John Adams</td>\n",
       "      <td>200.0</td>\n",
       "    </tr>\n",
       "  </tbody>\n",
       "</table>\n",
       "</div>"
      ],
      "text/plain": [
       "   showNbr     airDate      round                         category value  \\\n",
       "0     4680  2004-12-31  Jeopardy!                          HISTORY  $200   \n",
       "1     4680  2004-12-31  Jeopardy!  ESPN's TOP 10 ALL-TIME ATHLETES  $200   \n",
       "2     4680  2004-12-31  Jeopardy!      EVERYBODY TALKS ABOUT IT...  $200   \n",
       "3     4680  2004-12-31  Jeopardy!                 THE COMPANY LINE  $200   \n",
       "4     4680  2004-12-31  Jeopardy!              EPITAPHS & TRIBUTES  $200   \n",
       "\n",
       "                                                                                                      question  \\\n",
       "0             For the last 8 years of his life, Galileo was under house arrest for espousing this man's theory   \n",
       "1  No. 2: 1912 Olympian; football star at Carlisle Indian School; 6 MLB seasons with the Reds, Giants & Braves   \n",
       "2                     The city of Yuma in this state has a record average of 4,055 hours of sunshine each year   \n",
       "3                         In 1963, live on \"The Art Linkletter Show\", this company served its billionth burger   \n",
       "4     Signer of the Dec. of Indep., framer of the Constitution of Mass., second President of the United States   \n",
       "\n",
       "       answer  numValue  \n",
       "0  Copernicus     200.0  \n",
       "1  Jim Thorpe     200.0  \n",
       "2     Arizona     200.0  \n",
       "3  McDonald's     200.0  \n",
       "4  John Adams     200.0  "
      ]
     },
     "execution_count": 49,
     "metadata": {},
     "output_type": "execute_result"
    }
   ],
   "source": [
    "JeopardyDF.head()"
   ]
  },
  {
   "cell_type": "code",
   "execution_count": 46,
   "metadata": {},
   "outputs": [
    {
     "data": {
      "text/plain": [
       "752.6"
      ]
     },
     "execution_count": 46,
     "metadata": {},
     "output_type": "execute_result"
    }
   ],
   "source": [
    "JeopardyDF.numValue.mean().round(2)"
   ]
  },
  {
   "cell_type": "code",
   "execution_count": 33,
   "metadata": {},
   "outputs": [
    {
     "data": {
      "text/plain": [
       "'\\nNow that you can filter the dataset of question, use your new column that contains the float values of each question to find the \"difficulty\" of certain topics. For example, what is the average value of questions that contain the word \"King\"?\\n\\nMake sure to use the dataset that contains the float values as the dataset you use in your filtering function.\\n'"
      ]
     },
     "execution_count": 33,
     "metadata": {},
     "output_type": "execute_result"
    }
   ],
   "source": [
    "'''\n",
    "Now that you can filter the dataset of question, use your new column that contains the float values of each question to find the \"difficulty\" of certain topics. For example, what is the average value of questions that contain the word \"King\"?\n",
    "\n",
    "Make sure to use the dataset that contains the float values as the dataset you use in your filtering function.\n",
    "'''\n",
    "\n",
    "\n"
   ]
  },
  {
   "cell_type": "code",
   "execution_count": 63,
   "metadata": {},
   "outputs": [],
   "source": [
    " \n",
    "################## This works well :: filters whole words only, case insensitive ##################\n",
    "### NOW, add, the mean value \n",
    "\n",
    "def filter_data_improved(data, words):\n",
    "  # Lowercases all words in the list of words as well as the questions. Returns true if all of the words in the list appear in the question.\n",
    "  #filter = lambda x: all(word.lower() in x.lower() for word in words)\n",
    "  filter = lambda x: all(' '+word.lower()+' ' in x.lower() for word in words)\n",
    "  # Applies the lambda function to the Question column and returns the rows where the function returned True\n",
    "  #return data.loc[data[\"question\"].apply(filter)]\n",
    "  locDf =  data.loc[data[\"question\"].apply(filter)]\n",
    "  locDf['avgValue'] = locDf.numValue.mean().round(2)\n",
    "  return locDf"
   ]
  },
  {
   "cell_type": "code",
   "execution_count": 64,
   "metadata": {},
   "outputs": [
    {
     "name": "stderr",
     "output_type": "stream",
     "text": [
      "C:\\Users\\erics\\AppData\\Local\\Temp\\ipykernel_21548\\1929146894.py:11: SettingWithCopyWarning: \n",
      "A value is trying to be set on a copy of a slice from a DataFrame.\n",
      "Try using .loc[row_indexer,col_indexer] = value instead\n",
      "\n",
      "See the caveats in the documentation: https://pandas.pydata.org/pandas-docs/stable/user_guide/indexing.html#returning-a-view-versus-a-copy\n",
      "  locDf['avgValue'] = locDf.numValue.mean().round(2)\n"
     ]
    }
   ],
   "source": [
    "searchTerms = [ 'Art' , 'thou', 'among' ]\n",
    "#filteredDf = filter_data(JeopardyDF, searchTerms)\n",
    "#searchTerms = [ 'the' ]\n",
    "anotherNewDf = filter_data_improved(JeopardyDF, searchTerms)"
   ]
  },
  {
   "cell_type": "code",
   "execution_count": 65,
   "metadata": {},
   "outputs": [
    {
     "data": {
      "text/html": [
       "<div>\n",
       "<style scoped>\n",
       "    .dataframe tbody tr th:only-of-type {\n",
       "        vertical-align: middle;\n",
       "    }\n",
       "\n",
       "    .dataframe tbody tr th {\n",
       "        vertical-align: top;\n",
       "    }\n",
       "\n",
       "    .dataframe thead th {\n",
       "        text-align: right;\n",
       "    }\n",
       "</style>\n",
       "<table border=\"1\" class=\"dataframe\">\n",
       "  <thead>\n",
       "    <tr style=\"text-align: right;\">\n",
       "      <th></th>\n",
       "      <th>showNbr</th>\n",
       "      <th>airDate</th>\n",
       "      <th>round</th>\n",
       "      <th>category</th>\n",
       "      <th>value</th>\n",
       "      <th>question</th>\n",
       "      <th>answer</th>\n",
       "      <th>numValue</th>\n",
       "      <th>avgValue</th>\n",
       "    </tr>\n",
       "  </thead>\n",
       "  <tbody>\n",
       "    <tr>\n",
       "      <th>120871</th>\n",
       "      <td>4734</td>\n",
       "      <td>2005-03-17</td>\n",
       "      <td>Double Jeopardy!</td>\n",
       "      <td>\"E\" GADS!</td>\n",
       "      <td>$1200</td>\n",
       "      <td>Her words to Mary, \"Blessed art thou among women\", are part of the \"Hail Mary\" prayer</td>\n",
       "      <td>Elizabeth</td>\n",
       "      <td>1200.0</td>\n",
       "      <td>766.67</td>\n",
       "    </tr>\n",
       "    <tr>\n",
       "      <th>174810</th>\n",
       "      <td>2896</td>\n",
       "      <td>1997-03-17</td>\n",
       "      <td>Jeopardy!</td>\n",
       "      <td>THE BIBLE</td>\n",
       "      <td>$100</td>\n",
       "      <td>Cousin to whom Elisabeth said, \"Blessed art thou among women, and blessed is the fruit of thy womb\"</td>\n",
       "      <td>Mary</td>\n",
       "      <td>100.0</td>\n",
       "      <td>766.67</td>\n",
       "    </tr>\n",
       "    <tr>\n",
       "      <th>200868</th>\n",
       "      <td>6206</td>\n",
       "      <td>2011-09-19</td>\n",
       "      <td>Jeopardy!</td>\n",
       "      <td>WHO'S BIBLICALLY SPEAKING?</td>\n",
       "      <td>$1000</td>\n",
       "      <td>\"Hail, thou that art highly favoured, the Lord is with thee: blessed art thou among women\"</td>\n",
       "      <td>Gabriel</td>\n",
       "      <td>1000.0</td>\n",
       "      <td>766.67</td>\n",
       "    </tr>\n",
       "  </tbody>\n",
       "</table>\n",
       "</div>"
      ],
      "text/plain": [
       "        showNbr     airDate             round                    category  \\\n",
       "120871     4734  2005-03-17  Double Jeopardy!                   \"E\" GADS!   \n",
       "174810     2896  1997-03-17         Jeopardy!                   THE BIBLE   \n",
       "200868     6206  2011-09-19         Jeopardy!  WHO'S BIBLICALLY SPEAKING?   \n",
       "\n",
       "        value  \\\n",
       "120871  $1200   \n",
       "174810   $100   \n",
       "200868  $1000   \n",
       "\n",
       "                                                                                                   question  \\\n",
       "120871                Her words to Mary, \"Blessed art thou among women\", are part of the \"Hail Mary\" prayer   \n",
       "174810  Cousin to whom Elisabeth said, \"Blessed art thou among women, and blessed is the fruit of thy womb\"   \n",
       "200868           \"Hail, thou that art highly favoured, the Lord is with thee: blessed art thou among women\"   \n",
       "\n",
       "           answer  numValue  avgValue  \n",
       "120871  Elizabeth    1200.0    766.67  \n",
       "174810       Mary     100.0    766.67  \n",
       "200868    Gabriel    1000.0    766.67  "
      ]
     },
     "execution_count": 65,
     "metadata": {},
     "output_type": "execute_result"
    }
   ],
   "source": [
    "anotherNewDf.head()"
   ]
  },
  {
   "cell_type": "markdown",
   "metadata": {},
   "source": [
    "5. Write a function that returns the count of unique answers to all of the questions in a dataset. For example, after filtering the entire dataset to only questions containing the word `\"King\"`, we could then find all of the unique answers to those questions. The answer \"Henry VIII\" appeared 55 times and was the most common answer."
   ]
  },
  {
   "cell_type": "markdown",
   "metadata": {},
   "source": [
    "6. Explore from here! This is an incredibly rich dataset, and there are so many interesting things to discover. There are a few columns that we haven't even started looking at yet. Here are some ideas on ways to continue working with this data:\n",
    "\n",
    " * Investigate the ways in which questions change over time by filtering by the date. How many questions from the 90s use the word `\"Computer\"` compared to questions from the 2000s?\n",
    " * Is there a connection between the round and the category? Are you more likely to find certain categories, like `\"Literature\"` in Single Jeopardy or Double Jeopardy?\n",
    " * Build a system to quiz yourself. Grab random questions, and use the <a href=\"https://docs.python.org/3/library/functions.html#input\">input</a> function to get a response from the user. Check to see if that response was right or wrong."
   ]
  },
  {
   "cell_type": "code",
   "execution_count": null,
   "metadata": {},
   "outputs": [],
   "source": []
  },
  {
   "cell_type": "markdown",
   "metadata": {},
   "source": [
    "## Solution"
   ]
  },
  {
   "cell_type": "markdown",
   "metadata": {},
   "source": [
    "7. Compare your program to our <a href=\"https://content.codecademy.com/PRO/independent-practice-projects/jeopardy/jeopardy_solution.zip\">sample solution code</a> - remember, that your program might look different from ours (and probably will) and that's okay!"
   ]
  },
  {
   "cell_type": "markdown",
   "metadata": {},
   "source": [
    "8. Great work! Visit <a href=\"https://discuss.codecademy.com/t/this-is-jeopardy-challenge-project-python-pandas/462365\">our forums</a> to compare your project to our sample solution code. You can also learn how to host your own solution on GitHub so you can share it with other learners! Your solution might look different from ours, and that's okay! There are multiple ways to solve these projects, and you'll learn more by seeing others' code."
   ]
  },
  {
   "cell_type": "code",
   "execution_count": null,
   "metadata": {},
   "outputs": [],
   "source": []
  }
 ],
 "metadata": {
  "kernelspec": {
   "display_name": "Python 3 (ipykernel)",
   "language": "python",
   "name": "python3"
  },
  "language_info": {
   "codemirror_mode": {
    "name": "ipython",
    "version": 3
   },
   "file_extension": ".py",
   "mimetype": "text/x-python",
   "name": "python",
   "nbconvert_exporter": "python",
   "pygments_lexer": "ipython3",
   "version": "3.10.9"
  }
 },
 "nbformat": 4,
 "nbformat_minor": 4
}
