{
 "cells": [
  {
   "cell_type": "code",
   "execution_count": 1,
   "id": "93760a46-ea77-4f3a-8d69-bf49ee600e8d",
   "metadata": {},
   "outputs": [],
   "source": [
    "# DATA SCIENCE FOUNDATIONS II\n",
    "# Page Visits Funnel\n",
    "# Cool T-Shirts Inc. has asked you to analyze data on visits to their website. Your job is to build a funnel, which is a description of how many people continue to the next step of a multi-step process.\n",
    "\n",
    "# In this case, our funnel is going to describe the following process:\n",
    "\n",
    "# A user visits CoolTShirts.com\n",
    "# A user adds a t-shirt to their cart\n",
    "# A user clicks “checkout”\n",
    "# A user actually purchases a t-shirt\n",
    "# Setup Instructions\n",
    "# You have two options of completing this assignment. Either here, within Codecademy’s output terminal, or on your own, in case you’re more comfortable using a Jupyter notebook.If you choose to do this project on your computer instead of Codecademy, you can download what you’ll need by clicking the “Download” button below. If you need help setting up your computer, be sure to check out our setup guides:\n",
    "\n",
    "# Command Line Interface Setup\n",
    "# Introducing Jupyter Notebook\n",
    "# Setting up Jupyter Notebook\n",
    "# Getting Started with Jupyter\n",
    "# Getting More out of Jupyter Notebook\n",
    "# Open Page_Visits_Funnel.ipynb and follow the steps in the Jupyter Notebook. If you get stuck, you can look at Page_Visits_Funnel_Solution.ipynb for the answer."
   ]
  },
  {
   "cell_type": "code",
   "execution_count": 2,
   "id": "7927f771-1801-480a-aec2-98c8d7385545",
   "metadata": {},
   "outputs": [],
   "source": [
    "#import codecademylib3\n",
    "import pandas as pd\n",
    "\n",
    "visits = pd.read_csv('visits.csv.txt',\n",
    "                     parse_dates=[1])\n",
    "cart = pd.read_csv('cart.csv.txt',\n",
    "                   parse_dates=[1])\n",
    "checkout = pd.read_csv('checkout.csv.txt',\n",
    "                       parse_dates=[1])\n",
    "purchase = pd.read_csv('purchase.csv.txt',\n",
    "                       parse_dates=[1])"
   ]
  },
  {
   "cell_type": "code",
   "execution_count": 21,
   "id": "3b0193e2-5b3f-4322-b783-001de933db90",
   "metadata": {},
   "outputs": [
    {
     "data": {
      "text/plain": [
       "(                                user_id          visit_time\n",
       " 0  943647ef-3682-4750-a2e1-918ba6f16188 2017-04-07 15:14:00\n",
       " 1  0c3a3dd0-fb64-4eac-bf84-ba069ce409f2 2017-01-26 14:24:00\n",
       " 2  6e0b2d60-4027-4d9a-babd-0e7d40859fb1 2017-08-20 08:23:00\n",
       " 3  6879527e-c5a6-4d14-b2da-50b85212b0ab 2017-11-04 18:15:00\n",
       " 4  a84327ff-5daa-4ba1-b789-d5b4caf81e96 2017-02-27 11:25:00,\n",
       "                                 user_id           cart_time\n",
       " 0  2be90e7c-9cca-44e0-bcc5-124b945ff168 2017-11-07 20:45:00\n",
       " 1  4397f73f-1da3-4ab3-91af-762792e25973 2017-05-27 01:35:00\n",
       " 2  a9db3d4b-0a0a-4398-a55a-ebb2c7adf663 2017-03-04 10:38:00\n",
       " 3  b594862a-36c5-47d5-b818-6e9512b939b3 2017-09-27 08:22:00\n",
       " 4  a68a16e2-94f0-4ce8-8ce3-784af0bbb974 2017-07-26 15:48:00,\n",
       "                                 user_id       checkout_time\n",
       " 0  d33bdc47-4afa-45bc-b4e4-dbe948e34c0d 2017-06-25 09:29:00\n",
       " 1  4ac186f0-9954-4fea-8a27-c081e428e34e 2017-04-07 20:11:00\n",
       " 2  3c9c78a7-124a-4b77-8d2e-e1926e011e7d 2017-07-13 11:38:00\n",
       " 3  89fe330a-8966-4756-8f7c-3bdbcd47279a 2017-04-20 16:15:00\n",
       " 4  3ccdaf69-2d30-40de-b083-51372881aedd 2017-01-08 20:52:00,\n",
       "                                  ser_id       purchase_time\n",
       " 0  4b44ace4-2721-47a0-b24b-15fbfa2abf85 2017-05-11 04:25:00\n",
       " 1  02e684ae-a448-408f-a9ff-dcb4a5c99aac 2017-09-05 08:45:00\n",
       " 2  4b4bc391-749e-4b90-ab8f-4f6e3c84d6dc 2017-11-20 20:49:00\n",
       " 3  a5dbb25f-3c36-4103-9030-9f7c6241cd8d 2017-01-22 15:18:00\n",
       " 4  46a3186d-7f5a-4ab9-87af-84d05bfd4867 2017-06-11 11:32:00)"
      ]
     },
     "execution_count": 21,
     "metadata": {},
     "output_type": "execute_result"
    }
   ],
   "source": [
    "\n",
    "# Inspect the DataFrames using print and head:\n",
    "\n",
    "# visits lists all of the users who have visited the website\n",
    "# cart lists all of the users who have added a t-shirt to their cart\n",
    "# checkout lists all of the users who have started the checkout\n",
    "# purchase lists all of the users who have purchased a t-shirt\n",
    "\n",
    "#visits, cart, checkout, purchase\n",
    "visits.head(), cart.head(), checkout.head(), purchase.head()"
   ]
  },
  {
   "cell_type": "code",
   "execution_count": 4,
   "id": "8f293b04-15d4-4f3f-bfdc-ed245a451698",
   "metadata": {},
   "outputs": [],
   "source": [
    "\n",
    "#Combine visits and cart using a left merge."
   ]
  },
  {
   "cell_type": "code",
   "execution_count": 5,
   "id": "0f6dc4bc-2ac7-4ae7-ad70-1af9aaa9deb1",
   "metadata": {},
   "outputs": [],
   "source": [
    "#visits_cart =  pd.merge( visits, cart )\n",
    "visits_cart =  pd.merge( visits, cart, how='left' )"
   ]
  },
  {
   "cell_type": "code",
   "execution_count": 6,
   "id": "e7ab9dff-faff-44cc-b4c5-6ec79aaf7df1",
   "metadata": {},
   "outputs": [
    {
     "data": {
      "text/plain": [
       "user_id       2000\n",
       "visit_time    2000\n",
       "cart_time      348\n",
       "dtype: int64"
      ]
     },
     "execution_count": 6,
     "metadata": {},
     "output_type": "execute_result"
    }
   ],
   "source": [
    "#How long is your merged DataFrame?\n",
    "\n",
    "visits_cart.count()"
   ]
  },
  {
   "cell_type": "code",
   "execution_count": 7,
   "id": "943fe7b0-4a97-4799-be02-17f64a6c5417",
   "metadata": {
    "tags": []
   },
   "outputs": [
    {
     "data": {
      "text/html": [
       "<div>\n",
       "<style scoped>\n",
       "    .dataframe tbody tr th:only-of-type {\n",
       "        vertical-align: middle;\n",
       "    }\n",
       "\n",
       "    .dataframe tbody tr th {\n",
       "        vertical-align: top;\n",
       "    }\n",
       "\n",
       "    .dataframe thead th {\n",
       "        text-align: right;\n",
       "    }\n",
       "</style>\n",
       "<table border=\"1\" class=\"dataframe\">\n",
       "  <thead>\n",
       "    <tr style=\"text-align: right;\">\n",
       "      <th></th>\n",
       "      <th>user_id</th>\n",
       "      <th>visit_time</th>\n",
       "      <th>cart_time</th>\n",
       "    </tr>\n",
       "  </thead>\n",
       "  <tbody>\n",
       "    <tr>\n",
       "      <th>0</th>\n",
       "      <td>943647ef-3682-4750-a2e1-918ba6f16188</td>\n",
       "      <td>2017-04-07 15:14:00</td>\n",
       "      <td>NaT</td>\n",
       "    </tr>\n",
       "    <tr>\n",
       "      <th>1</th>\n",
       "      <td>0c3a3dd0-fb64-4eac-bf84-ba069ce409f2</td>\n",
       "      <td>2017-01-26 14:24:00</td>\n",
       "      <td>2017-01-26 14:44:00</td>\n",
       "    </tr>\n",
       "    <tr>\n",
       "      <th>2</th>\n",
       "      <td>6e0b2d60-4027-4d9a-babd-0e7d40859fb1</td>\n",
       "      <td>2017-08-20 08:23:00</td>\n",
       "      <td>2017-08-20 08:31:00</td>\n",
       "    </tr>\n",
       "    <tr>\n",
       "      <th>3</th>\n",
       "      <td>6879527e-c5a6-4d14-b2da-50b85212b0ab</td>\n",
       "      <td>2017-11-04 18:15:00</td>\n",
       "      <td>NaT</td>\n",
       "    </tr>\n",
       "    <tr>\n",
       "      <th>4</th>\n",
       "      <td>a84327ff-5daa-4ba1-b789-d5b4caf81e96</td>\n",
       "      <td>2017-02-27 11:25:00</td>\n",
       "      <td>NaT</td>\n",
       "    </tr>\n",
       "    <tr>\n",
       "      <th>...</th>\n",
       "      <td>...</td>\n",
       "      <td>...</td>\n",
       "      <td>...</td>\n",
       "    </tr>\n",
       "    <tr>\n",
       "      <th>1995</th>\n",
       "      <td>33913ac2-03da-45ae-8fc3-fea39df827c6</td>\n",
       "      <td>2017-03-25 03:29:00</td>\n",
       "      <td>NaT</td>\n",
       "    </tr>\n",
       "    <tr>\n",
       "      <th>1996</th>\n",
       "      <td>4f850132-b99d-4623-80e6-6e61d003577e</td>\n",
       "      <td>2017-01-08 09:57:00</td>\n",
       "      <td>NaT</td>\n",
       "    </tr>\n",
       "    <tr>\n",
       "      <th>1997</th>\n",
       "      <td>f0830b9b-1f5c-4e74-b63d-3f847cc6ce70</td>\n",
       "      <td>2017-09-07 12:56:00</td>\n",
       "      <td>NaT</td>\n",
       "    </tr>\n",
       "    <tr>\n",
       "      <th>1998</th>\n",
       "      <td>b01bffa7-63ba-4cd3-9d93-eb1477c23831</td>\n",
       "      <td>2017-07-20 04:37:00</td>\n",
       "      <td>NaT</td>\n",
       "    </tr>\n",
       "    <tr>\n",
       "      <th>1999</th>\n",
       "      <td>0336ca81-8d68-443f-9248-ac0b8ad147d5</td>\n",
       "      <td>2017-11-15 10:11:00</td>\n",
       "      <td>NaT</td>\n",
       "    </tr>\n",
       "  </tbody>\n",
       "</table>\n",
       "<p>2000 rows × 3 columns</p>\n",
       "</div>"
      ],
      "text/plain": [
       "                                   user_id          visit_time  \\\n",
       "0     943647ef-3682-4750-a2e1-918ba6f16188 2017-04-07 15:14:00   \n",
       "1     0c3a3dd0-fb64-4eac-bf84-ba069ce409f2 2017-01-26 14:24:00   \n",
       "2     6e0b2d60-4027-4d9a-babd-0e7d40859fb1 2017-08-20 08:23:00   \n",
       "3     6879527e-c5a6-4d14-b2da-50b85212b0ab 2017-11-04 18:15:00   \n",
       "4     a84327ff-5daa-4ba1-b789-d5b4caf81e96 2017-02-27 11:25:00   \n",
       "...                                    ...                 ...   \n",
       "1995  33913ac2-03da-45ae-8fc3-fea39df827c6 2017-03-25 03:29:00   \n",
       "1996  4f850132-b99d-4623-80e6-6e61d003577e 2017-01-08 09:57:00   \n",
       "1997  f0830b9b-1f5c-4e74-b63d-3f847cc6ce70 2017-09-07 12:56:00   \n",
       "1998  b01bffa7-63ba-4cd3-9d93-eb1477c23831 2017-07-20 04:37:00   \n",
       "1999  0336ca81-8d68-443f-9248-ac0b8ad147d5 2017-11-15 10:11:00   \n",
       "\n",
       "               cart_time  \n",
       "0                    NaT  \n",
       "1    2017-01-26 14:44:00  \n",
       "2    2017-08-20 08:31:00  \n",
       "3                    NaT  \n",
       "4                    NaT  \n",
       "...                  ...  \n",
       "1995                 NaT  \n",
       "1996                 NaT  \n",
       "1997                 NaT  \n",
       "1998                 NaT  \n",
       "1999                 NaT  \n",
       "\n",
       "[2000 rows x 3 columns]"
      ]
     },
     "execution_count": 7,
     "metadata": {},
     "output_type": "execute_result"
    }
   ],
   "source": [
    "visits_cart"
   ]
  },
  {
   "cell_type": "code",
   "execution_count": 8,
   "id": "dc4dfe9c-aac1-4a7c-bc35-3e33f178bf49",
   "metadata": {},
   "outputs": [],
   "source": [
    "\n",
    "# How many of the timestamps are null for the column cart_time?\n",
    "\n",
    "# What do these null rows mean?"
   ]
  },
  {
   "cell_type": "code",
   "execution_count": 9,
   "id": "5acf3b2f-c27f-4460-90f0-adf13f073306",
   "metadata": {},
   "outputs": [
    {
     "data": {
      "text/plain": [
       "user_id       2000\n",
       "visit_time    2000\n",
       "cart_time      348\n",
       "dtype: int64"
      ]
     },
     "execution_count": 9,
     "metadata": {},
     "output_type": "execute_result"
    }
   ],
   "source": [
    "visits_cart.count()"
   ]
  },
  {
   "cell_type": "code",
   "execution_count": 34,
   "id": "128e1786-c8e5-44b3-960f-431cd6a265b3",
   "metadata": {},
   "outputs": [
    {
     "data": {
      "text/plain": [
       "0        True\n",
       "1       False\n",
       "2       False\n",
       "3        True\n",
       "4        True\n",
       "        ...  \n",
       "1995     True\n",
       "1996     True\n",
       "1997     True\n",
       "1998     True\n",
       "1999     True\n",
       "Name: cart_time, Length: 2000, dtype: bool"
      ]
     },
     "execution_count": 34,
     "metadata": {},
     "output_type": "execute_result"
    }
   ],
   "source": [
    "visits_cart.cart_time.isnull()"
   ]
  },
  {
   "cell_type": "code",
   "execution_count": 22,
   "id": "996b0708-1720-44fa-a961-4b4b252192ae",
   "metadata": {},
   "outputs": [],
   "source": [
    "cart_time_isnull = visits_cart [visits_cart.cart_time.isnull() ].count()"
   ]
  },
  {
   "cell_type": "code",
   "execution_count": 24,
   "id": "c9ba3b94-0ce2-4dad-88b9-d75f32ba01a1",
   "metadata": {},
   "outputs": [
    {
     "data": {
      "text/plain": [
       "user_id       1652\n",
       "visit_time    1652\n",
       "cart_time        0\n",
       "dtype: int64"
      ]
     },
     "execution_count": 24,
     "metadata": {},
     "output_type": "execute_result"
    }
   ],
   "source": [
    "cart_time_isnull"
   ]
  },
  {
   "cell_type": "code",
   "execution_count": 23,
   "id": "eb8b0da6-db27-467b-88b0-69b348608afb",
   "metadata": {},
   "outputs": [
    {
     "data": {
      "text/plain": [
       "pandas.core.series.Series"
      ]
     },
     "execution_count": 23,
     "metadata": {},
     "output_type": "execute_result"
    }
   ],
   "source": [
    "type(cart_time_isnull) #series"
   ]
  },
  {
   "cell_type": "code",
   "execution_count": 13,
   "id": "35eb381d-2636-43a7-a841-71a917103d13",
   "metadata": {},
   "outputs": [
    {
     "data": {
      "text/plain": [
       "1652"
      ]
     },
     "execution_count": 13,
     "metadata": {},
     "output_type": "execute_result"
    }
   ],
   "source": [
    "cart_time_isnull[0]"
   ]
  },
  {
   "cell_type": "code",
   "execution_count": 14,
   "id": "da6985d7-a6dd-48eb-925e-5a8e1a1d70cf",
   "metadata": {},
   "outputs": [
    {
     "data": {
      "text/plain": [
       "348"
      ]
     },
     "execution_count": 14,
     "metadata": {},
     "output_type": "execute_result"
    }
   ],
   "source": [
    "visits_cart.cart_time.count() #count() will automatically ignore NULLs in the select set"
   ]
  },
  {
   "cell_type": "code",
   "execution_count": 25,
   "id": "9abfe7d1-5576-4d1b-a910-77a372409eb6",
   "metadata": {},
   "outputs": [],
   "source": []
  },
  {
   "cell_type": "code",
   "execution_count": 15,
   "id": "17600bf8-7152-49fd-9eb2-c56734daa28b",
   "metadata": {},
   "outputs": [
    {
     "data": {
      "text/plain": [
       "2000"
      ]
     },
     "execution_count": 15,
     "metadata": {},
     "output_type": "execute_result"
    }
   ],
   "source": [
    "348 + 1652"
   ]
  },
  {
   "cell_type": "code",
   "execution_count": 40,
   "id": "c3da907d-a893-474e-8c34-a23da6594be6",
   "metadata": {},
   "outputs": [
    {
     "data": {
      "text/plain": [
       "user_id       1652\n",
       "visit_time    1652\n",
       "cart_time        0\n",
       "dtype: int64"
      ]
     },
     "execution_count": 40,
     "metadata": {},
     "output_type": "execute_result"
    }
   ],
   "source": [
    "visits_cart [visits_cart.cart_time.isnull() ].count()"
   ]
  },
  {
   "cell_type": "code",
   "execution_count": 17,
   "id": "8b138632-22f7-40a2-933d-dc4c817fbbe2",
   "metadata": {},
   "outputs": [],
   "source": [
    "\n",
    "# What percent of users who visited Cool T-Shirts Inc. ended up not placing a t-shirt in their cart?\n",
    "\n",
    "# Note: To calculate percentages, it will be helpful to turn either the numerator or the denominator into a float, by using float(), with the number to convert passed in as input. Otherwise, Python will use integer division, which truncates decimal points."
   ]
  },
  {
   "cell_type": "code",
   "execution_count": 27,
   "id": "cb3f6a91-614a-44db-a595-63b219561f48",
   "metadata": {},
   "outputs": [],
   "source": [
    "vistWithItemInCart =  float(visits_cart.cart_time.count()) #numerator"
   ]
  },
  {
   "cell_type": "code",
   "execution_count": 41,
   "id": "da25ff2e-7c12-4084-8a77-b24b05bcc048",
   "metadata": {},
   "outputs": [],
   "source": [
    "vistWithOutItemInCart = cart_time_isnull[0] #denominator"
   ]
  },
  {
   "cell_type": "code",
   "execution_count": 42,
   "id": "4e11bd33-ddfe-410a-9b63-e18144774402",
   "metadata": {},
   "outputs": [
    {
     "data": {
      "text/plain": [
       "(348.0, 1652)"
      ]
     },
     "execution_count": 42,
     "metadata": {},
     "output_type": "execute_result"
    }
   ],
   "source": [
    "vistWithItemInCart, vistWithOutItemInCart"
   ]
  },
  {
   "cell_type": "code",
   "execution_count": 53,
   "id": "100fdbe2-f693-44d6-a182-443ae418d648",
   "metadata": {},
   "outputs": [
    {
     "data": {
      "text/plain": [
       "78.93"
      ]
     },
     "execution_count": 53,
     "metadata": {},
     "output_type": "execute_result"
    }
   ],
   "source": [
    "#########\n",
    "##answer :: What percent of users who visited Cool T-Shirts Inc. ended up not placing a t-shirt in their cart?\n",
    "########\n",
    "\n",
    "round(100 - ((  vistWithItemInCart / vistWithOutItemInCart ) * 100 ), 2) "
   ]
  },
  {
   "cell_type": "code",
   "execution_count": null,
   "id": "28c10305-816b-4dc1-97ae-3a4c9d6c0ca3",
   "metadata": {},
   "outputs": [],
   "source": [
    "###############\n",
    "# Repeat the left merge for cart and checkout and count null values. What percentage of users put items in their cart, but did not proceed to checkout?\n",
    "##############"
   ]
  },
  {
   "cell_type": "code",
   "execution_count": 54,
   "id": "d0dad7d2-104f-4102-99db-9f5b1f0126bc",
   "metadata": {},
   "outputs": [
    {
     "data": {
      "text/plain": [
       "(                                user_id           cart_time\n",
       " 0  2be90e7c-9cca-44e0-bcc5-124b945ff168 2017-11-07 20:45:00\n",
       " 1  4397f73f-1da3-4ab3-91af-762792e25973 2017-05-27 01:35:00\n",
       " 2  a9db3d4b-0a0a-4398-a55a-ebb2c7adf663 2017-03-04 10:38:00\n",
       " 3  b594862a-36c5-47d5-b818-6e9512b939b3 2017-09-27 08:22:00\n",
       " 4  a68a16e2-94f0-4ce8-8ce3-784af0bbb974 2017-07-26 15:48:00,\n",
       "                                 user_id       checkout_time\n",
       " 0  d33bdc47-4afa-45bc-b4e4-dbe948e34c0d 2017-06-25 09:29:00\n",
       " 1  4ac186f0-9954-4fea-8a27-c081e428e34e 2017-04-07 20:11:00\n",
       " 2  3c9c78a7-124a-4b77-8d2e-e1926e011e7d 2017-07-13 11:38:00\n",
       " 3  89fe330a-8966-4756-8f7c-3bdbcd47279a 2017-04-20 16:15:00\n",
       " 4  3ccdaf69-2d30-40de-b083-51372881aedd 2017-01-08 20:52:00)"
      ]
     },
     "execution_count": 54,
     "metadata": {},
     "output_type": "execute_result"
    }
   ],
   "source": [
    "cart.head(), checkout.head()"
   ]
  },
  {
   "cell_type": "code",
   "execution_count": 61,
   "id": "66e2d124-ec89-4271-a22b-755e1d1337ec",
   "metadata": {},
   "outputs": [],
   "source": [
    "###############\n",
    "# Q: Does it make a difference whether I form the merged df as a method or function?\n",
    "\n",
    "CartCheckoutMergeAsMethod =  cart.merge( checkout, how='left' )\n",
    "CartCheckoutMergeAsFunction = pd.merge( cart, checkout,  how='left' )"
   ]
  },
  {
   "cell_type": "code",
   "execution_count": 67,
   "id": "edf2442e-9e3a-4328-86f4-f51e49854264",
   "metadata": {},
   "outputs": [
    {
     "name": "stdout",
     "output_type": "stream",
     "text": [
      "<class 'pandas.core.frame.DataFrame'>\n",
      "                                user_id           cart_time  \\\n",
      "0  2be90e7c-9cca-44e0-bcc5-124b945ff168 2017-11-07 20:45:00   \n",
      "1  2be90e7c-9cca-44e0-bcc5-124b945ff168 2017-11-07 20:45:00   \n",
      "2  2be90e7c-9cca-44e0-bcc5-124b945ff168 2017-11-07 20:45:00   \n",
      "3  4397f73f-1da3-4ab3-91af-762792e25973 2017-05-27 01:35:00   \n",
      "4  a9db3d4b-0a0a-4398-a55a-ebb2c7adf663 2017-03-04 10:38:00   \n",
      "\n",
      "        checkout_time  \n",
      "0 2017-11-07 21:14:00  \n",
      "1 2017-11-07 20:50:00  \n",
      "2 2017-11-07 21:11:00  \n",
      "3                 NaT  \n",
      "4 2017-03-04 11:04:00  \n",
      "user_id          5\n",
      "cart_time        5\n",
      "checkout_time    4\n",
      "dtype: int64\n",
      "<class 'pandas.core.frame.DataFrame'>\n",
      "                                user_id           cart_time  \\\n",
      "0  2be90e7c-9cca-44e0-bcc5-124b945ff168 2017-11-07 20:45:00   \n",
      "1  2be90e7c-9cca-44e0-bcc5-124b945ff168 2017-11-07 20:45:00   \n",
      "2  2be90e7c-9cca-44e0-bcc5-124b945ff168 2017-11-07 20:45:00   \n",
      "3  4397f73f-1da3-4ab3-91af-762792e25973 2017-05-27 01:35:00   \n",
      "4  a9db3d4b-0a0a-4398-a55a-ebb2c7adf663 2017-03-04 10:38:00   \n",
      "\n",
      "        checkout_time  \n",
      "0 2017-11-07 21:14:00  \n",
      "1 2017-11-07 20:50:00  \n",
      "2 2017-11-07 21:11:00  \n",
      "3                 NaT  \n",
      "4 2017-03-04 11:04:00  \n",
      "user_id          5\n",
      "cart_time        5\n",
      "checkout_time    4\n",
      "dtype: int64\n"
     ]
    }
   ],
   "source": [
    "print(type(CartCheckoutMergeAsMethod))\n",
    "print(CartCheckoutMergeAsMethod.head())\n",
    "print(CartCheckoutMergeAsMethod.head().count())\n",
    "print(type(CartCheckoutMergeAsFunction))\n",
    "print(CartCheckoutMergeAsFunction.head())\n",
    "print(CartCheckoutMergeAsFunction.head().count())\n",
    "\n",
    "############\n",
    "# A: No, they appear the same! "
   ]
  },
  {
   "cell_type": "code",
   "execution_count": 71,
   "id": "d1fadbbf-a597-4961-8f74-4a270c321792",
   "metadata": {},
   "outputs": [],
   "source": [
    "#CartCheckoutMergeAsMethod.cart_time.isnull().count()\n",
    "checkout_time_isnull = CartCheckoutMergeAsMethod [CartCheckoutMergeAsMethod.checkout_time.isnull() ].count()"
   ]
  },
  {
   "cell_type": "code",
   "execution_count": 74,
   "id": "f6d4edf2-a96d-4121-9270-30039c489ed4",
   "metadata": {},
   "outputs": [],
   "source": [
    "checkout_time_count = CartCheckoutMergeAsMethod.count()"
   ]
  },
  {
   "cell_type": "code",
   "execution_count": 75,
   "id": "d6c1f057-16dc-44d2-aaf3-37f4a5843b0c",
   "metadata": {},
   "outputs": [
    {
     "data": {
      "text/plain": [
       "(user_id          122\n",
       " cart_time        122\n",
       " checkout_time      0\n",
       " dtype: int64,\n",
       " user_id          482\n",
       " cart_time        482\n",
       " checkout_time    360\n",
       " dtype: int64)"
      ]
     },
     "execution_count": 75,
     "metadata": {},
     "output_type": "execute_result"
    }
   ],
   "source": [
    "checkout_time_isnull, checkout_time_count"
   ]
  },
  {
   "cell_type": "code",
   "execution_count": 76,
   "id": "2db8c6e2-fe8a-462f-b7fe-1c31f3120fa0",
   "metadata": {},
   "outputs": [
    {
     "data": {
      "text/plain": [
       "482"
      ]
     },
     "execution_count": 76,
     "metadata": {},
     "output_type": "execute_result"
    }
   ],
   "source": [
    "360 + 122"
   ]
  },
  {
   "cell_type": "code",
   "execution_count": 119,
   "id": "ea9ece6e-64e4-448c-8217-6393ec614db5",
   "metadata": {},
   "outputs": [
    {
     "data": {
      "text/plain": [
       "74.69"
      ]
     },
     "execution_count": 119,
     "metadata": {},
     "output_type": "execute_result"
    }
   ],
   "source": [
    "#########\n",
    "##answer:: What percentage of users put items in their cart, but did not proceed to checkout?\n",
    "########\n",
    "\n",
    "round((100 - (checkout_time_isnull[0] / checkout_time_count[0] ) * 100), 2)"
   ]
  },
  {
   "cell_type": "code",
   "execution_count": null,
   "id": "f78e48bd-3849-495d-959a-0de188e40a18",
   "metadata": {},
   "outputs": [],
   "source": [
    "##############\n",
    "# Merge all four steps of the funnel, in order, using a series of left merges. Save the results to the variable all_data.\n",
    "\n",
    "# Examine the result using print and head.\n",
    "##################"
   ]
  },
  {
   "cell_type": "code",
   "execution_count": 100,
   "id": "7734046d-17e4-4a38-9781-54b819892ddb",
   "metadata": {},
   "outputs": [
    {
     "data": {
      "text/plain": [
       "(                                user_id          visit_time\n",
       " 0  943647ef-3682-4750-a2e1-918ba6f16188 2017-04-07 15:14:00\n",
       " 1  0c3a3dd0-fb64-4eac-bf84-ba069ce409f2 2017-01-26 14:24:00\n",
       " 2  6e0b2d60-4027-4d9a-babd-0e7d40859fb1 2017-08-20 08:23:00\n",
       " 3  6879527e-c5a6-4d14-b2da-50b85212b0ab 2017-11-04 18:15:00\n",
       " 4  a84327ff-5daa-4ba1-b789-d5b4caf81e96 2017-02-27 11:25:00,\n",
       "                                 user_id           cart_time\n",
       " 0  2be90e7c-9cca-44e0-bcc5-124b945ff168 2017-11-07 20:45:00\n",
       " 1  4397f73f-1da3-4ab3-91af-762792e25973 2017-05-27 01:35:00\n",
       " 2  a9db3d4b-0a0a-4398-a55a-ebb2c7adf663 2017-03-04 10:38:00\n",
       " 3  b594862a-36c5-47d5-b818-6e9512b939b3 2017-09-27 08:22:00\n",
       " 4  a68a16e2-94f0-4ce8-8ce3-784af0bbb974 2017-07-26 15:48:00,\n",
       "                                 user_id       checkout_time\n",
       " 0  d33bdc47-4afa-45bc-b4e4-dbe948e34c0d 2017-06-25 09:29:00\n",
       " 1  4ac186f0-9954-4fea-8a27-c081e428e34e 2017-04-07 20:11:00\n",
       " 2  3c9c78a7-124a-4b77-8d2e-e1926e011e7d 2017-07-13 11:38:00\n",
       " 3  89fe330a-8966-4756-8f7c-3bdbcd47279a 2017-04-20 16:15:00\n",
       " 4  3ccdaf69-2d30-40de-b083-51372881aedd 2017-01-08 20:52:00,\n",
       "                                 user_id       purchase_time\n",
       " 0  4b44ace4-2721-47a0-b24b-15fbfa2abf85 2017-05-11 04:25:00\n",
       " 1  02e684ae-a448-408f-a9ff-dcb4a5c99aac 2017-09-05 08:45:00\n",
       " 2  4b4bc391-749e-4b90-ab8f-4f6e3c84d6dc 2017-11-20 20:49:00\n",
       " 3  a5dbb25f-3c36-4103-9030-9f7c6241cd8d 2017-01-22 15:18:00\n",
       " 4  46a3186d-7f5a-4ab9-87af-84d05bfd4867 2017-06-11 11:32:00)"
      ]
     },
     "execution_count": 100,
     "metadata": {},
     "output_type": "execute_result"
    }
   ],
   "source": [
    "visits.head(), cart.head(), checkout.head(), purchase.head() #PURCHASE has a bugged column name"
   ]
  },
  {
   "cell_type": "code",
   "execution_count": 101,
   "id": "3078cfde-7171-4529-a605-d34d168accf9",
   "metadata": {},
   "outputs": [],
   "source": [
    "purchase.rename(columns={'ser_id' : 'user_id'}, inplace=True) # fix the column name"
   ]
  },
  {
   "cell_type": "code",
   "execution_count": 103,
   "id": "b6c8a48b-bbbc-45a4-859e-ac729c845272",
   "metadata": {},
   "outputs": [],
   "source": [
    "# Must use merge as a method here, chained:\n",
    "\n",
    "all_data = visits.merge( cart, how = 'left' ).merge( checkout, how = 'left' ).merge( purchase, how = 'left' ) # ERROR: No common column ( Fixed, see above )\n",
    "\n"
   ]
  },
  {
   "cell_type": "code",
   "execution_count": 104,
   "id": "c4bc6da2-e23f-41ea-9787-d9176c0b12e7",
   "metadata": {},
   "outputs": [
    {
     "data": {
      "text/html": [
       "<div>\n",
       "<style scoped>\n",
       "    .dataframe tbody tr th:only-of-type {\n",
       "        vertical-align: middle;\n",
       "    }\n",
       "\n",
       "    .dataframe tbody tr th {\n",
       "        vertical-align: top;\n",
       "    }\n",
       "\n",
       "    .dataframe thead th {\n",
       "        text-align: right;\n",
       "    }\n",
       "</style>\n",
       "<table border=\"1\" class=\"dataframe\">\n",
       "  <thead>\n",
       "    <tr style=\"text-align: right;\">\n",
       "      <th></th>\n",
       "      <th>user_id</th>\n",
       "      <th>visit_time</th>\n",
       "      <th>cart_time</th>\n",
       "      <th>checkout_time</th>\n",
       "      <th>purchase_time</th>\n",
       "    </tr>\n",
       "  </thead>\n",
       "  <tbody>\n",
       "    <tr>\n",
       "      <th>0</th>\n",
       "      <td>943647ef-3682-4750-a2e1-918ba6f16188</td>\n",
       "      <td>2017-04-07 15:14:00</td>\n",
       "      <td>NaT</td>\n",
       "      <td>NaT</td>\n",
       "      <td>NaT</td>\n",
       "    </tr>\n",
       "    <tr>\n",
       "      <th>1</th>\n",
       "      <td>0c3a3dd0-fb64-4eac-bf84-ba069ce409f2</td>\n",
       "      <td>2017-01-26 14:24:00</td>\n",
       "      <td>2017-01-26 14:44:00</td>\n",
       "      <td>2017-01-26 14:54:00</td>\n",
       "      <td>2017-01-26 15:08:00</td>\n",
       "    </tr>\n",
       "    <tr>\n",
       "      <th>2</th>\n",
       "      <td>6e0b2d60-4027-4d9a-babd-0e7d40859fb1</td>\n",
       "      <td>2017-08-20 08:23:00</td>\n",
       "      <td>2017-08-20 08:31:00</td>\n",
       "      <td>NaT</td>\n",
       "      <td>NaT</td>\n",
       "    </tr>\n",
       "    <tr>\n",
       "      <th>3</th>\n",
       "      <td>6879527e-c5a6-4d14-b2da-50b85212b0ab</td>\n",
       "      <td>2017-11-04 18:15:00</td>\n",
       "      <td>NaT</td>\n",
       "      <td>NaT</td>\n",
       "      <td>NaT</td>\n",
       "    </tr>\n",
       "    <tr>\n",
       "      <th>4</th>\n",
       "      <td>a84327ff-5daa-4ba1-b789-d5b4caf81e96</td>\n",
       "      <td>2017-02-27 11:25:00</td>\n",
       "      <td>NaT</td>\n",
       "      <td>NaT</td>\n",
       "      <td>NaT</td>\n",
       "    </tr>\n",
       "  </tbody>\n",
       "</table>\n",
       "</div>"
      ],
      "text/plain": [
       "                                user_id          visit_time  \\\n",
       "0  943647ef-3682-4750-a2e1-918ba6f16188 2017-04-07 15:14:00   \n",
       "1  0c3a3dd0-fb64-4eac-bf84-ba069ce409f2 2017-01-26 14:24:00   \n",
       "2  6e0b2d60-4027-4d9a-babd-0e7d40859fb1 2017-08-20 08:23:00   \n",
       "3  6879527e-c5a6-4d14-b2da-50b85212b0ab 2017-11-04 18:15:00   \n",
       "4  a84327ff-5daa-4ba1-b789-d5b4caf81e96 2017-02-27 11:25:00   \n",
       "\n",
       "            cart_time       checkout_time       purchase_time  \n",
       "0                 NaT                 NaT                 NaT  \n",
       "1 2017-01-26 14:44:00 2017-01-26 14:54:00 2017-01-26 15:08:00  \n",
       "2 2017-08-20 08:31:00                 NaT                 NaT  \n",
       "3                 NaT                 NaT                 NaT  \n",
       "4                 NaT                 NaT                 NaT  "
      ]
     },
     "execution_count": 104,
     "metadata": {},
     "output_type": "execute_result"
    }
   ],
   "source": [
    "all_data.head()"
   ]
  },
  {
   "cell_type": "code",
   "execution_count": null,
   "id": "3a5651e3-cff9-48be-a7ef-d5fa712f3e28",
   "metadata": {},
   "outputs": [],
   "source": [
    "# What percentage of users proceeded to checkout, but did not purchase a t-shirt?"
   ]
  },
  {
   "cell_type": "code",
   "execution_count": 111,
   "id": "d5402bea-2692-4bbe-94d8-9fdf2752ea9b",
   "metadata": {},
   "outputs": [],
   "source": [
    "checkedOut = float(all_data.checkout_time.count())\n",
    "purchased = float(all_data.purchase_time.count())"
   ]
  },
  {
   "cell_type": "code",
   "execution_count": 112,
   "id": "54257e63-e4f9-4185-83ab-5a6ef31ddc55",
   "metadata": {},
   "outputs": [
    {
     "data": {
      "text/plain": [
       "(598.0, 497.0)"
      ]
     },
     "execution_count": 112,
     "metadata": {},
     "output_type": "execute_result"
    }
   ],
   "source": [
    "checkedOut, purchased"
   ]
  },
  {
   "cell_type": "code",
   "execution_count": 117,
   "id": "594b2868-441b-492d-9d77-17a931996e9e",
   "metadata": {},
   "outputs": [
    {
     "data": {
      "text/plain": [
       "16.89"
      ]
     },
     "execution_count": 117,
     "metadata": {},
     "output_type": "execute_result"
    }
   ],
   "source": [
    "## answer\n",
    "    \n",
    "round(( 100 - ( purchased / checkedOut ) * 100), 2)"
   ]
  },
  {
   "cell_type": "code",
   "execution_count": 118,
   "id": "23f383b6-733c-44a0-9082-3ee86aac6fa9",
   "metadata": {},
   "outputs": [],
   "source": [
    "\n",
    "# Which step of the funnel is weakest (i.e., has the highest percentage of users not completing it)?\n",
    "\n",
    "# How might Cool T-Shirts Inc. change their website to fix this problem?\n",
    "\n",
    "### Answer: cart to checkout ; 74 % do not continue ( not counting visits to cart, which will always be hightest )"
   ]
  },
  {
   "cell_type": "code",
   "execution_count": null,
   "id": "16ec00fe-69e3-4000-aa9b-c0ccdfb8bc25",
   "metadata": {},
   "outputs": [],
   "source": [
    "######\n",
    "# Using the giant merged DataFrame all_data that you created, let’s calculate the average time from initial visit to final purchase. Add a column that is the difference between purchase_time and visit_time.\n",
    "##############"
   ]
  },
  {
   "cell_type": "code",
   "execution_count": 121,
   "id": "34efe0ac-22d7-4f4f-8410-e21cdfbfec63",
   "metadata": {},
   "outputs": [],
   "source": [
    "all_data['duration_to_purchase'] = all_data.purchase_time - all_data.visit_time\n"
   ]
  },
  {
   "cell_type": "code",
   "execution_count": 122,
   "id": "2cc95445-a961-499e-9f79-ac3fbbd4c763",
   "metadata": {},
   "outputs": [
    {
     "data": {
      "text/html": [
       "<div>\n",
       "<style scoped>\n",
       "    .dataframe tbody tr th:only-of-type {\n",
       "        vertical-align: middle;\n",
       "    }\n",
       "\n",
       "    .dataframe tbody tr th {\n",
       "        vertical-align: top;\n",
       "    }\n",
       "\n",
       "    .dataframe thead th {\n",
       "        text-align: right;\n",
       "    }\n",
       "</style>\n",
       "<table border=\"1\" class=\"dataframe\">\n",
       "  <thead>\n",
       "    <tr style=\"text-align: right;\">\n",
       "      <th></th>\n",
       "      <th>user_id</th>\n",
       "      <th>visit_time</th>\n",
       "      <th>cart_time</th>\n",
       "      <th>checkout_time</th>\n",
       "      <th>purchase_time</th>\n",
       "      <th>duration_to_purchase</th>\n",
       "    </tr>\n",
       "  </thead>\n",
       "  <tbody>\n",
       "    <tr>\n",
       "      <th>0</th>\n",
       "      <td>943647ef-3682-4750-a2e1-918ba6f16188</td>\n",
       "      <td>2017-04-07 15:14:00</td>\n",
       "      <td>NaT</td>\n",
       "      <td>NaT</td>\n",
       "      <td>NaT</td>\n",
       "      <td>NaT</td>\n",
       "    </tr>\n",
       "    <tr>\n",
       "      <th>1</th>\n",
       "      <td>0c3a3dd0-fb64-4eac-bf84-ba069ce409f2</td>\n",
       "      <td>2017-01-26 14:24:00</td>\n",
       "      <td>2017-01-26 14:44:00</td>\n",
       "      <td>2017-01-26 14:54:00</td>\n",
       "      <td>2017-01-26 15:08:00</td>\n",
       "      <td>0 days 00:44:00</td>\n",
       "    </tr>\n",
       "    <tr>\n",
       "      <th>2</th>\n",
       "      <td>6e0b2d60-4027-4d9a-babd-0e7d40859fb1</td>\n",
       "      <td>2017-08-20 08:23:00</td>\n",
       "      <td>2017-08-20 08:31:00</td>\n",
       "      <td>NaT</td>\n",
       "      <td>NaT</td>\n",
       "      <td>NaT</td>\n",
       "    </tr>\n",
       "    <tr>\n",
       "      <th>3</th>\n",
       "      <td>6879527e-c5a6-4d14-b2da-50b85212b0ab</td>\n",
       "      <td>2017-11-04 18:15:00</td>\n",
       "      <td>NaT</td>\n",
       "      <td>NaT</td>\n",
       "      <td>NaT</td>\n",
       "      <td>NaT</td>\n",
       "    </tr>\n",
       "    <tr>\n",
       "      <th>4</th>\n",
       "      <td>a84327ff-5daa-4ba1-b789-d5b4caf81e96</td>\n",
       "      <td>2017-02-27 11:25:00</td>\n",
       "      <td>NaT</td>\n",
       "      <td>NaT</td>\n",
       "      <td>NaT</td>\n",
       "      <td>NaT</td>\n",
       "    </tr>\n",
       "  </tbody>\n",
       "</table>\n",
       "</div>"
      ],
      "text/plain": [
       "                                user_id          visit_time  \\\n",
       "0  943647ef-3682-4750-a2e1-918ba6f16188 2017-04-07 15:14:00   \n",
       "1  0c3a3dd0-fb64-4eac-bf84-ba069ce409f2 2017-01-26 14:24:00   \n",
       "2  6e0b2d60-4027-4d9a-babd-0e7d40859fb1 2017-08-20 08:23:00   \n",
       "3  6879527e-c5a6-4d14-b2da-50b85212b0ab 2017-11-04 18:15:00   \n",
       "4  a84327ff-5daa-4ba1-b789-d5b4caf81e96 2017-02-27 11:25:00   \n",
       "\n",
       "            cart_time       checkout_time       purchase_time  \\\n",
       "0                 NaT                 NaT                 NaT   \n",
       "1 2017-01-26 14:44:00 2017-01-26 14:54:00 2017-01-26 15:08:00   \n",
       "2 2017-08-20 08:31:00                 NaT                 NaT   \n",
       "3                 NaT                 NaT                 NaT   \n",
       "4                 NaT                 NaT                 NaT   \n",
       "\n",
       "  duration_to_purchase  \n",
       "0                  NaT  \n",
       "1      0 days 00:44:00  \n",
       "2                  NaT  \n",
       "3                  NaT  \n",
       "4                  NaT  "
      ]
     },
     "execution_count": 122,
     "metadata": {},
     "output_type": "execute_result"
    }
   ],
   "source": [
    "all_data.head()"
   ]
  },
  {
   "cell_type": "code",
   "execution_count": 125,
   "id": "fc3f194d-40ab-456c-8d64-5c346959161c",
   "metadata": {},
   "outputs": [
    {
     "data": {
      "text/plain": [
       "user_id                          object\n",
       "visit_time               datetime64[ns]\n",
       "cart_time                datetime64[ns]\n",
       "checkout_time            datetime64[ns]\n",
       "purchase_time            datetime64[ns]\n",
       "duration_to_purchase    timedelta64[ns]\n",
       "dtype: object"
      ]
     },
     "execution_count": 125,
     "metadata": {},
     "output_type": "execute_result"
    }
   ],
   "source": [
    "all_data.dtypes"
   ]
  },
  {
   "cell_type": "code",
   "execution_count": 135,
   "id": "3cbf5a47-c85f-4ddd-ba75-7c36a3c68e23",
   "metadata": {},
   "outputs": [
    {
     "data": {
      "text/html": [
       "<div>\n",
       "<style scoped>\n",
       "    .dataframe tbody tr th:only-of-type {\n",
       "        vertical-align: middle;\n",
       "    }\n",
       "\n",
       "    .dataframe tbody tr th {\n",
       "        vertical-align: top;\n",
       "    }\n",
       "\n",
       "    .dataframe thead th {\n",
       "        text-align: right;\n",
       "    }\n",
       "</style>\n",
       "<table border=\"1\" class=\"dataframe\">\n",
       "  <thead>\n",
       "    <tr style=\"text-align: right;\">\n",
       "      <th></th>\n",
       "      <th>user_id</th>\n",
       "      <th>visit_time</th>\n",
       "      <th>cart_time</th>\n",
       "      <th>checkout_time</th>\n",
       "      <th>purchase_time</th>\n",
       "      <th>duration_to_purchase</th>\n",
       "    </tr>\n",
       "  </thead>\n",
       "  <tbody>\n",
       "    <tr>\n",
       "      <th>1</th>\n",
       "      <td>0c3a3dd0-fb64-4eac-bf84-ba069ce409f2</td>\n",
       "      <td>2017-01-26 14:24:00</td>\n",
       "      <td>2017-01-26 14:44:00</td>\n",
       "      <td>2017-01-26 14:54:00</td>\n",
       "      <td>2017-01-26 15:08:00</td>\n",
       "      <td>0 days 00:44:00</td>\n",
       "    </tr>\n",
       "    <tr>\n",
       "      <th>14</th>\n",
       "      <td>486480e2-98c3-4d51-8f4b-b1c07228ce84</td>\n",
       "      <td>2017-01-27 16:34:00</td>\n",
       "      <td>2017-01-27 16:44:00</td>\n",
       "      <td>2017-01-27 17:10:00</td>\n",
       "      <td>2017-01-27 17:12:00</td>\n",
       "      <td>0 days 00:38:00</td>\n",
       "    </tr>\n",
       "    <tr>\n",
       "      <th>49</th>\n",
       "      <td>3ccdaf69-2d30-40de-b083-51372881aedd</td>\n",
       "      <td>2017-01-08 20:21:00</td>\n",
       "      <td>2017-01-08 20:38:00</td>\n",
       "      <td>2017-01-08 20:52:00</td>\n",
       "      <td>2017-01-08 21:02:00</td>\n",
       "      <td>0 days 00:41:00</td>\n",
       "    </tr>\n",
       "    <tr>\n",
       "      <th>50</th>\n",
       "      <td>3ccdaf69-2d30-40de-b083-51372881aedd</td>\n",
       "      <td>2017-01-08 20:21:00</td>\n",
       "      <td>2017-01-08 20:38:00</td>\n",
       "      <td>2017-01-08 20:52:00</td>\n",
       "      <td>2017-01-08 21:21:00</td>\n",
       "      <td>0 days 01:00:00</td>\n",
       "    </tr>\n",
       "    <tr>\n",
       "      <th>51</th>\n",
       "      <td>3ccdaf69-2d30-40de-b083-51372881aedd</td>\n",
       "      <td>2017-01-08 20:21:00</td>\n",
       "      <td>2017-01-08 20:38:00</td>\n",
       "      <td>2017-01-08 20:52:00</td>\n",
       "      <td>2017-01-08 21:02:00</td>\n",
       "      <td>0 days 00:41:00</td>\n",
       "    </tr>\n",
       "    <tr>\n",
       "      <th>...</th>\n",
       "      <td>...</td>\n",
       "      <td>...</td>\n",
       "      <td>...</td>\n",
       "      <td>...</td>\n",
       "      <td>...</td>\n",
       "      <td>...</td>\n",
       "    </tr>\n",
       "    <tr>\n",
       "      <th>2359</th>\n",
       "      <td>f783c680-1d9a-437d-9f45-7827299b78fa</td>\n",
       "      <td>2017-06-25 08:07:00</td>\n",
       "      <td>2017-06-25 08:08:00</td>\n",
       "      <td>2017-06-25 08:27:00</td>\n",
       "      <td>2017-06-25 08:35:00</td>\n",
       "      <td>0 days 00:28:00</td>\n",
       "    </tr>\n",
       "    <tr>\n",
       "      <th>2360</th>\n",
       "      <td>f783c680-1d9a-437d-9f45-7827299b78fa</td>\n",
       "      <td>2017-06-25 08:07:00</td>\n",
       "      <td>2017-06-25 08:08:00</td>\n",
       "      <td>2017-06-25 08:27:00</td>\n",
       "      <td>2017-06-25 08:18:00</td>\n",
       "      <td>0 days 00:11:00</td>\n",
       "    </tr>\n",
       "    <tr>\n",
       "      <th>2361</th>\n",
       "      <td>f783c680-1d9a-437d-9f45-7827299b78fa</td>\n",
       "      <td>2017-06-25 08:07:00</td>\n",
       "      <td>2017-06-25 08:08:00</td>\n",
       "      <td>2017-06-25 08:18:00</td>\n",
       "      <td>2017-06-25 08:39:00</td>\n",
       "      <td>0 days 00:32:00</td>\n",
       "    </tr>\n",
       "    <tr>\n",
       "      <th>2362</th>\n",
       "      <td>f783c680-1d9a-437d-9f45-7827299b78fa</td>\n",
       "      <td>2017-06-25 08:07:00</td>\n",
       "      <td>2017-06-25 08:08:00</td>\n",
       "      <td>2017-06-25 08:18:00</td>\n",
       "      <td>2017-06-25 08:35:00</td>\n",
       "      <td>0 days 00:28:00</td>\n",
       "    </tr>\n",
       "    <tr>\n",
       "      <th>2363</th>\n",
       "      <td>f783c680-1d9a-437d-9f45-7827299b78fa</td>\n",
       "      <td>2017-06-25 08:07:00</td>\n",
       "      <td>2017-06-25 08:08:00</td>\n",
       "      <td>2017-06-25 08:18:00</td>\n",
       "      <td>2017-06-25 08:18:00</td>\n",
       "      <td>0 days 00:11:00</td>\n",
       "    </tr>\n",
       "  </tbody>\n",
       "</table>\n",
       "<p>497 rows × 6 columns</p>\n",
       "</div>"
      ],
      "text/plain": [
       "                                   user_id          visit_time  \\\n",
       "1     0c3a3dd0-fb64-4eac-bf84-ba069ce409f2 2017-01-26 14:24:00   \n",
       "14    486480e2-98c3-4d51-8f4b-b1c07228ce84 2017-01-27 16:34:00   \n",
       "49    3ccdaf69-2d30-40de-b083-51372881aedd 2017-01-08 20:21:00   \n",
       "50    3ccdaf69-2d30-40de-b083-51372881aedd 2017-01-08 20:21:00   \n",
       "51    3ccdaf69-2d30-40de-b083-51372881aedd 2017-01-08 20:21:00   \n",
       "...                                    ...                 ...   \n",
       "2359  f783c680-1d9a-437d-9f45-7827299b78fa 2017-06-25 08:07:00   \n",
       "2360  f783c680-1d9a-437d-9f45-7827299b78fa 2017-06-25 08:07:00   \n",
       "2361  f783c680-1d9a-437d-9f45-7827299b78fa 2017-06-25 08:07:00   \n",
       "2362  f783c680-1d9a-437d-9f45-7827299b78fa 2017-06-25 08:07:00   \n",
       "2363  f783c680-1d9a-437d-9f45-7827299b78fa 2017-06-25 08:07:00   \n",
       "\n",
       "               cart_time       checkout_time       purchase_time  \\\n",
       "1    2017-01-26 14:44:00 2017-01-26 14:54:00 2017-01-26 15:08:00   \n",
       "14   2017-01-27 16:44:00 2017-01-27 17:10:00 2017-01-27 17:12:00   \n",
       "49   2017-01-08 20:38:00 2017-01-08 20:52:00 2017-01-08 21:02:00   \n",
       "50   2017-01-08 20:38:00 2017-01-08 20:52:00 2017-01-08 21:21:00   \n",
       "51   2017-01-08 20:38:00 2017-01-08 20:52:00 2017-01-08 21:02:00   \n",
       "...                  ...                 ...                 ...   \n",
       "2359 2017-06-25 08:08:00 2017-06-25 08:27:00 2017-06-25 08:35:00   \n",
       "2360 2017-06-25 08:08:00 2017-06-25 08:27:00 2017-06-25 08:18:00   \n",
       "2361 2017-06-25 08:08:00 2017-06-25 08:18:00 2017-06-25 08:39:00   \n",
       "2362 2017-06-25 08:08:00 2017-06-25 08:18:00 2017-06-25 08:35:00   \n",
       "2363 2017-06-25 08:08:00 2017-06-25 08:18:00 2017-06-25 08:18:00   \n",
       "\n",
       "     duration_to_purchase  \n",
       "1         0 days 00:44:00  \n",
       "14        0 days 00:38:00  \n",
       "49        0 days 00:41:00  \n",
       "50        0 days 01:00:00  \n",
       "51        0 days 00:41:00  \n",
       "...                   ...  \n",
       "2359      0 days 00:28:00  \n",
       "2360      0 days 00:11:00  \n",
       "2361      0 days 00:32:00  \n",
       "2362      0 days 00:28:00  \n",
       "2363      0 days 00:11:00  \n",
       "\n",
       "[497 rows x 6 columns]"
      ]
     },
     "execution_count": 135,
     "metadata": {},
     "output_type": "execute_result"
    }
   ],
   "source": [
    "######## WHERE condition : only select where duration not null\n",
    "\n",
    "#all_data.duration_to_purchase\n",
    "all_data[ all_data.duration_to_purchase.notnull() ]"
   ]
  },
  {
   "cell_type": "code",
   "execution_count": null,
   "id": "7d5ec2e4-2870-45ea-a0cc-e5d5b94e803f",
   "metadata": {},
   "outputs": [],
   "source": [
    "########\n",
    "# Calculate the average time to purchase by applying the .mean() function to your new column."
   ]
  },
  {
   "cell_type": "code",
   "execution_count": 137,
   "id": "6aa5110b-6195-4bbb-b1da-4b2798e178fe",
   "metadata": {},
   "outputs": [
    {
     "data": {
      "text/plain": [
       "Timedelta('0 days 00:43:53.360160965')"
      ]
     },
     "execution_count": 137,
     "metadata": {},
     "output_type": "execute_result"
    }
   ],
   "source": [
    "all_data.duration_to_purchase.mean()"
   ]
  }
 ],
 "metadata": {
  "kernelspec": {
   "display_name": "Python 3 (ipykernel)",
   "language": "python",
   "name": "python3"
  },
  "language_info": {
   "codemirror_mode": {
    "name": "ipython",
    "version": 3
   },
   "file_extension": ".py",
   "mimetype": "text/x-python",
   "name": "python",
   "nbconvert_exporter": "python",
   "pygments_lexer": "ipython3",
   "version": "3.10.9"
  }
 },
 "nbformat": 4,
 "nbformat_minor": 5
}
