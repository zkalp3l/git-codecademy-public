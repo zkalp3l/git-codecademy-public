{
 "cells": [
  {
   "cell_type": "code",
   "execution_count": 1,
   "id": "93760a46-ea77-4f3a-8d69-bf49ee600e8d",
   "metadata": {},
   "outputs": [],
   "source": [
    "# DATA SCIENCE FOUNDATIONS II\n",
    "# Page Visits Funnel\n",
    "# Cool T-Shirts Inc. has asked you to analyze data on visits to their website. Your job is to build a funnel, which is a description of how many people continue to the next step of a multi-step process.\n",
    "\n",
    "# In this case, our funnel is going to describe the following process:\n",
    "\n",
    "# A user visits CoolTShirts.com\n",
    "# A user adds a t-shirt to their cart\n",
    "# A user clicks “checkout”\n",
    "# A user actually purchases a t-shirt\n",
    "# Setup Instructions\n",
    "# You have two options of completing this assignment. Either here, within Codecademy’s output terminal, or on your own, in case you’re more comfortable using a Jupyter notebook.If you choose to do this project on your computer instead of Codecademy, you can download what you’ll need by clicking the “Download” button below. If you need help setting up your computer, be sure to check out our setup guides:\n",
    "\n",
    "# Command Line Interface Setup\n",
    "# Introducing Jupyter Notebook\n",
    "# Setting up Jupyter Notebook\n",
    "# Getting Started with Jupyter\n",
    "# Getting More out of Jupyter Notebook\n",
    "# Open Page_Visits_Funnel.ipynb and follow the steps in the Jupyter Notebook. If you get stuck, you can look at Page_Visits_Funnel_Solution.ipynb for the answer."
   ]
  },
  {
   "cell_type": "code",
   "execution_count": 1,
   "id": "7927f771-1801-480a-aec2-98c8d7385545",
   "metadata": {},
   "outputs": [],
   "source": [
    "#import codecademylib3\n",
    "import pandas as pd\n",
    "\n",
    "visits = pd.read_csv('visits.csv.txt',\n",
    "                     parse_dates=[1])\n",
    "cart = pd.read_csv('cart.csv.txt',\n",
    "                   parse_dates=[1])\n",
    "checkout = pd.read_csv('checkout.csv.txt',\n",
    "                       parse_dates=[1])\n",
    "purchase = pd.read_csv('purchase.csv.txt',\n",
    "                       parse_dates=[1])"
   ]
  },
  {
   "cell_type": "code",
   "execution_count": 2,
   "id": "3b0193e2-5b3f-4322-b783-001de933db90",
   "metadata": {},
   "outputs": [
    {
     "data": {
      "text/plain": [
       "(                                   user_id          visit_time\n",
       " 0     943647ef-3682-4750-a2e1-918ba6f16188 2017-04-07 15:14:00\n",
       " 1     0c3a3dd0-fb64-4eac-bf84-ba069ce409f2 2017-01-26 14:24:00\n",
       " 2     6e0b2d60-4027-4d9a-babd-0e7d40859fb1 2017-08-20 08:23:00\n",
       " 3     6879527e-c5a6-4d14-b2da-50b85212b0ab 2017-11-04 18:15:00\n",
       " 4     a84327ff-5daa-4ba1-b789-d5b4caf81e96 2017-02-27 11:25:00\n",
       " ...                                    ...                 ...\n",
       " 1995  33913ac2-03da-45ae-8fc3-fea39df827c6 2017-03-25 03:29:00\n",
       " 1996  4f850132-b99d-4623-80e6-6e61d003577e 2017-01-08 09:57:00\n",
       " 1997  f0830b9b-1f5c-4e74-b63d-3f847cc6ce70 2017-09-07 12:56:00\n",
       " 1998  b01bffa7-63ba-4cd3-9d93-eb1477c23831 2017-07-20 04:37:00\n",
       " 1999  0336ca81-8d68-443f-9248-ac0b8ad147d5 2017-11-15 10:11:00\n",
       " \n",
       " [2000 rows x 2 columns],\n",
       "                                   user_id           cart_time\n",
       " 0    2be90e7c-9cca-44e0-bcc5-124b945ff168 2017-11-07 20:45:00\n",
       " 1    4397f73f-1da3-4ab3-91af-762792e25973 2017-05-27 01:35:00\n",
       " 2    a9db3d4b-0a0a-4398-a55a-ebb2c7adf663 2017-03-04 10:38:00\n",
       " 3    b594862a-36c5-47d5-b818-6e9512b939b3 2017-09-27 08:22:00\n",
       " 4    a68a16e2-94f0-4ce8-8ce3-784af0bbb974 2017-07-26 15:48:00\n",
       " ..                                    ...                 ...\n",
       " 343  952be3a5-9240-484f-845c-a6b2cbed72ee 2017-05-02 05:40:00\n",
       " 344  59d2b685-383a-4fce-a325-35d985713a8b 2017-01-20 03:58:00\n",
       " 345  a1203970-92ae-4fc7-843e-e1740c1be9d5 2017-11-12 23:07:00\n",
       " 346  55de53ae-89f6-43ff-a26d-df284678aca1 2017-03-17 19:56:00\n",
       " 347  0ea4cc68-dae4-4e35-b3e0-f0889932e1b5 2017-05-12 08:53:00\n",
       " \n",
       " [348 rows x 2 columns],\n",
       "                                   user_id       checkout_time\n",
       " 0    d33bdc47-4afa-45bc-b4e4-dbe948e34c0d 2017-06-25 09:29:00\n",
       " 1    4ac186f0-9954-4fea-8a27-c081e428e34e 2017-04-07 20:11:00\n",
       " 2    3c9c78a7-124a-4b77-8d2e-e1926e011e7d 2017-07-13 11:38:00\n",
       " 3    89fe330a-8966-4756-8f7c-3bdbcd47279a 2017-04-20 16:15:00\n",
       " 4    3ccdaf69-2d30-40de-b083-51372881aedd 2017-01-08 20:52:00\n",
       " ..                                    ...                 ...\n",
       " 355  dbdfeb12-cbb2-4c43-98a9-57fa126c19fc 2017-05-25 16:34:00\n",
       " 356  21dec5fa-999a-45c5-b59b-18a1ee161379 2017-03-17 12:40:00\n",
       " 357  f3dd7631-3cf6-4d49-9c6e-b48eda4432b5 2017-01-04 10:20:00\n",
       " 358  ba011b1d-6cc5-4147-ae8a-1722a1f5c27c 2017-10-24 08:32:00\n",
       " 359  d2cb350b-2201-4290-b2e0-84a8bf0d6883 2017-08-08 16:14:00\n",
       " \n",
       " [360 rows x 2 columns],\n",
       "                                    ser_id       purchase_time\n",
       " 0    4b44ace4-2721-47a0-b24b-15fbfa2abf85 2017-05-11 04:25:00\n",
       " 1    02e684ae-a448-408f-a9ff-dcb4a5c99aac 2017-09-05 08:45:00\n",
       " 2    4b4bc391-749e-4b90-ab8f-4f6e3c84d6dc 2017-11-20 20:49:00\n",
       " 3    a5dbb25f-3c36-4103-9030-9f7c6241cd8d 2017-01-22 15:18:00\n",
       " 4    46a3186d-7f5a-4ab9-87af-84d05bfd4867 2017-06-11 11:32:00\n",
       " ..                                    ...                 ...\n",
       " 247  278c0f3c-d092-4e7f-b97b-97cc9d57c1c2 2017-01-05 02:45:00\n",
       " 248  952be3a5-9240-484f-845c-a6b2cbed72ee 2017-05-02 06:10:00\n",
       " 249  27e5a297-332d-4e8b-8e2a-b97ae8c5b6f9 2017-09-04 17:39:00\n",
       " 250  4b04c692-d814-45bd-854a-000e0ef4e92a 2017-06-20 17:28:00\n",
       " 251  c62fdf2f-3b30-4624-8463-d3961e687997 2017-11-21 23:00:00\n",
       " \n",
       " [252 rows x 2 columns])"
      ]
     },
     "execution_count": 2,
     "metadata": {},
     "output_type": "execute_result"
    }
   ],
   "source": [
    "\n",
    "# Inspect the DataFrames using print and head:\n",
    "\n",
    "# visits lists all of the users who have visited the website\n",
    "# cart lists all of the users who have added a t-shirt to their cart\n",
    "# checkout lists all of the users who have started the checkout\n",
    "# purchase lists all of the users who have purchased a t-shirt\n",
    "\n",
    "#visits, cart, checkout, purchase"
   ]
  },
  {
   "cell_type": "code",
   "execution_count": null,
   "id": "8f293b04-15d4-4f3f-bfdc-ed245a451698",
   "metadata": {},
   "outputs": [],
   "source": [
    "\n",
    "#Combine visits and cart using a left merge."
   ]
  },
  {
   "cell_type": "code",
   "execution_count": 6,
   "id": "0f6dc4bc-2ac7-4ae7-ad70-1af9aaa9deb1",
   "metadata": {},
   "outputs": [],
   "source": [
    "#visits_cart =  pd.merge( visits, cart )\n",
    "visits_cart =  pd.merge( visits, cart, how='left' )"
   ]
  },
  {
   "cell_type": "code",
   "execution_count": 7,
   "id": "e7ab9dff-faff-44cc-b4c5-6ec79aaf7df1",
   "metadata": {},
   "outputs": [
    {
     "data": {
      "text/plain": [
       "user_id       2000\n",
       "visit_time    2000\n",
       "cart_time      348\n",
       "dtype: int64"
      ]
     },
     "execution_count": 7,
     "metadata": {},
     "output_type": "execute_result"
    }
   ],
   "source": [
    "#How long is your merged DataFrame?\n",
    "\n",
    "visits_cart.count()"
   ]
  },
  {
   "cell_type": "code",
   "execution_count": 8,
   "id": "943fe7b0-4a97-4799-be02-17f64a6c5417",
   "metadata": {
    "tags": []
   },
   "outputs": [
    {
     "data": {
      "text/html": [
       "<div>\n",
       "<style scoped>\n",
       "    .dataframe tbody tr th:only-of-type {\n",
       "        vertical-align: middle;\n",
       "    }\n",
       "\n",
       "    .dataframe tbody tr th {\n",
       "        vertical-align: top;\n",
       "    }\n",
       "\n",
       "    .dataframe thead th {\n",
       "        text-align: right;\n",
       "    }\n",
       "</style>\n",
       "<table border=\"1\" class=\"dataframe\">\n",
       "  <thead>\n",
       "    <tr style=\"text-align: right;\">\n",
       "      <th></th>\n",
       "      <th>user_id</th>\n",
       "      <th>visit_time</th>\n",
       "      <th>cart_time</th>\n",
       "    </tr>\n",
       "  </thead>\n",
       "  <tbody>\n",
       "    <tr>\n",
       "      <th>0</th>\n",
       "      <td>943647ef-3682-4750-a2e1-918ba6f16188</td>\n",
       "      <td>2017-04-07 15:14:00</td>\n",
       "      <td>NaT</td>\n",
       "    </tr>\n",
       "    <tr>\n",
       "      <th>1</th>\n",
       "      <td>0c3a3dd0-fb64-4eac-bf84-ba069ce409f2</td>\n",
       "      <td>2017-01-26 14:24:00</td>\n",
       "      <td>2017-01-26 14:44:00</td>\n",
       "    </tr>\n",
       "    <tr>\n",
       "      <th>2</th>\n",
       "      <td>6e0b2d60-4027-4d9a-babd-0e7d40859fb1</td>\n",
       "      <td>2017-08-20 08:23:00</td>\n",
       "      <td>2017-08-20 08:31:00</td>\n",
       "    </tr>\n",
       "    <tr>\n",
       "      <th>3</th>\n",
       "      <td>6879527e-c5a6-4d14-b2da-50b85212b0ab</td>\n",
       "      <td>2017-11-04 18:15:00</td>\n",
       "      <td>NaT</td>\n",
       "    </tr>\n",
       "    <tr>\n",
       "      <th>4</th>\n",
       "      <td>a84327ff-5daa-4ba1-b789-d5b4caf81e96</td>\n",
       "      <td>2017-02-27 11:25:00</td>\n",
       "      <td>NaT</td>\n",
       "    </tr>\n",
       "    <tr>\n",
       "      <th>...</th>\n",
       "      <td>...</td>\n",
       "      <td>...</td>\n",
       "      <td>...</td>\n",
       "    </tr>\n",
       "    <tr>\n",
       "      <th>1995</th>\n",
       "      <td>33913ac2-03da-45ae-8fc3-fea39df827c6</td>\n",
       "      <td>2017-03-25 03:29:00</td>\n",
       "      <td>NaT</td>\n",
       "    </tr>\n",
       "    <tr>\n",
       "      <th>1996</th>\n",
       "      <td>4f850132-b99d-4623-80e6-6e61d003577e</td>\n",
       "      <td>2017-01-08 09:57:00</td>\n",
       "      <td>NaT</td>\n",
       "    </tr>\n",
       "    <tr>\n",
       "      <th>1997</th>\n",
       "      <td>f0830b9b-1f5c-4e74-b63d-3f847cc6ce70</td>\n",
       "      <td>2017-09-07 12:56:00</td>\n",
       "      <td>NaT</td>\n",
       "    </tr>\n",
       "    <tr>\n",
       "      <th>1998</th>\n",
       "      <td>b01bffa7-63ba-4cd3-9d93-eb1477c23831</td>\n",
       "      <td>2017-07-20 04:37:00</td>\n",
       "      <td>NaT</td>\n",
       "    </tr>\n",
       "    <tr>\n",
       "      <th>1999</th>\n",
       "      <td>0336ca81-8d68-443f-9248-ac0b8ad147d5</td>\n",
       "      <td>2017-11-15 10:11:00</td>\n",
       "      <td>NaT</td>\n",
       "    </tr>\n",
       "  </tbody>\n",
       "</table>\n",
       "<p>2000 rows × 3 columns</p>\n",
       "</div>"
      ],
      "text/plain": [
       "                                   user_id          visit_time  \\\n",
       "0     943647ef-3682-4750-a2e1-918ba6f16188 2017-04-07 15:14:00   \n",
       "1     0c3a3dd0-fb64-4eac-bf84-ba069ce409f2 2017-01-26 14:24:00   \n",
       "2     6e0b2d60-4027-4d9a-babd-0e7d40859fb1 2017-08-20 08:23:00   \n",
       "3     6879527e-c5a6-4d14-b2da-50b85212b0ab 2017-11-04 18:15:00   \n",
       "4     a84327ff-5daa-4ba1-b789-d5b4caf81e96 2017-02-27 11:25:00   \n",
       "...                                    ...                 ...   \n",
       "1995  33913ac2-03da-45ae-8fc3-fea39df827c6 2017-03-25 03:29:00   \n",
       "1996  4f850132-b99d-4623-80e6-6e61d003577e 2017-01-08 09:57:00   \n",
       "1997  f0830b9b-1f5c-4e74-b63d-3f847cc6ce70 2017-09-07 12:56:00   \n",
       "1998  b01bffa7-63ba-4cd3-9d93-eb1477c23831 2017-07-20 04:37:00   \n",
       "1999  0336ca81-8d68-443f-9248-ac0b8ad147d5 2017-11-15 10:11:00   \n",
       "\n",
       "               cart_time  \n",
       "0                    NaT  \n",
       "1    2017-01-26 14:44:00  \n",
       "2    2017-08-20 08:31:00  \n",
       "3                    NaT  \n",
       "4                    NaT  \n",
       "...                  ...  \n",
       "1995                 NaT  \n",
       "1996                 NaT  \n",
       "1997                 NaT  \n",
       "1998                 NaT  \n",
       "1999                 NaT  \n",
       "\n",
       "[2000 rows x 3 columns]"
      ]
     },
     "execution_count": 8,
     "metadata": {},
     "output_type": "execute_result"
    }
   ],
   "source": [
    "visits_cart"
   ]
  },
  {
   "cell_type": "code",
   "execution_count": null,
   "id": "dc4dfe9c-aac1-4a7c-bc35-3e33f178bf49",
   "metadata": {},
   "outputs": [],
   "source": [
    "\n",
    "# How many of the timestamps are null for the column cart_time?\n",
    "\n",
    "# What do these null rows mean?"
   ]
  },
  {
   "cell_type": "code",
   "execution_count": null,
   "id": "996b0708-1720-44fa-a961-4b4b252192ae",
   "metadata": {},
   "outputs": [],
   "source": []
  }
 ],
 "metadata": {
  "kernelspec": {
   "display_name": "Python 3 (ipykernel)",
   "language": "python",
   "name": "python3"
  },
  "language_info": {
   "codemirror_mode": {
    "name": "ipython",
    "version": 3
   },
   "file_extension": ".py",
   "mimetype": "text/x-python",
   "name": "python",
   "nbconvert_exporter": "python",
   "pygments_lexer": "ipython3",
   "version": "3.10.9"
  }
 },
 "nbformat": 4,
 "nbformat_minor": 5
}
