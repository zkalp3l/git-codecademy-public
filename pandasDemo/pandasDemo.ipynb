{
 "cells": [
  {
   "cell_type": "code",
   "execution_count": 1,
   "id": "886991e9-c169-4c3b-b7fe-f8c4daf30a88",
   "metadata": {},
   "outputs": [],
   "source": [
    "import numpy as np\n",
    "import pandas as pd"
   ]
  },
  {
   "cell_type": "code",
   "execution_count": 2,
   "id": "5e33099d-d041-4e95-80a6-5c4020b2016b",
   "metadata": {},
   "outputs": [
    {
     "name": "stdout",
     "output_type": "stream",
     "text": [
      "[[1, 2, 3, 4], [-1, -2, -3, -4]]\n"
     ]
    }
   ],
   "source": [
    "# create list\n",
    "\n",
    "list1 = [1,2,3,4]\n",
    "list2 = [-1,-2,-3,-4]\n",
    "list3 = [ list1, list2  ]\n",
    "print(list3)"
   ]
  },
  {
   "cell_type": "code",
   "execution_count": 3,
   "id": "78cc9a59-780a-433c-9a7c-7e1f0b9192eb",
   "metadata": {},
   "outputs": [],
   "source": [
    "# ar_list1 =  array(\"i\", list1)  # doesnt work"
   ]
  },
  {
   "cell_type": "code",
   "execution_count": 4,
   "id": "b73f089f-584f-4ab2-9c98-c1c08550e801",
   "metadata": {},
   "outputs": [
    {
     "name": "stdout",
     "output_type": "stream",
     "text": [
      "[1 2 3 4]\n"
     ]
    }
   ],
   "source": [
    "# list to array\n",
    "\n",
    "array1 = np.array(list1)\n",
    "print(array1)"
   ]
  },
  {
   "cell_type": "code",
   "execution_count": 5,
   "id": "3508e65e-5918-4131-b630-939edd3c837f",
   "metadata": {},
   "outputs": [
    {
     "name": "stdout",
     "output_type": "stream",
     "text": [
      "10\n",
      "1\n"
     ]
    }
   ],
   "source": [
    "print(sum(array1))\n",
    "print(array1[0])"
   ]
  },
  {
   "cell_type": "code",
   "execution_count": 6,
   "id": "0b0be934-fdec-421e-abc6-b9ea17080cdc",
   "metadata": {},
   "outputs": [],
   "source": [
    "dimArray = np.array( list3 )"
   ]
  },
  {
   "cell_type": "code",
   "execution_count": 7,
   "id": "781e6699-986b-4276-ba81-3acdab5a366e",
   "metadata": {},
   "outputs": [
    {
     "name": "stdout",
     "output_type": "stream",
     "text": [
      "[[ 1  2  3  4]\n",
      " [-1 -2 -3 -4]]\n"
     ]
    }
   ],
   "source": [
    "print ( dimArray )"
   ]
  },
  {
   "cell_type": "code",
   "execution_count": 8,
   "id": "c4ace2c7-6e64-42ba-a516-3b6fb19a3fc0",
   "metadata": {},
   "outputs": [
    {
     "name": "stdout",
     "output_type": "stream",
     "text": [
      "-1\n"
     ]
    }
   ],
   "source": [
    "print( dimArray[1][0] )"
   ]
  },
  {
   "cell_type": "code",
   "execution_count": 9,
   "id": "1d2a8c49-45ef-4811-8bbc-3cbf55547b2e",
   "metadata": {},
   "outputs": [],
   "source": [
    "#increrment all by 1\n",
    "dimArray = dimArray +1"
   ]
  },
  {
   "cell_type": "code",
   "execution_count": 10,
   "id": "cfeee093-9cc7-4d43-a48a-88562ce4e7cb",
   "metadata": {},
   "outputs": [
    {
     "name": "stdout",
     "output_type": "stream",
     "text": [
      "0    1\n",
      "1    2\n",
      "2    3\n",
      "3    4\n",
      "dtype: int64\n",
      "0    1\n",
      "1    2\n",
      "2    3\n",
      "3    4\n",
      "dtype: int32\n"
     ]
    }
   ],
   "source": [
    "# list to series ( with default index )\n",
    "print ( pd.Series(list1) )\n",
    "\n",
    "# array to series also works \n",
    "print ( pd.Series(array1) )"
   ]
  },
  {
   "cell_type": "code",
   "execution_count": 11,
   "id": "519acda6-f0d3-48bb-b8cc-f407217cd23e",
   "metadata": {},
   "outputs": [],
   "source": [
    "# Series with explicit index\n",
    "#print ( pd.Series(array1, index=['zero', 'one', 'two', 'three']) )\n",
    "\n",
    "indexedSeries = pd.Series(array1, index=['zero', 'one', 'two', 'three'])"
   ]
  },
  {
   "cell_type": "code",
   "execution_count": 12,
   "id": "af482af8-ce4d-48bd-a08a-46876f8efa85",
   "metadata": {},
   "outputs": [
    {
     "name": "stdout",
     "output_type": "stream",
     "text": [
      "zero     1\n",
      "one      2\n",
      "two      3\n",
      "three    4\n",
      "dtype: int32\n"
     ]
    }
   ],
   "source": [
    "print(indexedSeries)"
   ]
  },
  {
   "cell_type": "code",
   "execution_count": 13,
   "id": "7670b935-d0b8-406d-a2b3-66b049b984c8",
   "metadata": {},
   "outputs": [],
   "source": [
    "\n",
    "\n",
    "df = pd.DataFrame([\n",
    "  ['January', 100, 100, 23, 100],\n",
    "  ['February', 51, 45, 145, 45],\n",
    "  ['March', 81, 96, 65, 96],\n",
    "  ['April', 80, 80, 54, 180],\n",
    "  ['May', 51, 54, 54, 154],\n",
    "  ['June', 112, 109, 79, 129]],\n",
    "  columns=['month', 'clinic_east',\n",
    "           'clinic_north', 'clinic_south',\n",
    "           'clinic_west']\n",
    ")"
   ]
  },
  {
   "cell_type": "code",
   "execution_count": 14,
   "id": "cfa4c285-a34b-44f4-a15d-acc9ce5de684",
   "metadata": {},
   "outputs": [
    {
     "name": "stdout",
     "output_type": "stream",
     "text": [
      "      month  clinic_east  clinic_north  clinic_south  clinic_west\n",
      "0   January          100           100            23          100\n",
      "1  February           51            45           145           45\n",
      "2     March           81            96            65           96\n",
      "3     April           80            80            54          180\n",
      "4       May           51            54            54          154\n",
      "5      June          112           109            79          129\n"
     ]
    }
   ],
   "source": [
    "print(df)"
   ]
  },
  {
   "cell_type": "code",
   "execution_count": 15,
   "id": "2200ed87-6e3d-4452-97c5-9865bbbb8b71",
   "metadata": {},
   "outputs": [
    {
     "name": "stdout",
     "output_type": "stream",
     "text": [
      "      month  clinic_east  clinic_north  clinic_south  clinic_west\n",
      "1  February           51            45           145           45\n",
      "2     March           81            96            65           96\n",
      "      month  clinic_east  clinic_north  clinic_south  clinic_west\n",
      "1  February           51            45           145           45\n",
      "2     March           81            96            65           96\n"
     ]
    }
   ],
   "source": [
    "# slice rows : these give the same output\n",
    "\n",
    "print(df[1:3])\n",
    "print(df.iloc[1:3]) "
   ]
  },
  {
   "cell_type": "code",
   "execution_count": 16,
   "id": "daee47d1-5378-4650-9ba8-cffc38ee8bb9",
   "metadata": {},
   "outputs": [
    {
     "name": "stdout",
     "output_type": "stream",
     "text": [
      "   month  clinic_east  clinic_north  clinic_south  clinic_west\n",
      "3  April           80            80            54          180\n",
      "4    May           51            54            54          154\n",
      "5   June          112           109            79          129\n",
      "   month  clinic_east  clinic_north  clinic_south  clinic_west\n",
      "3  April           80            80            54          180\n",
      "4    May           51            54            54          154\n",
      "5   June          112           109            79          129\n"
     ]
    }
   ],
   "source": [
    "# slice rows : these also give the same output\n",
    "\n",
    "print(df[ 3: ])\n",
    "print(df[ -3: ])\n"
   ]
  },
  {
   "cell_type": "code",
   "execution_count": 17,
   "id": "a39eeb5e-4f63-429b-9985-eeaccb89f3c2",
   "metadata": {},
   "outputs": [
    {
     "data": {
      "text/html": [
       "<div>\n",
       "<style scoped>\n",
       "    .dataframe tbody tr th:only-of-type {\n",
       "        vertical-align: middle;\n",
       "    }\n",
       "\n",
       "    .dataframe tbody tr th {\n",
       "        vertical-align: top;\n",
       "    }\n",
       "\n",
       "    .dataframe thead th {\n",
       "        text-align: right;\n",
       "    }\n",
       "</style>\n",
       "<table border=\"1\" class=\"dataframe\">\n",
       "  <thead>\n",
       "    <tr style=\"text-align: right;\">\n",
       "      <th></th>\n",
       "      <th>month</th>\n",
       "      <th>clinic_east</th>\n",
       "      <th>clinic_north</th>\n",
       "      <th>clinic_south</th>\n",
       "      <th>clinic_west</th>\n",
       "    </tr>\n",
       "  </thead>\n",
       "  <tbody>\n",
       "    <tr>\n",
       "      <th>0</th>\n",
       "      <td>January</td>\n",
       "      <td>100</td>\n",
       "      <td>100</td>\n",
       "      <td>23</td>\n",
       "      <td>100</td>\n",
       "    </tr>\n",
       "    <tr>\n",
       "      <th>2</th>\n",
       "      <td>March</td>\n",
       "      <td>81</td>\n",
       "      <td>96</td>\n",
       "      <td>65</td>\n",
       "      <td>96</td>\n",
       "    </tr>\n",
       "  </tbody>\n",
       "</table>\n",
       "</div>"
      ],
      "text/plain": [
       "     month  clinic_east  clinic_north  clinic_south  clinic_west\n",
       "0  January          100           100            23          100\n",
       "2    March           81            96            65           96"
      ]
     },
     "execution_count": 17,
     "metadata": {},
     "output_type": "execute_result"
    }
   ],
   "source": [
    "# try skip step \n",
    "## [ start : end : interval ] \n",
    "\n",
    "df[0:4:2] # doesnt work with a straight slice\n",
    "#df.iloc[0:4]"
   ]
  },
  {
   "cell_type": "code",
   "execution_count": 18,
   "id": "094e8aac-b655-4bb1-b6db-96fe7a996510",
   "metadata": {},
   "outputs": [
    {
     "data": {
      "text/html": [
       "<div>\n",
       "<style scoped>\n",
       "    .dataframe tbody tr th:only-of-type {\n",
       "        vertical-align: middle;\n",
       "    }\n",
       "\n",
       "    .dataframe tbody tr th {\n",
       "        vertical-align: top;\n",
       "    }\n",
       "\n",
       "    .dataframe thead th {\n",
       "        text-align: right;\n",
       "    }\n",
       "</style>\n",
       "<table border=\"1\" class=\"dataframe\">\n",
       "  <thead>\n",
       "    <tr style=\"text-align: right;\">\n",
       "      <th></th>\n",
       "      <th>month</th>\n",
       "      <th>clinic_east</th>\n",
       "      <th>clinic_north</th>\n",
       "      <th>clinic_south</th>\n",
       "      <th>clinic_west</th>\n",
       "    </tr>\n",
       "  </thead>\n",
       "  <tbody>\n",
       "    <tr>\n",
       "      <th>3</th>\n",
       "      <td>April</td>\n",
       "      <td>80</td>\n",
       "      <td>80</td>\n",
       "      <td>54</td>\n",
       "      <td>180</td>\n",
       "    </tr>\n",
       "    <tr>\n",
       "      <th>4</th>\n",
       "      <td>May</td>\n",
       "      <td>51</td>\n",
       "      <td>54</td>\n",
       "      <td>54</td>\n",
       "      <td>154</td>\n",
       "    </tr>\n",
       "    <tr>\n",
       "      <th>5</th>\n",
       "      <td>June</td>\n",
       "      <td>112</td>\n",
       "      <td>109</td>\n",
       "      <td>79</td>\n",
       "      <td>129</td>\n",
       "    </tr>\n",
       "  </tbody>\n",
       "</table>\n",
       "</div>"
      ],
      "text/plain": [
       "   month  clinic_east  clinic_north  clinic_south  clinic_west\n",
       "3  April           80            80            54          180\n",
       "4    May           51            54            54          154\n",
       "5   June          112           109            79          129"
      ]
     },
     "execution_count": 18,
     "metadata": {},
     "output_type": "execute_result"
    }
   ],
   "source": [
    "# instruction\n",
    "\n",
    "april_may_june = df[ 3: ]\n",
    "\n",
    "april_may_june"
   ]
  },
  {
   "cell_type": "code",
   "execution_count": 19,
   "id": "0b1355da-eab4-4691-a668-89473b1a2e6c",
   "metadata": {},
   "outputs": [],
   "source": [
    "#########\n",
    "## Select with conditions\n",
    "###############"
   ]
  },
  {
   "cell_type": "code",
   "execution_count": 20,
   "id": "cd57c309-4578-46d4-9e96-0654c6eaec0e",
   "metadata": {},
   "outputs": [],
   "source": [
    "df = pd.DataFrame([\n",
    "  ['January', 100, 100, 23, 100],\n",
    "  ['February', 51, 45, 145, 45],\n",
    "  ['March', 81, 96, 65, 96],\n",
    "  ['April', 80, 80, 54, 180],\n",
    "  ['May', 51, 54, 54, 154],\n",
    "  ['June', 112, 109, 79, 129]],\n",
    "  columns=['month', 'clinic_east',\n",
    "           'clinic_north', 'clinic_south',\n",
    "           'clinic_west'])"
   ]
  },
  {
   "cell_type": "code",
   "execution_count": 21,
   "id": "d4e31657-35dd-48e0-88c3-bfdab3193145",
   "metadata": {},
   "outputs": [],
   "source": [
    "#df"
   ]
  },
  {
   "cell_type": "code",
   "execution_count": 22,
   "id": "16465298-c849-4b23-899e-5371a0c28a12",
   "metadata": {},
   "outputs": [
    {
     "data": {
      "text/plain": [
       "15"
      ]
     },
     "execution_count": 22,
     "metadata": {},
     "output_type": "execute_result"
    }
   ],
   "source": [
    "# lambda refresher\n",
    "\n",
    "f = lambda n : n * 5\n",
    "f(3)"
   ]
  },
  {
   "cell_type": "code",
   "execution_count": 23,
   "id": "25e1eb63-9890-44f8-b03e-49c51f55e5ac",
   "metadata": {},
   "outputs": [
    {
     "data": {
      "text/html": [
       "<div>\n",
       "<style scoped>\n",
       "    .dataframe tbody tr th:only-of-type {\n",
       "        vertical-align: middle;\n",
       "    }\n",
       "\n",
       "    .dataframe tbody tr th {\n",
       "        vertical-align: top;\n",
       "    }\n",
       "\n",
       "    .dataframe thead th {\n",
       "        text-align: right;\n",
       "    }\n",
       "</style>\n",
       "<table border=\"1\" class=\"dataframe\">\n",
       "  <thead>\n",
       "    <tr style=\"text-align: right;\">\n",
       "      <th></th>\n",
       "      <th>month</th>\n",
       "      <th>clinic_east</th>\n",
       "      <th>clinic_north</th>\n",
       "      <th>clinic_south</th>\n",
       "      <th>clinic_west</th>\n",
       "    </tr>\n",
       "  </thead>\n",
       "  <tbody>\n",
       "    <tr>\n",
       "      <th>0</th>\n",
       "      <td>January</td>\n",
       "      <td>100</td>\n",
       "      <td>100</td>\n",
       "      <td>23</td>\n",
       "      <td>100</td>\n",
       "    </tr>\n",
       "    <tr>\n",
       "      <th>2</th>\n",
       "      <td>March</td>\n",
       "      <td>81</td>\n",
       "      <td>96</td>\n",
       "      <td>65</td>\n",
       "      <td>96</td>\n",
       "    </tr>\n",
       "    <tr>\n",
       "      <th>3</th>\n",
       "      <td>April</td>\n",
       "      <td>80</td>\n",
       "      <td>80</td>\n",
       "      <td>54</td>\n",
       "      <td>180</td>\n",
       "    </tr>\n",
       "    <tr>\n",
       "      <th>5</th>\n",
       "      <td>June</td>\n",
       "      <td>112</td>\n",
       "      <td>109</td>\n",
       "      <td>79</td>\n",
       "      <td>129</td>\n",
       "    </tr>\n",
       "  </tbody>\n",
       "</table>\n",
       "</div>"
      ],
      "text/plain": [
       "     month  clinic_east  clinic_north  clinic_south  clinic_west\n",
       "0  January          100           100            23          100\n",
       "2    March           81            96            65           96\n",
       "3    April           80            80            54          180\n",
       "5     June          112           109            79          129"
      ]
     },
     "execution_count": 23,
     "metadata": {},
     "output_type": "execute_result"
    }
   ],
   "source": [
    "# select WHERE, single condition\n",
    "# df[ df.column <op> condition ]\n",
    "\n",
    "df[ df.clinic_east > 51 ]"
   ]
  },
  {
   "cell_type": "code",
   "execution_count": 24,
   "id": "acb50f3d-d279-4ebd-af13-f7fecab9c33b",
   "metadata": {},
   "outputs": [],
   "source": [
    "## instruction\n",
    "# Create variable january using a logical statement that selects the row of df where the 'month' column is 'January'. \n",
    "\n",
    "january = df[ df.month ==  'January' ]"
   ]
  },
  {
   "cell_type": "code",
   "execution_count": 25,
   "id": "337cf7d5-b531-479a-b23c-910092b8168a",
   "metadata": {},
   "outputs": [],
   "source": [
    "# select WHERE, multiple conditions\n",
    "# df[  ( df.column <op> condition )  |/& ( df.column <op> condition ) ]\n",
    "## * for more than 2 conditions, AND (&) is evaluated before OR (|) \n"
   ]
  },
  {
   "cell_type": "code",
   "execution_count": 26,
   "id": "100dc11c-d070-43f5-85ba-89a1437c6bc2",
   "metadata": {},
   "outputs": [
    {
     "name": "stdout",
     "output_type": "stream",
     "text": [
      "   month  clinic_east  clinic_north  clinic_south  clinic_west\n",
      "2  March           81            96            65           96\n",
      "3  April           80            80            54          180\n"
     ]
    }
   ],
   "source": [
    "## instruction\n",
    "# Create the variable march_april, which contains the data from March and April. Do this using two logical statements combined using |, which means “or”.\n",
    "\n",
    "march_april = df[ ( df.month == 'March' ) | ( df.month == 'April' ) ]\n",
    "\n",
    "print(march_april)"
   ]
  },
  {
   "cell_type": "code",
   "execution_count": 27,
   "id": "c59c9964-d21d-443d-852c-0f56d90916e0",
   "metadata": {},
   "outputs": [],
   "source": [
    "# select WHERE, using ISIN\n",
    "\n",
    "# df[df.<column>.isin([value, value, value])]"
   ]
  },
  {
   "cell_type": "code",
   "execution_count": 28,
   "id": "8f06e44b-baa2-4984-9103-e41b1ef865e5",
   "metadata": {},
   "outputs": [
    {
     "data": {
      "text/html": [
       "<div>\n",
       "<style scoped>\n",
       "    .dataframe tbody tr th:only-of-type {\n",
       "        vertical-align: middle;\n",
       "    }\n",
       "\n",
       "    .dataframe tbody tr th {\n",
       "        vertical-align: top;\n",
       "    }\n",
       "\n",
       "    .dataframe thead th {\n",
       "        text-align: right;\n",
       "    }\n",
       "</style>\n",
       "<table border=\"1\" class=\"dataframe\">\n",
       "  <thead>\n",
       "    <tr style=\"text-align: right;\">\n",
       "      <th></th>\n",
       "      <th>month</th>\n",
       "      <th>clinic_east</th>\n",
       "      <th>clinic_north</th>\n",
       "      <th>clinic_south</th>\n",
       "      <th>clinic_west</th>\n",
       "    </tr>\n",
       "  </thead>\n",
       "  <tbody>\n",
       "    <tr>\n",
       "      <th>2</th>\n",
       "      <td>March</td>\n",
       "      <td>81</td>\n",
       "      <td>96</td>\n",
       "      <td>65</td>\n",
       "      <td>96</td>\n",
       "    </tr>\n",
       "    <tr>\n",
       "      <th>3</th>\n",
       "      <td>April</td>\n",
       "      <td>80</td>\n",
       "      <td>80</td>\n",
       "      <td>54</td>\n",
       "      <td>180</td>\n",
       "    </tr>\n",
       "  </tbody>\n",
       "</table>\n",
       "</div>"
      ],
      "text/plain": [
       "   month  clinic_east  clinic_north  clinic_south  clinic_west\n",
       "2  March           81            96            65           96\n",
       "3  April           80            80            54          180"
      ]
     },
     "execution_count": 28,
     "metadata": {},
     "output_type": "execute_result"
    }
   ],
   "source": [
    "df[df.clinic_east.isin([80, 81])]"
   ]
  },
  {
   "cell_type": "code",
   "execution_count": 29,
   "id": "66a39061-c64b-4dfb-b287-633fae1cd577",
   "metadata": {},
   "outputs": [
    {
     "name": "stdout",
     "output_type": "stream",
     "text": [
      "      month  clinic_east  clinic_north  clinic_south  clinic_west\n",
      "0   January          100           100            23          100\n",
      "1  February           51            45           145           45\n",
      "2     March           81            96            65           96\n"
     ]
    }
   ],
   "source": [
    "## instruction\n",
    "# Create the variable january_february_march, containing the data from January, February, and March. Do this using a single logical statement with the isin command.\n",
    "\n",
    "january_february_march = df[df.month.isin(['January', 'February', 'March'])]\n",
    "\n",
    "print(january_february_march)\n"
   ]
  },
  {
   "cell_type": "code",
   "execution_count": 30,
   "id": "12cf0a9d-add8-44ba-b57f-e28c825499cb",
   "metadata": {},
   "outputs": [],
   "source": [
    "# Reset index on extracted slice"
   ]
  },
  {
   "cell_type": "code",
   "execution_count": 31,
   "id": "b73ef8f8-02c3-4434-8103-37076af98d7c",
   "metadata": {},
   "outputs": [
    {
     "data": {
      "text/html": [
       "<div>\n",
       "<style scoped>\n",
       "    .dataframe tbody tr th:only-of-type {\n",
       "        vertical-align: middle;\n",
       "    }\n",
       "\n",
       "    .dataframe tbody tr th {\n",
       "        vertical-align: top;\n",
       "    }\n",
       "\n",
       "    .dataframe thead th {\n",
       "        text-align: right;\n",
       "    }\n",
       "</style>\n",
       "<table border=\"1\" class=\"dataframe\">\n",
       "  <thead>\n",
       "    <tr style=\"text-align: right;\">\n",
       "      <th></th>\n",
       "      <th>month</th>\n",
       "      <th>clinic_east</th>\n",
       "      <th>clinic_north</th>\n",
       "      <th>clinic_south</th>\n",
       "      <th>clinic_west</th>\n",
       "    </tr>\n",
       "  </thead>\n",
       "  <tbody>\n",
       "    <tr>\n",
       "      <th>1</th>\n",
       "      <td>February</td>\n",
       "      <td>51</td>\n",
       "      <td>45</td>\n",
       "      <td>145</td>\n",
       "      <td>45</td>\n",
       "    </tr>\n",
       "    <tr>\n",
       "      <th>4</th>\n",
       "      <td>May</td>\n",
       "      <td>51</td>\n",
       "      <td>54</td>\n",
       "      <td>54</td>\n",
       "      <td>154</td>\n",
       "    </tr>\n",
       "  </tbody>\n",
       "</table>\n",
       "</div>"
      ],
      "text/plain": [
       "      month  clinic_east  clinic_north  clinic_south  clinic_west\n",
       "1  February           51            45           145           45\n",
       "4       May           51            54            54          154"
      ]
     },
     "execution_count": 31,
     "metadata": {},
     "output_type": "execute_result"
    }
   ],
   "source": [
    "df[ df.clinic_east == 51 ]\n",
    "\n",
    "# notice the index 1,4 is fragmented"
   ]
  },
  {
   "cell_type": "code",
   "execution_count": 32,
   "id": "5d46b732-230e-4e35-883e-a38b1b53b2fd",
   "metadata": {},
   "outputs": [
    {
     "data": {
      "text/html": [
       "<div>\n",
       "<style scoped>\n",
       "    .dataframe tbody tr th:only-of-type {\n",
       "        vertical-align: middle;\n",
       "    }\n",
       "\n",
       "    .dataframe tbody tr th {\n",
       "        vertical-align: top;\n",
       "    }\n",
       "\n",
       "    .dataframe thead th {\n",
       "        text-align: right;\n",
       "    }\n",
       "</style>\n",
       "<table border=\"1\" class=\"dataframe\">\n",
       "  <thead>\n",
       "    <tr style=\"text-align: right;\">\n",
       "      <th></th>\n",
       "      <th>index</th>\n",
       "      <th>month</th>\n",
       "      <th>clinic_east</th>\n",
       "      <th>clinic_north</th>\n",
       "      <th>clinic_south</th>\n",
       "      <th>clinic_west</th>\n",
       "    </tr>\n",
       "  </thead>\n",
       "  <tbody>\n",
       "    <tr>\n",
       "      <th>0</th>\n",
       "      <td>1</td>\n",
       "      <td>February</td>\n",
       "      <td>51</td>\n",
       "      <td>45</td>\n",
       "      <td>145</td>\n",
       "      <td>45</td>\n",
       "    </tr>\n",
       "    <tr>\n",
       "      <th>1</th>\n",
       "      <td>4</td>\n",
       "      <td>May</td>\n",
       "      <td>51</td>\n",
       "      <td>54</td>\n",
       "      <td>54</td>\n",
       "      <td>154</td>\n",
       "    </tr>\n",
       "  </tbody>\n",
       "</table>\n",
       "</div>"
      ],
      "text/plain": [
       "   index     month  clinic_east  clinic_north  clinic_south  clinic_west\n",
       "0      1  February           51            45           145           45\n",
       "1      4       May           51            54            54          154"
      ]
     },
     "execution_count": 32,
     "metadata": {},
     "output_type": "execute_result"
    }
   ],
   "source": [
    "df[ df.clinic_east == 51 ].reset_index()\n",
    "\n",
    "# FIXED, sorta, though old values remain in a new column, index"
   ]
  },
  {
   "cell_type": "code",
   "execution_count": 33,
   "id": "83002f2e-3c59-4754-a5d0-a2b70b1d0f78",
   "metadata": {},
   "outputs": [
    {
     "data": {
      "text/html": [
       "<div>\n",
       "<style scoped>\n",
       "    .dataframe tbody tr th:only-of-type {\n",
       "        vertical-align: middle;\n",
       "    }\n",
       "\n",
       "    .dataframe tbody tr th {\n",
       "        vertical-align: top;\n",
       "    }\n",
       "\n",
       "    .dataframe thead th {\n",
       "        text-align: right;\n",
       "    }\n",
       "</style>\n",
       "<table border=\"1\" class=\"dataframe\">\n",
       "  <thead>\n",
       "    <tr style=\"text-align: right;\">\n",
       "      <th></th>\n",
       "      <th>month</th>\n",
       "      <th>clinic_east</th>\n",
       "      <th>clinic_north</th>\n",
       "      <th>clinic_south</th>\n",
       "      <th>clinic_west</th>\n",
       "    </tr>\n",
       "  </thead>\n",
       "  <tbody>\n",
       "    <tr>\n",
       "      <th>0</th>\n",
       "      <td>February</td>\n",
       "      <td>51</td>\n",
       "      <td>45</td>\n",
       "      <td>145</td>\n",
       "      <td>45</td>\n",
       "    </tr>\n",
       "    <tr>\n",
       "      <th>1</th>\n",
       "      <td>May</td>\n",
       "      <td>51</td>\n",
       "      <td>54</td>\n",
       "      <td>54</td>\n",
       "      <td>154</td>\n",
       "    </tr>\n",
       "  </tbody>\n",
       "</table>\n",
       "</div>"
      ],
      "text/plain": [
       "      month  clinic_east  clinic_north  clinic_south  clinic_west\n",
       "0  February           51            45           145           45\n",
       "1       May           51            54            54          154"
      ]
     },
     "execution_count": 33,
     "metadata": {},
     "output_type": "execute_result"
    }
   ],
   "source": [
    "df[ df.clinic_east == 51 ].reset_index( drop = True )  # drop = True removes the old index values"
   ]
  },
  {
   "cell_type": "code",
   "execution_count": 34,
   "id": "36b934dd-fe79-4545-bcb5-2d24df4639ee",
   "metadata": {},
   "outputs": [],
   "source": [
    "# Note, both these operations create a new dataframe with the result set. 'df' is not effected.\n",
    "#df"
   ]
  },
  {
   "cell_type": "code",
   "execution_count": 35,
   "id": "82699a7a-1ee6-450e-8828-8846337bf5ba",
   "metadata": {},
   "outputs": [],
   "source": [
    "# use inplace=True to modify a dataframe in place\n",
    "\n",
    "df[ df.clinic_east < 80 ].reset_index(inplace=True   )"
   ]
  },
  {
   "cell_type": "code",
   "execution_count": 36,
   "id": "30f5ad45-443f-4439-8dee-015f82543ead",
   "metadata": {},
   "outputs": [
    {
     "data": {
      "text/html": [
       "<div>\n",
       "<style scoped>\n",
       "    .dataframe tbody tr th:only-of-type {\n",
       "        vertical-align: middle;\n",
       "    }\n",
       "\n",
       "    .dataframe tbody tr th {\n",
       "        vertical-align: top;\n",
       "    }\n",
       "\n",
       "    .dataframe thead th {\n",
       "        text-align: right;\n",
       "    }\n",
       "</style>\n",
       "<table border=\"1\" class=\"dataframe\">\n",
       "  <thead>\n",
       "    <tr style=\"text-align: right;\">\n",
       "      <th></th>\n",
       "      <th>month</th>\n",
       "      <th>clinic_east</th>\n",
       "      <th>clinic_north</th>\n",
       "      <th>clinic_south</th>\n",
       "      <th>clinic_west</th>\n",
       "    </tr>\n",
       "  </thead>\n",
       "  <tbody>\n",
       "    <tr>\n",
       "      <th>0</th>\n",
       "      <td>January</td>\n",
       "      <td>100</td>\n",
       "      <td>100</td>\n",
       "      <td>23</td>\n",
       "      <td>100</td>\n",
       "    </tr>\n",
       "    <tr>\n",
       "      <th>1</th>\n",
       "      <td>February</td>\n",
       "      <td>51</td>\n",
       "      <td>45</td>\n",
       "      <td>145</td>\n",
       "      <td>45</td>\n",
       "    </tr>\n",
       "    <tr>\n",
       "      <th>2</th>\n",
       "      <td>March</td>\n",
       "      <td>81</td>\n",
       "      <td>96</td>\n",
       "      <td>65</td>\n",
       "      <td>96</td>\n",
       "    </tr>\n",
       "    <tr>\n",
       "      <th>3</th>\n",
       "      <td>April</td>\n",
       "      <td>80</td>\n",
       "      <td>80</td>\n",
       "      <td>54</td>\n",
       "      <td>180</td>\n",
       "    </tr>\n",
       "    <tr>\n",
       "      <th>4</th>\n",
       "      <td>May</td>\n",
       "      <td>51</td>\n",
       "      <td>54</td>\n",
       "      <td>54</td>\n",
       "      <td>154</td>\n",
       "    </tr>\n",
       "    <tr>\n",
       "      <th>5</th>\n",
       "      <td>June</td>\n",
       "      <td>112</td>\n",
       "      <td>109</td>\n",
       "      <td>79</td>\n",
       "      <td>129</td>\n",
       "    </tr>\n",
       "  </tbody>\n",
       "</table>\n",
       "</div>"
      ],
      "text/plain": [
       "      month  clinic_east  clinic_north  clinic_south  clinic_west\n",
       "0   January          100           100            23          100\n",
       "1  February           51            45           145           45\n",
       "2     March           81            96            65           96\n",
       "3     April           80            80            54          180\n",
       "4       May           51            54            54          154\n",
       "5      June          112           109            79          129"
      ]
     },
     "execution_count": 36,
     "metadata": {},
     "output_type": "execute_result"
    }
   ],
   "source": [
    "df"
   ]
  },
  {
   "cell_type": "code",
   "execution_count": 37,
   "id": "ce767c18-d15e-485c-9d03-be18108ee049",
   "metadata": {},
   "outputs": [
    {
     "data": {
      "text/html": [
       "<div>\n",
       "<style scoped>\n",
       "    .dataframe tbody tr th:only-of-type {\n",
       "        vertical-align: middle;\n",
       "    }\n",
       "\n",
       "    .dataframe tbody tr th {\n",
       "        vertical-align: top;\n",
       "    }\n",
       "\n",
       "    .dataframe thead th {\n",
       "        text-align: right;\n",
       "    }\n",
       "</style>\n",
       "<table border=\"1\" class=\"dataframe\">\n",
       "  <thead>\n",
       "    <tr style=\"text-align: right;\">\n",
       "      <th></th>\n",
       "      <th>month</th>\n",
       "      <th>clinic_east</th>\n",
       "      <th>clinic_north</th>\n",
       "      <th>clinic_south</th>\n",
       "      <th>clinic_west</th>\n",
       "    </tr>\n",
       "  </thead>\n",
       "  <tbody>\n",
       "    <tr>\n",
       "      <th>1</th>\n",
       "      <td>February</td>\n",
       "      <td>51</td>\n",
       "      <td>45</td>\n",
       "      <td>145</td>\n",
       "      <td>45</td>\n",
       "    </tr>\n",
       "    <tr>\n",
       "      <th>3</th>\n",
       "      <td>April</td>\n",
       "      <td>80</td>\n",
       "      <td>80</td>\n",
       "      <td>54</td>\n",
       "      <td>180</td>\n",
       "    </tr>\n",
       "    <tr>\n",
       "      <th>5</th>\n",
       "      <td>June</td>\n",
       "      <td>112</td>\n",
       "      <td>109</td>\n",
       "      <td>79</td>\n",
       "      <td>129</td>\n",
       "    </tr>\n",
       "  </tbody>\n",
       "</table>\n",
       "</div>"
      ],
      "text/plain": [
       "      month  clinic_east  clinic_north  clinic_south  clinic_west\n",
       "1  February           51            45           145           45\n",
       "3     April           80            80            54          180\n",
       "5      June          112           109            79          129"
      ]
     },
     "execution_count": 37,
     "metadata": {},
     "output_type": "execute_result"
    }
   ],
   "source": [
    "# New method :: loc[] to access rows\n",
    "df.loc[[1, 3, 5]]\n",
    "\n",
    "#df.loc[[1, 3, 5]].reset_index()"
   ]
  },
  {
   "cell_type": "code",
   "execution_count": 38,
   "id": "d8d54095-83f5-4b7c-8f7f-7fa488fe7cc6",
   "metadata": {},
   "outputs": [
    {
     "data": {
      "text/html": [
       "<div>\n",
       "<style scoped>\n",
       "    .dataframe tbody tr th:only-of-type {\n",
       "        vertical-align: middle;\n",
       "    }\n",
       "\n",
       "    .dataframe tbody tr th {\n",
       "        vertical-align: top;\n",
       "    }\n",
       "\n",
       "    .dataframe thead th {\n",
       "        text-align: right;\n",
       "    }\n",
       "</style>\n",
       "<table border=\"1\" class=\"dataframe\">\n",
       "  <thead>\n",
       "    <tr style=\"text-align: right;\">\n",
       "      <th></th>\n",
       "      <th>month</th>\n",
       "      <th>clinic_east</th>\n",
       "      <th>clinic_north</th>\n",
       "      <th>clinic_south</th>\n",
       "      <th>clinic_west</th>\n",
       "    </tr>\n",
       "  </thead>\n",
       "  <tbody>\n",
       "    <tr>\n",
       "      <th>1</th>\n",
       "      <td>February</td>\n",
       "      <td>51</td>\n",
       "      <td>45</td>\n",
       "      <td>145</td>\n",
       "      <td>45</td>\n",
       "    </tr>\n",
       "    <tr>\n",
       "      <th>3</th>\n",
       "      <td>April</td>\n",
       "      <td>80</td>\n",
       "      <td>80</td>\n",
       "      <td>54</td>\n",
       "      <td>180</td>\n",
       "    </tr>\n",
       "    <tr>\n",
       "      <th>5</th>\n",
       "      <td>June</td>\n",
       "      <td>112</td>\n",
       "      <td>109</td>\n",
       "      <td>79</td>\n",
       "      <td>129</td>\n",
       "    </tr>\n",
       "  </tbody>\n",
       "</table>\n",
       "</div>"
      ],
      "text/plain": [
       "      month  clinic_east  clinic_north  clinic_south  clinic_west\n",
       "1  February           51            45           145           45\n",
       "3     April           80            80            54          180\n",
       "5      June          112           109            79          129"
      ]
     },
     "execution_count": 38,
     "metadata": {},
     "output_type": "execute_result"
    }
   ],
   "source": [
    "df2 = df.loc[[1, 3, 5]]\n",
    "df2\n"
   ]
  },
  {
   "cell_type": "code",
   "execution_count": 39,
   "id": "683f0be9-cfec-4f17-bb78-b2449ee4cbc7",
   "metadata": {},
   "outputs": [
    {
     "data": {
      "text/html": [
       "<div>\n",
       "<style scoped>\n",
       "    .dataframe tbody tr th:only-of-type {\n",
       "        vertical-align: middle;\n",
       "    }\n",
       "\n",
       "    .dataframe tbody tr th {\n",
       "        vertical-align: top;\n",
       "    }\n",
       "\n",
       "    .dataframe thead th {\n",
       "        text-align: right;\n",
       "    }\n",
       "</style>\n",
       "<table border=\"1\" class=\"dataframe\">\n",
       "  <thead>\n",
       "    <tr style=\"text-align: right;\">\n",
       "      <th></th>\n",
       "      <th>index</th>\n",
       "      <th>month</th>\n",
       "      <th>clinic_east</th>\n",
       "      <th>clinic_north</th>\n",
       "      <th>clinic_south</th>\n",
       "      <th>clinic_west</th>\n",
       "    </tr>\n",
       "  </thead>\n",
       "  <tbody>\n",
       "    <tr>\n",
       "      <th>0</th>\n",
       "      <td>1</td>\n",
       "      <td>February</td>\n",
       "      <td>51</td>\n",
       "      <td>45</td>\n",
       "      <td>145</td>\n",
       "      <td>45</td>\n",
       "    </tr>\n",
       "    <tr>\n",
       "      <th>1</th>\n",
       "      <td>3</td>\n",
       "      <td>April</td>\n",
       "      <td>80</td>\n",
       "      <td>80</td>\n",
       "      <td>54</td>\n",
       "      <td>180</td>\n",
       "    </tr>\n",
       "    <tr>\n",
       "      <th>2</th>\n",
       "      <td>5</td>\n",
       "      <td>June</td>\n",
       "      <td>112</td>\n",
       "      <td>109</td>\n",
       "      <td>79</td>\n",
       "      <td>129</td>\n",
       "    </tr>\n",
       "  </tbody>\n",
       "</table>\n",
       "</div>"
      ],
      "text/plain": [
       "   index     month  clinic_east  clinic_north  clinic_south  clinic_west\n",
       "0      1  February           51            45           145           45\n",
       "1      3     April           80            80            54          180\n",
       "2      5      June          112           109            79          129"
      ]
     },
     "execution_count": 39,
     "metadata": {},
     "output_type": "execute_result"
    }
   ],
   "source": [
    "## instruction\n",
    "# Create a new DataFrame called df3 by resetting the indices on df2 (don’t use inplace or drop). Did df2 change after you ran this command?\n",
    "\n",
    "df3 = df2.reset_index()\n",
    "df3"
   ]
  },
  {
   "cell_type": "code",
   "execution_count": 40,
   "id": "2549d49f-fdd4-4fc8-a0e8-89b31bfe95c1",
   "metadata": {},
   "outputs": [
    {
     "data": {
      "text/html": [
       "<div>\n",
       "<style scoped>\n",
       "    .dataframe tbody tr th:only-of-type {\n",
       "        vertical-align: middle;\n",
       "    }\n",
       "\n",
       "    .dataframe tbody tr th {\n",
       "        vertical-align: top;\n",
       "    }\n",
       "\n",
       "    .dataframe thead th {\n",
       "        text-align: right;\n",
       "    }\n",
       "</style>\n",
       "<table border=\"1\" class=\"dataframe\">\n",
       "  <thead>\n",
       "    <tr style=\"text-align: right;\">\n",
       "      <th></th>\n",
       "      <th>month</th>\n",
       "      <th>clinic_east</th>\n",
       "      <th>clinic_north</th>\n",
       "      <th>clinic_south</th>\n",
       "      <th>clinic_west</th>\n",
       "    </tr>\n",
       "  </thead>\n",
       "  <tbody>\n",
       "    <tr>\n",
       "      <th>0</th>\n",
       "      <td>February</td>\n",
       "      <td>51</td>\n",
       "      <td>45</td>\n",
       "      <td>145</td>\n",
       "      <td>45</td>\n",
       "    </tr>\n",
       "    <tr>\n",
       "      <th>1</th>\n",
       "      <td>April</td>\n",
       "      <td>80</td>\n",
       "      <td>80</td>\n",
       "      <td>54</td>\n",
       "      <td>180</td>\n",
       "    </tr>\n",
       "    <tr>\n",
       "      <th>2</th>\n",
       "      <td>June</td>\n",
       "      <td>112</td>\n",
       "      <td>109</td>\n",
       "      <td>79</td>\n",
       "      <td>129</td>\n",
       "    </tr>\n",
       "  </tbody>\n",
       "</table>\n",
       "</div>"
      ],
      "text/plain": [
       "      month  clinic_east  clinic_north  clinic_south  clinic_west\n",
       "0  February           51            45           145           45\n",
       "1     April           80            80            54          180\n",
       "2      June          112           109            79          129"
      ]
     },
     "execution_count": 40,
     "metadata": {},
     "output_type": "execute_result"
    }
   ],
   "source": [
    "# Reset the indices of df2 by using the keyword inplace=True and drop=True. Did the indices of df2 change? How is df2 different from df3?\n",
    "\n",
    "df2.reset_index(drop=True, inplace=True)\n",
    "df2"
   ]
  },
  {
   "cell_type": "code",
   "execution_count": 41,
   "id": "d5f44412-5d93-4068-9eb0-c43ca55b6e4e",
   "metadata": {},
   "outputs": [],
   "source": [
    "###\n",
    "#  Excursion : using reset_index() to force a numeric index on a df that has been indexed on another non-numeric column\n",
    "####\n",
    "\n",
    "#df_networkProject = pd.read_csv('Nodes_IN_Medium.csv')"
   ]
  },
  {
   "cell_type": "code",
   "execution_count": 42,
   "id": "3fb4ace0-db65-4c70-a8f5-d4c0e554ca0f",
   "metadata": {},
   "outputs": [],
   "source": [
    "#type(df_networkProject)\n",
    "#df_networkProject.head(5)"
   ]
  },
  {
   "cell_type": "code",
   "execution_count": 43,
   "id": "73cc78c8-8bfc-44ee-9d41-ccfdef8f8b44",
   "metadata": {},
   "outputs": [],
   "source": [
    "# set the df index to nodename\n",
    "\n",
    "#df_networkProject.set_index('nodename', inplace = True)"
   ]
  },
  {
   "cell_type": "code",
   "execution_count": 44,
   "id": "cbfe4256-4351-4668-a078-fff645d95ef2",
   "metadata": {},
   "outputs": [],
   "source": [
    "# now reset the index\n",
    "\n",
    "#df_networkProject.reset_index(inplace=True)\n",
    "\n",
    "# WORKS!"
   ]
  },
  {
   "cell_type": "code",
   "execution_count": 45,
   "id": "87e1821c-d03d-4b46-9031-c27815ca518b",
   "metadata": {},
   "outputs": [],
   "source": [
    "####################\n",
    "# Exercise\n",
    "#################\n",
    "\n",
    "#In this example, you’ll be the data analyst for ShoeFly.com, a fictional online shoe store. You’ve seen this data; now it’s your turn to work with it!"
   ]
  },
  {
   "cell_type": "code",
   "execution_count": 46,
   "id": "74bcc784-d54d-45f0-82e9-9e9a1b5e2c30",
   "metadata": {},
   "outputs": [],
   "source": [
    "# Load the data from shoefly.csv into the variable orders \n",
    "\n",
    "#orders = pd.read_csv('shoefly.csv')"
   ]
  },
  {
   "cell_type": "code",
   "execution_count": 47,
   "id": "5b89aa5c-6683-46ef-b742-111f1c36a80d",
   "metadata": {},
   "outputs": [],
   "source": [
    "# Inspect the first 5 lines of the data.\n",
    "\n",
    "#orders.head(5) # no good; Excel didnt parse it; its all in 1 column... FIXED"
   ]
  },
  {
   "cell_type": "code",
   "execution_count": 48,
   "id": "14d1f741-5bb5-42d1-ad2f-9d220e5b7bd6",
   "metadata": {},
   "outputs": [],
   "source": [
    "# Select all of the email addresses from the column email and save them to a variable called emails\n",
    "\n",
    "#orders['email']"
   ]
  },
  {
   "cell_type": "code",
   "execution_count": 49,
   "id": "e3c38c34-01b9-43c6-be9d-39067fb3a537",
   "metadata": {},
   "outputs": [],
   "source": [
    "# Frances Palmer claims that her order was wrong. What did Frances Palmer order? Use logic to select that row of orders and save it to the variable frances_palmer\n",
    "\n",
    "#frances_palmer = orders[ ( orders.first_name  == 'Frances' ) & ( orders.last_name == 'Palmer'  )  ]\n",
    "#print(type(frances_palmer))  # even this single line result is of type data frame\n",
    "#frances_palmer"
   ]
  },
  {
   "cell_type": "code",
   "execution_count": 50,
   "id": "d5c26a3f-9d1d-454a-a9f0-a9ddbe5b6dd2",
   "metadata": {},
   "outputs": [],
   "source": [
    "# We need some customer reviews for our comfortable shoes. Select all orders for shoe_type: clogs, boots, and ballet flats and save them to the variable comfy_shoes.\n",
    "\n",
    "#comfy_shoes = orders[ orders.shoe_type.isin(  [ 'clogs', 'boots', 'ballet flats' ] ) ]\n",
    "\n",
    "#print( comfy_shoes )\n",
    "#comfy_shoes"
   ]
  },
  {
   "cell_type": "code",
   "execution_count": 51,
   "id": "9f2e622f-5b71-4054-b3cc-ceaee255ea38",
   "metadata": {},
   "outputs": [],
   "source": [
    "##############\n",
    "# Modifying a DataFrame\n",
    "#################"
   ]
  },
  {
   "cell_type": "code",
   "execution_count": 52,
   "id": "ed487f2b-40d5-45e3-8f75-ba4de1d3f1dd",
   "metadata": {},
   "outputs": [],
   "source": [
    "## Adding a Column I"
   ]
  },
  {
   "cell_type": "code",
   "execution_count": 53,
   "id": "b319e744-659f-441b-b1c6-92dbab4fb2ce",
   "metadata": {},
   "outputs": [],
   "source": [
    "df = pd.DataFrame([\n",
    "  [1, '3 inch screw', 0.5, 0.75],\n",
    "  [2, '2 inch nail', 0.10, 0.25],\n",
    "  [3, 'hammer', 3.00, 5.50],\n",
    "  [4, 'screwdriver', 2.50, 3.00]\n",
    "],\n",
    "  columns=['Product ID', 'Description', 'Cost to Manufacture', 'Price']\n",
    ")"
   ]
  },
  {
   "cell_type": "code",
   "execution_count": 54,
   "id": "ecbc9a3f-f0e9-4532-9a4c-598c58282225",
   "metadata": {},
   "outputs": [],
   "source": [
    "# The DataFrame df contains information on products sold at a hardware store. Add a column to df called 'Sold in Bulk?', which indicates if the product is sold in bulk or individually. The final table should look like this:"
   ]
  },
  {
   "cell_type": "code",
   "execution_count": 55,
   "id": "c92d52ec-ab61-4225-b21f-18ad161d2943",
   "metadata": {},
   "outputs": [],
   "source": [
    "df['Sold in Bulk?'] = [ 'Yes', 'Yes', 'No', 'No' ]"
   ]
  },
  {
   "cell_type": "code",
   "execution_count": 56,
   "id": "df310006-0b05-43ee-9d5a-1818abbcf3e6",
   "metadata": {},
   "outputs": [],
   "source": [
    "# Add a column to df called Is taxed?, which indicates whether or not to collect sales tax on the product. It should be 'Yes' for all rows."
   ]
  },
  {
   "cell_type": "code",
   "execution_count": 57,
   "id": "e2cc98ed-de96-48b8-b603-69a713777523",
   "metadata": {},
   "outputs": [],
   "source": [
    "df['Is taxed?'] = 'Yes'"
   ]
  },
  {
   "cell_type": "code",
   "execution_count": 58,
   "id": "c7d16581-e5e8-4d69-b0e2-b3b9955ea89f",
   "metadata": {},
   "outputs": [],
   "source": [
    "## Using apply() to modify a column\n",
    "\n",
    "df['Is taxed?'] = df[\"Is taxed?\"].apply(str.upper) # dot . notation can be used to designate columns by exact name , only w/o whitespace"
   ]
  },
  {
   "cell_type": "code",
   "execution_count": 59,
   "id": "4ae5f440-a1ad-4afd-8665-6904a825f4db",
   "metadata": {},
   "outputs": [],
   "source": [
    "## Instruction: Apply the function lower to all names in column 'Name' in df. Assign these new names to a new column of df called 'Lowercase Name'. \n",
    "\n",
    "df2 = pd.DataFrame([\n",
    "  ['JOHN SMITH', 'john.smith@gmail.com'],\n",
    "  ['Jane Doe', 'jdoe@yahoo.com'],\n",
    "  ['joe schmo', 'joeschmo@hotmail.com']\n",
    "],\n",
    "columns=['Name', 'Email'])"
   ]
  },
  {
   "cell_type": "code",
   "execution_count": 60,
   "id": "bc80c3b9-6937-4bee-a2f4-ada8274b0287",
   "metadata": {},
   "outputs": [],
   "source": [
    "df2['Lowercase Name'] = df2['Name'].apply(str.lower)"
   ]
  },
  {
   "cell_type": "code",
   "execution_count": 61,
   "id": "99dafc7c-ed99-45ef-8413-54c9bbbc0f3e",
   "metadata": {},
   "outputs": [
    {
     "data": {
      "text/html": [
       "<div>\n",
       "<style scoped>\n",
       "    .dataframe tbody tr th:only-of-type {\n",
       "        vertical-align: middle;\n",
       "    }\n",
       "\n",
       "    .dataframe tbody tr th {\n",
       "        vertical-align: top;\n",
       "    }\n",
       "\n",
       "    .dataframe thead th {\n",
       "        text-align: right;\n",
       "    }\n",
       "</style>\n",
       "<table border=\"1\" class=\"dataframe\">\n",
       "  <thead>\n",
       "    <tr style=\"text-align: right;\">\n",
       "      <th></th>\n",
       "      <th>Name</th>\n",
       "      <th>Email</th>\n",
       "      <th>Lowercase Name</th>\n",
       "    </tr>\n",
       "  </thead>\n",
       "  <tbody>\n",
       "    <tr>\n",
       "      <th>0</th>\n",
       "      <td>JOHN SMITH</td>\n",
       "      <td>john.smith@gmail.com</td>\n",
       "      <td>john smith</td>\n",
       "    </tr>\n",
       "    <tr>\n",
       "      <th>1</th>\n",
       "      <td>Jane Doe</td>\n",
       "      <td>jdoe@yahoo.com</td>\n",
       "      <td>jane doe</td>\n",
       "    </tr>\n",
       "    <tr>\n",
       "      <th>2</th>\n",
       "      <td>joe schmo</td>\n",
       "      <td>joeschmo@hotmail.com</td>\n",
       "      <td>joe schmo</td>\n",
       "    </tr>\n",
       "  </tbody>\n",
       "</table>\n",
       "</div>"
      ],
      "text/plain": [
       "         Name                 Email Lowercase Name\n",
       "0  JOHN SMITH  john.smith@gmail.com     john smith\n",
       "1    Jane Doe        jdoe@yahoo.com       jane doe\n",
       "2   joe schmo  joeschmo@hotmail.com      joe schmo"
      ]
     },
     "execution_count": 61,
     "metadata": {},
     "output_type": "execute_result"
    }
   ],
   "source": [
    "df2"
   ]
  },
  {
   "cell_type": "code",
   "execution_count": 62,
   "id": "3e2b23de-c2be-4262-b9c6-626545b0b923",
   "metadata": {},
   "outputs": [],
   "source": [
    "## Modifying a data frame with lambdas\n",
    "\n"
   ]
  },
  {
   "cell_type": "code",
   "execution_count": 63,
   "id": "6db8bc7d-b6e9-4403-b2be-e54ee84572f5",
   "metadata": {},
   "outputs": [],
   "source": [
    "## Instruction : Create a lambda function mylambda that returns the first and last letters of a string, assuming the string is at least 2 characters long. For example,\n",
    "\n",
    "mylambda = lambda str :  str[0] + str[-1] if len(str) > 1 else 'too short, shorty!'"
   ]
  },
  {
   "cell_type": "code",
   "execution_count": 64,
   "id": "8d73aa63-c19b-41e8-96c9-f4c528d67fd1",
   "metadata": {},
   "outputs": [
    {
     "data": {
      "text/plain": [
       "'too short, shorty!'"
      ]
     },
     "execution_count": 64,
     "metadata": {},
     "output_type": "execute_result"
    }
   ],
   "source": [
    "mylambda('E')"
   ]
  },
  {
   "cell_type": "code",
   "execution_count": 65,
   "id": "9570ec79-3925-4a0e-93f1-c4cb4af91b39",
   "metadata": {},
   "outputs": [],
   "source": [
    "# Cool use of apply() with a lambda\n",
    "df2['NameFirstAndLast'] = df2.Name.apply(mylambda)"
   ]
  },
  {
   "cell_type": "code",
   "execution_count": 66,
   "id": "00d8cd3e-5c69-41a5-8adf-804ba6d6bfe6",
   "metadata": {},
   "outputs": [
    {
     "data": {
      "text/html": [
       "<div>\n",
       "<style scoped>\n",
       "    .dataframe tbody tr th:only-of-type {\n",
       "        vertical-align: middle;\n",
       "    }\n",
       "\n",
       "    .dataframe tbody tr th {\n",
       "        vertical-align: top;\n",
       "    }\n",
       "\n",
       "    .dataframe thead th {\n",
       "        text-align: right;\n",
       "    }\n",
       "</style>\n",
       "<table border=\"1\" class=\"dataframe\">\n",
       "  <thead>\n",
       "    <tr style=\"text-align: right;\">\n",
       "      <th></th>\n",
       "      <th>Name</th>\n",
       "      <th>Email</th>\n",
       "      <th>Lowercase Name</th>\n",
       "      <th>NameFirstAndLast</th>\n",
       "    </tr>\n",
       "  </thead>\n",
       "  <tbody>\n",
       "    <tr>\n",
       "      <th>0</th>\n",
       "      <td>JOHN SMITH</td>\n",
       "      <td>john.smith@gmail.com</td>\n",
       "      <td>john smith</td>\n",
       "      <td>JH</td>\n",
       "    </tr>\n",
       "    <tr>\n",
       "      <th>1</th>\n",
       "      <td>Jane Doe</td>\n",
       "      <td>jdoe@yahoo.com</td>\n",
       "      <td>jane doe</td>\n",
       "      <td>Je</td>\n",
       "    </tr>\n",
       "    <tr>\n",
       "      <th>2</th>\n",
       "      <td>joe schmo</td>\n",
       "      <td>joeschmo@hotmail.com</td>\n",
       "      <td>joe schmo</td>\n",
       "      <td>jo</td>\n",
       "    </tr>\n",
       "  </tbody>\n",
       "</table>\n",
       "</div>"
      ],
      "text/plain": [
       "         Name                 Email Lowercase Name NameFirstAndLast\n",
       "0  JOHN SMITH  john.smith@gmail.com     john smith               JH\n",
       "1    Jane Doe        jdoe@yahoo.com       jane doe               Je\n",
       "2   joe schmo  joeschmo@hotmail.com      joe schmo               jo"
      ]
     },
     "execution_count": 66,
     "metadata": {},
     "output_type": "execute_result"
    }
   ],
   "source": [
    "df2"
   ]
  },
  {
   "cell_type": "code",
   "execution_count": 67,
   "id": "73afcada-86d2-42c6-b7ce-ca1d992f752a",
   "metadata": {},
   "outputs": [],
   "source": [
    "## Instruction: You are managing the webpage of a somewhat violent video game and you want to check that each user’s age is 13 or greater when they visit the site.\n",
    "#Write a lambda function that takes an inputted age and either returns Welcome to BattleCity! bif the user is 13 or older or You must be 13 or older if they are younger than 13. Your lambda function should be called mylambda.\n",
    "\n",
    "\n",
    "mylambda = lambda age : 'Welcome to BattleCity!' if age >= 13 else 'You must be 13 or older'"
   ]
  },
  {
   "cell_type": "code",
   "execution_count": 68,
   "id": "bea3cedc-6a8f-4351-a6aa-3bc45f4884a0",
   "metadata": {},
   "outputs": [
    {
     "data": {
      "text/plain": [
       "'You must be 13 or older'"
      ]
     },
     "execution_count": 68,
     "metadata": {},
     "output_type": "execute_result"
    }
   ],
   "source": [
    "mylambda(11)"
   ]
  },
  {
   "cell_type": "code",
   "execution_count": 69,
   "id": "fba07a21-f4a1-457b-9be2-4dec7d37c9fa",
   "metadata": {},
   "outputs": [],
   "source": [
    "## Instruction: Create a lambda function get_last_name which takes a string with someone’s first and last name (i.e., John Smith), and returns just the last name (i.e., Smith)."
   ]
  },
  {
   "cell_type": "code",
   "execution_count": 70,
   "id": "4dab9009-e971-43ee-bc02-3938a6879c08",
   "metadata": {},
   "outputs": [],
   "source": [
    "get_last_name = lambda fName : fName.split(' ')[-1]"
   ]
  },
  {
   "cell_type": "code",
   "execution_count": 71,
   "id": "1a50c5e5-1416-4365-83fc-25e83a19adda",
   "metadata": {},
   "outputs": [
    {
     "data": {
      "text/plain": [
       "'Smyth'"
      ]
     },
     "execution_count": 71,
     "metadata": {},
     "output_type": "execute_result"
    }
   ],
   "source": [
    "get_last_name('Eric Smyth')"
   ]
  },
  {
   "cell_type": "code",
   "execution_count": null,
   "id": "5bca6a6d-381d-435a-a2a3-a2f905fcb11e",
   "metadata": {},
   "outputs": [],
   "source": [
    "\n"
   ]
  },
  {
   "cell_type": "code",
   "execution_count": 72,
   "id": "d8abf485-5530-4d4e-b405-23336eca0709",
   "metadata": {},
   "outputs": [],
   "source": [
    "\n",
    "## Instruction: Use the lambda function get_last_name to create a new column last_name with only the employees’ last name.\n",
    "df = pd.DataFrame([\n",
    "  [1, '3 inch screw', 0.5, 0.75],\n",
    "  [2, '2 inch nail', 0.10, 0.25],\n",
    "  [3, 'hammer', 3.00, 5.50],\n",
    "  [4, 'screwdriver', 2.50, 3.00]\n",
    "],\n",
    "  columns=['Product ID', 'Description', 'Cost to Manufacture', 'Price']\n",
    ")\n",
    "\n",
    "#df[]\n",
    "\n"
   ]
  },
  {
   "cell_type": "code",
   "execution_count": 73,
   "id": "f2e3301c-ef52-45a2-9336-f481324eff14",
   "metadata": {},
   "outputs": [],
   "source": [
    "df['Is taxed?'] = [True, False, False, True]"
   ]
  },
  {
   "cell_type": "code",
   "execution_count": 74,
   "id": "e8195b61-e173-4fc9-a531-a2ea84766b6a",
   "metadata": {},
   "outputs": [],
   "source": [
    "df['Price with Tax'] = df.apply(lambda row:\n",
    "     round(row['Price'] * 1.075, 2)\n",
    "     if row['Is taxed?'] == True\n",
    "     else round(row['Price'], 2),\n",
    "     axis=1\n",
    ")\n"
   ]
  },
  {
   "cell_type": "code",
   "execution_count": 75,
   "id": "e77122c1-fb45-48e6-af4d-a0b89ec9a2a8",
   "metadata": {},
   "outputs": [],
   "source": [
    "# use this repeatedly where payroll data is needed\n",
    "# The DataFrame df represents the hours worked by different employees over the course of the week. It contains the following columns:\n",
    "\n",
    "df = pd.read_csv( '../employees.csv' )\n",
    "\n"
   ]
  },
  {
   "cell_type": "code",
   "execution_count": 76,
   "id": "84597092-3044-4ace-a81e-ec137ec66107",
   "metadata": {},
   "outputs": [],
   "source": [
    "df['last_name'] = df.name.apply( get_last_name) ### dont pass an empty () when calling a lambda; pass nothing\n"
   ]
  },
  {
   "cell_type": "code",
   "execution_count": 77,
   "id": "6dfb5eb6-8239-4c77-9a1b-f64787c563dd",
   "metadata": {},
   "outputs": [
    {
     "data": {
      "text/html": [
       "<div>\n",
       "<style scoped>\n",
       "    .dataframe tbody tr th:only-of-type {\n",
       "        vertical-align: middle;\n",
       "    }\n",
       "\n",
       "    .dataframe tbody tr th {\n",
       "        vertical-align: top;\n",
       "    }\n",
       "\n",
       "    .dataframe thead th {\n",
       "        text-align: right;\n",
       "    }\n",
       "</style>\n",
       "<table border=\"1\" class=\"dataframe\">\n",
       "  <thead>\n",
       "    <tr style=\"text-align: right;\">\n",
       "      <th></th>\n",
       "      <th>id</th>\n",
       "      <th>name</th>\n",
       "      <th>hourly_wage</th>\n",
       "      <th>hours_worked</th>\n",
       "      <th>last_name</th>\n",
       "    </tr>\n",
       "  </thead>\n",
       "  <tbody>\n",
       "    <tr>\n",
       "      <th>0</th>\n",
       "      <td>10310</td>\n",
       "      <td>Lauren Durham</td>\n",
       "      <td>19</td>\n",
       "      <td>43</td>\n",
       "      <td>Durham</td>\n",
       "    </tr>\n",
       "    <tr>\n",
       "      <th>1</th>\n",
       "      <td>18656</td>\n",
       "      <td>Grace Sellers</td>\n",
       "      <td>17</td>\n",
       "      <td>40</td>\n",
       "      <td>Sellers</td>\n",
       "    </tr>\n",
       "    <tr>\n",
       "      <th>2</th>\n",
       "      <td>61254</td>\n",
       "      <td>Shirley Rasmussen</td>\n",
       "      <td>16</td>\n",
       "      <td>30</td>\n",
       "      <td>Rasmussen</td>\n",
       "    </tr>\n",
       "    <tr>\n",
       "      <th>3</th>\n",
       "      <td>16886</td>\n",
       "      <td>Brian Rojas</td>\n",
       "      <td>18</td>\n",
       "      <td>47</td>\n",
       "      <td>Rojas</td>\n",
       "    </tr>\n",
       "    <tr>\n",
       "      <th>4</th>\n",
       "      <td>89010</td>\n",
       "      <td>Samantha Mosley</td>\n",
       "      <td>11</td>\n",
       "      <td>38</td>\n",
       "      <td>Mosley</td>\n",
       "    </tr>\n",
       "    <tr>\n",
       "      <th>5</th>\n",
       "      <td>87246</td>\n",
       "      <td>Louis Guzman</td>\n",
       "      <td>14</td>\n",
       "      <td>39</td>\n",
       "      <td>Guzman</td>\n",
       "    </tr>\n",
       "    <tr>\n",
       "      <th>6</th>\n",
       "      <td>20578</td>\n",
       "      <td>Denise Mcclure</td>\n",
       "      <td>15</td>\n",
       "      <td>40</td>\n",
       "      <td>Mcclure</td>\n",
       "    </tr>\n",
       "    <tr>\n",
       "      <th>7</th>\n",
       "      <td>12869</td>\n",
       "      <td>James Raymond</td>\n",
       "      <td>15</td>\n",
       "      <td>32</td>\n",
       "      <td>Raymond</td>\n",
       "    </tr>\n",
       "    <tr>\n",
       "      <th>8</th>\n",
       "      <td>53461</td>\n",
       "      <td>Noah Collier</td>\n",
       "      <td>18</td>\n",
       "      <td>35</td>\n",
       "      <td>Collier</td>\n",
       "    </tr>\n",
       "    <tr>\n",
       "      <th>9</th>\n",
       "      <td>14746</td>\n",
       "      <td>Donna Frederick</td>\n",
       "      <td>20</td>\n",
       "      <td>41</td>\n",
       "      <td>Frederick</td>\n",
       "    </tr>\n",
       "    <tr>\n",
       "      <th>10</th>\n",
       "      <td>71127</td>\n",
       "      <td>Shirley Beck</td>\n",
       "      <td>14</td>\n",
       "      <td>32</td>\n",
       "      <td>Beck</td>\n",
       "    </tr>\n",
       "    <tr>\n",
       "      <th>11</th>\n",
       "      <td>92522</td>\n",
       "      <td>Christina Kelly</td>\n",
       "      <td>8</td>\n",
       "      <td>44</td>\n",
       "      <td>Kelly</td>\n",
       "    </tr>\n",
       "    <tr>\n",
       "      <th>12</th>\n",
       "      <td>22447</td>\n",
       "      <td>Brian Noble</td>\n",
       "      <td>11</td>\n",
       "      <td>39</td>\n",
       "      <td>Noble</td>\n",
       "    </tr>\n",
       "    <tr>\n",
       "      <th>13</th>\n",
       "      <td>61654</td>\n",
       "      <td>Randy Key</td>\n",
       "      <td>16</td>\n",
       "      <td>38</td>\n",
       "      <td>Key</td>\n",
       "    </tr>\n",
       "    <tr>\n",
       "      <th>14</th>\n",
       "      <td>16988</td>\n",
       "      <td>Diana Stewart</td>\n",
       "      <td>14</td>\n",
       "      <td>48</td>\n",
       "      <td>Stewart</td>\n",
       "    </tr>\n",
       "    <tr>\n",
       "      <th>15</th>\n",
       "      <td>68619</td>\n",
       "      <td>Timothy Sosa</td>\n",
       "      <td>14</td>\n",
       "      <td>42</td>\n",
       "      <td>Sosa</td>\n",
       "    </tr>\n",
       "    <tr>\n",
       "      <th>16</th>\n",
       "      <td>59949</td>\n",
       "      <td>Betty Skinner</td>\n",
       "      <td>11</td>\n",
       "      <td>48</td>\n",
       "      <td>Skinner</td>\n",
       "    </tr>\n",
       "    <tr>\n",
       "      <th>17</th>\n",
       "      <td>81418</td>\n",
       "      <td>Janet Maxwell</td>\n",
       "      <td>12</td>\n",
       "      <td>38</td>\n",
       "      <td>Maxwell</td>\n",
       "    </tr>\n",
       "    <tr>\n",
       "      <th>18</th>\n",
       "      <td>27267</td>\n",
       "      <td>Madison Johnston</td>\n",
       "      <td>20</td>\n",
       "      <td>37</td>\n",
       "      <td>Johnston</td>\n",
       "    </tr>\n",
       "    <tr>\n",
       "      <th>19</th>\n",
       "      <td>19985</td>\n",
       "      <td>Virginia Nichols</td>\n",
       "      <td>13</td>\n",
       "      <td>49</td>\n",
       "      <td>Nichols</td>\n",
       "    </tr>\n",
       "  </tbody>\n",
       "</table>\n",
       "</div>"
      ],
      "text/plain": [
       "       id               name  hourly_wage  hours_worked  last_name\n",
       "0   10310      Lauren Durham           19            43     Durham\n",
       "1   18656      Grace Sellers           17            40    Sellers\n",
       "2   61254  Shirley Rasmussen           16            30  Rasmussen\n",
       "3   16886        Brian Rojas           18            47      Rojas\n",
       "4   89010    Samantha Mosley           11            38     Mosley\n",
       "5   87246       Louis Guzman           14            39     Guzman\n",
       "6   20578     Denise Mcclure           15            40    Mcclure\n",
       "7   12869      James Raymond           15            32    Raymond\n",
       "8   53461       Noah Collier           18            35    Collier\n",
       "9   14746    Donna Frederick           20            41  Frederick\n",
       "10  71127       Shirley Beck           14            32       Beck\n",
       "11  92522    Christina Kelly            8            44      Kelly\n",
       "12  22447        Brian Noble           11            39      Noble\n",
       "13  61654          Randy Key           16            38        Key\n",
       "14  16988      Diana Stewart           14            48    Stewart\n",
       "15  68619       Timothy Sosa           14            42       Sosa\n",
       "16  59949      Betty Skinner           11            48    Skinner\n",
       "17  81418      Janet Maxwell           12            38    Maxwell\n",
       "18  27267   Madison Johnston           20            37   Johnston\n",
       "19  19985   Virginia Nichols           13            49    Nichols"
      ]
     },
     "execution_count": 77,
     "metadata": {},
     "output_type": "execute_result"
    }
   ],
   "source": [
    "df"
   ]
  },
  {
   "cell_type": "code",
   "execution_count": 78,
   "id": "dc3539e1-d80b-410f-a905-3b4e7ad27bc9",
   "metadata": {},
   "outputs": [],
   "source": [
    "############\n",
    "## Applying a Lambda to a Row ( use axis = 1 ) - this is for conditional updates , i.e. WHERE\n",
    "#############\n",
    "#We can also operate on multiple columns at once. If we use apply without specifying a single column and add the argument axis=1, the input to our lambda function will be an entire row, not a column. To access particular values of the row, we use the syntax row.column_name or row[‘column_name’].\n",
    "\n",
    "# df2 = df.apply( lambda row : row['Gravy'] = True if row['Cost to Manufacture'] < 0.9 else row['Gravy'] = False, axis = 1 ) # broken\n",
    "\n",
    "\n",
    "\n",
    "\n"
   ]
  },
  {
   "cell_type": "code",
   "execution_count": 79,
   "id": "a40d4a05-e9ae-4509-b376-a1feb87528a9",
   "metadata": {},
   "outputs": [],
   "source": [
    "# ... but how is this different from\n",
    "\n",
    "calcPriceWithTax = lambda price : round(row['Price'] * 1.075, 2) if df['Is taxed']  == True else round(row['Price'], 2)\n",
    "\n",
    "# df[ 'Price with Tax by Column' ] = df.apply( calcPriceWithTax  ) ## this doesnt work\n",
    "#df[ 'Price with Tax by Column' ] = df.apply( lambda cell :   )\n",
    "\n"
   ]
  },
  {
   "cell_type": "code",
   "execution_count": 80,
   "id": "e7c4fe6a-1952-4bb7-8d02-05eb634fe87a",
   "metadata": {},
   "outputs": [],
   "source": [
    "# Task: If an employee worked for more than 40 hours, she needs to be paid overtime (1.5 times the normal hourly wage).\n",
    "\n",
    "# For instance, if an employee worked for 43 hours and made $10/hour, she would receive $400 for the first 40 hours that she worked, and an additional $45 for the 3 hours of overtime, for a total for $445.\n",
    "\n",
    "# Create a lambda function total_earned that accepts an input row with keys hours_worked and hourly_wage and uses an if statement to calculate the total wages earned.\n",
    "\n",
    "\n",
    "\n",
    "#total_earned = lambda row :  int( ( row.hours_worked - 40)  ) * int( ( row.hourly_wage * 1.5 ) ) +  ( int( ( row.hourly_wage * 40)  ) )  if int(row.hours_worked) > 40 else int ( row.hours_worked)  *  int(row.hourly_wage )\n",
    "\n",
    "### This is the model function to use ; the int() conversions are only needed when using incorrect df[0:1] reference\n",
    "total_earned = lambda row :   ( row.hours_worked - 40)   *  ( row.hourly_wage * 1.5 )  +  ( ( row.hourly_wage * 40)  )   if row.hours_worked > 40 else row.hours_worked  *  row.hourly_wage\n",
    "\n",
    "#total_earned = lambda row :  int( ( row.hours_worked - 40)  ) * int( ( row.hourly_wage * 1.5 ) ) +  ( int( ( row.hourly_wage * 40)  ) )  if int(row.hours_worked) > 40 else int (  ( row.hours_worked)  *  int(row.hourly_wage ))"
   ]
  },
  {
   "cell_type": "code",
   "execution_count": 81,
   "id": "2fdef651-e07e-47f8-acc8-8cf4bc206af6",
   "metadata": {},
   "outputs": [
    {
     "name": "stdout",
     "output_type": "stream",
     "text": [
      "id                    16886\n",
      "name            Brian Rojas\n",
      "hourly_wage              18\n",
      "hours_worked             47\n",
      "last_name             Rojas\n",
      "Name: 3, dtype: object\n"
     ]
    },
    {
     "data": {
      "text/plain": [
       "909.0"
      ]
     },
     "execution_count": 81,
     "metadata": {},
     "output_type": "execute_result"
    }
   ],
   "source": [
    "row1 = df.iloc[3]\n",
    "\n",
    "print(row1)\n",
    "\n",
    "total_earned(row1)\n",
    "\n",
    "#print( df[1] )\n",
    "\n",
    "#total_earned( { hours_worked : 1,  hourly_wage : 10 } )    \n",
    "\n",
    "## calc 760 base pay , 85.5 PT "
   ]
  },
  {
   "cell_type": "code",
   "execution_count": 82,
   "id": "7f03c9ee-f7ed-4a64-9425-6a2f48d8e034",
   "metadata": {},
   "outputs": [],
   "source": [
    "##  id           name  hourly_wage  hours_worked\n",
    "## 10310  Lauren Durham           19            43\n",
    "\n",
    "# base pay: 40 hr @ 19.00 = 760.00 \n",
    "# OT : 3 hr @ 28.50 = 85.50 \n",
    "# total : 845.5"
   ]
  },
  {
   "cell_type": "code",
   "execution_count": 83,
   "id": "ca55fe36-924f-4563-a6c0-68a04e739d37",
   "metadata": {},
   "outputs": [],
   "source": [
    "# type(row1)\n",
    "# row1.hours_worked *  ( row1.hourly_wage * 1.5 )\n",
    "# row1.hours_worked *  row1.hourly_wage\n",
    "# result = row1.hours_worked *  row1.hourly_wage\n",
    "# #type( int(result) )\n",
    "# int(result)"
   ]
  },
  {
   "cell_type": "code",
   "execution_count": 84,
   "id": "cce68e44-e314-455a-9158-6c1b5dc4b1ac",
   "metadata": {},
   "outputs": [],
   "source": [
    "# lambda not working; try a fn\n",
    "## Solution : row.hours_worked and row.hourly_wage return as SERIES; must be converted into ints for use in calc\n",
    "\n",
    "# def total_earned( row ):\n",
    "#     #return( row.hours_worked )\n",
    "#     if int(row.hours_worked) > 40:\n",
    "        \n",
    "#          #return( 'OT' )\n",
    "#         return(  int(row.hours_worked) * 40 + (  ))\n",
    "#     else:\n",
    "#          return( 'straight pay' )"
   ]
  },
  {
   "cell_type": "code",
   "execution_count": 85,
   "id": "8919f7e4-9d0a-4cbd-89e4-bb438b734d8b",
   "metadata": {},
   "outputs": [
    {
     "data": {
      "text/plain": [
       "909.0"
      ]
     },
     "execution_count": 85,
     "metadata": {},
     "output_type": "execute_result"
    }
   ],
   "source": [
    "total_earned( row1 )"
   ]
  },
  {
   "cell_type": "code",
   "execution_count": 86,
   "id": "52ccea75-7fde-4e03-a389-b5a3a258c13e",
   "metadata": {},
   "outputs": [],
   "source": [
    "# Use the lambda function total_earned and apply to add a column total_earned to df with the total amount earned by each employee.\n",
    "\n",
    "df['total_earned'] = df.apply( total_earned, axis = 1 )"
   ]
  },
  {
   "cell_type": "code",
   "execution_count": 87,
   "id": "3619f304-c3ae-4472-896a-0b45e78ded72",
   "metadata": {},
   "outputs": [],
   "source": [
    "#df['Taxable?'] = [True, False, False, True] \n",
    "#df"
   ]
  },
  {
   "cell_type": "code",
   "execution_count": 88,
   "id": "53eaac1e-4ef3-4d5c-a9ab-160995fc2ab9",
   "metadata": {},
   "outputs": [],
   "source": [
    "##### \n",
    "# Renaming columns\n",
    "#########\n",
    "\n",
    "#You can change all of the column names at once by setting the .columns property to a different list. This is great when you need to change all of the column names at once, but be careful! You can easily mislabel columns if you get the ordering wrong. Here’s an example:\n",
    "\n",
    "df = pd.DataFrame({\n",
    "    'name': ['John', 'Jane', 'Sue', 'Fred'],\n",
    "    'age': [23, 29, 21, 18]\n",
    "})\n",
    "df.columns = ['First Name', 'Age']\n"
   ]
  },
  {
   "cell_type": "code",
   "execution_count": null,
   "id": "461928b8-a49a-425b-befb-c5efb0008b22",
   "metadata": {},
   "outputs": [],
   "source": [
    "## Instruction : The DataFrame df contains data about movies from IMDb.\n",
    "\n",
    "# We want to present this data to some film producers. Right now, our column names are in lower case, and are not very descriptive. Let’s modify df using the .columns attribute to make the following changes to the columns:\n",
    "\n",
    "# Old\tNew\n",
    "# id\tID\n",
    "# name\tTitle\n",
    "# genre\tCategory\n",
    "# year\tYear Released\n",
    "# imdb_rating\tRating"
   ]
  },
  {
   "cell_type": "code",
   "execution_count": 102,
   "id": "d2ed4879-4d29-402c-8016-4819e4d90dbc",
   "metadata": {},
   "outputs": [],
   "source": [
    "df = pd.read_csv('imdb.csv')\n",
    "\n"
   ]
  },
  {
   "cell_type": "code",
   "execution_count": 97,
   "id": "52bcf215-b08b-4dfe-9454-e0e769c8b475",
   "metadata": {},
   "outputs": [
    {
     "data": {
      "text/html": [
       "<div>\n",
       "<style scoped>\n",
       "    .dataframe tbody tr th:only-of-type {\n",
       "        vertical-align: middle;\n",
       "    }\n",
       "\n",
       "    .dataframe tbody tr th {\n",
       "        vertical-align: top;\n",
       "    }\n",
       "\n",
       "    .dataframe thead th {\n",
       "        text-align: right;\n",
       "    }\n",
       "</style>\n",
       "<table border=\"1\" class=\"dataframe\">\n",
       "  <thead>\n",
       "    <tr style=\"text-align: right;\">\n",
       "      <th></th>\n",
       "      <th>ID</th>\n",
       "      <th>Title</th>\n",
       "      <th>Category</th>\n",
       "      <th>Year Released</th>\n",
       "      <th>Rating</th>\n",
       "    </tr>\n",
       "  </thead>\n",
       "  <tbody>\n",
       "    <tr>\n",
       "      <th>0</th>\n",
       "      <td>1</td>\n",
       "      <td>Avatar</td>\n",
       "      <td>action</td>\n",
       "      <td>2009</td>\n",
       "      <td>7.9</td>\n",
       "    </tr>\n",
       "    <tr>\n",
       "      <th>1</th>\n",
       "      <td>2</td>\n",
       "      <td>Jurassic World</td>\n",
       "      <td>action</td>\n",
       "      <td>2015</td>\n",
       "      <td>7.3</td>\n",
       "    </tr>\n",
       "    <tr>\n",
       "      <th>2</th>\n",
       "      <td>3</td>\n",
       "      <td>The Avengers</td>\n",
       "      <td>action</td>\n",
       "      <td>2012</td>\n",
       "      <td>8.1</td>\n",
       "    </tr>\n",
       "    <tr>\n",
       "      <th>3</th>\n",
       "      <td>4</td>\n",
       "      <td>The Dark Knight</td>\n",
       "      <td>action</td>\n",
       "      <td>2008</td>\n",
       "      <td>9.0</td>\n",
       "    </tr>\n",
       "    <tr>\n",
       "      <th>4</th>\n",
       "      <td>5</td>\n",
       "      <td>Star Wars: Episode I - The Phantom Menace</td>\n",
       "      <td>action</td>\n",
       "      <td>1999</td>\n",
       "      <td>6.6</td>\n",
       "    </tr>\n",
       "    <tr>\n",
       "      <th>...</th>\n",
       "      <td>...</td>\n",
       "      <td>...</td>\n",
       "      <td>...</td>\n",
       "      <td>...</td>\n",
       "      <td>...</td>\n",
       "    </tr>\n",
       "    <tr>\n",
       "      <th>215</th>\n",
       "      <td>216</td>\n",
       "      <td>Hannibal</td>\n",
       "      <td>drama</td>\n",
       "      <td>2001</td>\n",
       "      <td>6.7</td>\n",
       "    </tr>\n",
       "    <tr>\n",
       "      <th>216</th>\n",
       "      <td>217</td>\n",
       "      <td>Catch Me If You Can</td>\n",
       "      <td>drama</td>\n",
       "      <td>2002</td>\n",
       "      <td>8.0</td>\n",
       "    </tr>\n",
       "    <tr>\n",
       "      <th>217</th>\n",
       "      <td>218</td>\n",
       "      <td>Big Daddy</td>\n",
       "      <td>drama</td>\n",
       "      <td>1999</td>\n",
       "      <td>6.4</td>\n",
       "    </tr>\n",
       "    <tr>\n",
       "      <th>218</th>\n",
       "      <td>219</td>\n",
       "      <td>Se7en</td>\n",
       "      <td>drama</td>\n",
       "      <td>1995</td>\n",
       "      <td>8.6</td>\n",
       "    </tr>\n",
       "    <tr>\n",
       "      <th>219</th>\n",
       "      <td>220</td>\n",
       "      <td>Seven</td>\n",
       "      <td>drama</td>\n",
       "      <td>1979</td>\n",
       "      <td>6.1</td>\n",
       "    </tr>\n",
       "  </tbody>\n",
       "</table>\n",
       "<p>220 rows × 5 columns</p>\n",
       "</div>"
      ],
      "text/plain": [
       "      ID                                      Title Category  Year Released  \\\n",
       "0      1                                     Avatar   action           2009   \n",
       "1      2                             Jurassic World   action           2015   \n",
       "2      3                               The Avengers   action           2012   \n",
       "3      4                            The Dark Knight   action           2008   \n",
       "4      5  Star Wars: Episode I - The Phantom Menace   action           1999   \n",
       "..   ...                                        ...      ...            ...   \n",
       "215  216                                   Hannibal    drama           2001   \n",
       "216  217                        Catch Me If You Can    drama           2002   \n",
       "217  218                                  Big Daddy    drama           1999   \n",
       "218  219                                      Se7en    drama           1995   \n",
       "219  220                                      Seven    drama           1979   \n",
       "\n",
       "     Rating  \n",
       "0       7.9  \n",
       "1       7.3  \n",
       "2       8.1  \n",
       "3       9.0  \n",
       "4       6.6  \n",
       "..      ...  \n",
       "215     6.7  \n",
       "216     8.0  \n",
       "217     6.4  \n",
       "218     8.6  \n",
       "219     6.1  \n",
       "\n",
       "[220 rows x 5 columns]"
      ]
     },
     "execution_count": 97,
     "metadata": {},
     "output_type": "execute_result"
    }
   ],
   "source": [
    "df.columns = [ 'ID', 'Title', 'Category', 'Year Released', 'Rating' ]\n",
    "\n",
    "#max( df.year )\n"
   ]
  },
  {
   "cell_type": "code",
   "execution_count": 100,
   "id": "bd010e55-98f4-4cd7-b48f-2d89cfd77ebd",
   "metadata": {},
   "outputs": [],
   "source": [
    "# You also can rename individual columns by using the .rename method. Pass a dictionary like the one below to the columns keyword argument\n",
    "\n",
    "df = pd.DataFrame({\n",
    "    'name': ['John', 'Jane', 'Sue', 'Fred'],\n",
    "    'age': [23, 29, 21, 18]\n",
    "})\n",
    "df.rename(columns={\n",
    "    'name': 'First Name',\n",
    "    'age': 'Age'},\n",
    "    inplace=True)\n"
   ]
  },
  {
   "cell_type": "code",
   "execution_count": 105,
   "id": "cbbdfa64-2823-4ba5-aefe-3a65a80f1fc0",
   "metadata": {},
   "outputs": [],
   "source": [
    "## Instruction\n",
    "# If we didn’t know that df was a table of movie ratings, the column name might be confusing.\n",
    "\n",
    "# To clarify, let’s rename name to movie_title.\n",
    "\n",
    "# Use the keyword inplace=True so that you modify df rather than creating a new DataFrame!\n",
    "\n",
    "reName =  { 'name' : 'movie_title' }\n",
    "\n",
    "df.rename( columns=reName, inplace = True )"
   ]
  },
  {
   "cell_type": "code",
   "execution_count": 112,
   "id": "47196123-f9f3-4299-85ac-e42b92a56e7a",
   "metadata": {},
   "outputs": [
    {
     "data": {
      "text/html": [
       "<div>\n",
       "<style scoped>\n",
       "    .dataframe tbody tr th:only-of-type {\n",
       "        vertical-align: middle;\n",
       "    }\n",
       "\n",
       "    .dataframe tbody tr th {\n",
       "        vertical-align: top;\n",
       "    }\n",
       "\n",
       "    .dataframe thead th {\n",
       "        text-align: right;\n",
       "    }\n",
       "</style>\n",
       "<table border=\"1\" class=\"dataframe\">\n",
       "  <thead>\n",
       "    <tr style=\"text-align: right;\">\n",
       "      <th></th>\n",
       "      <th>id</th>\n",
       "      <th>first_name</th>\n",
       "      <th>last_name</th>\n",
       "      <th>gender</th>\n",
       "      <th>email</th>\n",
       "      <th>shoe_type</th>\n",
       "      <th>shoe_material</th>\n",
       "      <th>shoe_color</th>\n",
       "    </tr>\n",
       "  </thead>\n",
       "  <tbody>\n",
       "    <tr>\n",
       "      <th>0</th>\n",
       "      <td>54791</td>\n",
       "      <td>Rebecca</td>\n",
       "      <td>Lindsay</td>\n",
       "      <td>female</td>\n",
       "      <td>RebeccaLindsay57@hotmail.com</td>\n",
       "      <td>clogs</td>\n",
       "      <td>faux-leather</td>\n",
       "      <td>black</td>\n",
       "    </tr>\n",
       "    <tr>\n",
       "      <th>1</th>\n",
       "      <td>53450</td>\n",
       "      <td>Emily</td>\n",
       "      <td>Joyce</td>\n",
       "      <td>female</td>\n",
       "      <td>EmilyJoyce25@gmail.com</td>\n",
       "      <td>ballet flats</td>\n",
       "      <td>faux-leather</td>\n",
       "      <td>navy</td>\n",
       "    </tr>\n",
       "    <tr>\n",
       "      <th>2</th>\n",
       "      <td>91987</td>\n",
       "      <td>Joyce</td>\n",
       "      <td>Waller</td>\n",
       "      <td>female</td>\n",
       "      <td>Joyce.Waller@gmail.com</td>\n",
       "      <td>sandles</td>\n",
       "      <td>fabric</td>\n",
       "      <td>black</td>\n",
       "    </tr>\n",
       "    <tr>\n",
       "      <th>3</th>\n",
       "      <td>14437</td>\n",
       "      <td>Justin</td>\n",
       "      <td>Erickson</td>\n",
       "      <td>male</td>\n",
       "      <td>Justin.Erickson@outlook.com</td>\n",
       "      <td>clogs</td>\n",
       "      <td>faux-leather</td>\n",
       "      <td>red</td>\n",
       "    </tr>\n",
       "    <tr>\n",
       "      <th>4</th>\n",
       "      <td>79357</td>\n",
       "      <td>Andrew</td>\n",
       "      <td>Banks</td>\n",
       "      <td>male</td>\n",
       "      <td>AB4318@gmail.com</td>\n",
       "      <td>boots</td>\n",
       "      <td>leather</td>\n",
       "      <td>brown</td>\n",
       "    </tr>\n",
       "  </tbody>\n",
       "</table>\n",
       "</div>"
      ],
      "text/plain": [
       "      id first_name last_name  gender                         email  \\\n",
       "0  54791    Rebecca   Lindsay  female  RebeccaLindsay57@hotmail.com   \n",
       "1  53450      Emily     Joyce  female        EmilyJoyce25@gmail.com   \n",
       "2  91987      Joyce    Waller  female        Joyce.Waller@gmail.com   \n",
       "3  14437     Justin  Erickson    male   Justin.Erickson@outlook.com   \n",
       "4  79357     Andrew     Banks    male              AB4318@gmail.com   \n",
       "\n",
       "      shoe_type shoe_material shoe_color  \n",
       "0         clogs  faux-leather      black  \n",
       "1  ballet flats  faux-leather       navy  \n",
       "2       sandles        fabric      black  \n",
       "3         clogs  faux-leather        red  \n",
       "4         boots       leather      brown  "
      ]
     },
     "execution_count": 112,
     "metadata": {},
     "output_type": "execute_result"
    }
   ],
   "source": [
    "############# \n",
    "# Review\n",
    "\n",
    "# Once more, you’ll be the data analyst for ShoeFly.com, a fictional online shoe store.\n",
    "\n",
    "# More messy order data has been loaded into the variable orders. Examine the first 5 rows of the data using print and .head().\n",
    "\n",
    "orders = pd.read_csv('shoefly.csv')\n",
    "orders.head()"
   ]
  },
  {
   "cell_type": "code",
   "execution_count": 120,
   "id": "1b7c70a3-7e80-4ab2-ac29-93856cacab13",
   "metadata": {},
   "outputs": [
    {
     "ename": "ValueError",
     "evalue": "The truth value of a Series is ambiguous. Use a.empty, a.bool(), a.item(), a.any() or a.all().",
     "output_type": "error",
     "traceback": [
      "\u001b[1;31m---------------------------------------------------------------------------\u001b[0m",
      "\u001b[1;31mValueError\u001b[0m                                Traceback (most recent call last)",
      "Cell \u001b[1;32mIn[120], line 2\u001b[0m\n\u001b[0;32m      1\u001b[0m \u001b[38;5;66;03m# Many of our customers want to buy vegan shoes (shoes made from materials that do not come from animals). Add a new column called shoe_source, which is vegan if the materials is not leather and animal otherwise.\u001b[39;00m\n\u001b[1;32m----> 2\u001b[0m orders[\u001b[38;5;124m'\u001b[39m\u001b[38;5;124mshoe_source\u001b[39m\u001b[38;5;124m'\u001b[39m] \u001b[38;5;241m=\u001b[39m \u001b[43morders\u001b[49m\u001b[38;5;241;43m.\u001b[39;49m\u001b[43mapply\u001b[49m\u001b[43m(\u001b[49m\u001b[38;5;28;43;01mlambda\u001b[39;49;00m\u001b[43m \u001b[49m\u001b[43mrow\u001b[49m\u001b[43m \u001b[49m\u001b[43m:\u001b[49m\u001b[43m \u001b[49m\u001b[38;5;124;43m'\u001b[39;49m\u001b[38;5;124;43mvegan\u001b[39;49m\u001b[38;5;124;43m'\u001b[39;49m\u001b[43m \u001b[49m\u001b[38;5;28;43;01mif\u001b[39;49;00m\u001b[43m \u001b[49m\u001b[43morders\u001b[49m\u001b[38;5;241;43m.\u001b[39;49m\u001b[43mshoe_material\u001b[49m\u001b[43m \u001b[49m\u001b[38;5;241;43m!=\u001b[39;49m\u001b[43m \u001b[49m\u001b[38;5;124;43m'\u001b[39;49m\u001b[38;5;124;43mleather\u001b[39;49m\u001b[38;5;124;43m'\u001b[39;49m\u001b[43m \u001b[49m\u001b[38;5;28;43;01melse\u001b[39;49;00m\u001b[43m \u001b[49m\u001b[38;5;124;43m'\u001b[39;49m\u001b[38;5;124;43manimal\u001b[39;49m\u001b[38;5;124;43m'\u001b[39;49m\u001b[43m \u001b[49m\u001b[43m,\u001b[49m\u001b[43m \u001b[49m\u001b[43maxis\u001b[49m\u001b[43m \u001b[49m\u001b[38;5;241;43m=\u001b[39;49m\u001b[43m \u001b[49m\u001b[38;5;241;43m1\u001b[39;49m\u001b[43m)\u001b[49m\n",
      "File \u001b[1;32m~\\anaconda3\\lib\\site-packages\\pandas\\core\\frame.py:9423\u001b[0m, in \u001b[0;36mDataFrame.apply\u001b[1;34m(self, func, axis, raw, result_type, args, **kwargs)\u001b[0m\n\u001b[0;32m   9412\u001b[0m \u001b[38;5;28;01mfrom\u001b[39;00m \u001b[38;5;21;01mpandas\u001b[39;00m\u001b[38;5;21;01m.\u001b[39;00m\u001b[38;5;21;01mcore\u001b[39;00m\u001b[38;5;21;01m.\u001b[39;00m\u001b[38;5;21;01mapply\u001b[39;00m \u001b[38;5;28;01mimport\u001b[39;00m frame_apply\n\u001b[0;32m   9414\u001b[0m op \u001b[38;5;241m=\u001b[39m frame_apply(\n\u001b[0;32m   9415\u001b[0m     \u001b[38;5;28mself\u001b[39m,\n\u001b[0;32m   9416\u001b[0m     func\u001b[38;5;241m=\u001b[39mfunc,\n\u001b[1;32m   (...)\u001b[0m\n\u001b[0;32m   9421\u001b[0m     kwargs\u001b[38;5;241m=\u001b[39mkwargs,\n\u001b[0;32m   9422\u001b[0m )\n\u001b[1;32m-> 9423\u001b[0m \u001b[38;5;28;01mreturn\u001b[39;00m \u001b[43mop\u001b[49m\u001b[38;5;241;43m.\u001b[39;49m\u001b[43mapply\u001b[49m\u001b[43m(\u001b[49m\u001b[43m)\u001b[49m\u001b[38;5;241m.\u001b[39m__finalize__(\u001b[38;5;28mself\u001b[39m, method\u001b[38;5;241m=\u001b[39m\u001b[38;5;124m\"\u001b[39m\u001b[38;5;124mapply\u001b[39m\u001b[38;5;124m\"\u001b[39m)\n",
      "File \u001b[1;32m~\\anaconda3\\lib\\site-packages\\pandas\\core\\apply.py:678\u001b[0m, in \u001b[0;36mFrameApply.apply\u001b[1;34m(self)\u001b[0m\n\u001b[0;32m    675\u001b[0m \u001b[38;5;28;01melif\u001b[39;00m \u001b[38;5;28mself\u001b[39m\u001b[38;5;241m.\u001b[39mraw:\n\u001b[0;32m    676\u001b[0m     \u001b[38;5;28;01mreturn\u001b[39;00m \u001b[38;5;28mself\u001b[39m\u001b[38;5;241m.\u001b[39mapply_raw()\n\u001b[1;32m--> 678\u001b[0m \u001b[38;5;28;01mreturn\u001b[39;00m \u001b[38;5;28;43mself\u001b[39;49m\u001b[38;5;241;43m.\u001b[39;49m\u001b[43mapply_standard\u001b[49m\u001b[43m(\u001b[49m\u001b[43m)\u001b[49m\n",
      "File \u001b[1;32m~\\anaconda3\\lib\\site-packages\\pandas\\core\\apply.py:798\u001b[0m, in \u001b[0;36mFrameApply.apply_standard\u001b[1;34m(self)\u001b[0m\n\u001b[0;32m    797\u001b[0m \u001b[38;5;28;01mdef\u001b[39;00m \u001b[38;5;21mapply_standard\u001b[39m(\u001b[38;5;28mself\u001b[39m):\n\u001b[1;32m--> 798\u001b[0m     results, res_index \u001b[38;5;241m=\u001b[39m \u001b[38;5;28;43mself\u001b[39;49m\u001b[38;5;241;43m.\u001b[39;49m\u001b[43mapply_series_generator\u001b[49m\u001b[43m(\u001b[49m\u001b[43m)\u001b[49m\n\u001b[0;32m    800\u001b[0m     \u001b[38;5;66;03m# wrap results\u001b[39;00m\n\u001b[0;32m    801\u001b[0m     \u001b[38;5;28;01mreturn\u001b[39;00m \u001b[38;5;28mself\u001b[39m\u001b[38;5;241m.\u001b[39mwrap_results(results, res_index)\n",
      "File \u001b[1;32m~\\anaconda3\\lib\\site-packages\\pandas\\core\\apply.py:814\u001b[0m, in \u001b[0;36mFrameApply.apply_series_generator\u001b[1;34m(self)\u001b[0m\n\u001b[0;32m    811\u001b[0m \u001b[38;5;28;01mwith\u001b[39;00m option_context(\u001b[38;5;124m\"\u001b[39m\u001b[38;5;124mmode.chained_assignment\u001b[39m\u001b[38;5;124m\"\u001b[39m, \u001b[38;5;28;01mNone\u001b[39;00m):\n\u001b[0;32m    812\u001b[0m     \u001b[38;5;28;01mfor\u001b[39;00m i, v \u001b[38;5;129;01min\u001b[39;00m \u001b[38;5;28menumerate\u001b[39m(series_gen):\n\u001b[0;32m    813\u001b[0m         \u001b[38;5;66;03m# ignore SettingWithCopy here in case the user mutates\u001b[39;00m\n\u001b[1;32m--> 814\u001b[0m         results[i] \u001b[38;5;241m=\u001b[39m \u001b[38;5;28;43mself\u001b[39;49m\u001b[38;5;241;43m.\u001b[39;49m\u001b[43mf\u001b[49m\u001b[43m(\u001b[49m\u001b[43mv\u001b[49m\u001b[43m)\u001b[49m\n\u001b[0;32m    815\u001b[0m         \u001b[38;5;28;01mif\u001b[39;00m \u001b[38;5;28misinstance\u001b[39m(results[i], ABCSeries):\n\u001b[0;32m    816\u001b[0m             \u001b[38;5;66;03m# If we have a view on v, we need to make a copy because\u001b[39;00m\n\u001b[0;32m    817\u001b[0m             \u001b[38;5;66;03m#  series_generator will swap out the underlying data\u001b[39;00m\n\u001b[0;32m    818\u001b[0m             results[i] \u001b[38;5;241m=\u001b[39m results[i]\u001b[38;5;241m.\u001b[39mcopy(deep\u001b[38;5;241m=\u001b[39m\u001b[38;5;28;01mFalse\u001b[39;00m)\n",
      "Cell \u001b[1;32mIn[120], line 2\u001b[0m, in \u001b[0;36m<lambda>\u001b[1;34m(row)\u001b[0m\n\u001b[0;32m      1\u001b[0m \u001b[38;5;66;03m# Many of our customers want to buy vegan shoes (shoes made from materials that do not come from animals). Add a new column called shoe_source, which is vegan if the materials is not leather and animal otherwise.\u001b[39;00m\n\u001b[1;32m----> 2\u001b[0m orders[\u001b[38;5;124m'\u001b[39m\u001b[38;5;124mshoe_source\u001b[39m\u001b[38;5;124m'\u001b[39m] \u001b[38;5;241m=\u001b[39m orders\u001b[38;5;241m.\u001b[39mapply(\u001b[38;5;28;01mlambda\u001b[39;00m row : \u001b[38;5;124m'\u001b[39m\u001b[38;5;124mvegan\u001b[39m\u001b[38;5;124m'\u001b[39m \u001b[38;5;28;01mif\u001b[39;00m \u001b[43morders\u001b[49m\u001b[38;5;241;43m.\u001b[39;49m\u001b[43mshoe_material\u001b[49m\u001b[43m \u001b[49m\u001b[38;5;241;43m!=\u001b[39;49m\u001b[43m \u001b[49m\u001b[38;5;124;43m'\u001b[39;49m\u001b[38;5;124;43mleather\u001b[39;49m\u001b[38;5;124;43m'\u001b[39;49m \u001b[38;5;28;01melse\u001b[39;00m \u001b[38;5;124m'\u001b[39m\u001b[38;5;124manimal\u001b[39m\u001b[38;5;124m'\u001b[39m , axis \u001b[38;5;241m=\u001b[39m \u001b[38;5;241m1\u001b[39m)\n",
      "File \u001b[1;32m~\\anaconda3\\lib\\site-packages\\pandas\\core\\generic.py:1466\u001b[0m, in \u001b[0;36mNDFrame.__nonzero__\u001b[1;34m(self)\u001b[0m\n\u001b[0;32m   1464\u001b[0m \u001b[38;5;129m@final\u001b[39m\n\u001b[0;32m   1465\u001b[0m \u001b[38;5;28;01mdef\u001b[39;00m \u001b[38;5;21m__nonzero__\u001b[39m(\u001b[38;5;28mself\u001b[39m) \u001b[38;5;241m-\u001b[39m\u001b[38;5;241m>\u001b[39m NoReturn:\n\u001b[1;32m-> 1466\u001b[0m     \u001b[38;5;28;01mraise\u001b[39;00m \u001b[38;5;167;01mValueError\u001b[39;00m(\n\u001b[0;32m   1467\u001b[0m         \u001b[38;5;124mf\u001b[39m\u001b[38;5;124m\"\u001b[39m\u001b[38;5;124mThe truth value of a \u001b[39m\u001b[38;5;132;01m{\u001b[39;00m\u001b[38;5;28mtype\u001b[39m(\u001b[38;5;28mself\u001b[39m)\u001b[38;5;241m.\u001b[39m\u001b[38;5;18m__name__\u001b[39m\u001b[38;5;132;01m}\u001b[39;00m\u001b[38;5;124m is ambiguous. \u001b[39m\u001b[38;5;124m\"\u001b[39m\n\u001b[0;32m   1468\u001b[0m         \u001b[38;5;124m\"\u001b[39m\u001b[38;5;124mUse a.empty, a.bool(), a.item(), a.any() or a.all().\u001b[39m\u001b[38;5;124m\"\u001b[39m\n\u001b[0;32m   1469\u001b[0m     )\n",
      "\u001b[1;31mValueError\u001b[0m: The truth value of a Series is ambiguous. Use a.empty, a.bool(), a.item(), a.any() or a.all()."
     ]
    }
   ],
   "source": [
    "# Many of our customers want to buy vegan shoes (shoes made from materials that do not come from animals). Add a new column called shoe_source, which is vegan if the materials is not leather and animal otherwise.\n",
    "orders['shoe_source'] = orders.apply(lambda row : 'vegan' if orders.shoe_material != 'leather' else 'animal' , axis = 1)"
   ]
  },
  {
   "cell_type": "code",
   "execution_count": null,
   "id": "402b6746-5285-4fba-9a34-a30b2e4a3848",
   "metadata": {},
   "outputs": [],
   "source": [
    "orders"
   ]
  }
 ],
 "metadata": {
  "kernelspec": {
   "display_name": "Python 3 (ipykernel)",
   "language": "python",
   "name": "python3"
  },
  "language_info": {
   "codemirror_mode": {
    "name": "ipython",
    "version": 3
   },
   "file_extension": ".py",
   "mimetype": "text/x-python",
   "name": "python",
   "nbconvert_exporter": "python",
   "pygments_lexer": "ipython3",
   "version": "3.10.9"
  }
 },
 "nbformat": 4,
 "nbformat_minor": 5
}
