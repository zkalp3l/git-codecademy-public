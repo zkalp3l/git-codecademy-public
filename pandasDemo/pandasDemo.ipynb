{
 "cells": [
  {
   "cell_type": "code",
   "execution_count": 1,
   "id": "886991e9-c169-4c3b-b7fe-f8c4daf30a88",
   "metadata": {},
   "outputs": [],
   "source": [
    "import numpy as np\n",
    "import pandas as pd"
   ]
  },
  {
   "cell_type": "code",
   "execution_count": 2,
   "id": "5e33099d-d041-4e95-80a6-5c4020b2016b",
   "metadata": {},
   "outputs": [
    {
     "name": "stdout",
     "output_type": "stream",
     "text": [
      "[[1, 2, 3, 4], [-1, -2, -3, -4]]\n"
     ]
    }
   ],
   "source": [
    "# create list\n",
    "\n",
    "list1 = [1,2,3,4]\n",
    "list2 = [-1,-2,-3,-4]\n",
    "list3 = [ list1, list2  ]\n",
    "print(list3)"
   ]
  },
  {
   "cell_type": "code",
   "execution_count": 3,
   "id": "78cc9a59-780a-433c-9a7c-7e1f0b9192eb",
   "metadata": {},
   "outputs": [],
   "source": [
    "# ar_list1 =  array(\"i\", list1)  # doesnt work"
   ]
  },
  {
   "cell_type": "code",
   "execution_count": 4,
   "id": "b73f089f-584f-4ab2-9c98-c1c08550e801",
   "metadata": {},
   "outputs": [
    {
     "name": "stdout",
     "output_type": "stream",
     "text": [
      "[1 2 3 4]\n"
     ]
    }
   ],
   "source": [
    "# list to array\n",
    "\n",
    "array1 = np.array(list1)\n",
    "print(array1)"
   ]
  },
  {
   "cell_type": "code",
   "execution_count": 5,
   "id": "3508e65e-5918-4131-b630-939edd3c837f",
   "metadata": {},
   "outputs": [
    {
     "name": "stdout",
     "output_type": "stream",
     "text": [
      "10\n",
      "1\n"
     ]
    }
   ],
   "source": [
    "print(sum(array1))\n",
    "print(array1[0])"
   ]
  },
  {
   "cell_type": "code",
   "execution_count": 6,
   "id": "0b0be934-fdec-421e-abc6-b9ea17080cdc",
   "metadata": {},
   "outputs": [],
   "source": [
    "dimArray = np.array( list3 )"
   ]
  },
  {
   "cell_type": "code",
   "execution_count": 7,
   "id": "781e6699-986b-4276-ba81-3acdab5a366e",
   "metadata": {},
   "outputs": [
    {
     "name": "stdout",
     "output_type": "stream",
     "text": [
      "[[ 1  2  3  4]\n",
      " [-1 -2 -3 -4]]\n"
     ]
    }
   ],
   "source": [
    "print ( dimArray )"
   ]
  },
  {
   "cell_type": "code",
   "execution_count": 8,
   "id": "c4ace2c7-6e64-42ba-a516-3b6fb19a3fc0",
   "metadata": {},
   "outputs": [
    {
     "name": "stdout",
     "output_type": "stream",
     "text": [
      "-1\n"
     ]
    }
   ],
   "source": [
    "print( dimArray[1][0] )"
   ]
  },
  {
   "cell_type": "code",
   "execution_count": 9,
   "id": "1d2a8c49-45ef-4811-8bbc-3cbf55547b2e",
   "metadata": {},
   "outputs": [],
   "source": [
    "#increrment all by 1\n",
    "dimArray = dimArray +1"
   ]
  },
  {
   "cell_type": "code",
   "execution_count": 10,
   "id": "cfeee093-9cc7-4d43-a48a-88562ce4e7cb",
   "metadata": {},
   "outputs": [
    {
     "name": "stdout",
     "output_type": "stream",
     "text": [
      "0    1\n",
      "1    2\n",
      "2    3\n",
      "3    4\n",
      "dtype: int64\n",
      "0    1\n",
      "1    2\n",
      "2    3\n",
      "3    4\n",
      "dtype: int32\n"
     ]
    }
   ],
   "source": [
    "# list to series ( with default index )\n",
    "print ( pd.Series(list1) )\n",
    "\n",
    "# array to series also works \n",
    "print ( pd.Series(array1) )"
   ]
  },
  {
   "cell_type": "code",
   "execution_count": 11,
   "id": "519acda6-f0d3-48bb-b8cc-f407217cd23e",
   "metadata": {},
   "outputs": [],
   "source": [
    "# Series with explicit index\n",
    "#print ( pd.Series(array1, index=['zero', 'one', 'two', 'three']) )\n",
    "\n",
    "indexedSeries = pd.Series(array1, index=['zero', 'one', 'two', 'three'])"
   ]
  },
  {
   "cell_type": "code",
   "execution_count": 12,
   "id": "af482af8-ce4d-48bd-a08a-46876f8efa85",
   "metadata": {},
   "outputs": [
    {
     "name": "stdout",
     "output_type": "stream",
     "text": [
      "zero     1\n",
      "one      2\n",
      "two      3\n",
      "three    4\n",
      "dtype: int32\n"
     ]
    }
   ],
   "source": [
    "print(indexedSeries)"
   ]
  },
  {
   "cell_type": "code",
   "execution_count": 13,
   "id": "7670b935-d0b8-406d-a2b3-66b049b984c8",
   "metadata": {},
   "outputs": [],
   "source": [
    "\n",
    "\n",
    "df = pd.DataFrame([\n",
    "  ['January', 100, 100, 23, 100],\n",
    "  ['February', 51, 45, 145, 45],\n",
    "  ['March', 81, 96, 65, 96],\n",
    "  ['April', 80, 80, 54, 180],\n",
    "  ['May', 51, 54, 54, 154],\n",
    "  ['June', 112, 109, 79, 129]],\n",
    "  columns=['month', 'clinic_east',\n",
    "           'clinic_north', 'clinic_south',\n",
    "           'clinic_west']\n",
    ")"
   ]
  },
  {
   "cell_type": "code",
   "execution_count": 14,
   "id": "cfa4c285-a34b-44f4-a15d-acc9ce5de684",
   "metadata": {},
   "outputs": [
    {
     "name": "stdout",
     "output_type": "stream",
     "text": [
      "      month  clinic_east  clinic_north  clinic_south  clinic_west\n",
      "0   January          100           100            23          100\n",
      "1  February           51            45           145           45\n",
      "2     March           81            96            65           96\n",
      "3     April           80            80            54          180\n",
      "4       May           51            54            54          154\n",
      "5      June          112           109            79          129\n"
     ]
    }
   ],
   "source": [
    "print(df)"
   ]
  },
  {
   "cell_type": "code",
   "execution_count": 15,
   "id": "2200ed87-6e3d-4452-97c5-9865bbbb8b71",
   "metadata": {},
   "outputs": [
    {
     "name": "stdout",
     "output_type": "stream",
     "text": [
      "      month  clinic_east  clinic_north  clinic_south  clinic_west\n",
      "1  February           51            45           145           45\n",
      "2     March           81            96            65           96\n",
      "      month  clinic_east  clinic_north  clinic_south  clinic_west\n",
      "1  February           51            45           145           45\n",
      "2     March           81            96            65           96\n"
     ]
    }
   ],
   "source": [
    "# slice rows : these give the same output\n",
    "\n",
    "print(df[1:3])\n",
    "print(df.iloc[1:3]) "
   ]
  },
  {
   "cell_type": "code",
   "execution_count": 16,
   "id": "daee47d1-5378-4650-9ba8-cffc38ee8bb9",
   "metadata": {},
   "outputs": [
    {
     "name": "stdout",
     "output_type": "stream",
     "text": [
      "   month  clinic_east  clinic_north  clinic_south  clinic_west\n",
      "3  April           80            80            54          180\n",
      "4    May           51            54            54          154\n",
      "5   June          112           109            79          129\n",
      "   month  clinic_east  clinic_north  clinic_south  clinic_west\n",
      "3  April           80            80            54          180\n",
      "4    May           51            54            54          154\n",
      "5   June          112           109            79          129\n"
     ]
    }
   ],
   "source": [
    "# slice rows : these also give the same output\n",
    "\n",
    "print(df[ 3: ])\n",
    "print(df[ -3: ])\n"
   ]
  },
  {
   "cell_type": "code",
   "execution_count": 17,
   "id": "a39eeb5e-4f63-429b-9985-eeaccb89f3c2",
   "metadata": {},
   "outputs": [
    {
     "data": {
      "text/html": [
       "<div>\n",
       "<style scoped>\n",
       "    .dataframe tbody tr th:only-of-type {\n",
       "        vertical-align: middle;\n",
       "    }\n",
       "\n",
       "    .dataframe tbody tr th {\n",
       "        vertical-align: top;\n",
       "    }\n",
       "\n",
       "    .dataframe thead th {\n",
       "        text-align: right;\n",
       "    }\n",
       "</style>\n",
       "<table border=\"1\" class=\"dataframe\">\n",
       "  <thead>\n",
       "    <tr style=\"text-align: right;\">\n",
       "      <th></th>\n",
       "      <th>month</th>\n",
       "      <th>clinic_east</th>\n",
       "      <th>clinic_north</th>\n",
       "      <th>clinic_south</th>\n",
       "      <th>clinic_west</th>\n",
       "    </tr>\n",
       "  </thead>\n",
       "  <tbody>\n",
       "    <tr>\n",
       "      <th>0</th>\n",
       "      <td>January</td>\n",
       "      <td>100</td>\n",
       "      <td>100</td>\n",
       "      <td>23</td>\n",
       "      <td>100</td>\n",
       "    </tr>\n",
       "    <tr>\n",
       "      <th>2</th>\n",
       "      <td>March</td>\n",
       "      <td>81</td>\n",
       "      <td>96</td>\n",
       "      <td>65</td>\n",
       "      <td>96</td>\n",
       "    </tr>\n",
       "  </tbody>\n",
       "</table>\n",
       "</div>"
      ],
      "text/plain": [
       "     month  clinic_east  clinic_north  clinic_south  clinic_west\n",
       "0  January          100           100            23          100\n",
       "2    March           81            96            65           96"
      ]
     },
     "execution_count": 17,
     "metadata": {},
     "output_type": "execute_result"
    }
   ],
   "source": [
    "# try skip step \n",
    "## [ start : end : interval ] \n",
    "\n",
    "df[0:4:2] # doesnt work with a straight slice\n",
    "#df.iloc[0:4]"
   ]
  },
  {
   "cell_type": "code",
   "execution_count": 18,
   "id": "094e8aac-b655-4bb1-b6db-96fe7a996510",
   "metadata": {},
   "outputs": [
    {
     "data": {
      "text/html": [
       "<div>\n",
       "<style scoped>\n",
       "    .dataframe tbody tr th:only-of-type {\n",
       "        vertical-align: middle;\n",
       "    }\n",
       "\n",
       "    .dataframe tbody tr th {\n",
       "        vertical-align: top;\n",
       "    }\n",
       "\n",
       "    .dataframe thead th {\n",
       "        text-align: right;\n",
       "    }\n",
       "</style>\n",
       "<table border=\"1\" class=\"dataframe\">\n",
       "  <thead>\n",
       "    <tr style=\"text-align: right;\">\n",
       "      <th></th>\n",
       "      <th>month</th>\n",
       "      <th>clinic_east</th>\n",
       "      <th>clinic_north</th>\n",
       "      <th>clinic_south</th>\n",
       "      <th>clinic_west</th>\n",
       "    </tr>\n",
       "  </thead>\n",
       "  <tbody>\n",
       "    <tr>\n",
       "      <th>3</th>\n",
       "      <td>April</td>\n",
       "      <td>80</td>\n",
       "      <td>80</td>\n",
       "      <td>54</td>\n",
       "      <td>180</td>\n",
       "    </tr>\n",
       "    <tr>\n",
       "      <th>4</th>\n",
       "      <td>May</td>\n",
       "      <td>51</td>\n",
       "      <td>54</td>\n",
       "      <td>54</td>\n",
       "      <td>154</td>\n",
       "    </tr>\n",
       "    <tr>\n",
       "      <th>5</th>\n",
       "      <td>June</td>\n",
       "      <td>112</td>\n",
       "      <td>109</td>\n",
       "      <td>79</td>\n",
       "      <td>129</td>\n",
       "    </tr>\n",
       "  </tbody>\n",
       "</table>\n",
       "</div>"
      ],
      "text/plain": [
       "   month  clinic_east  clinic_north  clinic_south  clinic_west\n",
       "3  April           80            80            54          180\n",
       "4    May           51            54            54          154\n",
       "5   June          112           109            79          129"
      ]
     },
     "execution_count": 18,
     "metadata": {},
     "output_type": "execute_result"
    }
   ],
   "source": [
    "# instruction\n",
    "\n",
    "april_may_june = df[ 3: ]\n",
    "\n",
    "april_may_june"
   ]
  },
  {
   "cell_type": "code",
   "execution_count": 19,
   "id": "0b1355da-eab4-4691-a668-89473b1a2e6c",
   "metadata": {},
   "outputs": [],
   "source": [
    "#########\n",
    "## Select with conditions\n",
    "###############"
   ]
  },
  {
   "cell_type": "code",
   "execution_count": 20,
   "id": "cd57c309-4578-46d4-9e96-0654c6eaec0e",
   "metadata": {},
   "outputs": [],
   "source": [
    "df = pd.DataFrame([\n",
    "  ['January', 100, 100, 23, 100],\n",
    "  ['February', 51, 45, 145, 45],\n",
    "  ['March', 81, 96, 65, 96],\n",
    "  ['April', 80, 80, 54, 180],\n",
    "  ['May', 51, 54, 54, 154],\n",
    "  ['June', 112, 109, 79, 129]],\n",
    "  columns=['month', 'clinic_east',\n",
    "           'clinic_north', 'clinic_south',\n",
    "           'clinic_west'])"
   ]
  },
  {
   "cell_type": "code",
   "execution_count": 21,
   "id": "d4e31657-35dd-48e0-88c3-bfdab3193145",
   "metadata": {},
   "outputs": [],
   "source": [
    "#df"
   ]
  },
  {
   "cell_type": "code",
   "execution_count": 22,
   "id": "16465298-c849-4b23-899e-5371a0c28a12",
   "metadata": {},
   "outputs": [
    {
     "data": {
      "text/plain": [
       "15"
      ]
     },
     "execution_count": 22,
     "metadata": {},
     "output_type": "execute_result"
    }
   ],
   "source": [
    "# lambda refresher\n",
    "\n",
    "f = lambda n : n * 5\n",
    "f(3)"
   ]
  },
  {
   "cell_type": "code",
   "execution_count": 23,
   "id": "25e1eb63-9890-44f8-b03e-49c51f55e5ac",
   "metadata": {},
   "outputs": [
    {
     "data": {
      "text/html": [
       "<div>\n",
       "<style scoped>\n",
       "    .dataframe tbody tr th:only-of-type {\n",
       "        vertical-align: middle;\n",
       "    }\n",
       "\n",
       "    .dataframe tbody tr th {\n",
       "        vertical-align: top;\n",
       "    }\n",
       "\n",
       "    .dataframe thead th {\n",
       "        text-align: right;\n",
       "    }\n",
       "</style>\n",
       "<table border=\"1\" class=\"dataframe\">\n",
       "  <thead>\n",
       "    <tr style=\"text-align: right;\">\n",
       "      <th></th>\n",
       "      <th>month</th>\n",
       "      <th>clinic_east</th>\n",
       "      <th>clinic_north</th>\n",
       "      <th>clinic_south</th>\n",
       "      <th>clinic_west</th>\n",
       "    </tr>\n",
       "  </thead>\n",
       "  <tbody>\n",
       "    <tr>\n",
       "      <th>0</th>\n",
       "      <td>January</td>\n",
       "      <td>100</td>\n",
       "      <td>100</td>\n",
       "      <td>23</td>\n",
       "      <td>100</td>\n",
       "    </tr>\n",
       "    <tr>\n",
       "      <th>2</th>\n",
       "      <td>March</td>\n",
       "      <td>81</td>\n",
       "      <td>96</td>\n",
       "      <td>65</td>\n",
       "      <td>96</td>\n",
       "    </tr>\n",
       "    <tr>\n",
       "      <th>3</th>\n",
       "      <td>April</td>\n",
       "      <td>80</td>\n",
       "      <td>80</td>\n",
       "      <td>54</td>\n",
       "      <td>180</td>\n",
       "    </tr>\n",
       "    <tr>\n",
       "      <th>5</th>\n",
       "      <td>June</td>\n",
       "      <td>112</td>\n",
       "      <td>109</td>\n",
       "      <td>79</td>\n",
       "      <td>129</td>\n",
       "    </tr>\n",
       "  </tbody>\n",
       "</table>\n",
       "</div>"
      ],
      "text/plain": [
       "     month  clinic_east  clinic_north  clinic_south  clinic_west\n",
       "0  January          100           100            23          100\n",
       "2    March           81            96            65           96\n",
       "3    April           80            80            54          180\n",
       "5     June          112           109            79          129"
      ]
     },
     "execution_count": 23,
     "metadata": {},
     "output_type": "execute_result"
    }
   ],
   "source": [
    "# select WHERE, single condition\n",
    "# df[ df.column <op> condition ]\n",
    "\n",
    "df[ df.clinic_east > 51 ]"
   ]
  },
  {
   "cell_type": "code",
   "execution_count": 24,
   "id": "acb50f3d-d279-4ebd-af13-f7fecab9c33b",
   "metadata": {},
   "outputs": [],
   "source": [
    "## instruction\n",
    "# Create variable january using a logical statement that selects the row of df where the 'month' column is 'January'. \n",
    "\n",
    "january = df[ df.month ==  'January' ]"
   ]
  },
  {
   "cell_type": "code",
   "execution_count": 25,
   "id": "337cf7d5-b531-479a-b23c-910092b8168a",
   "metadata": {},
   "outputs": [],
   "source": [
    "# select WHERE, multiple conditions\n",
    "# df[  ( df.column <op> condition )  |/& ( df.column <op> condition ) ]\n",
    "## * for more than 2 conditions, AND (&) is evaluated before OR (|) \n"
   ]
  },
  {
   "cell_type": "code",
   "execution_count": 26,
   "id": "100dc11c-d070-43f5-85ba-89a1437c6bc2",
   "metadata": {},
   "outputs": [
    {
     "name": "stdout",
     "output_type": "stream",
     "text": [
      "   month  clinic_east  clinic_north  clinic_south  clinic_west\n",
      "2  March           81            96            65           96\n",
      "3  April           80            80            54          180\n"
     ]
    }
   ],
   "source": [
    "## instruction\n",
    "# Create the variable march_april, which contains the data from March and April. Do this using two logical statements combined using |, which means “or”.\n",
    "\n",
    "march_april = df[ ( df.month == 'March' ) | ( df.month == 'April' ) ]\n",
    "\n",
    "print(march_april)"
   ]
  },
  {
   "cell_type": "code",
   "execution_count": 27,
   "id": "c59c9964-d21d-443d-852c-0f56d90916e0",
   "metadata": {},
   "outputs": [],
   "source": [
    "# select WHERE, using ISIN\n",
    "\n",
    "# df[df.<column>.isin([value, value, value])]"
   ]
  },
  {
   "cell_type": "code",
   "execution_count": 28,
   "id": "8f06e44b-baa2-4984-9103-e41b1ef865e5",
   "metadata": {},
   "outputs": [
    {
     "data": {
      "text/html": [
       "<div>\n",
       "<style scoped>\n",
       "    .dataframe tbody tr th:only-of-type {\n",
       "        vertical-align: middle;\n",
       "    }\n",
       "\n",
       "    .dataframe tbody tr th {\n",
       "        vertical-align: top;\n",
       "    }\n",
       "\n",
       "    .dataframe thead th {\n",
       "        text-align: right;\n",
       "    }\n",
       "</style>\n",
       "<table border=\"1\" class=\"dataframe\">\n",
       "  <thead>\n",
       "    <tr style=\"text-align: right;\">\n",
       "      <th></th>\n",
       "      <th>month</th>\n",
       "      <th>clinic_east</th>\n",
       "      <th>clinic_north</th>\n",
       "      <th>clinic_south</th>\n",
       "      <th>clinic_west</th>\n",
       "    </tr>\n",
       "  </thead>\n",
       "  <tbody>\n",
       "    <tr>\n",
       "      <th>2</th>\n",
       "      <td>March</td>\n",
       "      <td>81</td>\n",
       "      <td>96</td>\n",
       "      <td>65</td>\n",
       "      <td>96</td>\n",
       "    </tr>\n",
       "    <tr>\n",
       "      <th>3</th>\n",
       "      <td>April</td>\n",
       "      <td>80</td>\n",
       "      <td>80</td>\n",
       "      <td>54</td>\n",
       "      <td>180</td>\n",
       "    </tr>\n",
       "  </tbody>\n",
       "</table>\n",
       "</div>"
      ],
      "text/plain": [
       "   month  clinic_east  clinic_north  clinic_south  clinic_west\n",
       "2  March           81            96            65           96\n",
       "3  April           80            80            54          180"
      ]
     },
     "execution_count": 28,
     "metadata": {},
     "output_type": "execute_result"
    }
   ],
   "source": [
    "df[df.clinic_east.isin([80, 81])]"
   ]
  },
  {
   "cell_type": "code",
   "execution_count": 29,
   "id": "66a39061-c64b-4dfb-b287-633fae1cd577",
   "metadata": {},
   "outputs": [
    {
     "name": "stdout",
     "output_type": "stream",
     "text": [
      "      month  clinic_east  clinic_north  clinic_south  clinic_west\n",
      "0   January          100           100            23          100\n",
      "1  February           51            45           145           45\n",
      "2     March           81            96            65           96\n"
     ]
    }
   ],
   "source": [
    "## instruction\n",
    "# Create the variable january_february_march, containing the data from January, February, and March. Do this using a single logical statement with the isin command.\n",
    "\n",
    "january_february_march = df[df.month.isin(['January', 'February', 'March'])]\n",
    "\n",
    "print(january_february_march)\n"
   ]
  },
  {
   "cell_type": "code",
   "execution_count": 30,
   "id": "12cf0a9d-add8-44ba-b57f-e28c825499cb",
   "metadata": {},
   "outputs": [],
   "source": [
    "# Reset index on extracted slice"
   ]
  },
  {
   "cell_type": "code",
   "execution_count": 31,
   "id": "b73ef8f8-02c3-4434-8103-37076af98d7c",
   "metadata": {},
   "outputs": [
    {
     "data": {
      "text/html": [
       "<div>\n",
       "<style scoped>\n",
       "    .dataframe tbody tr th:only-of-type {\n",
       "        vertical-align: middle;\n",
       "    }\n",
       "\n",
       "    .dataframe tbody tr th {\n",
       "        vertical-align: top;\n",
       "    }\n",
       "\n",
       "    .dataframe thead th {\n",
       "        text-align: right;\n",
       "    }\n",
       "</style>\n",
       "<table border=\"1\" class=\"dataframe\">\n",
       "  <thead>\n",
       "    <tr style=\"text-align: right;\">\n",
       "      <th></th>\n",
       "      <th>month</th>\n",
       "      <th>clinic_east</th>\n",
       "      <th>clinic_north</th>\n",
       "      <th>clinic_south</th>\n",
       "      <th>clinic_west</th>\n",
       "    </tr>\n",
       "  </thead>\n",
       "  <tbody>\n",
       "    <tr>\n",
       "      <th>1</th>\n",
       "      <td>February</td>\n",
       "      <td>51</td>\n",
       "      <td>45</td>\n",
       "      <td>145</td>\n",
       "      <td>45</td>\n",
       "    </tr>\n",
       "    <tr>\n",
       "      <th>4</th>\n",
       "      <td>May</td>\n",
       "      <td>51</td>\n",
       "      <td>54</td>\n",
       "      <td>54</td>\n",
       "      <td>154</td>\n",
       "    </tr>\n",
       "  </tbody>\n",
       "</table>\n",
       "</div>"
      ],
      "text/plain": [
       "      month  clinic_east  clinic_north  clinic_south  clinic_west\n",
       "1  February           51            45           145           45\n",
       "4       May           51            54            54          154"
      ]
     },
     "execution_count": 31,
     "metadata": {},
     "output_type": "execute_result"
    }
   ],
   "source": [
    "df[ df.clinic_east == 51 ]\n",
    "\n",
    "# notice the index 1,4 is fragmented"
   ]
  },
  {
   "cell_type": "code",
   "execution_count": 32,
   "id": "5d46b732-230e-4e35-883e-a38b1b53b2fd",
   "metadata": {},
   "outputs": [
    {
     "data": {
      "text/html": [
       "<div>\n",
       "<style scoped>\n",
       "    .dataframe tbody tr th:only-of-type {\n",
       "        vertical-align: middle;\n",
       "    }\n",
       "\n",
       "    .dataframe tbody tr th {\n",
       "        vertical-align: top;\n",
       "    }\n",
       "\n",
       "    .dataframe thead th {\n",
       "        text-align: right;\n",
       "    }\n",
       "</style>\n",
       "<table border=\"1\" class=\"dataframe\">\n",
       "  <thead>\n",
       "    <tr style=\"text-align: right;\">\n",
       "      <th></th>\n",
       "      <th>index</th>\n",
       "      <th>month</th>\n",
       "      <th>clinic_east</th>\n",
       "      <th>clinic_north</th>\n",
       "      <th>clinic_south</th>\n",
       "      <th>clinic_west</th>\n",
       "    </tr>\n",
       "  </thead>\n",
       "  <tbody>\n",
       "    <tr>\n",
       "      <th>0</th>\n",
       "      <td>1</td>\n",
       "      <td>February</td>\n",
       "      <td>51</td>\n",
       "      <td>45</td>\n",
       "      <td>145</td>\n",
       "      <td>45</td>\n",
       "    </tr>\n",
       "    <tr>\n",
       "      <th>1</th>\n",
       "      <td>4</td>\n",
       "      <td>May</td>\n",
       "      <td>51</td>\n",
       "      <td>54</td>\n",
       "      <td>54</td>\n",
       "      <td>154</td>\n",
       "    </tr>\n",
       "  </tbody>\n",
       "</table>\n",
       "</div>"
      ],
      "text/plain": [
       "   index     month  clinic_east  clinic_north  clinic_south  clinic_west\n",
       "0      1  February           51            45           145           45\n",
       "1      4       May           51            54            54          154"
      ]
     },
     "execution_count": 32,
     "metadata": {},
     "output_type": "execute_result"
    }
   ],
   "source": [
    "df[ df.clinic_east == 51 ].reset_index()\n",
    "\n",
    "# FIXED, sorta, though old values remain in a new column, index"
   ]
  },
  {
   "cell_type": "code",
   "execution_count": 33,
   "id": "83002f2e-3c59-4754-a5d0-a2b70b1d0f78",
   "metadata": {},
   "outputs": [
    {
     "data": {
      "text/html": [
       "<div>\n",
       "<style scoped>\n",
       "    .dataframe tbody tr th:only-of-type {\n",
       "        vertical-align: middle;\n",
       "    }\n",
       "\n",
       "    .dataframe tbody tr th {\n",
       "        vertical-align: top;\n",
       "    }\n",
       "\n",
       "    .dataframe thead th {\n",
       "        text-align: right;\n",
       "    }\n",
       "</style>\n",
       "<table border=\"1\" class=\"dataframe\">\n",
       "  <thead>\n",
       "    <tr style=\"text-align: right;\">\n",
       "      <th></th>\n",
       "      <th>month</th>\n",
       "      <th>clinic_east</th>\n",
       "      <th>clinic_north</th>\n",
       "      <th>clinic_south</th>\n",
       "      <th>clinic_west</th>\n",
       "    </tr>\n",
       "  </thead>\n",
       "  <tbody>\n",
       "    <tr>\n",
       "      <th>0</th>\n",
       "      <td>February</td>\n",
       "      <td>51</td>\n",
       "      <td>45</td>\n",
       "      <td>145</td>\n",
       "      <td>45</td>\n",
       "    </tr>\n",
       "    <tr>\n",
       "      <th>1</th>\n",
       "      <td>May</td>\n",
       "      <td>51</td>\n",
       "      <td>54</td>\n",
       "      <td>54</td>\n",
       "      <td>154</td>\n",
       "    </tr>\n",
       "  </tbody>\n",
       "</table>\n",
       "</div>"
      ],
      "text/plain": [
       "      month  clinic_east  clinic_north  clinic_south  clinic_west\n",
       "0  February           51            45           145           45\n",
       "1       May           51            54            54          154"
      ]
     },
     "execution_count": 33,
     "metadata": {},
     "output_type": "execute_result"
    }
   ],
   "source": [
    "df[ df.clinic_east == 51 ].reset_index( drop = True )  # drop = True removes the old index values"
   ]
  },
  {
   "cell_type": "code",
   "execution_count": 34,
   "id": "36b934dd-fe79-4545-bcb5-2d24df4639ee",
   "metadata": {},
   "outputs": [],
   "source": [
    "# Note, both these operations create a new dataframe with the result set. 'df' is not effected.\n",
    "#df"
   ]
  },
  {
   "cell_type": "code",
   "execution_count": 35,
   "id": "82699a7a-1ee6-450e-8828-8846337bf5ba",
   "metadata": {},
   "outputs": [],
   "source": [
    "# use inplace=True to modify a dataframe in place\n",
    "\n",
    "df[ df.clinic_east < 80 ].reset_index(inplace=True   )"
   ]
  },
  {
   "cell_type": "code",
   "execution_count": 36,
   "id": "30f5ad45-443f-4439-8dee-015f82543ead",
   "metadata": {},
   "outputs": [
    {
     "data": {
      "text/html": [
       "<div>\n",
       "<style scoped>\n",
       "    .dataframe tbody tr th:only-of-type {\n",
       "        vertical-align: middle;\n",
       "    }\n",
       "\n",
       "    .dataframe tbody tr th {\n",
       "        vertical-align: top;\n",
       "    }\n",
       "\n",
       "    .dataframe thead th {\n",
       "        text-align: right;\n",
       "    }\n",
       "</style>\n",
       "<table border=\"1\" class=\"dataframe\">\n",
       "  <thead>\n",
       "    <tr style=\"text-align: right;\">\n",
       "      <th></th>\n",
       "      <th>month</th>\n",
       "      <th>clinic_east</th>\n",
       "      <th>clinic_north</th>\n",
       "      <th>clinic_south</th>\n",
       "      <th>clinic_west</th>\n",
       "    </tr>\n",
       "  </thead>\n",
       "  <tbody>\n",
       "    <tr>\n",
       "      <th>0</th>\n",
       "      <td>January</td>\n",
       "      <td>100</td>\n",
       "      <td>100</td>\n",
       "      <td>23</td>\n",
       "      <td>100</td>\n",
       "    </tr>\n",
       "    <tr>\n",
       "      <th>1</th>\n",
       "      <td>February</td>\n",
       "      <td>51</td>\n",
       "      <td>45</td>\n",
       "      <td>145</td>\n",
       "      <td>45</td>\n",
       "    </tr>\n",
       "    <tr>\n",
       "      <th>2</th>\n",
       "      <td>March</td>\n",
       "      <td>81</td>\n",
       "      <td>96</td>\n",
       "      <td>65</td>\n",
       "      <td>96</td>\n",
       "    </tr>\n",
       "    <tr>\n",
       "      <th>3</th>\n",
       "      <td>April</td>\n",
       "      <td>80</td>\n",
       "      <td>80</td>\n",
       "      <td>54</td>\n",
       "      <td>180</td>\n",
       "    </tr>\n",
       "    <tr>\n",
       "      <th>4</th>\n",
       "      <td>May</td>\n",
       "      <td>51</td>\n",
       "      <td>54</td>\n",
       "      <td>54</td>\n",
       "      <td>154</td>\n",
       "    </tr>\n",
       "    <tr>\n",
       "      <th>5</th>\n",
       "      <td>June</td>\n",
       "      <td>112</td>\n",
       "      <td>109</td>\n",
       "      <td>79</td>\n",
       "      <td>129</td>\n",
       "    </tr>\n",
       "  </tbody>\n",
       "</table>\n",
       "</div>"
      ],
      "text/plain": [
       "      month  clinic_east  clinic_north  clinic_south  clinic_west\n",
       "0   January          100           100            23          100\n",
       "1  February           51            45           145           45\n",
       "2     March           81            96            65           96\n",
       "3     April           80            80            54          180\n",
       "4       May           51            54            54          154\n",
       "5      June          112           109            79          129"
      ]
     },
     "execution_count": 36,
     "metadata": {},
     "output_type": "execute_result"
    }
   ],
   "source": [
    "df"
   ]
  },
  {
   "cell_type": "code",
   "execution_count": 37,
   "id": "ce767c18-d15e-485c-9d03-be18108ee049",
   "metadata": {},
   "outputs": [
    {
     "data": {
      "text/html": [
       "<div>\n",
       "<style scoped>\n",
       "    .dataframe tbody tr th:only-of-type {\n",
       "        vertical-align: middle;\n",
       "    }\n",
       "\n",
       "    .dataframe tbody tr th {\n",
       "        vertical-align: top;\n",
       "    }\n",
       "\n",
       "    .dataframe thead th {\n",
       "        text-align: right;\n",
       "    }\n",
       "</style>\n",
       "<table border=\"1\" class=\"dataframe\">\n",
       "  <thead>\n",
       "    <tr style=\"text-align: right;\">\n",
       "      <th></th>\n",
       "      <th>month</th>\n",
       "      <th>clinic_east</th>\n",
       "      <th>clinic_north</th>\n",
       "      <th>clinic_south</th>\n",
       "      <th>clinic_west</th>\n",
       "    </tr>\n",
       "  </thead>\n",
       "  <tbody>\n",
       "    <tr>\n",
       "      <th>1</th>\n",
       "      <td>February</td>\n",
       "      <td>51</td>\n",
       "      <td>45</td>\n",
       "      <td>145</td>\n",
       "      <td>45</td>\n",
       "    </tr>\n",
       "    <tr>\n",
       "      <th>3</th>\n",
       "      <td>April</td>\n",
       "      <td>80</td>\n",
       "      <td>80</td>\n",
       "      <td>54</td>\n",
       "      <td>180</td>\n",
       "    </tr>\n",
       "    <tr>\n",
       "      <th>5</th>\n",
       "      <td>June</td>\n",
       "      <td>112</td>\n",
       "      <td>109</td>\n",
       "      <td>79</td>\n",
       "      <td>129</td>\n",
       "    </tr>\n",
       "  </tbody>\n",
       "</table>\n",
       "</div>"
      ],
      "text/plain": [
       "      month  clinic_east  clinic_north  clinic_south  clinic_west\n",
       "1  February           51            45           145           45\n",
       "3     April           80            80            54          180\n",
       "5      June          112           109            79          129"
      ]
     },
     "execution_count": 37,
     "metadata": {},
     "output_type": "execute_result"
    }
   ],
   "source": [
    "# New method :: loc[] to access rows\n",
    "df.loc[[1, 3, 5]]\n",
    "\n",
    "#df.loc[[1, 3, 5]].reset_index()"
   ]
  },
  {
   "cell_type": "code",
   "execution_count": 38,
   "id": "d8d54095-83f5-4b7c-8f7f-7fa488fe7cc6",
   "metadata": {},
   "outputs": [
    {
     "data": {
      "text/html": [
       "<div>\n",
       "<style scoped>\n",
       "    .dataframe tbody tr th:only-of-type {\n",
       "        vertical-align: middle;\n",
       "    }\n",
       "\n",
       "    .dataframe tbody tr th {\n",
       "        vertical-align: top;\n",
       "    }\n",
       "\n",
       "    .dataframe thead th {\n",
       "        text-align: right;\n",
       "    }\n",
       "</style>\n",
       "<table border=\"1\" class=\"dataframe\">\n",
       "  <thead>\n",
       "    <tr style=\"text-align: right;\">\n",
       "      <th></th>\n",
       "      <th>month</th>\n",
       "      <th>clinic_east</th>\n",
       "      <th>clinic_north</th>\n",
       "      <th>clinic_south</th>\n",
       "      <th>clinic_west</th>\n",
       "    </tr>\n",
       "  </thead>\n",
       "  <tbody>\n",
       "    <tr>\n",
       "      <th>1</th>\n",
       "      <td>February</td>\n",
       "      <td>51</td>\n",
       "      <td>45</td>\n",
       "      <td>145</td>\n",
       "      <td>45</td>\n",
       "    </tr>\n",
       "    <tr>\n",
       "      <th>3</th>\n",
       "      <td>April</td>\n",
       "      <td>80</td>\n",
       "      <td>80</td>\n",
       "      <td>54</td>\n",
       "      <td>180</td>\n",
       "    </tr>\n",
       "    <tr>\n",
       "      <th>5</th>\n",
       "      <td>June</td>\n",
       "      <td>112</td>\n",
       "      <td>109</td>\n",
       "      <td>79</td>\n",
       "      <td>129</td>\n",
       "    </tr>\n",
       "  </tbody>\n",
       "</table>\n",
       "</div>"
      ],
      "text/plain": [
       "      month  clinic_east  clinic_north  clinic_south  clinic_west\n",
       "1  February           51            45           145           45\n",
       "3     April           80            80            54          180\n",
       "5      June          112           109            79          129"
      ]
     },
     "execution_count": 38,
     "metadata": {},
     "output_type": "execute_result"
    }
   ],
   "source": [
    "df2 = df.loc[[1, 3, 5]]\n",
    "df2\n"
   ]
  },
  {
   "cell_type": "code",
   "execution_count": 39,
   "id": "683f0be9-cfec-4f17-bb78-b2449ee4cbc7",
   "metadata": {},
   "outputs": [
    {
     "data": {
      "text/html": [
       "<div>\n",
       "<style scoped>\n",
       "    .dataframe tbody tr th:only-of-type {\n",
       "        vertical-align: middle;\n",
       "    }\n",
       "\n",
       "    .dataframe tbody tr th {\n",
       "        vertical-align: top;\n",
       "    }\n",
       "\n",
       "    .dataframe thead th {\n",
       "        text-align: right;\n",
       "    }\n",
       "</style>\n",
       "<table border=\"1\" class=\"dataframe\">\n",
       "  <thead>\n",
       "    <tr style=\"text-align: right;\">\n",
       "      <th></th>\n",
       "      <th>index</th>\n",
       "      <th>month</th>\n",
       "      <th>clinic_east</th>\n",
       "      <th>clinic_north</th>\n",
       "      <th>clinic_south</th>\n",
       "      <th>clinic_west</th>\n",
       "    </tr>\n",
       "  </thead>\n",
       "  <tbody>\n",
       "    <tr>\n",
       "      <th>0</th>\n",
       "      <td>1</td>\n",
       "      <td>February</td>\n",
       "      <td>51</td>\n",
       "      <td>45</td>\n",
       "      <td>145</td>\n",
       "      <td>45</td>\n",
       "    </tr>\n",
       "    <tr>\n",
       "      <th>1</th>\n",
       "      <td>3</td>\n",
       "      <td>April</td>\n",
       "      <td>80</td>\n",
       "      <td>80</td>\n",
       "      <td>54</td>\n",
       "      <td>180</td>\n",
       "    </tr>\n",
       "    <tr>\n",
       "      <th>2</th>\n",
       "      <td>5</td>\n",
       "      <td>June</td>\n",
       "      <td>112</td>\n",
       "      <td>109</td>\n",
       "      <td>79</td>\n",
       "      <td>129</td>\n",
       "    </tr>\n",
       "  </tbody>\n",
       "</table>\n",
       "</div>"
      ],
      "text/plain": [
       "   index     month  clinic_east  clinic_north  clinic_south  clinic_west\n",
       "0      1  February           51            45           145           45\n",
       "1      3     April           80            80            54          180\n",
       "2      5      June          112           109            79          129"
      ]
     },
     "execution_count": 39,
     "metadata": {},
     "output_type": "execute_result"
    }
   ],
   "source": [
    "## instruction\n",
    "# Create a new DataFrame called df3 by resetting the indices on df2 (don’t use inplace or drop). Did df2 change after you ran this command?\n",
    "\n",
    "df3 = df2.reset_index()\n",
    "df3"
   ]
  },
  {
   "cell_type": "code",
   "execution_count": 40,
   "id": "2549d49f-fdd4-4fc8-a0e8-89b31bfe95c1",
   "metadata": {},
   "outputs": [
    {
     "data": {
      "text/html": [
       "<div>\n",
       "<style scoped>\n",
       "    .dataframe tbody tr th:only-of-type {\n",
       "        vertical-align: middle;\n",
       "    }\n",
       "\n",
       "    .dataframe tbody tr th {\n",
       "        vertical-align: top;\n",
       "    }\n",
       "\n",
       "    .dataframe thead th {\n",
       "        text-align: right;\n",
       "    }\n",
       "</style>\n",
       "<table border=\"1\" class=\"dataframe\">\n",
       "  <thead>\n",
       "    <tr style=\"text-align: right;\">\n",
       "      <th></th>\n",
       "      <th>month</th>\n",
       "      <th>clinic_east</th>\n",
       "      <th>clinic_north</th>\n",
       "      <th>clinic_south</th>\n",
       "      <th>clinic_west</th>\n",
       "    </tr>\n",
       "  </thead>\n",
       "  <tbody>\n",
       "    <tr>\n",
       "      <th>0</th>\n",
       "      <td>February</td>\n",
       "      <td>51</td>\n",
       "      <td>45</td>\n",
       "      <td>145</td>\n",
       "      <td>45</td>\n",
       "    </tr>\n",
       "    <tr>\n",
       "      <th>1</th>\n",
       "      <td>April</td>\n",
       "      <td>80</td>\n",
       "      <td>80</td>\n",
       "      <td>54</td>\n",
       "      <td>180</td>\n",
       "    </tr>\n",
       "    <tr>\n",
       "      <th>2</th>\n",
       "      <td>June</td>\n",
       "      <td>112</td>\n",
       "      <td>109</td>\n",
       "      <td>79</td>\n",
       "      <td>129</td>\n",
       "    </tr>\n",
       "  </tbody>\n",
       "</table>\n",
       "</div>"
      ],
      "text/plain": [
       "      month  clinic_east  clinic_north  clinic_south  clinic_west\n",
       "0  February           51            45           145           45\n",
       "1     April           80            80            54          180\n",
       "2      June          112           109            79          129"
      ]
     },
     "execution_count": 40,
     "metadata": {},
     "output_type": "execute_result"
    }
   ],
   "source": [
    "# Reset the indices of df2 by using the keyword inplace=True and drop=True. Did the indices of df2 change? How is df2 different from df3?\n",
    "\n",
    "df2.reset_index(drop=True, inplace=True)\n",
    "df2"
   ]
  },
  {
   "cell_type": "code",
   "execution_count": 41,
   "id": "d5f44412-5d93-4068-9eb0-c43ca55b6e4e",
   "metadata": {},
   "outputs": [],
   "source": [
    "###\n",
    "#  Excursion : using reset_index() to force a numeric index on a df that has been indexed on another non-numeric column\n",
    "####\n",
    "\n",
    "#df_networkProject = pd.read_csv('Nodes_IN_Medium.csv')"
   ]
  },
  {
   "cell_type": "code",
   "execution_count": 42,
   "id": "3fb4ace0-db65-4c70-a8f5-d4c0e554ca0f",
   "metadata": {},
   "outputs": [],
   "source": [
    "#type(df_networkProject)\n",
    "#df_networkProject.head(5)"
   ]
  },
  {
   "cell_type": "code",
   "execution_count": 43,
   "id": "73cc78c8-8bfc-44ee-9d41-ccfdef8f8b44",
   "metadata": {},
   "outputs": [],
   "source": [
    "# set the df index to nodename\n",
    "\n",
    "#df_networkProject.set_index('nodename', inplace = True)"
   ]
  },
  {
   "cell_type": "code",
   "execution_count": 44,
   "id": "cbfe4256-4351-4668-a078-fff645d95ef2",
   "metadata": {},
   "outputs": [],
   "source": [
    "# now reset the index\n",
    "\n",
    "#df_networkProject.reset_index(inplace=True)\n",
    "\n",
    "# WORKS!"
   ]
  },
  {
   "cell_type": "code",
   "execution_count": 45,
   "id": "87e1821c-d03d-4b46-9031-c27815ca518b",
   "metadata": {},
   "outputs": [],
   "source": [
    "####################\n",
    "# Exercise\n",
    "#################\n",
    "\n",
    "#In this example, you’ll be the data analyst for ShoeFly.com, a fictional online shoe store. You’ve seen this data; now it’s your turn to work with it!"
   ]
  },
  {
   "cell_type": "code",
   "execution_count": 46,
   "id": "74bcc784-d54d-45f0-82e9-9e9a1b5e2c30",
   "metadata": {},
   "outputs": [],
   "source": [
    "# Load the data from shoefly.csv into the variable orders \n",
    "\n",
    "#orders = pd.read_csv('shoefly.csv')"
   ]
  },
  {
   "cell_type": "code",
   "execution_count": 47,
   "id": "5b89aa5c-6683-46ef-b742-111f1c36a80d",
   "metadata": {},
   "outputs": [],
   "source": [
    "# Inspect the first 5 lines of the data.\n",
    "\n",
    "#orders.head(5) # no good; Excel didnt parse it; its all in 1 column... FIXED"
   ]
  },
  {
   "cell_type": "code",
   "execution_count": 48,
   "id": "14d1f741-5bb5-42d1-ad2f-9d220e5b7bd6",
   "metadata": {},
   "outputs": [],
   "source": [
    "# Select all of the email addresses from the column email and save them to a variable called emails\n",
    "\n",
    "#orders['email']"
   ]
  },
  {
   "cell_type": "code",
   "execution_count": 49,
   "id": "e3c38c34-01b9-43c6-be9d-39067fb3a537",
   "metadata": {},
   "outputs": [],
   "source": [
    "# Frances Palmer claims that her order was wrong. What did Frances Palmer order? Use logic to select that row of orders and save it to the variable frances_palmer\n",
    "\n",
    "#frances_palmer = orders[ ( orders.first_name  == 'Frances' ) & ( orders.last_name == 'Palmer'  )  ]\n",
    "#print(type(frances_palmer))  # even this single line result is of type data frame\n",
    "#frances_palmer"
   ]
  },
  {
   "cell_type": "code",
   "execution_count": 50,
   "id": "d5c26a3f-9d1d-454a-a9f0-a9ddbe5b6dd2",
   "metadata": {},
   "outputs": [],
   "source": [
    "# We need some customer reviews for our comfortable shoes. Select all orders for shoe_type: clogs, boots, and ballet flats and save them to the variable comfy_shoes.\n",
    "\n",
    "#comfy_shoes = orders[ orders.shoe_type.isin(  [ 'clogs', 'boots', 'ballet flats' ] ) ]\n",
    "\n",
    "#print( comfy_shoes )\n",
    "#comfy_shoes"
   ]
  },
  {
   "cell_type": "code",
   "execution_count": 51,
   "id": "9f2e622f-5b71-4054-b3cc-ceaee255ea38",
   "metadata": {},
   "outputs": [],
   "source": [
    "##############\n",
    "# Modifying a DataFrame\n",
    "#################"
   ]
  },
  {
   "cell_type": "code",
   "execution_count": 52,
   "id": "ed487f2b-40d5-45e3-8f75-ba4de1d3f1dd",
   "metadata": {},
   "outputs": [],
   "source": [
    "## Adding a Column I"
   ]
  },
  {
   "cell_type": "code",
   "execution_count": 53,
   "id": "b319e744-659f-441b-b1c6-92dbab4fb2ce",
   "metadata": {},
   "outputs": [],
   "source": [
    "df = pd.DataFrame([\n",
    "  [1, '3 inch screw', 0.5, 0.75],\n",
    "  [2, '2 inch nail', 0.10, 0.25],\n",
    "  [3, 'hammer', 3.00, 5.50],\n",
    "  [4, 'screwdriver', 2.50, 3.00]\n",
    "],\n",
    "  columns=['Product ID', 'Description', 'Cost to Manufacture', 'Price']\n",
    ")"
   ]
  },
  {
   "cell_type": "code",
   "execution_count": 54,
   "id": "ecbc9a3f-f0e9-4532-9a4c-598c58282225",
   "metadata": {},
   "outputs": [],
   "source": [
    "# The DataFrame df contains information on products sold at a hardware store. Add a column to df called 'Sold in Bulk?', which indicates if the product is sold in bulk or individually. The final table should look like this:"
   ]
  },
  {
   "cell_type": "code",
   "execution_count": 55,
   "id": "c92d52ec-ab61-4225-b21f-18ad161d2943",
   "metadata": {},
   "outputs": [],
   "source": [
    "df['Sold in Bulk?'] = [ 'Yes', 'Yes', 'No', 'No' ]"
   ]
  },
  {
   "cell_type": "code",
   "execution_count": 56,
   "id": "df310006-0b05-43ee-9d5a-1818abbcf3e6",
   "metadata": {},
   "outputs": [],
   "source": [
    "# Add a column to df called Is taxed?, which indicates whether or not to collect sales tax on the product. It should be 'Yes' for all rows."
   ]
  },
  {
   "cell_type": "code",
   "execution_count": 57,
   "id": "e2cc98ed-de96-48b8-b603-69a713777523",
   "metadata": {},
   "outputs": [],
   "source": [
    "df['Is taxed?'] = 'Yes'"
   ]
  },
  {
   "cell_type": "code",
   "execution_count": 62,
   "id": "c7d16581-e5e8-4d69-b0e2-b3b9955ea89f",
   "metadata": {},
   "outputs": [],
   "source": [
    "## Using apply() to modify a column\n",
    "\n",
    "df['Is taxed?'] = df[\"Is taxed?\"].apply(str.upper) # dot . notation can be used to designate columns by exact name , only w/o whitespace"
   ]
  },
  {
   "cell_type": "code",
   "execution_count": 63,
   "id": "99dafc7c-ed99-45ef-8413-54c9bbbc0f3e",
   "metadata": {},
   "outputs": [
    {
     "data": {
      "text/html": [
       "<div>\n",
       "<style scoped>\n",
       "    .dataframe tbody tr th:only-of-type {\n",
       "        vertical-align: middle;\n",
       "    }\n",
       "\n",
       "    .dataframe tbody tr th {\n",
       "        vertical-align: top;\n",
       "    }\n",
       "\n",
       "    .dataframe thead th {\n",
       "        text-align: right;\n",
       "    }\n",
       "</style>\n",
       "<table border=\"1\" class=\"dataframe\">\n",
       "  <thead>\n",
       "    <tr style=\"text-align: right;\">\n",
       "      <th></th>\n",
       "      <th>Product ID</th>\n",
       "      <th>Description</th>\n",
       "      <th>Cost to Manufacture</th>\n",
       "      <th>Price</th>\n",
       "      <th>Sold in Bulk?</th>\n",
       "      <th>Is taxed?</th>\n",
       "    </tr>\n",
       "  </thead>\n",
       "  <tbody>\n",
       "    <tr>\n",
       "      <th>0</th>\n",
       "      <td>1</td>\n",
       "      <td>3 inch screw</td>\n",
       "      <td>0.5</td>\n",
       "      <td>0.75</td>\n",
       "      <td>Yes</td>\n",
       "      <td>YES</td>\n",
       "    </tr>\n",
       "    <tr>\n",
       "      <th>1</th>\n",
       "      <td>2</td>\n",
       "      <td>2 inch nail</td>\n",
       "      <td>0.1</td>\n",
       "      <td>0.25</td>\n",
       "      <td>Yes</td>\n",
       "      <td>YES</td>\n",
       "    </tr>\n",
       "    <tr>\n",
       "      <th>2</th>\n",
       "      <td>3</td>\n",
       "      <td>hammer</td>\n",
       "      <td>3.0</td>\n",
       "      <td>5.50</td>\n",
       "      <td>No</td>\n",
       "      <td>YES</td>\n",
       "    </tr>\n",
       "    <tr>\n",
       "      <th>3</th>\n",
       "      <td>4</td>\n",
       "      <td>screwdriver</td>\n",
       "      <td>2.5</td>\n",
       "      <td>3.00</td>\n",
       "      <td>No</td>\n",
       "      <td>YES</td>\n",
       "    </tr>\n",
       "  </tbody>\n",
       "</table>\n",
       "</div>"
      ],
      "text/plain": [
       "   Product ID   Description  Cost to Manufacture  Price Sold in Bulk?  \\\n",
       "0           1  3 inch screw                  0.5   0.75           Yes   \n",
       "1           2   2 inch nail                  0.1   0.25           Yes   \n",
       "2           3        hammer                  3.0   5.50            No   \n",
       "3           4   screwdriver                  2.5   3.00            No   \n",
       "\n",
       "  Is taxed?  \n",
       "0       YES  \n",
       "1       YES  \n",
       "2       YES  \n",
       "3       YES  "
      ]
     },
     "execution_count": 63,
     "metadata": {},
     "output_type": "execute_result"
    }
   ],
   "source": [
    "df"
   ]
  }
 ],
 "metadata": {
  "kernelspec": {
   "display_name": "Python 3 (ipykernel)",
   "language": "python",
   "name": "python3"
  },
  "language_info": {
   "codemirror_mode": {
    "name": "ipython",
    "version": 3
   },
   "file_extension": ".py",
   "mimetype": "text/x-python",
   "name": "python",
   "nbconvert_exporter": "python",
   "pygments_lexer": "ipython3",
   "version": "3.10.9"
  }
 },
 "nbformat": 4,
 "nbformat_minor": 5
}
