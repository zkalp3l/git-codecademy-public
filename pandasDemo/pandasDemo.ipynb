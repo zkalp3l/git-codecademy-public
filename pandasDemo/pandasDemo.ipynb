{
 "cells": [
  {
   "cell_type": "code",
   "execution_count": 1,
   "id": "886991e9-c169-4c3b-b7fe-f8c4daf30a88",
   "metadata": {},
   "outputs": [],
   "source": [
    "import numpy as np\n",
    "import pandas as pd"
   ]
  },
  {
   "cell_type": "code",
   "execution_count": 2,
   "id": "5e33099d-d041-4e95-80a6-5c4020b2016b",
   "metadata": {},
   "outputs": [
    {
     "name": "stdout",
     "output_type": "stream",
     "text": [
      "[[1, 2, 3, 4], [-1, -2, -3, -4]]\n"
     ]
    }
   ],
   "source": [
    "# create list\n",
    "\n",
    "list1 = [1,2,3,4]\n",
    "list2 = [-1,-2,-3,-4]\n",
    "list3 = [ list1, list2  ]\n",
    "print(list3)"
   ]
  },
  {
   "cell_type": "code",
   "execution_count": 3,
   "id": "78cc9a59-780a-433c-9a7c-7e1f0b9192eb",
   "metadata": {},
   "outputs": [],
   "source": [
    "# ar_list1 =  array(\"i\", list1)  # doesnt work"
   ]
  },
  {
   "cell_type": "code",
   "execution_count": 4,
   "id": "b73f089f-584f-4ab2-9c98-c1c08550e801",
   "metadata": {},
   "outputs": [
    {
     "name": "stdout",
     "output_type": "stream",
     "text": [
      "[1 2 3 4]\n"
     ]
    }
   ],
   "source": [
    "# list to array\n",
    "\n",
    "array1 = np.array(list1)\n",
    "print(array1)"
   ]
  },
  {
   "cell_type": "code",
   "execution_count": 5,
   "id": "3508e65e-5918-4131-b630-939edd3c837f",
   "metadata": {},
   "outputs": [
    {
     "name": "stdout",
     "output_type": "stream",
     "text": [
      "10\n",
      "1\n"
     ]
    }
   ],
   "source": [
    "print(sum(array1))\n",
    "print(array1[0])"
   ]
  },
  {
   "cell_type": "code",
   "execution_count": 6,
   "id": "0b0be934-fdec-421e-abc6-b9ea17080cdc",
   "metadata": {},
   "outputs": [],
   "source": [
    "dimArray = np.array( list3 )"
   ]
  },
  {
   "cell_type": "code",
   "execution_count": 7,
   "id": "781e6699-986b-4276-ba81-3acdab5a366e",
   "metadata": {},
   "outputs": [
    {
     "name": "stdout",
     "output_type": "stream",
     "text": [
      "[[ 1  2  3  4]\n",
      " [-1 -2 -3 -4]]\n"
     ]
    }
   ],
   "source": [
    "print ( dimArray )"
   ]
  },
  {
   "cell_type": "code",
   "execution_count": 8,
   "id": "c4ace2c7-6e64-42ba-a516-3b6fb19a3fc0",
   "metadata": {},
   "outputs": [
    {
     "name": "stdout",
     "output_type": "stream",
     "text": [
      "-1\n"
     ]
    }
   ],
   "source": [
    "print( dimArray[1][0] )"
   ]
  },
  {
   "cell_type": "code",
   "execution_count": 9,
   "id": "1d2a8c49-45ef-4811-8bbc-3cbf55547b2e",
   "metadata": {},
   "outputs": [],
   "source": [
    "#increrment all by 1\n",
    "dimArray = dimArray +1"
   ]
  },
  {
   "cell_type": "code",
   "execution_count": 10,
   "id": "cfeee093-9cc7-4d43-a48a-88562ce4e7cb",
   "metadata": {},
   "outputs": [
    {
     "name": "stdout",
     "output_type": "stream",
     "text": [
      "0    1\n",
      "1    2\n",
      "2    3\n",
      "3    4\n",
      "dtype: int64\n",
      "0    1\n",
      "1    2\n",
      "2    3\n",
      "3    4\n",
      "dtype: int32\n"
     ]
    }
   ],
   "source": [
    "# list to series ( with default index )\n",
    "print ( pd.Series(list1) )\n",
    "\n",
    "# array to series also works \n",
    "print ( pd.Series(array1) )"
   ]
  },
  {
   "cell_type": "code",
   "execution_count": 11,
   "id": "519acda6-f0d3-48bb-b8cc-f407217cd23e",
   "metadata": {},
   "outputs": [],
   "source": [
    "# Series with explicit index\n",
    "#print ( pd.Series(array1, index=['zero', 'one', 'two', 'three']) )\n",
    "\n",
    "indexedSeries = pd.Series(array1, index=['zero', 'one', 'two', 'three'])"
   ]
  },
  {
   "cell_type": "code",
   "execution_count": 12,
   "id": "af482af8-ce4d-48bd-a08a-46876f8efa85",
   "metadata": {},
   "outputs": [
    {
     "name": "stdout",
     "output_type": "stream",
     "text": [
      "zero     1\n",
      "one      2\n",
      "two      3\n",
      "three    4\n",
      "dtype: int32\n"
     ]
    }
   ],
   "source": [
    "print(indexedSeries)"
   ]
  },
  {
   "cell_type": "code",
   "execution_count": 13,
   "id": "7670b935-d0b8-406d-a2b3-66b049b984c8",
   "metadata": {},
   "outputs": [],
   "source": [
    "\n",
    "\n",
    "df = pd.DataFrame([\n",
    "  ['January', 100, 100, 23, 100],\n",
    "  ['February', 51, 45, 145, 45],\n",
    "  ['March', 81, 96, 65, 96],\n",
    "  ['April', 80, 80, 54, 180],\n",
    "  ['May', 51, 54, 54, 154],\n",
    "  ['June', 112, 109, 79, 129]],\n",
    "  columns=['month', 'clinic_east',\n",
    "           'clinic_north', 'clinic_south',\n",
    "           'clinic_west']\n",
    ")"
   ]
  },
  {
   "cell_type": "code",
   "execution_count": 14,
   "id": "cfa4c285-a34b-44f4-a15d-acc9ce5de684",
   "metadata": {},
   "outputs": [
    {
     "name": "stdout",
     "output_type": "stream",
     "text": [
      "      month  clinic_east  clinic_north  clinic_south  clinic_west\n",
      "0   January          100           100            23          100\n",
      "1  February           51            45           145           45\n",
      "2     March           81            96            65           96\n",
      "3     April           80            80            54          180\n",
      "4       May           51            54            54          154\n",
      "5      June          112           109            79          129\n"
     ]
    }
   ],
   "source": [
    "print(df)"
   ]
  },
  {
   "cell_type": "code",
   "execution_count": 15,
   "id": "2200ed87-6e3d-4452-97c5-9865bbbb8b71",
   "metadata": {},
   "outputs": [
    {
     "name": "stdout",
     "output_type": "stream",
     "text": [
      "      month  clinic_east  clinic_north  clinic_south  clinic_west\n",
      "1  February           51            45           145           45\n",
      "2     March           81            96            65           96\n",
      "      month  clinic_east  clinic_north  clinic_south  clinic_west\n",
      "1  February           51            45           145           45\n",
      "2     March           81            96            65           96\n"
     ]
    }
   ],
   "source": [
    "# slice rows : these give the same output\n",
    "\n",
    "print(df[1:3])\n",
    "print(df.iloc[1:3]) "
   ]
  },
  {
   "cell_type": "code",
   "execution_count": 16,
   "id": "daee47d1-5378-4650-9ba8-cffc38ee8bb9",
   "metadata": {},
   "outputs": [
    {
     "name": "stdout",
     "output_type": "stream",
     "text": [
      "   month  clinic_east  clinic_north  clinic_south  clinic_west\n",
      "3  April           80            80            54          180\n",
      "4    May           51            54            54          154\n",
      "5   June          112           109            79          129\n",
      "   month  clinic_east  clinic_north  clinic_south  clinic_west\n",
      "3  April           80            80            54          180\n",
      "4    May           51            54            54          154\n",
      "5   June          112           109            79          129\n"
     ]
    }
   ],
   "source": [
    "# slice rows : these also give the same output\n",
    "\n",
    "print(df[ 3: ])\n",
    "print(df[ -3: ])\n"
   ]
  },
  {
   "cell_type": "code",
   "execution_count": 17,
   "id": "a39eeb5e-4f63-429b-9985-eeaccb89f3c2",
   "metadata": {},
   "outputs": [
    {
     "data": {
      "text/html": [
       "<div>\n",
       "<style scoped>\n",
       "    .dataframe tbody tr th:only-of-type {\n",
       "        vertical-align: middle;\n",
       "    }\n",
       "\n",
       "    .dataframe tbody tr th {\n",
       "        vertical-align: top;\n",
       "    }\n",
       "\n",
       "    .dataframe thead th {\n",
       "        text-align: right;\n",
       "    }\n",
       "</style>\n",
       "<table border=\"1\" class=\"dataframe\">\n",
       "  <thead>\n",
       "    <tr style=\"text-align: right;\">\n",
       "      <th></th>\n",
       "      <th>month</th>\n",
       "      <th>clinic_east</th>\n",
       "      <th>clinic_north</th>\n",
       "      <th>clinic_south</th>\n",
       "      <th>clinic_west</th>\n",
       "    </tr>\n",
       "  </thead>\n",
       "  <tbody>\n",
       "    <tr>\n",
       "      <th>0</th>\n",
       "      <td>January</td>\n",
       "      <td>100</td>\n",
       "      <td>100</td>\n",
       "      <td>23</td>\n",
       "      <td>100</td>\n",
       "    </tr>\n",
       "    <tr>\n",
       "      <th>2</th>\n",
       "      <td>March</td>\n",
       "      <td>81</td>\n",
       "      <td>96</td>\n",
       "      <td>65</td>\n",
       "      <td>96</td>\n",
       "    </tr>\n",
       "  </tbody>\n",
       "</table>\n",
       "</div>"
      ],
      "text/plain": [
       "     month  clinic_east  clinic_north  clinic_south  clinic_west\n",
       "0  January          100           100            23          100\n",
       "2    March           81            96            65           96"
      ]
     },
     "execution_count": 17,
     "metadata": {},
     "output_type": "execute_result"
    }
   ],
   "source": [
    "# try skip step \n",
    "## [ start : end : interval ] \n",
    "\n",
    "df[0:4:2] # doesnt work with a straight slice\n",
    "#df.iloc[0:4]"
   ]
  },
  {
   "cell_type": "code",
   "execution_count": 18,
   "id": "094e8aac-b655-4bb1-b6db-96fe7a996510",
   "metadata": {},
   "outputs": [
    {
     "data": {
      "text/html": [
       "<div>\n",
       "<style scoped>\n",
       "    .dataframe tbody tr th:only-of-type {\n",
       "        vertical-align: middle;\n",
       "    }\n",
       "\n",
       "    .dataframe tbody tr th {\n",
       "        vertical-align: top;\n",
       "    }\n",
       "\n",
       "    .dataframe thead th {\n",
       "        text-align: right;\n",
       "    }\n",
       "</style>\n",
       "<table border=\"1\" class=\"dataframe\">\n",
       "  <thead>\n",
       "    <tr style=\"text-align: right;\">\n",
       "      <th></th>\n",
       "      <th>month</th>\n",
       "      <th>clinic_east</th>\n",
       "      <th>clinic_north</th>\n",
       "      <th>clinic_south</th>\n",
       "      <th>clinic_west</th>\n",
       "    </tr>\n",
       "  </thead>\n",
       "  <tbody>\n",
       "    <tr>\n",
       "      <th>3</th>\n",
       "      <td>April</td>\n",
       "      <td>80</td>\n",
       "      <td>80</td>\n",
       "      <td>54</td>\n",
       "      <td>180</td>\n",
       "    </tr>\n",
       "    <tr>\n",
       "      <th>4</th>\n",
       "      <td>May</td>\n",
       "      <td>51</td>\n",
       "      <td>54</td>\n",
       "      <td>54</td>\n",
       "      <td>154</td>\n",
       "    </tr>\n",
       "    <tr>\n",
       "      <th>5</th>\n",
       "      <td>June</td>\n",
       "      <td>112</td>\n",
       "      <td>109</td>\n",
       "      <td>79</td>\n",
       "      <td>129</td>\n",
       "    </tr>\n",
       "  </tbody>\n",
       "</table>\n",
       "</div>"
      ],
      "text/plain": [
       "   month  clinic_east  clinic_north  clinic_south  clinic_west\n",
       "3  April           80            80            54          180\n",
       "4    May           51            54            54          154\n",
       "5   June          112           109            79          129"
      ]
     },
     "execution_count": 18,
     "metadata": {},
     "output_type": "execute_result"
    }
   ],
   "source": [
    "# instruction\n",
    "\n",
    "april_may_june = df[ 3: ]\n",
    "\n",
    "april_may_june"
   ]
  },
  {
   "cell_type": "code",
   "execution_count": 19,
   "id": "0b1355da-eab4-4691-a668-89473b1a2e6c",
   "metadata": {},
   "outputs": [],
   "source": [
    "#########\n",
    "## Select with conditions\n",
    "###############"
   ]
  },
  {
   "cell_type": "code",
   "execution_count": 20,
   "id": "cd57c309-4578-46d4-9e96-0654c6eaec0e",
   "metadata": {},
   "outputs": [],
   "source": [
    "df = pd.DataFrame([\n",
    "  ['January', 100, 100, 23, 100],\n",
    "  ['February', 51, 45, 145, 45],\n",
    "  ['March', 81, 96, 65, 96],\n",
    "  ['April', 80, 80, 54, 180],\n",
    "  ['May', 51, 54, 54, 154],\n",
    "  ['June', 112, 109, 79, 129]],\n",
    "  columns=['month', 'clinic_east',\n",
    "           'clinic_north', 'clinic_south',\n",
    "           'clinic_west'])"
   ]
  },
  {
   "cell_type": "code",
   "execution_count": 21,
   "id": "d4e31657-35dd-48e0-88c3-bfdab3193145",
   "metadata": {},
   "outputs": [],
   "source": [
    "#df"
   ]
  },
  {
   "cell_type": "code",
   "execution_count": 22,
   "id": "16465298-c849-4b23-899e-5371a0c28a12",
   "metadata": {},
   "outputs": [
    {
     "data": {
      "text/plain": [
       "15"
      ]
     },
     "execution_count": 22,
     "metadata": {},
     "output_type": "execute_result"
    }
   ],
   "source": [
    "# lambda refresher\n",
    "\n",
    "f = lambda n : n * 5\n",
    "f(3)"
   ]
  },
  {
   "cell_type": "code",
   "execution_count": 23,
   "id": "25e1eb63-9890-44f8-b03e-49c51f55e5ac",
   "metadata": {},
   "outputs": [
    {
     "data": {
      "text/html": [
       "<div>\n",
       "<style scoped>\n",
       "    .dataframe tbody tr th:only-of-type {\n",
       "        vertical-align: middle;\n",
       "    }\n",
       "\n",
       "    .dataframe tbody tr th {\n",
       "        vertical-align: top;\n",
       "    }\n",
       "\n",
       "    .dataframe thead th {\n",
       "        text-align: right;\n",
       "    }\n",
       "</style>\n",
       "<table border=\"1\" class=\"dataframe\">\n",
       "  <thead>\n",
       "    <tr style=\"text-align: right;\">\n",
       "      <th></th>\n",
       "      <th>month</th>\n",
       "      <th>clinic_east</th>\n",
       "      <th>clinic_north</th>\n",
       "      <th>clinic_south</th>\n",
       "      <th>clinic_west</th>\n",
       "    </tr>\n",
       "  </thead>\n",
       "  <tbody>\n",
       "    <tr>\n",
       "      <th>0</th>\n",
       "      <td>January</td>\n",
       "      <td>100</td>\n",
       "      <td>100</td>\n",
       "      <td>23</td>\n",
       "      <td>100</td>\n",
       "    </tr>\n",
       "    <tr>\n",
       "      <th>2</th>\n",
       "      <td>March</td>\n",
       "      <td>81</td>\n",
       "      <td>96</td>\n",
       "      <td>65</td>\n",
       "      <td>96</td>\n",
       "    </tr>\n",
       "    <tr>\n",
       "      <th>3</th>\n",
       "      <td>April</td>\n",
       "      <td>80</td>\n",
       "      <td>80</td>\n",
       "      <td>54</td>\n",
       "      <td>180</td>\n",
       "    </tr>\n",
       "    <tr>\n",
       "      <th>5</th>\n",
       "      <td>June</td>\n",
       "      <td>112</td>\n",
       "      <td>109</td>\n",
       "      <td>79</td>\n",
       "      <td>129</td>\n",
       "    </tr>\n",
       "  </tbody>\n",
       "</table>\n",
       "</div>"
      ],
      "text/plain": [
       "     month  clinic_east  clinic_north  clinic_south  clinic_west\n",
       "0  January          100           100            23          100\n",
       "2    March           81            96            65           96\n",
       "3    April           80            80            54          180\n",
       "5     June          112           109            79          129"
      ]
     },
     "execution_count": 23,
     "metadata": {},
     "output_type": "execute_result"
    }
   ],
   "source": [
    "# select WHERE, single condition\n",
    "# df[ df.column <op> condition ]\n",
    "\n",
    "df[ df.clinic_east > 51 ]"
   ]
  },
  {
   "cell_type": "code",
   "execution_count": 24,
   "id": "acb50f3d-d279-4ebd-af13-f7fecab9c33b",
   "metadata": {},
   "outputs": [],
   "source": [
    "## instruction\n",
    "# Create variable january using a logical statement that selects the row of df where the 'month' column is 'January'. \n",
    "\n",
    "january = df[ df.month ==  'January' ]\n",
    "#january"
   ]
  },
  {
   "cell_type": "code",
   "execution_count": 25,
   "id": "337cf7d5-b531-479a-b23c-910092b8168a",
   "metadata": {},
   "outputs": [],
   "source": [
    "# select WHERE, multiple conditions\n",
    "# df[  ( df.column <op> condition )  |/& ( df.column <op> condition ) ]\n",
    "## * for more than 2 conditions, AND (&) is evaluated before OR (|) \n"
   ]
  },
  {
   "cell_type": "code",
   "execution_count": 26,
   "id": "100dc11c-d070-43f5-85ba-89a1437c6bc2",
   "metadata": {},
   "outputs": [
    {
     "name": "stdout",
     "output_type": "stream",
     "text": [
      "   month  clinic_east  clinic_north  clinic_south  clinic_west\n",
      "2  March           81            96            65           96\n",
      "3  April           80            80            54          180\n"
     ]
    }
   ],
   "source": [
    "## instruction\n",
    "# Create the variable march_april, which contains the data from March and April. Do this using two logical statements combined using |, which means “or”.\n",
    "\n",
    "march_april = df[ ( df.month == 'March' ) | ( df.month == 'April' ) ]\n",
    "#march_april = df.clinic_north[ ( df.month == 'March' ) | ( df.month == 'April' ) ]\n",
    "\n",
    "\n",
    "print(march_april)"
   ]
  },
  {
   "cell_type": "code",
   "execution_count": 27,
   "id": "c59c9964-d21d-443d-852c-0f56d90916e0",
   "metadata": {},
   "outputs": [],
   "source": [
    "# select WHERE, using ISIN\n",
    "\n",
    "# df[df.<column>.isin([value, value, value])]"
   ]
  },
  {
   "cell_type": "code",
   "execution_count": 28,
   "id": "8f06e44b-baa2-4984-9103-e41b1ef865e5",
   "metadata": {},
   "outputs": [
    {
     "data": {
      "text/html": [
       "<div>\n",
       "<style scoped>\n",
       "    .dataframe tbody tr th:only-of-type {\n",
       "        vertical-align: middle;\n",
       "    }\n",
       "\n",
       "    .dataframe tbody tr th {\n",
       "        vertical-align: top;\n",
       "    }\n",
       "\n",
       "    .dataframe thead th {\n",
       "        text-align: right;\n",
       "    }\n",
       "</style>\n",
       "<table border=\"1\" class=\"dataframe\">\n",
       "  <thead>\n",
       "    <tr style=\"text-align: right;\">\n",
       "      <th></th>\n",
       "      <th>month</th>\n",
       "      <th>clinic_east</th>\n",
       "      <th>clinic_north</th>\n",
       "      <th>clinic_south</th>\n",
       "      <th>clinic_west</th>\n",
       "    </tr>\n",
       "  </thead>\n",
       "  <tbody>\n",
       "    <tr>\n",
       "      <th>2</th>\n",
       "      <td>March</td>\n",
       "      <td>81</td>\n",
       "      <td>96</td>\n",
       "      <td>65</td>\n",
       "      <td>96</td>\n",
       "    </tr>\n",
       "    <tr>\n",
       "      <th>3</th>\n",
       "      <td>April</td>\n",
       "      <td>80</td>\n",
       "      <td>80</td>\n",
       "      <td>54</td>\n",
       "      <td>180</td>\n",
       "    </tr>\n",
       "  </tbody>\n",
       "</table>\n",
       "</div>"
      ],
      "text/plain": [
       "   month  clinic_east  clinic_north  clinic_south  clinic_west\n",
       "2  March           81            96            65           96\n",
       "3  April           80            80            54          180"
      ]
     },
     "execution_count": 28,
     "metadata": {},
     "output_type": "execute_result"
    }
   ],
   "source": [
    "df[df.clinic_east.isin([80, 81])]"
   ]
  },
  {
   "cell_type": "code",
   "execution_count": 29,
   "id": "66a39061-c64b-4dfb-b287-633fae1cd577",
   "metadata": {},
   "outputs": [
    {
     "name": "stdout",
     "output_type": "stream",
     "text": [
      "      month  clinic_east  clinic_north  clinic_south  clinic_west\n",
      "0   January          100           100            23          100\n",
      "1  February           51            45           145           45\n",
      "2     March           81            96            65           96\n"
     ]
    }
   ],
   "source": [
    "## instruction\n",
    "# Create the variable january_february_march, containing the data from January, February, and March. Do this using a single logical statement with the isin command.\n",
    "\n",
    "january_february_march = df[df.month.isin(['January', 'February', 'March'])]\n",
    "\n",
    "print(january_february_march)\n"
   ]
  },
  {
   "cell_type": "code",
   "execution_count": 30,
   "id": "12cf0a9d-add8-44ba-b57f-e28c825499cb",
   "metadata": {},
   "outputs": [],
   "source": [
    "# Reset index on extracted slice"
   ]
  },
  {
   "cell_type": "code",
   "execution_count": 31,
   "id": "b73ef8f8-02c3-4434-8103-37076af98d7c",
   "metadata": {},
   "outputs": [
    {
     "data": {
      "text/html": [
       "<div>\n",
       "<style scoped>\n",
       "    .dataframe tbody tr th:only-of-type {\n",
       "        vertical-align: middle;\n",
       "    }\n",
       "\n",
       "    .dataframe tbody tr th {\n",
       "        vertical-align: top;\n",
       "    }\n",
       "\n",
       "    .dataframe thead th {\n",
       "        text-align: right;\n",
       "    }\n",
       "</style>\n",
       "<table border=\"1\" class=\"dataframe\">\n",
       "  <thead>\n",
       "    <tr style=\"text-align: right;\">\n",
       "      <th></th>\n",
       "      <th>month</th>\n",
       "      <th>clinic_east</th>\n",
       "      <th>clinic_north</th>\n",
       "      <th>clinic_south</th>\n",
       "      <th>clinic_west</th>\n",
       "    </tr>\n",
       "  </thead>\n",
       "  <tbody>\n",
       "    <tr>\n",
       "      <th>1</th>\n",
       "      <td>February</td>\n",
       "      <td>51</td>\n",
       "      <td>45</td>\n",
       "      <td>145</td>\n",
       "      <td>45</td>\n",
       "    </tr>\n",
       "    <tr>\n",
       "      <th>4</th>\n",
       "      <td>May</td>\n",
       "      <td>51</td>\n",
       "      <td>54</td>\n",
       "      <td>54</td>\n",
       "      <td>154</td>\n",
       "    </tr>\n",
       "  </tbody>\n",
       "</table>\n",
       "</div>"
      ],
      "text/plain": [
       "      month  clinic_east  clinic_north  clinic_south  clinic_west\n",
       "1  February           51            45           145           45\n",
       "4       May           51            54            54          154"
      ]
     },
     "execution_count": 31,
     "metadata": {},
     "output_type": "execute_result"
    }
   ],
   "source": [
    "df[ df.clinic_east == 51 ]\n",
    "\n",
    "# notice the index 1,4 is fragmented"
   ]
  },
  {
   "cell_type": "code",
   "execution_count": 32,
   "id": "5d46b732-230e-4e35-883e-a38b1b53b2fd",
   "metadata": {},
   "outputs": [
    {
     "data": {
      "text/html": [
       "<div>\n",
       "<style scoped>\n",
       "    .dataframe tbody tr th:only-of-type {\n",
       "        vertical-align: middle;\n",
       "    }\n",
       "\n",
       "    .dataframe tbody tr th {\n",
       "        vertical-align: top;\n",
       "    }\n",
       "\n",
       "    .dataframe thead th {\n",
       "        text-align: right;\n",
       "    }\n",
       "</style>\n",
       "<table border=\"1\" class=\"dataframe\">\n",
       "  <thead>\n",
       "    <tr style=\"text-align: right;\">\n",
       "      <th></th>\n",
       "      <th>index</th>\n",
       "      <th>month</th>\n",
       "      <th>clinic_east</th>\n",
       "      <th>clinic_north</th>\n",
       "      <th>clinic_south</th>\n",
       "      <th>clinic_west</th>\n",
       "    </tr>\n",
       "  </thead>\n",
       "  <tbody>\n",
       "    <tr>\n",
       "      <th>0</th>\n",
       "      <td>1</td>\n",
       "      <td>February</td>\n",
       "      <td>51</td>\n",
       "      <td>45</td>\n",
       "      <td>145</td>\n",
       "      <td>45</td>\n",
       "    </tr>\n",
       "    <tr>\n",
       "      <th>1</th>\n",
       "      <td>4</td>\n",
       "      <td>May</td>\n",
       "      <td>51</td>\n",
       "      <td>54</td>\n",
       "      <td>54</td>\n",
       "      <td>154</td>\n",
       "    </tr>\n",
       "  </tbody>\n",
       "</table>\n",
       "</div>"
      ],
      "text/plain": [
       "   index     month  clinic_east  clinic_north  clinic_south  clinic_west\n",
       "0      1  February           51            45           145           45\n",
       "1      4       May           51            54            54          154"
      ]
     },
     "execution_count": 32,
     "metadata": {},
     "output_type": "execute_result"
    }
   ],
   "source": [
    "df[ df.clinic_east == 51 ].reset_index()\n",
    "\n",
    "# FIXED, sorta, though old values remain in a new column, index"
   ]
  },
  {
   "cell_type": "code",
   "execution_count": 33,
   "id": "83002f2e-3c59-4754-a5d0-a2b70b1d0f78",
   "metadata": {},
   "outputs": [
    {
     "data": {
      "text/html": [
       "<div>\n",
       "<style scoped>\n",
       "    .dataframe tbody tr th:only-of-type {\n",
       "        vertical-align: middle;\n",
       "    }\n",
       "\n",
       "    .dataframe tbody tr th {\n",
       "        vertical-align: top;\n",
       "    }\n",
       "\n",
       "    .dataframe thead th {\n",
       "        text-align: right;\n",
       "    }\n",
       "</style>\n",
       "<table border=\"1\" class=\"dataframe\">\n",
       "  <thead>\n",
       "    <tr style=\"text-align: right;\">\n",
       "      <th></th>\n",
       "      <th>month</th>\n",
       "      <th>clinic_east</th>\n",
       "      <th>clinic_north</th>\n",
       "      <th>clinic_south</th>\n",
       "      <th>clinic_west</th>\n",
       "    </tr>\n",
       "  </thead>\n",
       "  <tbody>\n",
       "    <tr>\n",
       "      <th>0</th>\n",
       "      <td>February</td>\n",
       "      <td>51</td>\n",
       "      <td>45</td>\n",
       "      <td>145</td>\n",
       "      <td>45</td>\n",
       "    </tr>\n",
       "    <tr>\n",
       "      <th>1</th>\n",
       "      <td>May</td>\n",
       "      <td>51</td>\n",
       "      <td>54</td>\n",
       "      <td>54</td>\n",
       "      <td>154</td>\n",
       "    </tr>\n",
       "  </tbody>\n",
       "</table>\n",
       "</div>"
      ],
      "text/plain": [
       "      month  clinic_east  clinic_north  clinic_south  clinic_west\n",
       "0  February           51            45           145           45\n",
       "1       May           51            54            54          154"
      ]
     },
     "execution_count": 33,
     "metadata": {},
     "output_type": "execute_result"
    }
   ],
   "source": [
    "df[ df.clinic_east == 51 ].reset_index( drop = True )  # drop = True removes the old index values"
   ]
  },
  {
   "cell_type": "code",
   "execution_count": 34,
   "id": "36b934dd-fe79-4545-bcb5-2d24df4639ee",
   "metadata": {},
   "outputs": [],
   "source": [
    "# Note, both these operations create a new dataframe with the result set. 'df' is not effected.\n",
    "#df"
   ]
  },
  {
   "cell_type": "code",
   "execution_count": 35,
   "id": "82699a7a-1ee6-450e-8828-8846337bf5ba",
   "metadata": {},
   "outputs": [],
   "source": [
    "# use inplace=True to modify a dataframe in place\n",
    "\n",
    "df[ df.clinic_east < 80 ].reset_index(inplace=True   )"
   ]
  },
  {
   "cell_type": "code",
   "execution_count": 36,
   "id": "30f5ad45-443f-4439-8dee-015f82543ead",
   "metadata": {},
   "outputs": [
    {
     "data": {
      "text/html": [
       "<div>\n",
       "<style scoped>\n",
       "    .dataframe tbody tr th:only-of-type {\n",
       "        vertical-align: middle;\n",
       "    }\n",
       "\n",
       "    .dataframe tbody tr th {\n",
       "        vertical-align: top;\n",
       "    }\n",
       "\n",
       "    .dataframe thead th {\n",
       "        text-align: right;\n",
       "    }\n",
       "</style>\n",
       "<table border=\"1\" class=\"dataframe\">\n",
       "  <thead>\n",
       "    <tr style=\"text-align: right;\">\n",
       "      <th></th>\n",
       "      <th>month</th>\n",
       "      <th>clinic_east</th>\n",
       "      <th>clinic_north</th>\n",
       "      <th>clinic_south</th>\n",
       "      <th>clinic_west</th>\n",
       "    </tr>\n",
       "  </thead>\n",
       "  <tbody>\n",
       "    <tr>\n",
       "      <th>0</th>\n",
       "      <td>January</td>\n",
       "      <td>100</td>\n",
       "      <td>100</td>\n",
       "      <td>23</td>\n",
       "      <td>100</td>\n",
       "    </tr>\n",
       "    <tr>\n",
       "      <th>1</th>\n",
       "      <td>February</td>\n",
       "      <td>51</td>\n",
       "      <td>45</td>\n",
       "      <td>145</td>\n",
       "      <td>45</td>\n",
       "    </tr>\n",
       "    <tr>\n",
       "      <th>2</th>\n",
       "      <td>March</td>\n",
       "      <td>81</td>\n",
       "      <td>96</td>\n",
       "      <td>65</td>\n",
       "      <td>96</td>\n",
       "    </tr>\n",
       "    <tr>\n",
       "      <th>3</th>\n",
       "      <td>April</td>\n",
       "      <td>80</td>\n",
       "      <td>80</td>\n",
       "      <td>54</td>\n",
       "      <td>180</td>\n",
       "    </tr>\n",
       "    <tr>\n",
       "      <th>4</th>\n",
       "      <td>May</td>\n",
       "      <td>51</td>\n",
       "      <td>54</td>\n",
       "      <td>54</td>\n",
       "      <td>154</td>\n",
       "    </tr>\n",
       "    <tr>\n",
       "      <th>5</th>\n",
       "      <td>June</td>\n",
       "      <td>112</td>\n",
       "      <td>109</td>\n",
       "      <td>79</td>\n",
       "      <td>129</td>\n",
       "    </tr>\n",
       "  </tbody>\n",
       "</table>\n",
       "</div>"
      ],
      "text/plain": [
       "      month  clinic_east  clinic_north  clinic_south  clinic_west\n",
       "0   January          100           100            23          100\n",
       "1  February           51            45           145           45\n",
       "2     March           81            96            65           96\n",
       "3     April           80            80            54          180\n",
       "4       May           51            54            54          154\n",
       "5      June          112           109            79          129"
      ]
     },
     "execution_count": 36,
     "metadata": {},
     "output_type": "execute_result"
    }
   ],
   "source": [
    "df"
   ]
  },
  {
   "cell_type": "code",
   "execution_count": 37,
   "id": "ce767c18-d15e-485c-9d03-be18108ee049",
   "metadata": {},
   "outputs": [
    {
     "data": {
      "text/html": [
       "<div>\n",
       "<style scoped>\n",
       "    .dataframe tbody tr th:only-of-type {\n",
       "        vertical-align: middle;\n",
       "    }\n",
       "\n",
       "    .dataframe tbody tr th {\n",
       "        vertical-align: top;\n",
       "    }\n",
       "\n",
       "    .dataframe thead th {\n",
       "        text-align: right;\n",
       "    }\n",
       "</style>\n",
       "<table border=\"1\" class=\"dataframe\">\n",
       "  <thead>\n",
       "    <tr style=\"text-align: right;\">\n",
       "      <th></th>\n",
       "      <th>month</th>\n",
       "      <th>clinic_east</th>\n",
       "      <th>clinic_north</th>\n",
       "      <th>clinic_south</th>\n",
       "      <th>clinic_west</th>\n",
       "    </tr>\n",
       "  </thead>\n",
       "  <tbody>\n",
       "    <tr>\n",
       "      <th>1</th>\n",
       "      <td>February</td>\n",
       "      <td>51</td>\n",
       "      <td>45</td>\n",
       "      <td>145</td>\n",
       "      <td>45</td>\n",
       "    </tr>\n",
       "    <tr>\n",
       "      <th>3</th>\n",
       "      <td>April</td>\n",
       "      <td>80</td>\n",
       "      <td>80</td>\n",
       "      <td>54</td>\n",
       "      <td>180</td>\n",
       "    </tr>\n",
       "    <tr>\n",
       "      <th>5</th>\n",
       "      <td>June</td>\n",
       "      <td>112</td>\n",
       "      <td>109</td>\n",
       "      <td>79</td>\n",
       "      <td>129</td>\n",
       "    </tr>\n",
       "  </tbody>\n",
       "</table>\n",
       "</div>"
      ],
      "text/plain": [
       "      month  clinic_east  clinic_north  clinic_south  clinic_west\n",
       "1  February           51            45           145           45\n",
       "3     April           80            80            54          180\n",
       "5      June          112           109            79          129"
      ]
     },
     "execution_count": 37,
     "metadata": {},
     "output_type": "execute_result"
    }
   ],
   "source": [
    "# New method :: loc[] to access rows\n",
    "df.loc[[1, 3, 5]]\n",
    "\n",
    "#df.loc[[1, 3, 5]].reset_index()"
   ]
  },
  {
   "cell_type": "code",
   "execution_count": 38,
   "id": "d8d54095-83f5-4b7c-8f7f-7fa488fe7cc6",
   "metadata": {},
   "outputs": [
    {
     "data": {
      "text/html": [
       "<div>\n",
       "<style scoped>\n",
       "    .dataframe tbody tr th:only-of-type {\n",
       "        vertical-align: middle;\n",
       "    }\n",
       "\n",
       "    .dataframe tbody tr th {\n",
       "        vertical-align: top;\n",
       "    }\n",
       "\n",
       "    .dataframe thead th {\n",
       "        text-align: right;\n",
       "    }\n",
       "</style>\n",
       "<table border=\"1\" class=\"dataframe\">\n",
       "  <thead>\n",
       "    <tr style=\"text-align: right;\">\n",
       "      <th></th>\n",
       "      <th>month</th>\n",
       "      <th>clinic_east</th>\n",
       "      <th>clinic_north</th>\n",
       "      <th>clinic_south</th>\n",
       "      <th>clinic_west</th>\n",
       "    </tr>\n",
       "  </thead>\n",
       "  <tbody>\n",
       "    <tr>\n",
       "      <th>1</th>\n",
       "      <td>February</td>\n",
       "      <td>51</td>\n",
       "      <td>45</td>\n",
       "      <td>145</td>\n",
       "      <td>45</td>\n",
       "    </tr>\n",
       "    <tr>\n",
       "      <th>3</th>\n",
       "      <td>April</td>\n",
       "      <td>80</td>\n",
       "      <td>80</td>\n",
       "      <td>54</td>\n",
       "      <td>180</td>\n",
       "    </tr>\n",
       "    <tr>\n",
       "      <th>5</th>\n",
       "      <td>June</td>\n",
       "      <td>112</td>\n",
       "      <td>109</td>\n",
       "      <td>79</td>\n",
       "      <td>129</td>\n",
       "    </tr>\n",
       "  </tbody>\n",
       "</table>\n",
       "</div>"
      ],
      "text/plain": [
       "      month  clinic_east  clinic_north  clinic_south  clinic_west\n",
       "1  February           51            45           145           45\n",
       "3     April           80            80            54          180\n",
       "5      June          112           109            79          129"
      ]
     },
     "execution_count": 38,
     "metadata": {},
     "output_type": "execute_result"
    }
   ],
   "source": [
    "df2 = df.loc[[1, 3, 5]]\n",
    "df2\n"
   ]
  },
  {
   "cell_type": "code",
   "execution_count": 39,
   "id": "683f0be9-cfec-4f17-bb78-b2449ee4cbc7",
   "metadata": {},
   "outputs": [
    {
     "data": {
      "text/html": [
       "<div>\n",
       "<style scoped>\n",
       "    .dataframe tbody tr th:only-of-type {\n",
       "        vertical-align: middle;\n",
       "    }\n",
       "\n",
       "    .dataframe tbody tr th {\n",
       "        vertical-align: top;\n",
       "    }\n",
       "\n",
       "    .dataframe thead th {\n",
       "        text-align: right;\n",
       "    }\n",
       "</style>\n",
       "<table border=\"1\" class=\"dataframe\">\n",
       "  <thead>\n",
       "    <tr style=\"text-align: right;\">\n",
       "      <th></th>\n",
       "      <th>index</th>\n",
       "      <th>month</th>\n",
       "      <th>clinic_east</th>\n",
       "      <th>clinic_north</th>\n",
       "      <th>clinic_south</th>\n",
       "      <th>clinic_west</th>\n",
       "    </tr>\n",
       "  </thead>\n",
       "  <tbody>\n",
       "    <tr>\n",
       "      <th>0</th>\n",
       "      <td>1</td>\n",
       "      <td>February</td>\n",
       "      <td>51</td>\n",
       "      <td>45</td>\n",
       "      <td>145</td>\n",
       "      <td>45</td>\n",
       "    </tr>\n",
       "    <tr>\n",
       "      <th>1</th>\n",
       "      <td>3</td>\n",
       "      <td>April</td>\n",
       "      <td>80</td>\n",
       "      <td>80</td>\n",
       "      <td>54</td>\n",
       "      <td>180</td>\n",
       "    </tr>\n",
       "    <tr>\n",
       "      <th>2</th>\n",
       "      <td>5</td>\n",
       "      <td>June</td>\n",
       "      <td>112</td>\n",
       "      <td>109</td>\n",
       "      <td>79</td>\n",
       "      <td>129</td>\n",
       "    </tr>\n",
       "  </tbody>\n",
       "</table>\n",
       "</div>"
      ],
      "text/plain": [
       "   index     month  clinic_east  clinic_north  clinic_south  clinic_west\n",
       "0      1  February           51            45           145           45\n",
       "1      3     April           80            80            54          180\n",
       "2      5      June          112           109            79          129"
      ]
     },
     "execution_count": 39,
     "metadata": {},
     "output_type": "execute_result"
    }
   ],
   "source": [
    "## instruction\n",
    "# Create a new DataFrame called df3 by resetting the indices on df2 (don’t use inplace or drop). Did df2 change after you ran this command?\n",
    "\n",
    "df3 = df2.reset_index()\n",
    "df3"
   ]
  },
  {
   "cell_type": "code",
   "execution_count": 40,
   "id": "2549d49f-fdd4-4fc8-a0e8-89b31bfe95c1",
   "metadata": {},
   "outputs": [
    {
     "data": {
      "text/html": [
       "<div>\n",
       "<style scoped>\n",
       "    .dataframe tbody tr th:only-of-type {\n",
       "        vertical-align: middle;\n",
       "    }\n",
       "\n",
       "    .dataframe tbody tr th {\n",
       "        vertical-align: top;\n",
       "    }\n",
       "\n",
       "    .dataframe thead th {\n",
       "        text-align: right;\n",
       "    }\n",
       "</style>\n",
       "<table border=\"1\" class=\"dataframe\">\n",
       "  <thead>\n",
       "    <tr style=\"text-align: right;\">\n",
       "      <th></th>\n",
       "      <th>month</th>\n",
       "      <th>clinic_east</th>\n",
       "      <th>clinic_north</th>\n",
       "      <th>clinic_south</th>\n",
       "      <th>clinic_west</th>\n",
       "    </tr>\n",
       "  </thead>\n",
       "  <tbody>\n",
       "    <tr>\n",
       "      <th>0</th>\n",
       "      <td>February</td>\n",
       "      <td>51</td>\n",
       "      <td>45</td>\n",
       "      <td>145</td>\n",
       "      <td>45</td>\n",
       "    </tr>\n",
       "    <tr>\n",
       "      <th>1</th>\n",
       "      <td>April</td>\n",
       "      <td>80</td>\n",
       "      <td>80</td>\n",
       "      <td>54</td>\n",
       "      <td>180</td>\n",
       "    </tr>\n",
       "    <tr>\n",
       "      <th>2</th>\n",
       "      <td>June</td>\n",
       "      <td>112</td>\n",
       "      <td>109</td>\n",
       "      <td>79</td>\n",
       "      <td>129</td>\n",
       "    </tr>\n",
       "  </tbody>\n",
       "</table>\n",
       "</div>"
      ],
      "text/plain": [
       "      month  clinic_east  clinic_north  clinic_south  clinic_west\n",
       "0  February           51            45           145           45\n",
       "1     April           80            80            54          180\n",
       "2      June          112           109            79          129"
      ]
     },
     "execution_count": 40,
     "metadata": {},
     "output_type": "execute_result"
    }
   ],
   "source": [
    "# Reset the indices of df2 by using the keyword inplace=True and drop=True. Did the indices of df2 change? How is df2 different from df3?\n",
    "\n",
    "df2.reset_index(drop=True, inplace=True)\n",
    "df2"
   ]
  },
  {
   "cell_type": "code",
   "execution_count": 41,
   "id": "d5f44412-5d93-4068-9eb0-c43ca55b6e4e",
   "metadata": {},
   "outputs": [],
   "source": [
    "###\n",
    "#  Excursion : using reset_index() to force a numeric index on a df that has been indexed on another non-numeric column\n",
    "####\n",
    "\n",
    "#df_networkProject = pd.read_csv('Nodes_IN_Medium.csv')"
   ]
  },
  {
   "cell_type": "code",
   "execution_count": 42,
   "id": "3fb4ace0-db65-4c70-a8f5-d4c0e554ca0f",
   "metadata": {},
   "outputs": [],
   "source": [
    "#type(df_networkProject)\n",
    "#df_networkProject.head(5)"
   ]
  },
  {
   "cell_type": "code",
   "execution_count": 43,
   "id": "73cc78c8-8bfc-44ee-9d41-ccfdef8f8b44",
   "metadata": {},
   "outputs": [],
   "source": [
    "# set the df index to nodename\n",
    "\n",
    "#df_networkProject.set_index('nodename', inplace = True)"
   ]
  },
  {
   "cell_type": "code",
   "execution_count": 44,
   "id": "cbfe4256-4351-4668-a078-fff645d95ef2",
   "metadata": {},
   "outputs": [],
   "source": [
    "# now reset the index\n",
    "\n",
    "#df_networkProject.reset_index(inplace=True)\n",
    "\n",
    "# WORKS!"
   ]
  },
  {
   "cell_type": "code",
   "execution_count": 45,
   "id": "87e1821c-d03d-4b46-9031-c27815ca518b",
   "metadata": {},
   "outputs": [],
   "source": [
    "####################\n",
    "# Exercise\n",
    "#################\n",
    "\n",
    "#In this example, you’ll be the data analyst for ShoeFly.com, a fictional online shoe store. You’ve seen this data; now it’s your turn to work with it!"
   ]
  },
  {
   "cell_type": "code",
   "execution_count": 46,
   "id": "74bcc784-d54d-45f0-82e9-9e9a1b5e2c30",
   "metadata": {},
   "outputs": [],
   "source": [
    "# Load the data from shoefly.csv into the variable orders \n",
    "\n",
    "#orders = pd.read_csv('shoefly.csv')"
   ]
  },
  {
   "cell_type": "code",
   "execution_count": 47,
   "id": "5b89aa5c-6683-46ef-b742-111f1c36a80d",
   "metadata": {},
   "outputs": [],
   "source": [
    "# Inspect the first 5 lines of the data.\n",
    "\n",
    "#orders.head(5) # no good; Excel didnt parse it; its all in 1 column... FIXED"
   ]
  },
  {
   "cell_type": "code",
   "execution_count": 48,
   "id": "14d1f741-5bb5-42d1-ad2f-9d220e5b7bd6",
   "metadata": {},
   "outputs": [],
   "source": [
    "# Select all of the email addresses from the column email and save them to a variable called emails\n",
    "\n",
    "#orders['email']"
   ]
  },
  {
   "cell_type": "code",
   "execution_count": 49,
   "id": "e3c38c34-01b9-43c6-be9d-39067fb3a537",
   "metadata": {},
   "outputs": [],
   "source": [
    "# Frances Palmer claims that her order was wrong. What did Frances Palmer order? Use logic to select that row of orders and save it to the variable frances_palmer\n",
    "\n",
    "#frances_palmer = orders[ ( orders.first_name  == 'Frances' ) & ( orders.last_name == 'Palmer'  )  ]\n",
    "#print(type(frances_palmer))  # even this single line result is of type data frame\n",
    "#frances_palmer"
   ]
  },
  {
   "cell_type": "code",
   "execution_count": 50,
   "id": "d5c26a3f-9d1d-454a-a9f0-a9ddbe5b6dd2",
   "metadata": {},
   "outputs": [],
   "source": [
    "# We need some customer reviews for our comfortable shoes. Select all orders for shoe_type: clogs, boots, and ballet flats and save them to the variable comfy_shoes.\n",
    "\n",
    "#comfy_shoes = orders[ orders.shoe_type.isin(  [ 'clogs', 'boots', 'ballet flats' ] ) ]\n",
    "\n",
    "#print( comfy_shoes )\n",
    "#comfy_shoes"
   ]
  },
  {
   "cell_type": "code",
   "execution_count": 51,
   "id": "9f2e622f-5b71-4054-b3cc-ceaee255ea38",
   "metadata": {},
   "outputs": [],
   "source": [
    "##############\n",
    "# Modifying a DataFrame\n",
    "#################"
   ]
  },
  {
   "cell_type": "code",
   "execution_count": 52,
   "id": "ed487f2b-40d5-45e3-8f75-ba4de1d3f1dd",
   "metadata": {},
   "outputs": [],
   "source": [
    "## Adding a Column I"
   ]
  },
  {
   "cell_type": "code",
   "execution_count": 53,
   "id": "b319e744-659f-441b-b1c6-92dbab4fb2ce",
   "metadata": {},
   "outputs": [],
   "source": [
    "df = pd.DataFrame([\n",
    "  [1, '3 inch screw', 0.5, 0.75],\n",
    "  [2, '2 inch nail', 0.10, 0.25],\n",
    "  [3, 'hammer', 3.00, 5.50],\n",
    "  [4, 'screwdriver', 2.50, 3.00]\n",
    "],\n",
    "  columns=['Product ID', 'Description', 'Cost to Manufacture', 'Price']\n",
    ")"
   ]
  },
  {
   "cell_type": "code",
   "execution_count": 54,
   "id": "ecbc9a3f-f0e9-4532-9a4c-598c58282225",
   "metadata": {},
   "outputs": [],
   "source": [
    "# The DataFrame df contains information on products sold at a hardware store. Add a column to df called 'Sold in Bulk?', which indicates if the product is sold in bulk or individually. The final table should look like this:"
   ]
  },
  {
   "cell_type": "code",
   "execution_count": 55,
   "id": "c92d52ec-ab61-4225-b21f-18ad161d2943",
   "metadata": {},
   "outputs": [],
   "source": [
    "df['Sold in Bulk?'] = [ 'Yes', 'Yes', 'No', 'No' ]"
   ]
  },
  {
   "cell_type": "code",
   "execution_count": 56,
   "id": "df310006-0b05-43ee-9d5a-1818abbcf3e6",
   "metadata": {},
   "outputs": [],
   "source": [
    "# Add a column to df called Is taxed?, which indicates whether or not to collect sales tax on the product. It should be 'Yes' for all rows."
   ]
  },
  {
   "cell_type": "code",
   "execution_count": 57,
   "id": "e2cc98ed-de96-48b8-b603-69a713777523",
   "metadata": {},
   "outputs": [],
   "source": [
    "df['Is taxed?'] = 'Yes'"
   ]
  },
  {
   "cell_type": "code",
   "execution_count": 58,
   "id": "c7d16581-e5e8-4d69-b0e2-b3b9955ea89f",
   "metadata": {},
   "outputs": [],
   "source": [
    "## Using apply() to modify a column\n",
    "\n",
    "df['Is taxed?'] = df[\"Is taxed?\"].apply(str.upper) # dot . notation can be used to designate columns by exact name , only w/o whitespace"
   ]
  },
  {
   "cell_type": "code",
   "execution_count": 59,
   "id": "4ae5f440-a1ad-4afd-8665-6904a825f4db",
   "metadata": {},
   "outputs": [],
   "source": [
    "## Instruction: Apply the function lower to all names in column 'Name' in df. Assign these new names to a new column of df called 'Lowercase Name'. \n",
    "\n",
    "df2 = pd.DataFrame([\n",
    "  ['JOHN SMITH', 'john.smith@gmail.com'],\n",
    "  ['Jane Doe', 'jdoe@yahoo.com'],\n",
    "  ['joe schmo', 'joeschmo@hotmail.com']\n",
    "],\n",
    "columns=['Name', 'Email'])"
   ]
  },
  {
   "cell_type": "code",
   "execution_count": 60,
   "id": "bc80c3b9-6937-4bee-a2f4-ada8274b0287",
   "metadata": {},
   "outputs": [],
   "source": [
    "df2['Lowercase Name'] = df2['Name'].apply(str.lower)"
   ]
  },
  {
   "cell_type": "code",
   "execution_count": 61,
   "id": "99dafc7c-ed99-45ef-8413-54c9bbbc0f3e",
   "metadata": {},
   "outputs": [
    {
     "data": {
      "text/html": [
       "<div>\n",
       "<style scoped>\n",
       "    .dataframe tbody tr th:only-of-type {\n",
       "        vertical-align: middle;\n",
       "    }\n",
       "\n",
       "    .dataframe tbody tr th {\n",
       "        vertical-align: top;\n",
       "    }\n",
       "\n",
       "    .dataframe thead th {\n",
       "        text-align: right;\n",
       "    }\n",
       "</style>\n",
       "<table border=\"1\" class=\"dataframe\">\n",
       "  <thead>\n",
       "    <tr style=\"text-align: right;\">\n",
       "      <th></th>\n",
       "      <th>Name</th>\n",
       "      <th>Email</th>\n",
       "      <th>Lowercase Name</th>\n",
       "    </tr>\n",
       "  </thead>\n",
       "  <tbody>\n",
       "    <tr>\n",
       "      <th>0</th>\n",
       "      <td>JOHN SMITH</td>\n",
       "      <td>john.smith@gmail.com</td>\n",
       "      <td>john smith</td>\n",
       "    </tr>\n",
       "    <tr>\n",
       "      <th>1</th>\n",
       "      <td>Jane Doe</td>\n",
       "      <td>jdoe@yahoo.com</td>\n",
       "      <td>jane doe</td>\n",
       "    </tr>\n",
       "    <tr>\n",
       "      <th>2</th>\n",
       "      <td>joe schmo</td>\n",
       "      <td>joeschmo@hotmail.com</td>\n",
       "      <td>joe schmo</td>\n",
       "    </tr>\n",
       "  </tbody>\n",
       "</table>\n",
       "</div>"
      ],
      "text/plain": [
       "         Name                 Email Lowercase Name\n",
       "0  JOHN SMITH  john.smith@gmail.com     john smith\n",
       "1    Jane Doe        jdoe@yahoo.com       jane doe\n",
       "2   joe schmo  joeschmo@hotmail.com      joe schmo"
      ]
     },
     "execution_count": 61,
     "metadata": {},
     "output_type": "execute_result"
    }
   ],
   "source": [
    "df2"
   ]
  },
  {
   "cell_type": "code",
   "execution_count": 62,
   "id": "3e2b23de-c2be-4262-b9c6-626545b0b923",
   "metadata": {},
   "outputs": [],
   "source": [
    "## Modifying a data frame with lambdas\n",
    "\n"
   ]
  },
  {
   "cell_type": "code",
   "execution_count": 63,
   "id": "6db8bc7d-b6e9-4403-b2be-e54ee84572f5",
   "metadata": {},
   "outputs": [],
   "source": [
    "## Instruction : Create a lambda function mylambda that returns the first and last letters of a string, assuming the string is at least 2 characters long. For example,\n",
    "\n",
    "mylambda = lambda str :  str[0] + str[-1] if len(str) > 1 else 'too short, shorty!'"
   ]
  },
  {
   "cell_type": "code",
   "execution_count": 64,
   "id": "8d73aa63-c19b-41e8-96c9-f4c528d67fd1",
   "metadata": {},
   "outputs": [
    {
     "data": {
      "text/plain": [
       "'too short, shorty!'"
      ]
     },
     "execution_count": 64,
     "metadata": {},
     "output_type": "execute_result"
    }
   ],
   "source": [
    "mylambda('E')"
   ]
  },
  {
   "cell_type": "code",
   "execution_count": 65,
   "id": "9570ec79-3925-4a0e-93f1-c4cb4af91b39",
   "metadata": {},
   "outputs": [],
   "source": [
    "# Cool use of apply() with a lambda\n",
    "df2['NameFirstAndLast'] = df2.Name.apply(mylambda)"
   ]
  },
  {
   "cell_type": "code",
   "execution_count": 66,
   "id": "00d8cd3e-5c69-41a5-8adf-804ba6d6bfe6",
   "metadata": {},
   "outputs": [
    {
     "data": {
      "text/html": [
       "<div>\n",
       "<style scoped>\n",
       "    .dataframe tbody tr th:only-of-type {\n",
       "        vertical-align: middle;\n",
       "    }\n",
       "\n",
       "    .dataframe tbody tr th {\n",
       "        vertical-align: top;\n",
       "    }\n",
       "\n",
       "    .dataframe thead th {\n",
       "        text-align: right;\n",
       "    }\n",
       "</style>\n",
       "<table border=\"1\" class=\"dataframe\">\n",
       "  <thead>\n",
       "    <tr style=\"text-align: right;\">\n",
       "      <th></th>\n",
       "      <th>Name</th>\n",
       "      <th>Email</th>\n",
       "      <th>Lowercase Name</th>\n",
       "      <th>NameFirstAndLast</th>\n",
       "    </tr>\n",
       "  </thead>\n",
       "  <tbody>\n",
       "    <tr>\n",
       "      <th>0</th>\n",
       "      <td>JOHN SMITH</td>\n",
       "      <td>john.smith@gmail.com</td>\n",
       "      <td>john smith</td>\n",
       "      <td>JH</td>\n",
       "    </tr>\n",
       "    <tr>\n",
       "      <th>1</th>\n",
       "      <td>Jane Doe</td>\n",
       "      <td>jdoe@yahoo.com</td>\n",
       "      <td>jane doe</td>\n",
       "      <td>Je</td>\n",
       "    </tr>\n",
       "    <tr>\n",
       "      <th>2</th>\n",
       "      <td>joe schmo</td>\n",
       "      <td>joeschmo@hotmail.com</td>\n",
       "      <td>joe schmo</td>\n",
       "      <td>jo</td>\n",
       "    </tr>\n",
       "  </tbody>\n",
       "</table>\n",
       "</div>"
      ],
      "text/plain": [
       "         Name                 Email Lowercase Name NameFirstAndLast\n",
       "0  JOHN SMITH  john.smith@gmail.com     john smith               JH\n",
       "1    Jane Doe        jdoe@yahoo.com       jane doe               Je\n",
       "2   joe schmo  joeschmo@hotmail.com      joe schmo               jo"
      ]
     },
     "execution_count": 66,
     "metadata": {},
     "output_type": "execute_result"
    }
   ],
   "source": [
    "df2"
   ]
  },
  {
   "cell_type": "code",
   "execution_count": 67,
   "id": "73afcada-86d2-42c6-b7ce-ca1d992f752a",
   "metadata": {},
   "outputs": [],
   "source": [
    "## Instruction: You are managing the webpage of a somewhat violent video game and you want to check that each user’s age is 13 or greater when they visit the site.\n",
    "#Write a lambda function that takes an inputted age and either returns Welcome to BattleCity! bif the user is 13 or older or You must be 13 or older if they are younger than 13. Your lambda function should be called mylambda.\n",
    "\n",
    "\n",
    "mylambda = lambda age : 'Welcome to BattleCity!' if age >= 13 else 'You must be 13 or older'"
   ]
  },
  {
   "cell_type": "code",
   "execution_count": 68,
   "id": "bea3cedc-6a8f-4351-a6aa-3bc45f4884a0",
   "metadata": {},
   "outputs": [
    {
     "data": {
      "text/plain": [
       "'You must be 13 or older'"
      ]
     },
     "execution_count": 68,
     "metadata": {},
     "output_type": "execute_result"
    }
   ],
   "source": [
    "mylambda(11)"
   ]
  },
  {
   "cell_type": "code",
   "execution_count": 69,
   "id": "fba07a21-f4a1-457b-9be2-4dec7d37c9fa",
   "metadata": {},
   "outputs": [],
   "source": [
    "## Instruction: Create a lambda function get_last_name which takes a string with someone’s first and last name (i.e., John Smith), and returns just the last name (i.e., Smith)."
   ]
  },
  {
   "cell_type": "code",
   "execution_count": 70,
   "id": "4dab9009-e971-43ee-bc02-3938a6879c08",
   "metadata": {},
   "outputs": [],
   "source": [
    "get_last_name = lambda fName : fName.split(' ')[-1]"
   ]
  },
  {
   "cell_type": "code",
   "execution_count": 71,
   "id": "1a50c5e5-1416-4365-83fc-25e83a19adda",
   "metadata": {},
   "outputs": [
    {
     "data": {
      "text/plain": [
       "'Smyth'"
      ]
     },
     "execution_count": 71,
     "metadata": {},
     "output_type": "execute_result"
    }
   ],
   "source": [
    "get_last_name('Eric Smyth')"
   ]
  },
  {
   "cell_type": "code",
   "execution_count": null,
   "id": "5bca6a6d-381d-435a-a2a3-a2f905fcb11e",
   "metadata": {},
   "outputs": [],
   "source": [
    "\n"
   ]
  },
  {
   "cell_type": "code",
   "execution_count": 72,
   "id": "d8abf485-5530-4d4e-b405-23336eca0709",
   "metadata": {},
   "outputs": [],
   "source": [
    "\n",
    "## Instruction: Use the lambda function get_last_name to create a new column last_name with only the employees’ last name.\n",
    "df = pd.DataFrame([\n",
    "  [1, '3 inch screw', 0.5, 0.75],\n",
    "  [2, '2 inch nail', 0.10, 0.25],\n",
    "  [3, 'hammer', 3.00, 5.50],\n",
    "  [4, 'screwdriver', 2.50, 3.00]\n",
    "],\n",
    "  columns=['Product ID', 'Description', 'Cost to Manufacture', 'Price']\n",
    ")\n",
    "\n",
    "#df[]\n",
    "\n"
   ]
  },
  {
   "cell_type": "code",
   "execution_count": 73,
   "id": "f2e3301c-ef52-45a2-9336-f481324eff14",
   "metadata": {},
   "outputs": [],
   "source": [
    "df['Is taxed?'] = [True, False, False, True]"
   ]
  },
  {
   "cell_type": "code",
   "execution_count": 74,
   "id": "e8195b61-e173-4fc9-a531-a2ea84766b6a",
   "metadata": {},
   "outputs": [],
   "source": [
    "df['Price with Tax'] = df.apply(lambda row:\n",
    "     round(row['Price'] * 1.075, 2)\n",
    "     if row['Is taxed?'] == True\n",
    "     else round(row['Price'], 2),\n",
    "     axis=1\n",
    ")\n"
   ]
  },
  {
   "cell_type": "code",
   "execution_count": 75,
   "id": "e77122c1-fb45-48e6-af4d-a0b89ec9a2a8",
   "metadata": {},
   "outputs": [],
   "source": [
    "# use this repeatedly where payroll data is needed\n",
    "# The DataFrame df represents the hours worked by different employees over the course of the week. It contains the following columns:\n",
    "\n",
    "df = pd.read_csv( '../employees.csv' )\n",
    "\n"
   ]
  },
  {
   "cell_type": "code",
   "execution_count": 76,
   "id": "84597092-3044-4ace-a81e-ec137ec66107",
   "metadata": {},
   "outputs": [],
   "source": [
    "df['last_name'] = df.name.apply( get_last_name) ### dont pass an empty () when calling a lambda; pass nothing\n"
   ]
  },
  {
   "cell_type": "code",
   "execution_count": 77,
   "id": "6dfb5eb6-8239-4c77-9a1b-f64787c563dd",
   "metadata": {},
   "outputs": [],
   "source": [
    "#df"
   ]
  },
  {
   "cell_type": "code",
   "execution_count": 78,
   "id": "dc3539e1-d80b-410f-a905-3b4e7ad27bc9",
   "metadata": {},
   "outputs": [],
   "source": [
    "############\n",
    "## Applying a Lambda to a Row ( use axis = 1 ) - this is for conditional updates , i.e. WHERE\n",
    "#############\n",
    "#We can also operate on multiple columns at once. If we use apply without specifying a single column and add the argument axis=1, the input to our lambda function will be an entire row, not a column. To access particular values of the row, we use the syntax row.column_name or row[‘column_name’].\n",
    "\n",
    "# df2 = df.apply( lambda row : row['Gravy'] = True if row['Cost to Manufacture'] < 0.9 else row['Gravy'] = False, axis = 1 ) # broken\n",
    "\n",
    "\n",
    "\n",
    "\n"
   ]
  },
  {
   "cell_type": "code",
   "execution_count": 79,
   "id": "a40d4a05-e9ae-4509-b376-a1feb87528a9",
   "metadata": {},
   "outputs": [],
   "source": [
    "# ... but how is this different from\n",
    "\n",
    "calcPriceWithTax = lambda price : round(row['Price'] * 1.075, 2) if df['Is taxed']  == True else round(row['Price'], 2)\n",
    "\n",
    "# df[ 'Price with Tax by Column' ] = df.apply( calcPriceWithTax  ) ## this doesnt work\n",
    "#df[ 'Price with Tax by Column' ] = df.apply( lambda cell :   )\n",
    "\n"
   ]
  },
  {
   "cell_type": "code",
   "execution_count": 80,
   "id": "e7c4fe6a-1952-4bb7-8d02-05eb634fe87a",
   "metadata": {},
   "outputs": [],
   "source": [
    "# Task: If an employee worked for more than 40 hours, she needs to be paid overtime (1.5 times the normal hourly wage).\n",
    "\n",
    "# For instance, if an employee worked for 43 hours and made $10/hour, she would receive $400 for the first 40 hours that she worked, and an additional $45 for the 3 hours of overtime, for a total for $445.\n",
    "\n",
    "# Create a lambda function total_earned that accepts an input row with keys hours_worked and hourly_wage and uses an if statement to calculate the total wages earned.\n",
    "\n",
    "\n",
    "\n",
    "#total_earned = lambda row :  int( ( row.hours_worked - 40)  ) * int( ( row.hourly_wage * 1.5 ) ) +  ( int( ( row.hourly_wage * 40)  ) )  if int(row.hours_worked) > 40 else int ( row.hours_worked)  *  int(row.hourly_wage )\n",
    "\n",
    "### This is the model function to use ; the int() conversions are only needed when using incorrect df[0:1] reference\n",
    "total_earned = lambda row :   ( row.hours_worked - 40)   *  ( row.hourly_wage * 1.5 )  +  ( ( row.hourly_wage * 40)  )   if row.hours_worked > 40 else row.hours_worked  *  row.hourly_wage\n",
    "\n",
    "#total_earned = lambda row :  int( ( row.hours_worked - 40)  ) * int( ( row.hourly_wage * 1.5 ) ) +  ( int( ( row.hourly_wage * 40)  ) )  if int(row.hours_worked) > 40 else int (  ( row.hours_worked)  *  int(row.hourly_wage ))"
   ]
  },
  {
   "cell_type": "code",
   "execution_count": 81,
   "id": "2fdef651-e07e-47f8-acc8-8cf4bc206af6",
   "metadata": {},
   "outputs": [
    {
     "name": "stdout",
     "output_type": "stream",
     "text": [
      "id                    16886\n",
      "name            Brian Rojas\n",
      "hourly_wage              18\n",
      "hours_worked             47\n",
      "last_name             Rojas\n",
      "Name: 3, dtype: object\n"
     ]
    },
    {
     "data": {
      "text/plain": [
       "909.0"
      ]
     },
     "execution_count": 81,
     "metadata": {},
     "output_type": "execute_result"
    }
   ],
   "source": [
    "row1 = df.iloc[3]\n",
    "\n",
    "print(row1)\n",
    "\n",
    "total_earned(row1)\n",
    "\n",
    "#print( df[1] )\n",
    "\n",
    "#total_earned( { hours_worked : 1,  hourly_wage : 10 } )    \n",
    "\n",
    "## calc 760 base pay , 85.5 PT "
   ]
  },
  {
   "cell_type": "code",
   "execution_count": 82,
   "id": "7f03c9ee-f7ed-4a64-9425-6a2f48d8e034",
   "metadata": {},
   "outputs": [],
   "source": [
    "##  id           name  hourly_wage  hours_worked\n",
    "## 10310  Lauren Durham           19            43\n",
    "\n",
    "# base pay: 40 hr @ 19.00 = 760.00 \n",
    "# OT : 3 hr @ 28.50 = 85.50 \n",
    "# total : 845.5"
   ]
  },
  {
   "cell_type": "code",
   "execution_count": 83,
   "id": "ca55fe36-924f-4563-a6c0-68a04e739d37",
   "metadata": {},
   "outputs": [],
   "source": [
    "# type(row1)\n",
    "# row1.hours_worked *  ( row1.hourly_wage * 1.5 )\n",
    "# row1.hours_worked *  row1.hourly_wage\n",
    "# result = row1.hours_worked *  row1.hourly_wage\n",
    "# #type( int(result) )\n",
    "# int(result)"
   ]
  },
  {
   "cell_type": "code",
   "execution_count": 84,
   "id": "cce68e44-e314-455a-9158-6c1b5dc4b1ac",
   "metadata": {},
   "outputs": [],
   "source": [
    "# lambda not working; try a fn\n",
    "## Solution : row.hours_worked and row.hourly_wage return as SERIES; must be converted into ints for use in calc\n",
    "\n",
    "# def total_earned( row ):\n",
    "#     #return( row.hours_worked )\n",
    "#     if int(row.hours_worked) > 40:\n",
    "        \n",
    "#          #return( 'OT' )\n",
    "#         return(  int(row.hours_worked) * 40 + (  ))\n",
    "#     else:\n",
    "#          return( 'straight pay' )"
   ]
  },
  {
   "cell_type": "code",
   "execution_count": 85,
   "id": "8919f7e4-9d0a-4cbd-89e4-bb438b734d8b",
   "metadata": {},
   "outputs": [
    {
     "data": {
      "text/plain": [
       "909.0"
      ]
     },
     "execution_count": 85,
     "metadata": {},
     "output_type": "execute_result"
    }
   ],
   "source": [
    "total_earned( row1 )"
   ]
  },
  {
   "cell_type": "code",
   "execution_count": 86,
   "id": "52ccea75-7fde-4e03-a389-b5a3a258c13e",
   "metadata": {},
   "outputs": [],
   "source": [
    "# Use the lambda function total_earned and apply to add a column total_earned to df with the total amount earned by each employee.\n",
    "\n",
    "df['total_earned'] = df.apply( total_earned, axis = 1 )"
   ]
  },
  {
   "cell_type": "code",
   "execution_count": 87,
   "id": "3619f304-c3ae-4472-896a-0b45e78ded72",
   "metadata": {},
   "outputs": [],
   "source": [
    "#df['Taxable?'] = [True, False, False, True] \n",
    "#df"
   ]
  },
  {
   "cell_type": "code",
   "execution_count": 88,
   "id": "53eaac1e-4ef3-4d5c-a9ab-160995fc2ab9",
   "metadata": {},
   "outputs": [],
   "source": [
    "##### \n",
    "# Renaming columns\n",
    "#########\n",
    "\n",
    "#You can change all of the column names at once by setting the .columns property to a different list. This is great when you need to change all of the column names at once, but be careful! You can easily mislabel columns if you get the ordering wrong. Here’s an example:\n",
    "\n",
    "df = pd.DataFrame({\n",
    "    'name': ['John', 'Jane', 'Sue', 'Fred'],\n",
    "    'age': [23, 29, 21, 18]\n",
    "})\n",
    "df.columns = ['First Name', 'Age']\n"
   ]
  },
  {
   "cell_type": "code",
   "execution_count": 89,
   "id": "461928b8-a49a-425b-befb-c5efb0008b22",
   "metadata": {},
   "outputs": [],
   "source": [
    "## Instruction : The DataFrame df contains data about movies from IMDb.\n",
    "\n",
    "# We want to present this data to some film producers. Right now, our column names are in lower case, and are not very descriptive. Let’s modify df using the .columns attribute to make the following changes to the columns:\n",
    "\n",
    "# Old\tNew\n",
    "# id\tID\n",
    "# name\tTitle\n",
    "# genre\tCategory\n",
    "# year\tYear Released\n",
    "# imdb_rating\tRating"
   ]
  },
  {
   "cell_type": "code",
   "execution_count": 90,
   "id": "d2ed4879-4d29-402c-8016-4819e4d90dbc",
   "metadata": {},
   "outputs": [],
   "source": [
    "#df = pd.read_csv('imdb.csv')\n",
    "\n",
    "df = pd.read_csv('imdb.csv.txt')\n"
   ]
  },
  {
   "cell_type": "code",
   "execution_count": 91,
   "id": "52bcf215-b08b-4dfe-9454-e0e769c8b475",
   "metadata": {},
   "outputs": [],
   "source": [
    "df.columns = [ 'ID', 'Title', 'Category', 'Year Released', 'Rating' ]\n",
    "\n",
    "#max( df.year )\n"
   ]
  },
  {
   "cell_type": "code",
   "execution_count": 92,
   "id": "bd010e55-98f4-4cd7-b48f-2d89cfd77ebd",
   "metadata": {},
   "outputs": [],
   "source": [
    "# You also can rename individual columns by using the .rename method. Pass a dictionary like the one below to the columns keyword argument\n",
    "\n",
    "df = pd.DataFrame({\n",
    "    'name': ['John', 'Jane', 'Sue', 'Fred'],\n",
    "    'age': [23, 29, 21, 18]\n",
    "})\n",
    "df.rename(columns={\n",
    "    'name': 'First Name',\n",
    "    'age': 'Age'},\n",
    "    inplace=True)\n"
   ]
  },
  {
   "cell_type": "code",
   "execution_count": 93,
   "id": "cbbdfa64-2823-4ba5-aefe-3a65a80f1fc0",
   "metadata": {},
   "outputs": [],
   "source": [
    "## Instruction\n",
    "# If we didn’t know that df was a table of movie ratings, the column name might be confusing.\n",
    "\n",
    "# To clarify, let’s rename name to movie_title.\n",
    "\n",
    "# Use the keyword inplace=True so that you modify df rather than creating a new DataFrame!\n",
    "\n",
    "reName =  { 'name' : 'movie_title' }\n",
    "\n",
    "df.rename( columns=reName, inplace = True )"
   ]
  },
  {
   "cell_type": "code",
   "execution_count": 94,
   "id": "47196123-f9f3-4299-85ac-e42b92a56e7a",
   "metadata": {},
   "outputs": [
    {
     "data": {
      "text/html": [
       "<div>\n",
       "<style scoped>\n",
       "    .dataframe tbody tr th:only-of-type {\n",
       "        vertical-align: middle;\n",
       "    }\n",
       "\n",
       "    .dataframe tbody tr th {\n",
       "        vertical-align: top;\n",
       "    }\n",
       "\n",
       "    .dataframe thead th {\n",
       "        text-align: right;\n",
       "    }\n",
       "</style>\n",
       "<table border=\"1\" class=\"dataframe\">\n",
       "  <thead>\n",
       "    <tr style=\"text-align: right;\">\n",
       "      <th></th>\n",
       "      <th>id</th>\n",
       "      <th>first_name</th>\n",
       "      <th>last_name</th>\n",
       "      <th>gender</th>\n",
       "      <th>email</th>\n",
       "      <th>shoe_type</th>\n",
       "      <th>shoe_material</th>\n",
       "      <th>shoe_color</th>\n",
       "    </tr>\n",
       "  </thead>\n",
       "  <tbody>\n",
       "    <tr>\n",
       "      <th>0</th>\n",
       "      <td>54791</td>\n",
       "      <td>Rebecca</td>\n",
       "      <td>Lindsay</td>\n",
       "      <td>female</td>\n",
       "      <td>RebeccaLindsay57@hotmail.com</td>\n",
       "      <td>clogs</td>\n",
       "      <td>faux-leather</td>\n",
       "      <td>black</td>\n",
       "    </tr>\n",
       "    <tr>\n",
       "      <th>1</th>\n",
       "      <td>53450</td>\n",
       "      <td>Emily</td>\n",
       "      <td>Joyce</td>\n",
       "      <td>female</td>\n",
       "      <td>EmilyJoyce25@gmail.com</td>\n",
       "      <td>ballet flats</td>\n",
       "      <td>faux-leather</td>\n",
       "      <td>navy</td>\n",
       "    </tr>\n",
       "    <tr>\n",
       "      <th>2</th>\n",
       "      <td>91987</td>\n",
       "      <td>Joyce</td>\n",
       "      <td>Waller</td>\n",
       "      <td>female</td>\n",
       "      <td>Joyce.Waller@gmail.com</td>\n",
       "      <td>sandles</td>\n",
       "      <td>fabric</td>\n",
       "      <td>black</td>\n",
       "    </tr>\n",
       "    <tr>\n",
       "      <th>3</th>\n",
       "      <td>14437</td>\n",
       "      <td>Justin</td>\n",
       "      <td>Erickson</td>\n",
       "      <td>male</td>\n",
       "      <td>Justin.Erickson@outlook.com</td>\n",
       "      <td>clogs</td>\n",
       "      <td>faux-leather</td>\n",
       "      <td>red</td>\n",
       "    </tr>\n",
       "    <tr>\n",
       "      <th>4</th>\n",
       "      <td>79357</td>\n",
       "      <td>Andrew</td>\n",
       "      <td>Banks</td>\n",
       "      <td>male</td>\n",
       "      <td>AB4318@gmail.com</td>\n",
       "      <td>boots</td>\n",
       "      <td>leather</td>\n",
       "      <td>brown</td>\n",
       "    </tr>\n",
       "  </tbody>\n",
       "</table>\n",
       "</div>"
      ],
      "text/plain": [
       "      id first_name last_name  gender                         email  \\\n",
       "0  54791    Rebecca   Lindsay  female  RebeccaLindsay57@hotmail.com   \n",
       "1  53450      Emily     Joyce  female        EmilyJoyce25@gmail.com   \n",
       "2  91987      Joyce    Waller  female        Joyce.Waller@gmail.com   \n",
       "3  14437     Justin  Erickson    male   Justin.Erickson@outlook.com   \n",
       "4  79357     Andrew     Banks    male              AB4318@gmail.com   \n",
       "\n",
       "      shoe_type shoe_material shoe_color  \n",
       "0         clogs  faux-leather      black  \n",
       "1  ballet flats  faux-leather       navy  \n",
       "2       sandles        fabric      black  \n",
       "3         clogs  faux-leather        red  \n",
       "4         boots       leather      brown  "
      ]
     },
     "execution_count": 94,
     "metadata": {},
     "output_type": "execute_result"
    }
   ],
   "source": [
    "############# \n",
    "# Review\n",
    "\n",
    "# Once more, you’ll be the data analyst for ShoeFly.com, a fictional online shoe store.\n",
    "\n",
    "# More messy order data has been loaded into the variable orders. Examine the first 5 rows of the data using print and .head().\n",
    "\n",
    "#orders = pd.read_csv('shoefly.csv')\n",
    "orders = pd.read_csv('shoefly.csv.txt')\n",
    "\n",
    "orders.head()"
   ]
  },
  {
   "cell_type": "code",
   "execution_count": 95,
   "id": "6806a982-1b42-4bc0-ad36-45f228f56d95",
   "metadata": {},
   "outputs": [],
   "source": [
    "veganShoe = lambda row : 'vegan' if row.shoe_material != 'leather' else 'animal'"
   ]
  },
  {
   "cell_type": "code",
   "execution_count": 96,
   "id": "fa1af297-bd47-4ee0-8118-e9320e599bbd",
   "metadata": {},
   "outputs": [],
   "source": [
    "#orders.iloc[1]"
   ]
  },
  {
   "cell_type": "code",
   "execution_count": 97,
   "id": "f9a1b71e-9d6a-41f2-bdfe-1f0a94e57025",
   "metadata": {},
   "outputs": [
    {
     "name": "stdout",
     "output_type": "stream",
     "text": [
      "vegan\n"
     ]
    }
   ],
   "source": [
    "print( veganShoe(orders.iloc[1]) )"
   ]
  },
  {
   "cell_type": "code",
   "execution_count": 98,
   "id": "1b7c70a3-7e80-4ab2-ac29-93856cacab13",
   "metadata": {},
   "outputs": [],
   "source": [
    "######### instruction\n",
    "# Many of our customers want to buy vegan shoes (shoes made from materials that do not come from animals). Add a new column called shoe_source, which is vegan if the materials is not leather and animal otherwise.\n",
    "orders['shoe_source'] = orders.apply(lambda row : 'vegan' if row.shoe_material != 'leather' else 'animal' , axis = 1)"
   ]
  },
  {
   "cell_type": "code",
   "execution_count": 99,
   "id": "402b6746-5285-4fba-9a34-a30b2e4a3848",
   "metadata": {},
   "outputs": [],
   "source": [
    "#orders"
   ]
  },
  {
   "cell_type": "code",
   "execution_count": 100,
   "id": "e16c121e-0310-4bc5-9ab2-3ca645f91e94",
   "metadata": {},
   "outputs": [
    {
     "data": {
      "text/plain": [
       "str"
      ]
     },
     "execution_count": 100,
     "metadata": {},
     "output_type": "execute_result"
    }
   ],
   "source": [
    "orders.iloc[1]['gender']\n",
    "type(orders.iloc[1]['gender'])\n",
    "\n"
   ]
  },
  {
   "cell_type": "code",
   "execution_count": 101,
   "id": "e266867f-5031-4a7a-ba91-c234d0a79207",
   "metadata": {},
   "outputs": [],
   "source": [
    "def genderChecker( row ):\n",
    "    #print( row.gender )\n",
    "    if row.gender == 'male':\n",
    "        print( row.gender )\n",
    "    "
   ]
  },
  {
   "cell_type": "code",
   "execution_count": 102,
   "id": "bf15640c-092c-47c8-86c0-9959e057ddad",
   "metadata": {},
   "outputs": [
    {
     "name": "stdout",
     "output_type": "stream",
     "text": [
      "male\n"
     ]
    }
   ],
   "source": [
    " genderChecker( orders.iloc[3] )"
   ]
  },
  {
   "cell_type": "code",
   "execution_count": 103,
   "id": "2d289c84-eac6-4b37-88e8-0bacf16a8c2b",
   "metadata": {
    "tags": []
   },
   "outputs": [],
   "source": [
    "###### instructiion\n",
    "# Our marketing department wants to send out an email to each customer. Using the columns last_name and gender create a column called salutation which contains Dear Mr. <last_name> for men and Dear Ms. <last_name> for women.\n",
    "\n",
    "salutationFinder = lambda row : str('Dear Mr. ' + row.last_name)\\\n",
    "if row.gender == 'male' else str('Dear Ms. ' + row.last_name) \n",
    "\n",
    "# note above, the newline character can be escaped out\n",
    "#else 'nonbin'\n",
    "#salutationFinder = ( lambda row : str('Dear Mr. ' + row.last_name) if true )\n",
    "\n",
    "#salutationFinder = lambda row : 'howdy' if row.gender == 'male' else 'bye'"
   ]
  },
  {
   "cell_type": "code",
   "execution_count": 104,
   "id": "a1f34afe-3354-4e56-a5f2-d64d5421a5b5",
   "metadata": {},
   "outputs": [
    {
     "data": {
      "text/plain": [
       "'Dear Mr. Erickson'"
      ]
     },
     "execution_count": 104,
     "metadata": {},
     "output_type": "execute_result"
    }
   ],
   "source": [
    "salutationFinder( orders.iloc[3] )"
   ]
  },
  {
   "cell_type": "code",
   "execution_count": 105,
   "id": "867d10a8-8263-4ea9-baf8-9290f8111675",
   "metadata": {},
   "outputs": [],
   "source": [
    "orders['salutation'] = orders.apply( lambda row : str('Dear Mr. ' + row.last_name) if row.gender == 'male' else str('Dear Ms. ' + row.last_name), axis =1 )\n"
   ]
  },
  {
   "cell_type": "code",
   "execution_count": 106,
   "id": "ad5fcd58-8aa1-4cd3-9ca2-dc51efd63b01",
   "metadata": {},
   "outputs": [],
   "source": [
    "######################\n",
    "# AGGREGATES IN PANDAS\n"
   ]
  },
  {
   "cell_type": "code",
   "execution_count": 107,
   "id": "0515ffbc-cd33-477a-93c4-f3f31c52818a",
   "metadata": {},
   "outputs": [],
   "source": [
    "## Calculating Column Statistics\n",
    "\n",
    "# df.column_name.command()\n",
    "\n",
    "# The following table summarizes some common commands: \n",
    "# Command\tDescription\n",
    "#     mean\tAverage of all values in column\n",
    "#     std\tStandard deviation\n",
    "#     median\tMedian\n",
    "#     max\tMaximum value in column\n",
    "#     min\tMinimum value in column\n",
    "#     count\tNumber of values in column\n",
    "#     nunique\tNumber of unique values in column\n",
    "#     unique\tList of unique values in column"
   ]
  },
  {
   "cell_type": "code",
   "execution_count": 108,
   "id": "7085d3d7-f53e-4600-bcc4-456c2968b808",
   "metadata": {},
   "outputs": [],
   "source": [
    "## Once more, we’ll revisit our orders from ShoeFly.com. Our new batch of orders is in the DataFrame orders. Examine the first 10 rows using the following code:\n",
    "\n",
    "orders = pd.read_csv('orders.csv.txt')"
   ]
  },
  {
   "cell_type": "code",
   "execution_count": 109,
   "id": "fe3cec75-e1db-41b1-9bab-05a602274cf3",
   "metadata": {},
   "outputs": [
    {
     "data": {
      "text/html": [
       "<div>\n",
       "<style scoped>\n",
       "    .dataframe tbody tr th:only-of-type {\n",
       "        vertical-align: middle;\n",
       "    }\n",
       "\n",
       "    .dataframe tbody tr th {\n",
       "        vertical-align: top;\n",
       "    }\n",
       "\n",
       "    .dataframe thead th {\n",
       "        text-align: right;\n",
       "    }\n",
       "</style>\n",
       "<table border=\"1\" class=\"dataframe\">\n",
       "  <thead>\n",
       "    <tr style=\"text-align: right;\">\n",
       "      <th></th>\n",
       "      <th>id</th>\n",
       "      <th>first_name</th>\n",
       "      <th>last_name</th>\n",
       "      <th>email</th>\n",
       "      <th>shoe_type</th>\n",
       "      <th>shoe_material</th>\n",
       "      <th>shoe_color</th>\n",
       "      <th>price</th>\n",
       "    </tr>\n",
       "  </thead>\n",
       "  <tbody>\n",
       "    <tr>\n",
       "      <th>0</th>\n",
       "      <td>41874</td>\n",
       "      <td>Kyle</td>\n",
       "      <td>Peck</td>\n",
       "      <td>KylePeck71@gmail.com</td>\n",
       "      <td>ballet flats</td>\n",
       "      <td>faux-leather</td>\n",
       "      <td>black</td>\n",
       "      <td>385.0</td>\n",
       "    </tr>\n",
       "    <tr>\n",
       "      <th>1</th>\n",
       "      <td>31349</td>\n",
       "      <td>Elizabeth</td>\n",
       "      <td>Velazquez</td>\n",
       "      <td>EVelazquez1971@gmail.com</td>\n",
       "      <td>boots</td>\n",
       "      <td>fabric</td>\n",
       "      <td>brown</td>\n",
       "      <td>388.0</td>\n",
       "    </tr>\n",
       "    <tr>\n",
       "      <th>2</th>\n",
       "      <td>43416</td>\n",
       "      <td>Keith</td>\n",
       "      <td>Saunders</td>\n",
       "      <td>KS4047@gmail.com</td>\n",
       "      <td>sandals</td>\n",
       "      <td>leather</td>\n",
       "      <td>navy</td>\n",
       "      <td>346.0</td>\n",
       "    </tr>\n",
       "    <tr>\n",
       "      <th>3</th>\n",
       "      <td>56054</td>\n",
       "      <td>Ryan</td>\n",
       "      <td>Sweeney</td>\n",
       "      <td>RyanSweeney14@outlook.com</td>\n",
       "      <td>sandals</td>\n",
       "      <td>fabric</td>\n",
       "      <td>brown</td>\n",
       "      <td>344.0</td>\n",
       "    </tr>\n",
       "    <tr>\n",
       "      <th>4</th>\n",
       "      <td>77402</td>\n",
       "      <td>Donna</td>\n",
       "      <td>Blankenship</td>\n",
       "      <td>DB3807@gmail.com</td>\n",
       "      <td>stilettos</td>\n",
       "      <td>fabric</td>\n",
       "      <td>brown</td>\n",
       "      <td>289.0</td>\n",
       "    </tr>\n",
       "    <tr>\n",
       "      <th>5</th>\n",
       "      <td>97148</td>\n",
       "      <td>Albert</td>\n",
       "      <td>Dillon</td>\n",
       "      <td>Albert.Dillon@gmail.com</td>\n",
       "      <td>wedges</td>\n",
       "      <td>fabric</td>\n",
       "      <td>brown</td>\n",
       "      <td>266.0</td>\n",
       "    </tr>\n",
       "    <tr>\n",
       "      <th>6</th>\n",
       "      <td>19998</td>\n",
       "      <td>Judith</td>\n",
       "      <td>Hewitt</td>\n",
       "      <td>JudithHewitt98@gmail.com</td>\n",
       "      <td>stilettos</td>\n",
       "      <td>leather</td>\n",
       "      <td>black</td>\n",
       "      <td>395.0</td>\n",
       "    </tr>\n",
       "    <tr>\n",
       "      <th>7</th>\n",
       "      <td>83290</td>\n",
       "      <td>Kayla</td>\n",
       "      <td>Hardin</td>\n",
       "      <td>Kayla.Hardin@gmail.com</td>\n",
       "      <td>stilettos</td>\n",
       "      <td>leather</td>\n",
       "      <td>white</td>\n",
       "      <td>241.0</td>\n",
       "    </tr>\n",
       "    <tr>\n",
       "      <th>8</th>\n",
       "      <td>77867</td>\n",
       "      <td>Steven</td>\n",
       "      <td>Blankenship</td>\n",
       "      <td>Steven.Blankenship@gmail.com</td>\n",
       "      <td>wedges</td>\n",
       "      <td>leather</td>\n",
       "      <td>navy</td>\n",
       "      <td>266.0</td>\n",
       "    </tr>\n",
       "    <tr>\n",
       "      <th>9</th>\n",
       "      <td>54885</td>\n",
       "      <td>Carol</td>\n",
       "      <td>Mclaughlin</td>\n",
       "      <td>CM3415@gmail.com</td>\n",
       "      <td>ballet flats</td>\n",
       "      <td>faux-leather</td>\n",
       "      <td>brown</td>\n",
       "      <td>440.0</td>\n",
       "    </tr>\n",
       "  </tbody>\n",
       "</table>\n",
       "</div>"
      ],
      "text/plain": [
       "      id first_name    last_name                         email     shoe_type  \\\n",
       "0  41874       Kyle         Peck          KylePeck71@gmail.com  ballet flats   \n",
       "1  31349  Elizabeth    Velazquez      EVelazquez1971@gmail.com         boots   \n",
       "2  43416      Keith     Saunders              KS4047@gmail.com       sandals   \n",
       "3  56054       Ryan      Sweeney     RyanSweeney14@outlook.com       sandals   \n",
       "4  77402      Donna  Blankenship              DB3807@gmail.com     stilettos   \n",
       "5  97148     Albert       Dillon       Albert.Dillon@gmail.com        wedges   \n",
       "6  19998     Judith       Hewitt      JudithHewitt98@gmail.com     stilettos   \n",
       "7  83290      Kayla       Hardin        Kayla.Hardin@gmail.com     stilettos   \n",
       "8  77867     Steven  Blankenship  Steven.Blankenship@gmail.com        wedges   \n",
       "9  54885      Carol   Mclaughlin              CM3415@gmail.com  ballet flats   \n",
       "\n",
       "  shoe_material shoe_color  price  \n",
       "0  faux-leather      black  385.0  \n",
       "1        fabric      brown  388.0  \n",
       "2       leather       navy  346.0  \n",
       "3        fabric      brown  344.0  \n",
       "4        fabric      brown  289.0  \n",
       "5        fabric      brown  266.0  \n",
       "6       leather      black  395.0  \n",
       "7       leather      white  241.0  \n",
       "8       leather       navy  266.0  \n",
       "9  faux-leather      brown  440.0  "
      ]
     },
     "execution_count": 109,
     "metadata": {},
     "output_type": "execute_result"
    }
   ],
   "source": [
    "orders.head(10)\n",
    "#print( orders.head(10))"
   ]
  },
  {
   "cell_type": "code",
   "execution_count": 110,
   "id": "7ff970fd-865d-4266-8964-57a255d375d4",
   "metadata": {},
   "outputs": [],
   "source": [
    "# Our finance department wants to know the price of the most expensive pair of shoes purchased. Save your answer to the variable most_expensive.\n",
    "\n",
    "most_expensive = orders.price.max()"
   ]
  },
  {
   "cell_type": "code",
   "execution_count": 111,
   "id": "b503f155-7526-45e6-b9c2-96d8f6b6128d",
   "metadata": {},
   "outputs": [],
   "source": [
    "# Our fashion department wants to know how many different colors of shoes we are selling. Save your answer to the variable num_colors.\n",
    "num_colors = orders.shoe_color.nunique()\n"
   ]
  },
  {
   "cell_type": "code",
   "execution_count": 112,
   "id": "9c068749-f262-4f11-bd01-75ba19945268",
   "metadata": {},
   "outputs": [
    {
     "data": {
      "text/plain": [
       "shoe_type\n",
       "ballet flats    256.000000\n",
       "boots           267.684211\n",
       "clogs           310.625000\n",
       "sandals         274.125000\n",
       "stilettos       360.928571\n",
       "wedges          277.777778\n",
       "Name: price, dtype: float64"
      ]
     },
     "execution_count": 112,
     "metadata": {},
     "output_type": "execute_result"
    }
   ],
   "source": [
    "## Groupby \n",
    "\n",
    "# We want to get an average grade for each student across all assignments. We could do some sort of loop, but Pandas gives us a much easier option: the method .groupby.\n",
    "\n",
    "# In general, we use the following syntax to calculate aggregates:\n",
    "\n",
    "# df.groupby('column1').column2.measurement()\n",
    "\n",
    "# where:\n",
    "\n",
    "# column1 is the column that we want to group by ('student' in our example)\n",
    "# column2 is the column that we want to perform a measurement on (grade in our example)\n",
    "# measurement is the measurement function we want to apply (mean in our example)\n",
    "\n",
    "orders.groupby('shoe_type').price.mean()"
   ]
  },
  {
   "cell_type": "code",
   "execution_count": 113,
   "id": "da4ca83f-8402-48c4-ab88-222d323fb3d6",
   "metadata": {},
   "outputs": [],
   "source": [
    "## Let’s return to our orders data from ShoeFly.com.\n",
    "\n",
    "## In the previous exercise, our finance department wanted to know the most expensive shoe that we sold.\n",
    "\n",
    "## Now, they want to know the most expensive shoe for each shoe_type (i.e., the most expensive boot, the most expensive ballet flat, etc.).\n",
    "\n",
    "## Save your answer to the variable pricey_shoes."
   ]
  },
  {
   "cell_type": "code",
   "execution_count": 114,
   "id": "32040194-5088-40b4-bb65-cb97e4c8bfec",
   "metadata": {},
   "outputs": [],
   "source": [
    "pricey_shoes = orders.groupby('shoe_type').price.max()"
   ]
  },
  {
   "cell_type": "code",
   "execution_count": 115,
   "id": "f6948a98-1e5f-4814-8bbe-5e96e83682e6",
   "metadata": {},
   "outputs": [
    {
     "name": "stdout",
     "output_type": "stream",
     "text": [
      "shoe_type\n",
      "ballet flats    481.0\n",
      "boots           478.0\n",
      "clogs           493.0\n",
      "sandals         456.0\n",
      "stilettos       487.0\n",
      "wedges          461.0\n",
      "Name: price, dtype: float64\n"
     ]
    }
   ],
   "source": [
    "print( pricey_shoes)"
   ]
  },
  {
   "cell_type": "code",
   "execution_count": 116,
   "id": "12667003-c7f0-4712-8179-01cf8eedc449",
   "metadata": {},
   "outputs": [
    {
     "name": "stdout",
     "output_type": "stream",
     "text": [
      "<class 'pandas.core.series.Series'>\n"
     ]
    }
   ],
   "source": [
    "print( type( pricey_shoes))"
   ]
  },
  {
   "cell_type": "code",
   "execution_count": 117,
   "id": "b05208bf-ecf0-47d2-a42d-6655b5cbe2e4",
   "metadata": {},
   "outputs": [],
   "source": [
    "# Calculating Aggregate Functions III\n",
    "# Sometimes, the operation that you want to perform is more complicated than mean or count. In those cases, you can use the apply method and lambda functions, just like we did for individual column operations. Note that the input to our lambda function will always be a list of values.\n",
    "\n",
    "# A great example of this is calculating percentiles. Suppose we have a DataFrame of employee information called df that has the following columns:\n",
    "\n",
    "# id: the employee’s id number\n",
    "# name: the employee’s name\n",
    "# wage: the employee’s hourly wage\n",
    "# category: the type of work that the employee does\n",
    "# Our data might look something like this:\n",
    "\n",
    "# id\tname\twage\tcategory\n",
    "# 10131\tSarah Carney\t39\tproduct\n",
    "# 14189\tHeather Carey\t17\tdesign\n",
    "# 15004\tGary Mercado\t33\tmarketing\n",
    "# 11204\tCora Copaz\t27\tdesign\n",
    "# …\t\t\t\n",
    "# If we want to calculate the 75th percentile (i.e., the point at which 75% of employees have a lower wage and 25% have a higher wage) for each category, we can use the following combination of apply and a lambda function:\n",
    "\n",
    "# # np.percentile can calculate any percentile over an array of values\n",
    "# high_earners = df.groupby('category').wage\n",
    "#     .apply(lambda x: np.percentile(x, 75))\n",
    "#     .reset_index()\n",
    "\n",
    "# The output, high_earners might look like this:\n",
    "\n",
    "# category\twage\n",
    "# 0\tdesign\t23\n",
    "# 1\tmarketing\t35\n",
    "# 2\tproduct\t48\n",
    "# …\t"
   ]
  },
  {
   "cell_type": "code",
   "execution_count": 118,
   "id": "58c62f4e-b5de-4ea8-94e9-174411520de6",
   "metadata": {},
   "outputs": [
    {
     "data": {
      "text/plain": [
       "shoe_material\n",
       "fabric          34\n",
       "faux-leather    33\n",
       "leather         32\n",
       "Name: id, dtype: int64"
      ]
     },
     "execution_count": 118,
     "metadata": {},
     "output_type": "execute_result"
    }
   ],
   "source": [
    "#orders\n",
    "orders.groupby('shoe_material').id.count()\n",
    "#orders.id"
   ]
  },
  {
   "cell_type": "code",
   "execution_count": 119,
   "id": "045188e8-9775-4e6b-b0ff-b5eb4bdbd776",
   "metadata": {},
   "outputs": [],
   "source": [
    "### task\n",
    "\n",
    "# Once more, we’ll return to the data from ShoeFly.com. Our Marketing team says that it’s important to have some affordably priced shoes available for every color of shoe that we sell.\n",
    "\n",
    "# Let’s calculate the 25th percentile for shoe price for each shoe_color to help Marketing decide if we have enough cheap shoes on sale. Save the data to the variable cheap_shoes.\n",
    "\n",
    "# Note: Be sure to use reset_index() at the end of your query so that cheap_shoes is a DataFrame.\n",
    "\n",
    "\n",
    "#orders.groupby('shoe_color')['price'].apply( lambda x : np.percentile(x, 25) ).reset_index() \n",
    "cheap_shoes  = orders.groupby('shoe_color').price.apply( lambda x : np.percentile(x, 25) ).reset_index() "
   ]
  },
  {
   "cell_type": "code",
   "execution_count": 120,
   "id": "130830ec-674c-4a68-be3c-7ed845136c41",
   "metadata": {},
   "outputs": [
    {
     "data": {
      "text/plain": [
       "pandas.core.frame.DataFrame"
      ]
     },
     "execution_count": 120,
     "metadata": {},
     "output_type": "execute_result"
    }
   ],
   "source": [
    "\n",
    "type( cheap_shoes )\n",
    "\n",
    "#cheap_shoes"
   ]
  },
  {
   "cell_type": "code",
   "execution_count": 121,
   "id": "465672a6-9e1d-4bc0-a916-c15a201b40f7",
   "metadata": {},
   "outputs": [],
   "source": [
    "# Calculating Aggregate Functions IV\n",
    "# Sometimes, we want to group by more than one column. We can easily do this by passing a list of column names into the groupby method.\n",
    "\n",
    "# Imagine that we run a chain of stores and have data about the number of sales at different locations on different days:\n",
    "\n",
    "# Location\tDate\tDay of Week\tTotal Sales\n",
    "# West Village\tFebruary 1\tW\t400\n",
    "# West Village\tFebruary 2\tTh\t450\n",
    "# Chelsea\tFebruary 1\tW\t375\n",
    "# Chelsea\tFebruary 2\tTh\t390\n",
    "# We suspect that sales are different at different locations on different days of the week. In order to test this hypothesis, we could calculate the average sales for each store on each day of the week across multiple months. The code would look like this:\n",
    "\n",
    "# df.groupby(['Location', 'Day of Week'])['Total Sales'].mean().reset_index()\n",
    "\n",
    "# The results might look something like this:\n",
    "\n",
    "# Location\tDay of Week\tTotal Sales\n",
    "# Chelsea\tM\t402.50\n",
    "# Chelsea\tTu\t422.75\n",
    "# Chelsea\tW\t452.00\n",
    "# …\t\t\n",
    "# West Village\tM\t390\n",
    "# West Village\tTu\t400\n",
    "# …\n",
    "\n",
    "## NTS - in a groupby, you can reference the column to be calculated on using df.groupby(cols).column OR df.groupby(cols)['column'] - I'm not sure the difference"
   ]
  },
  {
   "cell_type": "code",
   "execution_count": 122,
   "id": "79931953-57a2-41b9-a4fd-13a60bc451b2",
   "metadata": {},
   "outputs": [],
   "source": [
    "### task\n",
    "\n",
    "# At ShoeFly.com, our Purchasing team thinks that certain shoe_type/shoe_color combinations are particularly popular this year (for example, blue ballet flats are all the rage in Paris).\n",
    "\n",
    "# Create a DataFrame with the total number of shoes of each shoe_type/shoe_color combination purchased. Save it to the variable shoe_counts.\n",
    "\n",
    "# You should be able to do this using groupby and count().\n",
    "\n",
    "# Note: When we’re using count(), it doesn’t really matter which column we perform the calculation on. You should use id in this example, but we would get the same answer if we used shoe_type or last_name.\n",
    "\n",
    "# Remember to use reset_index() at the end of your code!\n",
    "\n",
    "shoe_counts = orders.groupby(['shoe_type', 'shoe_color']).id.count().reset_index()"
   ]
  },
  {
   "cell_type": "code",
   "execution_count": 123,
   "id": "360d5cac-46b0-4266-a281-c069493ed06c",
   "metadata": {},
   "outputs": [],
   "source": [
    "# Pivot Tables\n",
    "# When we perform a groupby across multiple columns, we often want to change how our data is stored. For instance, recall the example where we are running a chain of stores and have data about the number of sales at different locations on different days:\n",
    "\n",
    "# Location\tDate\tDay of Week\tTotal Sales\n",
    "# West Village\tFebruary 1\tW\t400\n",
    "# West Village\tFebruary 2\tTh\t450\n",
    "# Chelsea\tFebruary 1\tW\t375\n",
    "# Chelsea\tFebruary 2\tTh\t390\n",
    "# We suspected that there might be different sales on different days of the week at different stores, so we performed a `groupby` across two different columns (`Location` and `Day of Week`). This gave us results that looked like this:\n",
    "# Location\tDay of Week\tTotal Sales\n",
    "# Chelsea\tM\t300\n",
    "# Chelsea\tTu\t310\n",
    "# Chelsea\tW\t375\n",
    "# Chelsea\tTh\t390\n",
    "# …\t\t\n",
    "# West Village\tTh\t450\n",
    "# West Village\tF\t390\n",
    "# West Village\tSa\t250\n",
    "# …\t\t\n",
    "# In order to test our hypothesis, it would be more useful if the table was formatted like this:\n",
    "# Location\tM\tTu\tW\tTh\tF\tSa\tSu\n",
    "# Chelsea\t300\t310\t375\t390\t300\t150\t175\n",
    "# West Village\t300\t310\t400\t450\t390\t250\t200\n",
    "# …\t\t\t\t\t\t\t\n",
    "# Reorganizing a table in this way is called pivoting. The new table is called a pivot table.\n",
    "\n",
    "# In Pandas, the command for pivot is:\n",
    "\n",
    "# df.pivot(columns='ColumnToPivot',\n",
    "#          index='ColumnToBeRows',\n",
    "#          values='ColumnToBeValues')\n",
    "\n",
    "# For our specific example, we would write the command like this:\n",
    "\n",
    "# # First use the groupby statement:\n",
    "# unpivoted = df.groupby(['Location', 'Day of Week'])['Total Sales'].mean().reset_index()\n",
    "# # Now pivot the table\n",
    "# pivoted = unpivoted.pivot(\n",
    "#     columns='Day of Week',\n",
    "#     index='Location',\n",
    "#     values='Total Sales')\n",
    "\n",
    "# Just like with groupby, the output of a pivot command is a new DataFrame, but the indexing tends to be “weird”, so we usually follow up with .reset_index().\n",
    "\n",
    "# For more on the pivot function, see the pandas documentation."
   ]
  },
  {
   "cell_type": "code",
   "execution_count": 124,
   "id": "0c3ebbe5-3aa5-4e81-ae17-31012e729996",
   "metadata": {},
   "outputs": [
    {
     "data": {
      "text/html": [
       "<div>\n",
       "<style scoped>\n",
       "    .dataframe tbody tr th:only-of-type {\n",
       "        vertical-align: middle;\n",
       "    }\n",
       "\n",
       "    .dataframe tbody tr th {\n",
       "        vertical-align: top;\n",
       "    }\n",
       "\n",
       "    .dataframe thead th {\n",
       "        text-align: right;\n",
       "    }\n",
       "</style>\n",
       "<table border=\"1\" class=\"dataframe\">\n",
       "  <thead>\n",
       "    <tr style=\"text-align: right;\">\n",
       "      <th></th>\n",
       "      <th>id</th>\n",
       "      <th>first_name</th>\n",
       "      <th>last_name</th>\n",
       "      <th>email</th>\n",
       "      <th>shoe_type</th>\n",
       "      <th>shoe_material</th>\n",
       "      <th>shoe_color</th>\n",
       "      <th>price</th>\n",
       "    </tr>\n",
       "  </thead>\n",
       "  <tbody>\n",
       "    <tr>\n",
       "      <th>0</th>\n",
       "      <td>41874</td>\n",
       "      <td>Kyle</td>\n",
       "      <td>Peck</td>\n",
       "      <td>KylePeck71@gmail.com</td>\n",
       "      <td>ballet flats</td>\n",
       "      <td>faux-leather</td>\n",
       "      <td>black</td>\n",
       "      <td>385.0</td>\n",
       "    </tr>\n",
       "    <tr>\n",
       "      <th>1</th>\n",
       "      <td>31349</td>\n",
       "      <td>Elizabeth</td>\n",
       "      <td>Velazquez</td>\n",
       "      <td>EVelazquez1971@gmail.com</td>\n",
       "      <td>boots</td>\n",
       "      <td>fabric</td>\n",
       "      <td>brown</td>\n",
       "      <td>388.0</td>\n",
       "    </tr>\n",
       "    <tr>\n",
       "      <th>2</th>\n",
       "      <td>43416</td>\n",
       "      <td>Keith</td>\n",
       "      <td>Saunders</td>\n",
       "      <td>KS4047@gmail.com</td>\n",
       "      <td>sandals</td>\n",
       "      <td>leather</td>\n",
       "      <td>navy</td>\n",
       "      <td>346.0</td>\n",
       "    </tr>\n",
       "    <tr>\n",
       "      <th>3</th>\n",
       "      <td>56054</td>\n",
       "      <td>Ryan</td>\n",
       "      <td>Sweeney</td>\n",
       "      <td>RyanSweeney14@outlook.com</td>\n",
       "      <td>sandals</td>\n",
       "      <td>fabric</td>\n",
       "      <td>brown</td>\n",
       "      <td>344.0</td>\n",
       "    </tr>\n",
       "    <tr>\n",
       "      <th>4</th>\n",
       "      <td>77402</td>\n",
       "      <td>Donna</td>\n",
       "      <td>Blankenship</td>\n",
       "      <td>DB3807@gmail.com</td>\n",
       "      <td>stilettos</td>\n",
       "      <td>fabric</td>\n",
       "      <td>brown</td>\n",
       "      <td>289.0</td>\n",
       "    </tr>\n",
       "    <tr>\n",
       "      <th>...</th>\n",
       "      <td>...</td>\n",
       "      <td>...</td>\n",
       "      <td>...</td>\n",
       "      <td>...</td>\n",
       "      <td>...</td>\n",
       "      <td>...</td>\n",
       "      <td>...</td>\n",
       "      <td>...</td>\n",
       "    </tr>\n",
       "    <tr>\n",
       "      <th>94</th>\n",
       "      <td>21506</td>\n",
       "      <td>Scott</td>\n",
       "      <td>Deleon</td>\n",
       "      <td>Scott.Deleon@gmail.com</td>\n",
       "      <td>stilettos</td>\n",
       "      <td>fabric</td>\n",
       "      <td>black</td>\n",
       "      <td>374.0</td>\n",
       "    </tr>\n",
       "    <tr>\n",
       "      <th>95</th>\n",
       "      <td>77266</td>\n",
       "      <td>Zachary</td>\n",
       "      <td>Gregory</td>\n",
       "      <td>Zachary.Gregory@gmail.com</td>\n",
       "      <td>sandals</td>\n",
       "      <td>leather</td>\n",
       "      <td>red</td>\n",
       "      <td>216.0</td>\n",
       "    </tr>\n",
       "    <tr>\n",
       "      <th>96</th>\n",
       "      <td>67264</td>\n",
       "      <td>Danielle</td>\n",
       "      <td>Merrill</td>\n",
       "      <td>DMerrill1998@gmail.com</td>\n",
       "      <td>wedges</td>\n",
       "      <td>faux-leather</td>\n",
       "      <td>red</td>\n",
       "      <td>461.0</td>\n",
       "    </tr>\n",
       "    <tr>\n",
       "      <th>97</th>\n",
       "      <td>19100</td>\n",
       "      <td>Danielle</td>\n",
       "      <td>Barron</td>\n",
       "      <td>DBarron1982@gmail.com</td>\n",
       "      <td>sandals</td>\n",
       "      <td>leather</td>\n",
       "      <td>white</td>\n",
       "      <td>313.0</td>\n",
       "    </tr>\n",
       "    <tr>\n",
       "      <th>98</th>\n",
       "      <td>26210</td>\n",
       "      <td>Marilyn</td>\n",
       "      <td>Finch</td>\n",
       "      <td>MarilynFinch92@gmail.com</td>\n",
       "      <td>sandals</td>\n",
       "      <td>leather</td>\n",
       "      <td>black</td>\n",
       "      <td>NaN</td>\n",
       "    </tr>\n",
       "  </tbody>\n",
       "</table>\n",
       "<p>99 rows × 8 columns</p>\n",
       "</div>"
      ],
      "text/plain": [
       "       id first_name    last_name                      email     shoe_type  \\\n",
       "0   41874       Kyle         Peck       KylePeck71@gmail.com  ballet flats   \n",
       "1   31349  Elizabeth    Velazquez   EVelazquez1971@gmail.com         boots   \n",
       "2   43416      Keith     Saunders           KS4047@gmail.com       sandals   \n",
       "3   56054       Ryan      Sweeney  RyanSweeney14@outlook.com       sandals   \n",
       "4   77402      Donna  Blankenship           DB3807@gmail.com     stilettos   \n",
       "..    ...        ...          ...                        ...           ...   \n",
       "94  21506      Scott       Deleon     Scott.Deleon@gmail.com     stilettos   \n",
       "95  77266    Zachary      Gregory  Zachary.Gregory@gmail.com       sandals   \n",
       "96  67264   Danielle      Merrill     DMerrill1998@gmail.com        wedges   \n",
       "97  19100   Danielle       Barron      DBarron1982@gmail.com       sandals   \n",
       "98  26210    Marilyn        Finch   MarilynFinch92@gmail.com       sandals   \n",
       "\n",
       "   shoe_material shoe_color  price  \n",
       "0   faux-leather      black  385.0  \n",
       "1         fabric      brown  388.0  \n",
       "2        leather       navy  346.0  \n",
       "3         fabric      brown  344.0  \n",
       "4         fabric      brown  289.0  \n",
       "..           ...        ...    ...  \n",
       "94        fabric      black  374.0  \n",
       "95       leather        red  216.0  \n",
       "96  faux-leather        red  461.0  \n",
       "97       leather      white  313.0  \n",
       "98       leather      black    NaN  \n",
       "\n",
       "[99 rows x 8 columns]"
      ]
     },
     "execution_count": 124,
     "metadata": {},
     "output_type": "execute_result"
    }
   ],
   "source": [
    "orders"
   ]
  },
  {
   "cell_type": "code",
   "execution_count": 125,
   "id": "944026e0-bd21-49a7-934c-fdd21b6fe805",
   "metadata": {},
   "outputs": [],
   "source": [
    "groupedOrders = orders.groupby(['shoe_type','shoe_material']).price.sum().reset_index()"
   ]
  },
  {
   "cell_type": "code",
   "execution_count": 126,
   "id": "05c6c2f8-5b5c-4a8d-98ac-f7e4160eba80",
   "metadata": {},
   "outputs": [
    {
     "data": {
      "text/html": [
       "<div>\n",
       "<style scoped>\n",
       "    .dataframe tbody tr th:only-of-type {\n",
       "        vertical-align: middle;\n",
       "    }\n",
       "\n",
       "    .dataframe tbody tr th {\n",
       "        vertical-align: top;\n",
       "    }\n",
       "\n",
       "    .dataframe thead th {\n",
       "        text-align: right;\n",
       "    }\n",
       "</style>\n",
       "<table border=\"1\" class=\"dataframe\">\n",
       "  <thead>\n",
       "    <tr style=\"text-align: right;\">\n",
       "      <th>shoe_material</th>\n",
       "      <th>fabric</th>\n",
       "      <th>faux-leather</th>\n",
       "      <th>leather</th>\n",
       "    </tr>\n",
       "    <tr>\n",
       "      <th>shoe_type</th>\n",
       "      <th></th>\n",
       "      <th></th>\n",
       "      <th></th>\n",
       "    </tr>\n",
       "  </thead>\n",
       "  <tbody>\n",
       "    <tr>\n",
       "      <th>ballet flats</th>\n",
       "      <td>831.0</td>\n",
       "      <td>2090.0</td>\n",
       "      <td>919.0</td>\n",
       "    </tr>\n",
       "    <tr>\n",
       "      <th>boots</th>\n",
       "      <td>2233.0</td>\n",
       "      <td>1514.0</td>\n",
       "      <td>1339.0</td>\n",
       "    </tr>\n",
       "    <tr>\n",
       "      <th>clogs</th>\n",
       "      <td>1134.0</td>\n",
       "      <td>819.0</td>\n",
       "      <td>3017.0</td>\n",
       "    </tr>\n",
       "    <tr>\n",
       "      <th>sandals</th>\n",
       "      <td>1954.0</td>\n",
       "      <td>1231.0</td>\n",
       "      <td>1201.0</td>\n",
       "    </tr>\n",
       "    <tr>\n",
       "      <th>stilettos</th>\n",
       "      <td>2019.0</td>\n",
       "      <td>838.0</td>\n",
       "      <td>2196.0</td>\n",
       "    </tr>\n",
       "    <tr>\n",
       "      <th>wedges</th>\n",
       "      <td>1523.0</td>\n",
       "      <td>2528.0</td>\n",
       "      <td>949.0</td>\n",
       "    </tr>\n",
       "  </tbody>\n",
       "</table>\n",
       "</div>"
      ],
      "text/plain": [
       "shoe_material  fabric  faux-leather  leather\n",
       "shoe_type                                   \n",
       "ballet flats    831.0        2090.0    919.0\n",
       "boots          2233.0        1514.0   1339.0\n",
       "clogs          1134.0         819.0   3017.0\n",
       "sandals        1954.0        1231.0   1201.0\n",
       "stilettos      2019.0         838.0   2196.0\n",
       "wedges         1523.0        2528.0    949.0"
      ]
     },
     "execution_count": 126,
     "metadata": {},
     "output_type": "execute_result"
    }
   ],
   "source": [
    "groupedOrders.pivot( columns= 'shoe_material', index = 'shoe_type', values = 'price') "
   ]
  },
  {
   "cell_type": "code",
   "execution_count": 127,
   "id": "ea314ed2-2168-4e56-a991-47285fa12f4a",
   "metadata": {},
   "outputs": [],
   "source": [
    "### TASK\n",
    "\n",
    "# In the previous example, you created a DataFrame with the total number of shoes of each shoe_type/shoe_color combination purchased for ShoeFly.com.\n",
    "\n",
    "# The purchasing manager complains that this DataFrame is confusing.\n",
    "\n",
    "# Make it easier for her to compare purchases of different shoe colors of the same shoe type by creating a pivot table. Save your results to the variable shoe_counts_pivot.\n",
    "\n",
    "# Your table should look like this:\n",
    "\n",
    "# shoe_type\tblack\tbrown\tnavy\tred\twhite\n",
    "# ballet flats\t…\t…\t…\t…\t…\n",
    "# sandals\t…\t…\t…\t…\t…\n",
    "# stilettos\t…\t…\t…\t…\t…\n",
    "# wedges\t…\t…\t…\t…\t…\n",
    "# Remember to use reset_index() at the end of your code!\n",
    "\n",
    "groupedOrders = orders.groupby(['shoe_type','shoe_color']).id.count().reset_index()\n",
    "\n",
    "shoe_counts_pivot = groupedOrders.pivot( columns= 'shoe_color', index = 'shoe_type', values = 'id').reset_index() "
   ]
  },
  {
   "cell_type": "code",
   "execution_count": 128,
   "id": "eeaca93e-248f-4e17-acaf-c8ee2ef24215",
   "metadata": {},
   "outputs": [],
   "source": [
    "### REVIEW\n",
    "\n",
    "# This lesson introduced you to aggregates in Pandas. You learned:\n",
    "\n",
    "# How to perform aggregate statistics over individual rows with the same value using groupby.\n",
    "# How to rearrange a DataFrame into a pivot table, a great way to compare data across two dimensions.\n",
    "# Instructions\n",
    "# Checkpoint 1 Enabled\n",
    "# 1.\n",
    "# Let’s examine some more data from ShoeFly.com. This time, we’ll be looking at data about user visits to the website (the same dataset that you saw in the introduction to this lesson).\n",
    "\n",
    "# The data is a DataFrame called user_visits. Use print and head() to examine the first few rows of the DataFrame."
   ]
  },
  {
   "cell_type": "code",
   "execution_count": 129,
   "id": "a63f96ef-45b5-4ec7-904c-2dcff09e080f",
   "metadata": {},
   "outputs": [],
   "source": [
    "#user_visits = pd.read_csv('page_visits.csv.txt')"
   ]
  },
  {
   "cell_type": "code",
   "execution_count": 130,
   "id": "a22e0d79-a1e0-4bb2-837e-c7d8cf17aac5",
   "metadata": {},
   "outputs": [],
   "source": [
    "#user_visits"
   ]
  },
  {
   "cell_type": "code",
   "execution_count": 131,
   "id": "e56aff6f-b7d0-4b41-9056-17eee19e5886",
   "metadata": {},
   "outputs": [],
   "source": [
    "# The column utm_source contains information about how users got to ShoeFly’s homepage. For instance, if utm_source = Facebook, then the user came to ShoeFly by clicking on an ad on Facebook.com.\n",
    "\n",
    "# Use a groupby statement to calculate how many visits came from each of the different sources. Save your answer to the variable click_source.\n",
    "\n",
    "# Remember to use reset_index()!"
   ]
  },
  {
   "cell_type": "code",
   "execution_count": 132,
   "id": "45f37a03-b9d8-42eb-8e97-a8885c93df99",
   "metadata": {},
   "outputs": [],
   "source": [
    "#click_source = user_visits.groupby('utm_source').id.count().reset_index()"
   ]
  },
  {
   "cell_type": "code",
   "execution_count": 133,
   "id": "371c3ed1-d439-4b9b-abc7-ccfe5bf40b82",
   "metadata": {},
   "outputs": [],
   "source": [
    "# Our Marketing department thinks that the traffic to our site has been changing over the past few months. Use groupby to calculate the number of visits to our site from each utm_source for each month. Save your answer to the variable click_source_by_month."
   ]
  },
  {
   "cell_type": "code",
   "execution_count": 134,
   "id": "7a2b7c92-381c-46f0-8fd3-4e04c35eadae",
   "metadata": {},
   "outputs": [],
   "source": [
    "#click_source_by_month = user_visits.groupby(['utm_source', 'month']).id.count().reset_index()"
   ]
  },
  {
   "cell_type": "code",
   "execution_count": 135,
   "id": "83216870-bbbd-4ff4-b659-2058b32b8f25",
   "metadata": {},
   "outputs": [],
   "source": [
    "#click_source_by_month"
   ]
  },
  {
   "cell_type": "code",
   "execution_count": 136,
   "id": "8c417cb2-1b73-4982-b246-618f1f1a2b81",
   "metadata": {},
   "outputs": [],
   "source": [
    "# The head of Marketing is complaining that this table is hard to read. Use pivot to create a pivot table where the rows are utm_source and the columns are month. Save your results to the variable click_source_by_month_pivot.\n",
    "\n",
    "# It should look something like this:\n",
    "\n",
    "# utm_source\t1 - January\t2 - February\t3 - March\n",
    "# email\t…\t…\t…\n",
    "# facebook\t…\t…\t…\n",
    "# google\t…\t…\t…\n",
    "# twitter\t…\t…\t…\n",
    "# yahoo\t…\t…\t…\n"
   ]
  },
  {
   "cell_type": "code",
   "execution_count": 137,
   "id": "fe6c660a-8961-4a2b-89a4-463aef0c85c4",
   "metadata": {},
   "outputs": [],
   "source": [
    "\n",
    "#click_source_by_month.pivot( columns = 'month' , index = 'utm_source', values = 'id' ).reset_index()\n",
    "#click_source_by_month_pivot = click_source_by_month.pivot( columns = 'month' , index = 'utm_source', values = 'id' ).reset_index()"
   ]
  },
  {
   "cell_type": "code",
   "execution_count": 138,
   "id": "bad9e52e-91c3-4191-9cc9-a23e46643e23",
   "metadata": {},
   "outputs": [],
   "source": [
    "### A/B Testing for ShoeFly.com\n",
    "# Our favorite online shoe store, ShoeFly.com is performing an A/B Test. They have two different versions of an ad, which they have placed in emails, as well as in banner ads on Facebook, Twitter, and Google. They want to know how the two ads are performing on each of the different platforms on each day of the week. Help them analyze the data using aggregate measures.\n",
    "\n",
    "# If you get stuck during this project or would like to see an experienced developer work through it, click “Get Unstuck“ to see a project walkthrough video."
   ]
  },
  {
   "cell_type": "code",
   "execution_count": 139,
   "id": "3312478c-960b-408f-b0ed-c017e03c5dc9",
   "metadata": {},
   "outputs": [],
   "source": [
    "ad_clicks = pd.read_csv('ad_clicks.csv.txt')"
   ]
  },
  {
   "cell_type": "code",
   "execution_count": 140,
   "id": "2c8d1ecc-1514-4751-8f72-359597a106a5",
   "metadata": {},
   "outputs": [
    {
     "data": {
      "text/html": [
       "<div>\n",
       "<style scoped>\n",
       "    .dataframe tbody tr th:only-of-type {\n",
       "        vertical-align: middle;\n",
       "    }\n",
       "\n",
       "    .dataframe tbody tr th {\n",
       "        vertical-align: top;\n",
       "    }\n",
       "\n",
       "    .dataframe thead th {\n",
       "        text-align: right;\n",
       "    }\n",
       "</style>\n",
       "<table border=\"1\" class=\"dataframe\">\n",
       "  <thead>\n",
       "    <tr style=\"text-align: right;\">\n",
       "      <th></th>\n",
       "      <th>user_id</th>\n",
       "      <th>utm_source</th>\n",
       "      <th>day</th>\n",
       "      <th>ad_click_timestamp</th>\n",
       "      <th>experimental_group</th>\n",
       "    </tr>\n",
       "  </thead>\n",
       "  <tbody>\n",
       "    <tr>\n",
       "      <th>0</th>\n",
       "      <td>008b7c6c-7272-471e-b90e-930d548bd8d7</td>\n",
       "      <td>google</td>\n",
       "      <td>6 - Saturday</td>\n",
       "      <td>7:18</td>\n",
       "      <td>A</td>\n",
       "    </tr>\n",
       "    <tr>\n",
       "      <th>1</th>\n",
       "      <td>009abb94-5e14-4b6c-bb1c-4f4df7aa7557</td>\n",
       "      <td>facebook</td>\n",
       "      <td>7 - Sunday</td>\n",
       "      <td>NaN</td>\n",
       "      <td>B</td>\n",
       "    </tr>\n",
       "    <tr>\n",
       "      <th>2</th>\n",
       "      <td>00f5d532-ed58-4570-b6d2-768df5f41aed</td>\n",
       "      <td>twitter</td>\n",
       "      <td>2 - Tuesday</td>\n",
       "      <td>NaN</td>\n",
       "      <td>A</td>\n",
       "    </tr>\n",
       "    <tr>\n",
       "      <th>3</th>\n",
       "      <td>011adc64-0f44-4fd9-a0bb-f1506d2ad439</td>\n",
       "      <td>google</td>\n",
       "      <td>2 - Tuesday</td>\n",
       "      <td>NaN</td>\n",
       "      <td>B</td>\n",
       "    </tr>\n",
       "    <tr>\n",
       "      <th>4</th>\n",
       "      <td>012137e6-7ae7-4649-af68-205b4702169c</td>\n",
       "      <td>facebook</td>\n",
       "      <td>7 - Sunday</td>\n",
       "      <td>NaN</td>\n",
       "      <td>B</td>\n",
       "    </tr>\n",
       "  </tbody>\n",
       "</table>\n",
       "</div>"
      ],
      "text/plain": [
       "                                user_id utm_source           day  \\\n",
       "0  008b7c6c-7272-471e-b90e-930d548bd8d7     google  6 - Saturday   \n",
       "1  009abb94-5e14-4b6c-bb1c-4f4df7aa7557   facebook    7 - Sunday   \n",
       "2  00f5d532-ed58-4570-b6d2-768df5f41aed    twitter   2 - Tuesday   \n",
       "3  011adc64-0f44-4fd9-a0bb-f1506d2ad439     google   2 - Tuesday   \n",
       "4  012137e6-7ae7-4649-af68-205b4702169c   facebook    7 - Sunday   \n",
       "\n",
       "  ad_click_timestamp experimental_group  \n",
       "0               7:18                  A  \n",
       "1                NaN                  B  \n",
       "2                NaN                  A  \n",
       "3                NaN                  B  \n",
       "4                NaN                  B  "
      ]
     },
     "execution_count": 140,
     "metadata": {},
     "output_type": "execute_result"
    }
   ],
   "source": [
    "ad_clicks.head()"
   ]
  },
  {
   "cell_type": "code",
   "execution_count": 141,
   "id": "d3ef0b2f-b27a-4d71-88cb-70b80ee54663",
   "metadata": {},
   "outputs": [],
   "source": [
    "# Your manager wants to know which ad platform is getting you the most views.\n",
    "\n",
    "# How many views (i.e., rows of the table) came from each utm_source?\n",
    "\n",
    "    #ad_clicks.groupby('utm_source').user_id.count().reset_index()"
   ]
  },
  {
   "cell_type": "code",
   "execution_count": 142,
   "id": "8e37c576-3602-494e-99fd-2ef0231abfbf",
   "metadata": {},
   "outputs": [],
   "source": [
    "# If the column ad_click_timestamp is not null, then someone actually clicked on the ad that was displayed.\n",
    "\n",
    "# Create a new column called is_click, which is True if ad_click_timestamp is not null and False otherwise.\n",
    "\n",
    "ad_clicks['is_click'] = ad_clicks.apply( lambda row : True if pd.notnull(row.ad_click_timestamp) else False  , axis = 1)"
   ]
  },
  {
   "cell_type": "code",
   "execution_count": 143,
   "id": "816b8828-abfb-448a-ab1f-ea9b6c51e83f",
   "metadata": {},
   "outputs": [],
   "source": [
    "# We want to know the percent of people who clicked on ads from each utm_source.\n",
    "\n",
    "# Start by grouping by utm_source and is_click and counting the number of user_id‘s in each of those groups. Save your answer to the variable clicks_by_source.\n",
    "\n",
    "clicks_by_source = ad_clicks.groupby(['utm_source', 'is_click']).user_id.count().reset_index()"
   ]
  },
  {
   "cell_type": "code",
   "execution_count": 144,
   "id": "7d4ecd80-0978-43e0-8f31-e8b14c01f6df",
   "metadata": {},
   "outputs": [],
   "source": [
    "#clicks_by_source"
   ]
  },
  {
   "cell_type": "code",
   "execution_count": 145,
   "id": "7140375f-4294-437a-b7be-e28df2427670",
   "metadata": {},
   "outputs": [],
   "source": [
    "# Now let’s pivot the data so that the columns are is_click (either True or False), the index is utm_source, and the values are user_id.\n",
    "\n",
    "# Save your results to the variable clicks_pivot.\n",
    "\n",
    "clicks_pivot = clicks_by_source.pivot( columns = 'is_click', index = 'utm_source', values = 'user_id' )"
   ]
  },
  {
   "cell_type": "code",
   "execution_count": 146,
   "id": "1d5a00e9-9c79-4294-92ab-cbe6e29f3b31",
   "metadata": {},
   "outputs": [
    {
     "data": {
      "text/html": [
       "<div>\n",
       "<style scoped>\n",
       "    .dataframe tbody tr th:only-of-type {\n",
       "        vertical-align: middle;\n",
       "    }\n",
       "\n",
       "    .dataframe tbody tr th {\n",
       "        vertical-align: top;\n",
       "    }\n",
       "\n",
       "    .dataframe thead th {\n",
       "        text-align: right;\n",
       "    }\n",
       "</style>\n",
       "<table border=\"1\" class=\"dataframe\">\n",
       "  <thead>\n",
       "    <tr style=\"text-align: right;\">\n",
       "      <th>is_click</th>\n",
       "      <th>False</th>\n",
       "      <th>True</th>\n",
       "    </tr>\n",
       "    <tr>\n",
       "      <th>utm_source</th>\n",
       "      <th></th>\n",
       "      <th></th>\n",
       "    </tr>\n",
       "  </thead>\n",
       "  <tbody>\n",
       "    <tr>\n",
       "      <th>email</th>\n",
       "      <td>175</td>\n",
       "      <td>80</td>\n",
       "    </tr>\n",
       "    <tr>\n",
       "      <th>facebook</th>\n",
       "      <td>324</td>\n",
       "      <td>180</td>\n",
       "    </tr>\n",
       "    <tr>\n",
       "      <th>google</th>\n",
       "      <td>441</td>\n",
       "      <td>239</td>\n",
       "    </tr>\n",
       "    <tr>\n",
       "      <th>twitter</th>\n",
       "      <td>149</td>\n",
       "      <td>66</td>\n",
       "    </tr>\n",
       "  </tbody>\n",
       "</table>\n",
       "</div>"
      ],
      "text/plain": [
       "is_click    False  True\n",
       "utm_source             \n",
       "email         175    80\n",
       "facebook      324   180\n",
       "google        441   239\n",
       "twitter       149    66"
      ]
     },
     "execution_count": 146,
     "metadata": {},
     "output_type": "execute_result"
    }
   ],
   "source": [
    "clicks_pivot\n",
    "#type(clicks_pivot)"
   ]
  },
  {
   "cell_type": "code",
   "execution_count": 147,
   "id": "8a3abe2c-f682-4d60-a14c-c21a6631766f",
   "metadata": {},
   "outputs": [],
   "source": [
    "# Create a new column in clicks_pivot called percent_clicked which is equal to the percent of users who clicked on the ad from each utm_source.\n",
    "\n",
    "# Was there a difference in click rates for each source?\n",
    "\n",
    "    #clicks_pivot.apply( lambda row : row[True] , axis = 1 )\n",
    "\n",
    "    #clicks_pivot['percent_clicked'] = clicks_pivot.apply( lambda row : row.user_id + row.is_click )\n",
    "clicks_pivot['percent_clicked'] = round(( clicks_pivot[True] / ( clicks_pivot[True] + clicks_pivot[False] ) ) * 100 , 2)"
   ]
  },
  {
   "cell_type": "code",
   "execution_count": 148,
   "id": "8bf3397d-b518-4b04-9d5b-1df95678d3fa",
   "metadata": {},
   "outputs": [
    {
     "data": {
      "text/plain": [
       "experimental_group\n",
       "A    827\n",
       "B    827\n",
       "Name: user_id, dtype: int64"
      ]
     },
     "execution_count": 148,
     "metadata": {},
     "output_type": "execute_result"
    }
   ],
   "source": [
    "# The column experimental_group tells us whether the user was shown Ad A or Ad B.\n",
    "\n",
    "# Were approximately the same number of people shown both ads? --- YES\n",
    "\n",
    "ad_clicks.groupby('experimental_group').user_id.count()"
   ]
  },
  {
   "cell_type": "code",
   "execution_count": 149,
   "id": "55c18bab-c855-4692-a963-10f99fe55a43",
   "metadata": {},
   "outputs": [
    {
     "data": {
      "text/plain": [
       "experimental_group  is_click\n",
       "A                   False       517\n",
       "                    True        310\n",
       "B                   False       572\n",
       "                    True        255\n",
       "Name: user_id, dtype: int64"
      ]
     },
     "execution_count": 149,
     "metadata": {},
     "output_type": "execute_result"
    }
   ],
   "source": [
    "# Using the column is_click that we defined earlier, check to see if a greater percentage of users clicked on Ad A or Ad B.\n",
    "\n",
    "ad_clicks.groupby(['experimental_group', 'is_click']).user_id.count()"
   ]
  },
  {
   "cell_type": "code",
   "execution_count": 150,
   "id": "1b07d400-0c20-4b3b-ac23-b609c6b6bf3c",
   "metadata": {},
   "outputs": [],
   "source": [
    "ad_clicks_grouped = ad_clicks.groupby(['experimental_group', 'is_click']).user_id.count().reset_index()"
   ]
  },
  {
   "cell_type": "code",
   "execution_count": 151,
   "id": "db383662-427b-4b44-a9c9-906988f1bb5a",
   "metadata": {},
   "outputs": [
    {
     "data": {
      "text/html": [
       "<div>\n",
       "<style scoped>\n",
       "    .dataframe tbody tr th:only-of-type {\n",
       "        vertical-align: middle;\n",
       "    }\n",
       "\n",
       "    .dataframe tbody tr th {\n",
       "        vertical-align: top;\n",
       "    }\n",
       "\n",
       "    .dataframe thead th {\n",
       "        text-align: right;\n",
       "    }\n",
       "</style>\n",
       "<table border=\"1\" class=\"dataframe\">\n",
       "  <thead>\n",
       "    <tr style=\"text-align: right;\">\n",
       "      <th></th>\n",
       "      <th>experimental_group</th>\n",
       "      <th>is_click</th>\n",
       "      <th>user_id</th>\n",
       "    </tr>\n",
       "  </thead>\n",
       "  <tbody>\n",
       "    <tr>\n",
       "      <th>0</th>\n",
       "      <td>A</td>\n",
       "      <td>False</td>\n",
       "      <td>517</td>\n",
       "    </tr>\n",
       "    <tr>\n",
       "      <th>1</th>\n",
       "      <td>A</td>\n",
       "      <td>True</td>\n",
       "      <td>310</td>\n",
       "    </tr>\n",
       "    <tr>\n",
       "      <th>2</th>\n",
       "      <td>B</td>\n",
       "      <td>False</td>\n",
       "      <td>572</td>\n",
       "    </tr>\n",
       "    <tr>\n",
       "      <th>3</th>\n",
       "      <td>B</td>\n",
       "      <td>True</td>\n",
       "      <td>255</td>\n",
       "    </tr>\n",
       "  </tbody>\n",
       "</table>\n",
       "</div>"
      ],
      "text/plain": [
       "  experimental_group  is_click  user_id\n",
       "0                  A     False      517\n",
       "1                  A      True      310\n",
       "2                  B     False      572\n",
       "3                  B      True      255"
      ]
     },
     "execution_count": 151,
     "metadata": {},
     "output_type": "execute_result"
    }
   ],
   "source": [
    "ad_clicks_grouped"
   ]
  },
  {
   "cell_type": "code",
   "execution_count": 152,
   "id": "634461c9-d11e-45bb-aa33-5c0dcab92ca9",
   "metadata": {},
   "outputs": [],
   "source": [
    "ad_clicks_grouped_pivot = ad_clicks_grouped.pivot( columns = 'is_click', index = 'experimental_group', values = 'user_id' )"
   ]
  },
  {
   "cell_type": "code",
   "execution_count": null,
   "id": "37c0f8ea-d20c-46d1-9f00-f22c2ca406d8",
   "metadata": {},
   "outputs": [],
   "source": []
  },
  {
   "cell_type": "code",
   "execution_count": 153,
   "id": "abd76fa8-bb05-4ac2-bfd0-afe87edcb2a8",
   "metadata": {},
   "outputs": [],
   "source": [
    "ad_clicks_grouped_pivot['percent_clicked'] = round(( ad_clicks_grouped_pivot[True] / ( ad_clicks_grouped_pivot[True] + ad_clicks_grouped_pivot[False] ) ) * 100 , 2)"
   ]
  },
  {
   "cell_type": "code",
   "execution_count": 154,
   "id": "7dfbc4d4-db9b-4399-b59a-fa9ee7c82324",
   "metadata": {},
   "outputs": [
    {
     "data": {
      "text/html": [
       "<div>\n",
       "<style scoped>\n",
       "    .dataframe tbody tr th:only-of-type {\n",
       "        vertical-align: middle;\n",
       "    }\n",
       "\n",
       "    .dataframe tbody tr th {\n",
       "        vertical-align: top;\n",
       "    }\n",
       "\n",
       "    .dataframe thead th {\n",
       "        text-align: right;\n",
       "    }\n",
       "</style>\n",
       "<table border=\"1\" class=\"dataframe\">\n",
       "  <thead>\n",
       "    <tr style=\"text-align: right;\">\n",
       "      <th>is_click</th>\n",
       "      <th>False</th>\n",
       "      <th>True</th>\n",
       "      <th>percent_clicked</th>\n",
       "    </tr>\n",
       "    <tr>\n",
       "      <th>experimental_group</th>\n",
       "      <th></th>\n",
       "      <th></th>\n",
       "      <th></th>\n",
       "    </tr>\n",
       "  </thead>\n",
       "  <tbody>\n",
       "    <tr>\n",
       "      <th>A</th>\n",
       "      <td>517</td>\n",
       "      <td>310</td>\n",
       "      <td>37.48</td>\n",
       "    </tr>\n",
       "    <tr>\n",
       "      <th>B</th>\n",
       "      <td>572</td>\n",
       "      <td>255</td>\n",
       "      <td>30.83</td>\n",
       "    </tr>\n",
       "  </tbody>\n",
       "</table>\n",
       "</div>"
      ],
      "text/plain": [
       "is_click            False  True  percent_clicked\n",
       "experimental_group                              \n",
       "A                     517   310            37.48\n",
       "B                     572   255            30.83"
      ]
     },
     "execution_count": 154,
     "metadata": {},
     "output_type": "execute_result"
    }
   ],
   "source": [
    "ad_clicks_grouped_pivot"
   ]
  },
  {
   "cell_type": "code",
   "execution_count": 157,
   "id": "720493b6-3bd3-4cb4-80d7-93ed83c617d0",
   "metadata": {},
   "outputs": [
    {
     "ename": "SyntaxError",
     "evalue": "invalid syntax (Temp/ipykernel_22612/2058740462.py, line 5)",
     "output_type": "error",
     "traceback": [
      "\u001b[1;36m  File \u001b[1;32m\"C:\\Users\\esmyth\\AppData\\Local\\Temp/ipykernel_22612/2058740462.py\"\u001b[1;36m, line \u001b[1;32m5\u001b[0m\n\u001b[1;33m    ad_clicks.apply( lambda row : row if row[experimental_group] == 'A', axis = 1 )\u001b[0m\n\u001b[1;37m                                                                       ^\u001b[0m\n\u001b[1;31mSyntaxError\u001b[0m\u001b[1;31m:\u001b[0m invalid syntax\n"
     ]
    }
   ],
   "source": [
    "# The Product Manager for the A/B test thinks that the clicks might have changed by day of the week.\n",
    "\n",
    "# Start by creating two DataFrames: a_clicks and b_clicks, which contain only the results for A group and B group, respectively.\n",
    "\n",
    "    #ad_clicks.apply( lambda row : row if row[experimental_group] == 'A', axis = 1 )"
   ]
  },
  {
   "cell_type": "code",
   "execution_count": 161,
   "id": "9b7ab7a1-05da-4218-8abb-ac5d07eeb4c0",
   "metadata": {},
   "outputs": [],
   "source": [
    "a_clicks = ad_clicks[ ad_clicks.experimental_group == 'A']\n",
    "b_clicks = ad_clicks[ ad_clicks.experimental_group == 'B']"
   ]
  },
  {
   "cell_type": "code",
   "execution_count": 163,
   "id": "efdee7ed-d363-4f12-8573-83191524240f",
   "metadata": {},
   "outputs": [
    {
     "data": {
      "text/html": [
       "<div>\n",
       "<style scoped>\n",
       "    .dataframe tbody tr th:only-of-type {\n",
       "        vertical-align: middle;\n",
       "    }\n",
       "\n",
       "    .dataframe tbody tr th {\n",
       "        vertical-align: top;\n",
       "    }\n",
       "\n",
       "    .dataframe thead th {\n",
       "        text-align: right;\n",
       "    }\n",
       "</style>\n",
       "<table border=\"1\" class=\"dataframe\">\n",
       "  <thead>\n",
       "    <tr style=\"text-align: right;\">\n",
       "      <th></th>\n",
       "      <th>user_id</th>\n",
       "      <th>utm_source</th>\n",
       "      <th>day</th>\n",
       "      <th>ad_click_timestamp</th>\n",
       "      <th>experimental_group</th>\n",
       "      <th>is_click</th>\n",
       "    </tr>\n",
       "  </thead>\n",
       "  <tbody>\n",
       "    <tr>\n",
       "      <th>1</th>\n",
       "      <td>009abb94-5e14-4b6c-bb1c-4f4df7aa7557</td>\n",
       "      <td>facebook</td>\n",
       "      <td>7 - Sunday</td>\n",
       "      <td>NaN</td>\n",
       "      <td>B</td>\n",
       "      <td>False</td>\n",
       "    </tr>\n",
       "    <tr>\n",
       "      <th>3</th>\n",
       "      <td>011adc64-0f44-4fd9-a0bb-f1506d2ad439</td>\n",
       "      <td>google</td>\n",
       "      <td>2 - Tuesday</td>\n",
       "      <td>NaN</td>\n",
       "      <td>B</td>\n",
       "      <td>False</td>\n",
       "    </tr>\n",
       "    <tr>\n",
       "      <th>4</th>\n",
       "      <td>012137e6-7ae7-4649-af68-205b4702169c</td>\n",
       "      <td>facebook</td>\n",
       "      <td>7 - Sunday</td>\n",
       "      <td>NaN</td>\n",
       "      <td>B</td>\n",
       "      <td>False</td>\n",
       "    </tr>\n",
       "    <tr>\n",
       "      <th>9</th>\n",
       "      <td>01a210c3-fde0-4e6f-8efd-4f0e38730ae6</td>\n",
       "      <td>email</td>\n",
       "      <td>2 - Tuesday</td>\n",
       "      <td>15:21</td>\n",
       "      <td>B</td>\n",
       "      <td>True</td>\n",
       "    </tr>\n",
       "    <tr>\n",
       "      <th>10</th>\n",
       "      <td>01adb2e7-f711-4ae4-a7c6-29f48457eea1</td>\n",
       "      <td>google</td>\n",
       "      <td>3 - Wednesday</td>\n",
       "      <td>NaN</td>\n",
       "      <td>B</td>\n",
       "      <td>False</td>\n",
       "    </tr>\n",
       "    <tr>\n",
       "      <th>...</th>\n",
       "      <td>...</td>\n",
       "      <td>...</td>\n",
       "      <td>...</td>\n",
       "      <td>...</td>\n",
       "      <td>...</td>\n",
       "      <td>...</td>\n",
       "    </tr>\n",
       "    <tr>\n",
       "      <th>1645</th>\n",
       "      <td>fd2a5852-f0ef-4162-84a6-107a42dc46b5</td>\n",
       "      <td>twitter</td>\n",
       "      <td>3 - Wednesday</td>\n",
       "      <td>NaN</td>\n",
       "      <td>B</td>\n",
       "      <td>False</td>\n",
       "    </tr>\n",
       "    <tr>\n",
       "      <th>1648</th>\n",
       "      <td>fe6cfa5a-cc63-4770-8d56-c13ac8cf5bef</td>\n",
       "      <td>google</td>\n",
       "      <td>3 - Wednesday</td>\n",
       "      <td>15:6</td>\n",
       "      <td>B</td>\n",
       "      <td>True</td>\n",
       "    </tr>\n",
       "    <tr>\n",
       "      <th>1650</th>\n",
       "      <td>fed3db6d-8c92-40e3-a4fb-1fb9d7337eb1</td>\n",
       "      <td>facebook</td>\n",
       "      <td>5 - Friday</td>\n",
       "      <td>NaN</td>\n",
       "      <td>B</td>\n",
       "      <td>False</td>\n",
       "    </tr>\n",
       "    <tr>\n",
       "      <th>1651</th>\n",
       "      <td>ff3a22ff-521c-478c-87ca-7dc7b8f34372</td>\n",
       "      <td>twitter</td>\n",
       "      <td>3 - Wednesday</td>\n",
       "      <td>NaN</td>\n",
       "      <td>B</td>\n",
       "      <td>False</td>\n",
       "    </tr>\n",
       "    <tr>\n",
       "      <th>1653</th>\n",
       "      <td>ffdfe7ec-0c74-4623-8d90-d95d80f1ba34</td>\n",
       "      <td>facebook</td>\n",
       "      <td>6 - Saturday</td>\n",
       "      <td>NaN</td>\n",
       "      <td>B</td>\n",
       "      <td>False</td>\n",
       "    </tr>\n",
       "  </tbody>\n",
       "</table>\n",
       "<p>827 rows × 6 columns</p>\n",
       "</div>"
      ],
      "text/plain": [
       "                                   user_id utm_source            day  \\\n",
       "1     009abb94-5e14-4b6c-bb1c-4f4df7aa7557   facebook     7 - Sunday   \n",
       "3     011adc64-0f44-4fd9-a0bb-f1506d2ad439     google    2 - Tuesday   \n",
       "4     012137e6-7ae7-4649-af68-205b4702169c   facebook     7 - Sunday   \n",
       "9     01a210c3-fde0-4e6f-8efd-4f0e38730ae6      email    2 - Tuesday   \n",
       "10    01adb2e7-f711-4ae4-a7c6-29f48457eea1     google  3 - Wednesday   \n",
       "...                                    ...        ...            ...   \n",
       "1645  fd2a5852-f0ef-4162-84a6-107a42dc46b5    twitter  3 - Wednesday   \n",
       "1648  fe6cfa5a-cc63-4770-8d56-c13ac8cf5bef     google  3 - Wednesday   \n",
       "1650  fed3db6d-8c92-40e3-a4fb-1fb9d7337eb1   facebook     5 - Friday   \n",
       "1651  ff3a22ff-521c-478c-87ca-7dc7b8f34372    twitter  3 - Wednesday   \n",
       "1653  ffdfe7ec-0c74-4623-8d90-d95d80f1ba34   facebook   6 - Saturday   \n",
       "\n",
       "     ad_click_timestamp experimental_group  is_click  \n",
       "1                   NaN                  B     False  \n",
       "3                   NaN                  B     False  \n",
       "4                   NaN                  B     False  \n",
       "9                 15:21                  B      True  \n",
       "10                  NaN                  B     False  \n",
       "...                 ...                ...       ...  \n",
       "1645                NaN                  B     False  \n",
       "1648               15:6                  B      True  \n",
       "1650                NaN                  B     False  \n",
       "1651                NaN                  B     False  \n",
       "1653                NaN                  B     False  \n",
       "\n",
       "[827 rows x 6 columns]"
      ]
     },
     "execution_count": 163,
     "metadata": {},
     "output_type": "execute_result"
    }
   ],
   "source": [
    "#b_clicks"
   ]
  },
  {
   "cell_type": "code",
   "execution_count": null,
   "id": "1d3c4ef8-caf6-4b90-a64b-135320ea1c80",
   "metadata": {},
   "outputs": [],
   "source": [
    "#For each group (a_clicks and b_clicks), calculate the percent of users who clicked on the ad by day."
   ]
  },
  {
   "cell_type": "code",
   "execution_count": 175,
   "id": "67311dd3-a934-4ca3-b8f7-845bb53cc96a",
   "metadata": {},
   "outputs": [
    {
     "data": {
      "text/html": [
       "<div>\n",
       "<style scoped>\n",
       "    .dataframe tbody tr th:only-of-type {\n",
       "        vertical-align: middle;\n",
       "    }\n",
       "\n",
       "    .dataframe tbody tr th {\n",
       "        vertical-align: top;\n",
       "    }\n",
       "\n",
       "    .dataframe thead th {\n",
       "        text-align: right;\n",
       "    }\n",
       "</style>\n",
       "<table border=\"1\" class=\"dataframe\">\n",
       "  <thead>\n",
       "    <tr style=\"text-align: right;\">\n",
       "      <th></th>\n",
       "      <th>is_click</th>\n",
       "      <th>day</th>\n",
       "      <th>user_id</th>\n",
       "    </tr>\n",
       "  </thead>\n",
       "  <tbody>\n",
       "    <tr>\n",
       "      <th>0</th>\n",
       "      <td>False</td>\n",
       "      <td>1 - Monday</td>\n",
       "      <td>70</td>\n",
       "    </tr>\n",
       "    <tr>\n",
       "      <th>1</th>\n",
       "      <td>False</td>\n",
       "      <td>2 - Tuesday</td>\n",
       "      <td>76</td>\n",
       "    </tr>\n",
       "    <tr>\n",
       "      <th>2</th>\n",
       "      <td>False</td>\n",
       "      <td>3 - Wednesday</td>\n",
       "      <td>86</td>\n",
       "    </tr>\n",
       "    <tr>\n",
       "      <th>3</th>\n",
       "      <td>False</td>\n",
       "      <td>4 - Thursday</td>\n",
       "      <td>69</td>\n",
       "    </tr>\n",
       "    <tr>\n",
       "      <th>4</th>\n",
       "      <td>False</td>\n",
       "      <td>5 - Friday</td>\n",
       "      <td>77</td>\n",
       "    </tr>\n",
       "    <tr>\n",
       "      <th>5</th>\n",
       "      <td>False</td>\n",
       "      <td>6 - Saturday</td>\n",
       "      <td>73</td>\n",
       "    </tr>\n",
       "    <tr>\n",
       "      <th>6</th>\n",
       "      <td>False</td>\n",
       "      <td>7 - Sunday</td>\n",
       "      <td>66</td>\n",
       "    </tr>\n",
       "    <tr>\n",
       "      <th>7</th>\n",
       "      <td>True</td>\n",
       "      <td>1 - Monday</td>\n",
       "      <td>43</td>\n",
       "    </tr>\n",
       "    <tr>\n",
       "      <th>8</th>\n",
       "      <td>True</td>\n",
       "      <td>2 - Tuesday</td>\n",
       "      <td>43</td>\n",
       "    </tr>\n",
       "    <tr>\n",
       "      <th>9</th>\n",
       "      <td>True</td>\n",
       "      <td>3 - Wednesday</td>\n",
       "      <td>38</td>\n",
       "    </tr>\n",
       "    <tr>\n",
       "      <th>10</th>\n",
       "      <td>True</td>\n",
       "      <td>4 - Thursday</td>\n",
       "      <td>47</td>\n",
       "    </tr>\n",
       "    <tr>\n",
       "      <th>11</th>\n",
       "      <td>True</td>\n",
       "      <td>5 - Friday</td>\n",
       "      <td>51</td>\n",
       "    </tr>\n",
       "    <tr>\n",
       "      <th>12</th>\n",
       "      <td>True</td>\n",
       "      <td>6 - Saturday</td>\n",
       "      <td>45</td>\n",
       "    </tr>\n",
       "    <tr>\n",
       "      <th>13</th>\n",
       "      <td>True</td>\n",
       "      <td>7 - Sunday</td>\n",
       "      <td>43</td>\n",
       "    </tr>\n",
       "  </tbody>\n",
       "</table>\n",
       "</div>"
      ],
      "text/plain": [
       "    is_click            day  user_id\n",
       "0      False     1 - Monday       70\n",
       "1      False    2 - Tuesday       76\n",
       "2      False  3 - Wednesday       86\n",
       "3      False   4 - Thursday       69\n",
       "4      False     5 - Friday       77\n",
       "5      False   6 - Saturday       73\n",
       "6      False     7 - Sunday       66\n",
       "7       True     1 - Monday       43\n",
       "8       True    2 - Tuesday       43\n",
       "9       True  3 - Wednesday       38\n",
       "10      True   4 - Thursday       47\n",
       "11      True     5 - Friday       51\n",
       "12      True   6 - Saturday       45\n",
       "13      True     7 - Sunday       43"
      ]
     },
     "execution_count": 175,
     "metadata": {},
     "output_type": "execute_result"
    }
   ],
   "source": [
    "#a_clicks.groupby( 'day' ).user_id.count().reset_index()\n",
    "a_clicks.groupby( [ 'is_click', 'day' ] ).user_id.count().reset_index()"
   ]
  }
 ],
 "metadata": {
  "kernelspec": {
   "display_name": "Python 3 (ipykernel)",
   "language": "python",
   "name": "python3"
  },
  "language_info": {
   "codemirror_mode": {
    "name": "ipython",
    "version": 3
   },
   "file_extension": ".py",
   "mimetype": "text/x-python",
   "name": "python",
   "nbconvert_exporter": "python",
   "pygments_lexer": "ipython3",
   "version": "3.9.7"
  }
 },
 "nbformat": 4,
 "nbformat_minor": 5
}
