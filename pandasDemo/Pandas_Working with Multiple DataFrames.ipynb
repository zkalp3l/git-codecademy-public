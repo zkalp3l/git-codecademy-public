{
 "cells": [
  {
   "cell_type": "code",
   "execution_count": 1,
   "id": "a9cf38a1-9760-440b-b8b7-a0ee0709f9bf",
   "metadata": {},
   "outputs": [],
   "source": [
    "import pandas as pd\n",
    "\n",
    "# Working with Multiple DataFrames\n",
    "# Introduction: Multiple DataFrames\n",
    "\n",
    "# In order to efficiently store data, we often spread related information across multiple tables.\n",
    "\n",
    "# For instance, imagine that we own an e-commerce business and we want to track the products that have been ordered from our website.\n",
    "\n",
    "# We could have one table with all of the following information:\n",
    "\n",
    "#     order_id\n",
    "#     customer_id\n",
    "#     customer_name\n",
    "#     customer_address\n",
    "#     customer_phone_number\n",
    "#     product_id\n",
    "#     product_description\n",
    "#     product_price\n",
    "#     quantity\n",
    "#     timestamp\n",
    "\n",
    "# However, a lot of this information would be repeated. If the same customer makes multiple orders, that customer’s name, address, and phone number will be reported multiple times. If the same product is ordered by multiple customers, then the product price and description will be repeated. This will make our orders table big and unmanageable.\n",
    "\n",
    "# So instead, we can split our data into three tables:\n",
    "\n",
    "#     orders would contain the information necessary to describe an order: order_id, customer_id, product_id, quantity, and timestamp\n",
    "#     products would contain the information to describe each product: product_id, product_description and product_price\n",
    "#     customers would contain the information for each customer: customer_id, customer_name, customer_address, and customer_phone_number\n",
    "\n",
    "# In this lesson, we will learn the Pandas commands that help us work with data stored in multiple tables.\n"
   ]
  },
  {
   "cell_type": "code",
   "execution_count": 2,
   "id": "6cd753be-6992-456b-8d79-2b76d77c7000",
   "metadata": {},
   "outputs": [],
   "source": [
    "\n",
    "# In script.py, we’ve loaded in three DataFrames: orders, products, and customers.\n",
    "\n",
    "orders = pd.read_csv('orders.csv.txt')\n",
    "\n",
    "products = pd.read_csv('products.csv.txt')\n",
    "\n",
    "customers = pd.read_csv('customers.csv.txt')\n",
    "\n"
   ]
  },
  {
   "cell_type": "code",
   "execution_count": 7,
   "id": "cd00d30f-0d0b-4328-bc6d-1c9ea79c7895",
   "metadata": {},
   "outputs": [
    {
     "data": {
      "text/html": [
       "<div>\n",
       "<style scoped>\n",
       "    .dataframe tbody tr th:only-of-type {\n",
       "        vertical-align: middle;\n",
       "    }\n",
       "\n",
       "    .dataframe tbody tr th {\n",
       "        vertical-align: top;\n",
       "    }\n",
       "\n",
       "    .dataframe thead th {\n",
       "        text-align: right;\n",
       "    }\n",
       "</style>\n",
       "<table border=\"1\" class=\"dataframe\">\n",
       "  <thead>\n",
       "    <tr style=\"text-align: right;\">\n",
       "      <th></th>\n",
       "      <th>order_id</th>\n",
       "      <th>customer_id</th>\n",
       "      <th>product_id</th>\n",
       "      <th>quantity</th>\n",
       "      <th>timestamp</th>\n",
       "    </tr>\n",
       "  </thead>\n",
       "  <tbody>\n",
       "    <tr>\n",
       "      <th>0</th>\n",
       "      <td>1</td>\n",
       "      <td>2</td>\n",
       "      <td>3</td>\n",
       "      <td>1</td>\n",
       "      <td>2017-01-01</td>\n",
       "    </tr>\n",
       "    <tr>\n",
       "      <th>1</th>\n",
       "      <td>2</td>\n",
       "      <td>2</td>\n",
       "      <td>2</td>\n",
       "      <td>3</td>\n",
       "      <td>2017-01-01</td>\n",
       "    </tr>\n",
       "    <tr>\n",
       "      <th>2</th>\n",
       "      <td>3</td>\n",
       "      <td>3</td>\n",
       "      <td>1</td>\n",
       "      <td>1</td>\n",
       "      <td>2017-01-01</td>\n",
       "    </tr>\n",
       "    <tr>\n",
       "      <th>3</th>\n",
       "      <td>4</td>\n",
       "      <td>3</td>\n",
       "      <td>2</td>\n",
       "      <td>2</td>\n",
       "      <td>2017-02-01</td>\n",
       "    </tr>\n",
       "    <tr>\n",
       "      <th>4</th>\n",
       "      <td>5</td>\n",
       "      <td>3</td>\n",
       "      <td>3</td>\n",
       "      <td>3</td>\n",
       "      <td>2017-02-01</td>\n",
       "    </tr>\n",
       "    <tr>\n",
       "      <th>5</th>\n",
       "      <td>6</td>\n",
       "      <td>1</td>\n",
       "      <td>4</td>\n",
       "      <td>2</td>\n",
       "      <td>2017-03-01</td>\n",
       "    </tr>\n",
       "    <tr>\n",
       "      <th>6</th>\n",
       "      <td>7</td>\n",
       "      <td>1</td>\n",
       "      <td>1</td>\n",
       "      <td>1</td>\n",
       "      <td>2017-02-02</td>\n",
       "    </tr>\n",
       "    <tr>\n",
       "      <th>7</th>\n",
       "      <td>8</td>\n",
       "      <td>1</td>\n",
       "      <td>4</td>\n",
       "      <td>1</td>\n",
       "      <td>2017-02-02</td>\n",
       "    </tr>\n",
       "  </tbody>\n",
       "</table>\n",
       "</div>"
      ],
      "text/plain": [
       "   order_id  customer_id  product_id  quantity   timestamp\n",
       "0         1            2           3         1  2017-01-01\n",
       "1         2            2           2         3  2017-01-01\n",
       "2         3            3           1         1  2017-01-01\n",
       "3         4            3           2         2  2017-02-01\n",
       "4         5            3           3         3  2017-02-01\n",
       "5         6            1           4         2  2017-03-01\n",
       "6         7            1           1         1  2017-02-02\n",
       "7         8            1           4         1  2017-02-02"
      ]
     },
     "execution_count": 7,
     "metadata": {},
     "output_type": "execute_result"
    }
   ],
   "source": [
    "#In script.py, we’ve loaded in three DataFrames: orders, products, and customers.\n",
    "\n",
    "#Start by inspecting orders using the following code:\n",
    "\n",
    "#print(orders)\n",
    "# print(products)\n",
    "# print(customers)\n",
    "# print(type(customers))\n",
    "orders"
   ]
  },
  {
   "cell_type": "code",
   "execution_count": null,
   "id": "7135292f-8efc-4236-9322-23cfeb1f29a0",
   "metadata": {},
   "outputs": [],
   "source": [
    "\n",
    "# If we just look at the orders table, we can’t really tell what’s happened in each order. However, if we refer to the other tables, we can get a more complete picture.\n",
    "\n",
    "# Let’s examine the order with an order_id of 1. It was purchased by Customer 2. To find out the customer’s name, we look at the customers table and look for the item with a customer_id value of 2. We can see that Customer 2’s name is Jane Doe and that she lives at 456 Park Ave.\n",
    "\n",
    "# Doing this kind of matching is called merging two DataFrames."
   ]
  },
  {
   "cell_type": "code",
   "execution_count": null,
   "id": "bce102b2-1f2b-4ea2-8c90-ff43990aadb2",
   "metadata": {},
   "outputs": [],
   "source": [
    "# Examine the orders and products tables.\n",
    "\n",
    "# What is the description of the product that was ordered in Order 3?\n",
    "\n",
    "# Give your answer as a string assigned to the variable order_3_description.\n"
   ]
  },
  {
   "cell_type": "code",
   "execution_count": 42,
   "id": "d1249d28-512c-4686-b73a-f4726e7cac27",
   "metadata": {},
   "outputs": [
    {
     "data": {
      "text/plain": [
       "0    thing-a-ma-jig\n",
       "Name: description, dtype: object"
      ]
     },
     "execution_count": 42,
     "metadata": {},
     "output_type": "execute_result"
    }
   ],
   "source": [
    "# SELECT\n",
    "\n",
    "#orders[orders.order_id == 1]\n",
    "orders[orders.order_id == 3]\n",
    "#order_3_description = products[products.product_id == 1]['description'].reset_index()\n",
    "#order_3_description = str(products[products.product_id == 1]['description'])\n",
    "\n",
    "#products[products.product_id == 1]['description']\n",
    "order_3_description = products.description[products.product_id == 1]\n",
    "\n",
    "#type(order_3_description)\n",
    "order_3_description"
   ]
  },
  {
   "cell_type": "code",
   "execution_count": 52,
   "id": "0f9622a3-5e37-443b-b331-624933ec0d10",
   "metadata": {},
   "outputs": [
    {
     "data": {
      "text/plain": [
       "0    1\n",
       "Name: product_id, dtype: int64"
      ]
     },
     "execution_count": 52,
     "metadata": {},
     "output_type": "execute_result"
    }
   ],
   "source": [
    "products.loc[:,'product_id' ][products.product_id == 1]\n",
    "#products['product_id'].iloc[orders.order_id == 3]"
   ]
  }
 ],
 "metadata": {
  "kernelspec": {
   "display_name": "Python 3 (ipykernel)",
   "language": "python",
   "name": "python3"
  },
  "language_info": {
   "codemirror_mode": {
    "name": "ipython",
    "version": 3
   },
   "file_extension": ".py",
   "mimetype": "text/x-python",
   "name": "python",
   "nbconvert_exporter": "python",
   "pygments_lexer": "ipython3",
   "version": "3.9.7"
  }
 },
 "nbformat": 4,
 "nbformat_minor": 5
}
