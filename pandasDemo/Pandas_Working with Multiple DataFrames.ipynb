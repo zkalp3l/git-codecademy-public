{
 "cells": [
  {
   "cell_type": "code",
   "execution_count": 1,
   "id": "a9cf38a1-9760-440b-b8b7-a0ee0709f9bf",
   "metadata": {},
   "outputs": [],
   "source": [
    "import pandas as pd\n",
    "\n",
    "# Working with Multiple DataFrames\n",
    "# Introduction: Multiple DataFrames\n",
    "\n",
    "# In order to efficiently store data, we often spread related information across multiple tables.\n",
    "\n",
    "# For instance, imagine that we own an e-commerce business and we want to track the products that have been ordered from our website.\n",
    "\n",
    "# We could have one table with all of the following information:\n",
    "\n",
    "#     order_id\n",
    "#     customer_id\n",
    "#     customer_name\n",
    "#     customer_address\n",
    "#     customer_phone_number\n",
    "#     product_id\n",
    "#     product_description\n",
    "#     product_price\n",
    "#     quantity\n",
    "#     timestamp\n",
    "\n",
    "# However, a lot of this information would be repeated. If the same customer makes multiple orders, that customer’s name, address, and phone number will be reported multiple times. If the same product is ordered by multiple customers, then the product price and description will be repeated. This will make our orders table big and unmanageable.\n",
    "\n",
    "# So instead, we can split our data into three tables:\n",
    "\n",
    "#     orders would contain the information necessary to describe an order: order_id, customer_id, product_id, quantity, and timestamp\n",
    "#     products would contain the information to describe each product: product_id, product_description and product_price\n",
    "#     customers would contain the information for each customer: customer_id, customer_name, customer_address, and customer_phone_number\n",
    "\n",
    "# In this lesson, we will learn the Pandas commands that help us work with data stored in multiple tables.\n"
   ]
  },
  {
   "cell_type": "code",
   "execution_count": 2,
   "id": "6cd753be-6992-456b-8d79-2b76d77c7000",
   "metadata": {},
   "outputs": [],
   "source": [
    "\n",
    "# In script.py, we’ve loaded in three DataFrames: orders, products, and customers.\n",
    "\n",
    "orders = pd.read_csv('orders.csv.txt')\n",
    "\n",
    "products = pd.read_csv('products.csv.txt')\n",
    "\n",
    "customers = pd.read_csv('customers.csv.txt')\n",
    "\n"
   ]
  },
  {
   "cell_type": "code",
   "execution_count": 3,
   "id": "cd00d30f-0d0b-4328-bc6d-1c9ea79c7895",
   "metadata": {},
   "outputs": [
    {
     "name": "stdout",
     "output_type": "stream",
     "text": [
      "   id  product_id  customer_id  quantity   timestamp\n",
      "0   1           3            2         1  2017-01-01\n",
      "1   2           2            2         3  2017-01-01\n",
      "2   3           5            1         1  2017-01-01\n",
      "3   4           2            3         2  2016-02-01\n",
      "4   5           3            3         3  2017-02-01\n",
      "   product_id         description  price\n",
      "0           1      thing-a-ma-jig      5\n",
      "1           2  whatcha-ma-call-it     10\n",
      "2           3          doo-hickey      7\n",
      "3           4               gizmo      3\n",
      "   customer_id customer_name        address  phone_number\n",
      "0            1    John Smith   123 Main St.  212-123-4567\n",
      "1            2      Jane Doe  456 Park Ave.  949-867-5309\n",
      "2            3     Joe Schmo   798 Broadway  112-358-1321\n",
      "<class 'pandas.core.frame.DataFrame'>\n"
     ]
    }
   ],
   "source": [
    "#In script.py, we’ve loaded in three DataFrames: orders, products, and customers.\n",
    "\n",
    "#Start by inspecting orders using the following code:\n",
    "\n",
    "print(orders)\n",
    "print(products)\n",
    "print(customers)\n",
    "print(type(customers))\n",
    "#orders"
   ]
  },
  {
   "cell_type": "code",
   "execution_count": 4,
   "id": "7135292f-8efc-4236-9322-23cfeb1f29a0",
   "metadata": {},
   "outputs": [],
   "source": [
    "\n",
    "# If we just look at the orders table, we can’t really tell what’s happened in each order. However, if we refer to the other tables, we can get a more complete picture.\n",
    "\n",
    "# Let’s examine the order with an order_id of 1. It was purchased by Customer 2. To find out the customer’s name, we look at the customers table and look for the item with a customer_id value of 2. We can see that Customer 2’s name is Jane Doe and that she lives at 456 Park Ave.\n",
    "\n",
    "# Doing this kind of matching is called merging two DataFrames."
   ]
  },
  {
   "cell_type": "code",
   "execution_count": 5,
   "id": "bce102b2-1f2b-4ea2-8c90-ff43990aadb2",
   "metadata": {},
   "outputs": [],
   "source": [
    "# Examine the orders and products tables.\n",
    "\n",
    "# What is the description of the product that was ordered in Order 3?\n",
    "\n",
    "# Give your answer as a string assigned to the variable order_3_description.\n"
   ]
  },
  {
   "cell_type": "code",
   "execution_count": 6,
   "id": "d1249d28-512c-4686-b73a-f4726e7cac27",
   "metadata": {},
   "outputs": [
    {
     "ename": "AttributeError",
     "evalue": "'DataFrame' object has no attribute 'order_id'",
     "output_type": "error",
     "traceback": [
      "\u001b[1;31m---------------------------------------------------------------------------\u001b[0m",
      "\u001b[1;31mAttributeError\u001b[0m                            Traceback (most recent call last)",
      "Cell \u001b[1;32mIn[6], line 4\u001b[0m\n\u001b[0;32m      1\u001b[0m \u001b[38;5;66;03m# SELECT\u001b[39;00m\n\u001b[0;32m      2\u001b[0m \n\u001b[0;32m      3\u001b[0m \u001b[38;5;66;03m#orders[orders.order_id == 1]\u001b[39;00m\n\u001b[1;32m----> 4\u001b[0m orders[\u001b[43morders\u001b[49m\u001b[38;5;241;43m.\u001b[39;49m\u001b[43morder_id\u001b[49m \u001b[38;5;241m==\u001b[39m \u001b[38;5;241m3\u001b[39m]\n\u001b[0;32m      5\u001b[0m \u001b[38;5;66;03m#order_3_description = products[products.product_id == 1]['description'].reset_index()\u001b[39;00m\n\u001b[0;32m      6\u001b[0m \u001b[38;5;66;03m#order_3_description = str(products[products.product_id == 1]['description'])\u001b[39;00m\n\u001b[0;32m      7\u001b[0m \n\u001b[0;32m      8\u001b[0m \u001b[38;5;66;03m#products[products.product_id == 1]['description']\u001b[39;00m\n\u001b[0;32m      9\u001b[0m order_3_description \u001b[38;5;241m=\u001b[39m products\u001b[38;5;241m.\u001b[39mdescription[products\u001b[38;5;241m.\u001b[39mproduct_id \u001b[38;5;241m==\u001b[39m \u001b[38;5;241m1\u001b[39m]\u001b[38;5;241m.\u001b[39mitem()\n",
      "File \u001b[1;32m~\\anaconda3\\lib\\site-packages\\pandas\\core\\generic.py:5989\u001b[0m, in \u001b[0;36mNDFrame.__getattr__\u001b[1;34m(self, name)\u001b[0m\n\u001b[0;32m   5982\u001b[0m \u001b[38;5;28;01mif\u001b[39;00m (\n\u001b[0;32m   5983\u001b[0m     name \u001b[38;5;129;01mnot\u001b[39;00m \u001b[38;5;129;01min\u001b[39;00m \u001b[38;5;28mself\u001b[39m\u001b[38;5;241m.\u001b[39m_internal_names_set\n\u001b[0;32m   5984\u001b[0m     \u001b[38;5;129;01mand\u001b[39;00m name \u001b[38;5;129;01mnot\u001b[39;00m \u001b[38;5;129;01min\u001b[39;00m \u001b[38;5;28mself\u001b[39m\u001b[38;5;241m.\u001b[39m_metadata\n\u001b[0;32m   5985\u001b[0m     \u001b[38;5;129;01mand\u001b[39;00m name \u001b[38;5;129;01mnot\u001b[39;00m \u001b[38;5;129;01min\u001b[39;00m \u001b[38;5;28mself\u001b[39m\u001b[38;5;241m.\u001b[39m_accessors\n\u001b[0;32m   5986\u001b[0m     \u001b[38;5;129;01mand\u001b[39;00m \u001b[38;5;28mself\u001b[39m\u001b[38;5;241m.\u001b[39m_info_axis\u001b[38;5;241m.\u001b[39m_can_hold_identifiers_and_holds_name(name)\n\u001b[0;32m   5987\u001b[0m ):\n\u001b[0;32m   5988\u001b[0m     \u001b[38;5;28;01mreturn\u001b[39;00m \u001b[38;5;28mself\u001b[39m[name]\n\u001b[1;32m-> 5989\u001b[0m \u001b[38;5;28;01mreturn\u001b[39;00m \u001b[38;5;28;43mobject\u001b[39;49m\u001b[38;5;241;43m.\u001b[39;49m\u001b[38;5;21;43m__getattribute__\u001b[39;49m\u001b[43m(\u001b[49m\u001b[38;5;28;43mself\u001b[39;49m\u001b[43m,\u001b[49m\u001b[43m \u001b[49m\u001b[43mname\u001b[49m\u001b[43m)\u001b[49m\n",
      "\u001b[1;31mAttributeError\u001b[0m: 'DataFrame' object has no attribute 'order_id'"
     ]
    }
   ],
   "source": [
    "# SELECT\n",
    "\n",
    "#orders[orders.order_id == 1]\n",
    "orders[orders.order_id == 3]\n",
    "#order_3_description = products[products.product_id == 1]['description'].reset_index()\n",
    "#order_3_description = str(products[products.product_id == 1]['description'])\n",
    "\n",
    "#products[products.product_id == 1]['description']\n",
    "order_3_description = products.description[products.product_id == 1].item()\n",
    "\n",
    "#type(order_3_description)\n",
    "order_3_description"
   ]
  },
  {
   "cell_type": "code",
   "execution_count": null,
   "id": "0f9622a3-5e37-443b-b331-624933ec0d10",
   "metadata": {},
   "outputs": [],
   "source": [
    "# Examine the orders and products tables.\n",
    "\n",
    "# What is the description of the product that was ordered in Order 3?\n",
    "\n",
    "# Give your answer as a string assigned to the variable order_3_description.\n",
    "\n",
    "ele = products.loc[:,'product_id' ][products.product_id == 1].item() ### THIS WORKS to extract the element, in its ndtive type\n",
    "order_3_description = products.description[products.product_id == 1].item() ## this method also works\n",
    "#products['product_id'].iloc[orders.order_id == 3]\n",
    "\n",
    "print(ele)\n",
    "print(type(ele))\n",
    "print(order_3_description)\n",
    "print(type(order_3_description))"
   ]
  },
  {
   "cell_type": "code",
   "execution_count": null,
   "id": "7e420d7f-d9e2-4c1b-8121-be735a5b68be",
   "metadata": {},
   "outputs": [],
   "source": [
    "# Examine the orders and customers tables.\n",
    "\n",
    "# What is the phone_number of the customer in Order 5?\n",
    "\n",
    "# Give your answer as a string assigned to the variable order_5_phone_number.\n",
    "\n",
    "\n",
    "# customers[\"phone_number\"][orders.order_id == 5]\n",
    "# customers[\"phone_number\"] ## these both work for selecting a whole column\n",
    "# customers.phone_number\n",
    "order_5_phone_number = customers[\"phone_number\"][customers.customer_id == 3].item()\n",
    "\n",
    "print(order_5_phone_number)"
   ]
  },
  {
   "cell_type": "code",
   "execution_count": null,
   "id": "836f9eb4-d4ab-4229-8ce0-69c21ce0f363",
   "metadata": {},
   "outputs": [],
   "source": [
    "# WORKING WITH MULTIPLE DATAFRAMES\n",
    "# Inner Merge II\n",
    "# It is easy to do this kind of matching for one row, but hard to do it for multiple rows.\n",
    "\n",
    "# Luckily, Pandas can efficiently do this for the entire table. We use the .merge() method.\n",
    "\n",
    "# The .merge() method looks for columns that are common between two DataFrames and then looks for rows where those column’s values are the same. It then combines the matching rows into a single row in a new table.\n",
    "\n",
    "# We can call the pd.merge() method with two tables like this:\n",
    "\n",
    "# new_df = pd.merge(orders, customers)\n",
    "\n",
    "# This will match up all of the customer information to the orders that each customer made."
   ]
  },
  {
   "cell_type": "code",
   "execution_count": null,
   "id": "cf0db064-68aa-4408-952f-f4c0e5199a41",
   "metadata": {},
   "outputs": [],
   "source": [
    "pd.merge(orders, customers)\n",
    "pd.merge(orders,  products)"
   ]
  },
  {
   "cell_type": "code",
   "execution_count": null,
   "id": "93021435-e8f3-43ce-ac06-1466e5257b00",
   "metadata": {},
   "outputs": [],
   "source": [
    "# You are an analyst at Cool T-Shirts Inc. You are going to help them analyze some of their sales data.\n",
    "\n",
    "# There are two DataFrames defined in the file script.py:\n",
    "\n",
    "# sales contains the monthly revenue for Cool T-Shirts Inc. It has two columns: month and revenue.\n",
    "# targets contains the goals for monthly revenue for each month. It has two columns: month and target.\n",
    "# Create a new DataFrame sales_vs_targets which contains the merge of sales and targets."
   ]
  },
  {
   "cell_type": "code",
   "execution_count": null,
   "id": "28daa4ce-8087-45eb-bc11-5f09e2157d7d",
   "metadata": {},
   "outputs": [],
   "source": [
    "sales = pd.read_csv('sales.csv.txt')\n",
    "print(sales)\n",
    "targets = pd.read_csv('targets.csv.txt')\n",
    "print(targets)"
   ]
  },
  {
   "cell_type": "code",
   "execution_count": null,
   "id": "6739938f-581f-4cd1-b465-e354af9056be",
   "metadata": {},
   "outputs": [],
   "source": [
    "sales_vs_targets=pd.merge(sales, targets)"
   ]
  },
  {
   "cell_type": "code",
   "execution_count": null,
   "id": "e1c232c7-ddfd-418c-ba42-a183a9faa53c",
   "metadata": {},
   "outputs": [],
   "source": [
    "# Cool T-Shirts Inc. wants to know the months when they crushed their targets.\n",
    "\n",
    "# Select the rows from sales_vs_targets where revenue is greater than target. Save these rows to the variable crushing_it."
   ]
  },
  {
   "cell_type": "code",
   "execution_count": null,
   "id": "3760cd7b-3209-402c-b84e-4ed1a4f45e35",
   "metadata": {},
   "outputs": [],
   "source": [
    "crushing_it = sales_vs_targets[  sales_vs_targets.revenue > sales_vs_targets.target]"
   ]
  },
  {
   "cell_type": "code",
   "execution_count": null,
   "id": "65d55b2a-5af6-43e1-a627-b91f43263c81",
   "metadata": {},
   "outputs": [],
   "source": [
    "# WORKING WITH MULTIPLE DATAFRAMES\n",
    "# Inner Merge III\n",
    "# In addition to using pd.merge(), each DataFrame has its own .merge() method. For instance, if you wanted to merge orders with customers, you could use:\n",
    "\n",
    "# new_df = orders.merge(customers)\n",
    "\n",
    "# This produces the same DataFrame as if we had called pd.merge(orders, customers).\n",
    "\n",
    "# We generally use this when we are joining more than two DataFrames together because we can “chain” the commands. The following command would merge orders to customers, and then the resulting DataFrame to products:\n",
    "\n"
   ]
  },
  {
   "cell_type": "code",
   "execution_count": null,
   "id": "02aa5e2d-fa86-4d3f-8ef6-46a823ce0706",
   "metadata": {},
   "outputs": [],
   "source": [
    "orders.merge(customers).merge(products)"
   ]
  },
  {
   "cell_type": "code",
   "execution_count": null,
   "id": "fad53069-be2c-468a-95aa-596a225f67cb",
   "metadata": {},
   "outputs": [],
   "source": [
    "\n",
    "# We have some more data from Cool T-Shirts Inc. The number of men’s and women’s t-shirts sold per month is in a file called men_women_sales.csv. Load this data into a DataFrame called men_women."
   ]
  },
  {
   "cell_type": "code",
   "execution_count": null,
   "id": "ed9c53ef-1539-4f16-9222-a11f9974acd2",
   "metadata": {},
   "outputs": [],
   "source": [
    "men_women = pd.read_csv('men_women_sales.csv.txt')"
   ]
  },
  {
   "cell_type": "code",
   "execution_count": null,
   "id": "74e3a3aa-df0b-4e8d-9104-086e020dfebe",
   "metadata": {},
   "outputs": [],
   "source": [
    "# Merge all three DataFrames (sales, targets, and men_women) into one big DataFrame called all_data."
   ]
  },
  {
   "cell_type": "code",
   "execution_count": null,
   "id": "1b4f7d6c-04b8-4a10-97ce-8ff7d3cdb20d",
   "metadata": {},
   "outputs": [],
   "source": [
    "all_data= sales.merge(targets).merge(men_women)"
   ]
  },
  {
   "cell_type": "code",
   "execution_count": null,
   "id": "8e6b2aef-1d07-4ac7-aeda-12185460b228",
   "metadata": {},
   "outputs": [],
   "source": [
    "# Cool T-Shirts Inc. thinks that they have more revenue in months where they sell more women’s t-shirts.\n",
    "\n",
    "# Select the rows of all_data where:\n",
    "\n",
    "# revenue is greater than target\n",
    "# AND\n",
    "\n",
    "# women is greater than men\n",
    "# Save your answer to the variable results."
   ]
  },
  {
   "cell_type": "code",
   "execution_count": null,
   "id": "0e89d6cf-b89c-4830-ba44-562ff136f819",
   "metadata": {},
   "outputs": [],
   "source": [
    "results = all_data[ ( all_data.revenue > all_data.target ) & ( all_data.women > all_data.men) ]"
   ]
  },
  {
   "cell_type": "code",
   "execution_count": null,
   "id": "0a9a4ce9-3cf6-4471-8b07-0c89e435c261",
   "metadata": {},
   "outputs": [],
   "source": [
    "# Merge on Specific Columns\n",
    "\n",
    "# In the previous example, the .merge() function “knew” how to combine tables based on the columns that were the same between two tables. For instance, products and orders both had a column called product_id. This won’t always be true when we want to perform a merge.\n",
    "\n",
    "# Generally, the products and customers DataFrames would not have the columns product_id or customer_id. Instead, they would both be called id and it would be implied that the id was the product_id for the products table and customer_id for the customers table. They would look like this:\n",
    "# Customers\n",
    "# id\tcustomer_name\taddress\tphone_number\n",
    "# 1\tJohn Smith\t123 Main St.\t212-123-4567\n",
    "# 2\tJane Doe\t456 Park Ave.\t949-867-5309\n",
    "# 3\tJoe Schmo\t798 Broadway\t112-358-1321\n",
    "# Products\n",
    "# id\tdescription\tprice\n",
    "# 1\tthing-a-ma-jig\t5\n",
    "# 2\twhatcha-ma-call-it\t10\n",
    "# 3\tdoo-hickey\t7\n",
    "# 4\tgizmo\t3\n",
    "\n",
    "# **How would this affect our merges?**\n",
    "\n",
    "# Because the id columns would mean something different in each table, our default merges would be wrong.\n",
    "\n",
    "# One way that we could address this problem is to use .rename() to rename the columns for our merges. In the example below, we will rename the column id to customer_id, so that orders and customers have a common column for the merge.\n",
    "\n",
    "# pd.merge(\n",
    "#     orders,\n",
    "#     customers.rename(columns={'id': 'customer_id'}))\n"
   ]
  },
  {
   "cell_type": "code",
   "execution_count": null,
   "id": "1f6612f7-6e37-4581-a3ea-e370a88f2bbe",
   "metadata": {},
   "outputs": [],
   "source": [
    "#orders\n",
    "products\n",
    "#pd.merge(orders, products) # cartesian product; NG"
   ]
  },
  {
   "cell_type": "code",
   "execution_count": null,
   "id": "ac2e5e67-5d49-4a03-ab36-6feba4a8bb6e",
   "metadata": {},
   "outputs": [],
   "source": [
    "# 1.\n",
    "\n",
    "# Merge orders and products using .rename(). Save your results to the variable orders_products.\n"
   ]
  },
  {
   "cell_type": "code",
   "execution_count": null,
   "id": "391bad86-12d8-43f0-8df9-b9a6a13f617e",
   "metadata": {},
   "outputs": [],
   "source": [
    "products.rename( columns={'id': 'product_id'} )\n",
    "#pd.merge(orders, products.rename())"
   ]
  },
  {
   "cell_type": "code",
   "execution_count": null,
   "id": "0a419bcc-f577-4f83-812a-0536736aff94",
   "metadata": {},
   "outputs": [],
   "source": [
    "orders_products = pd.merge(orders, products.rename( columns={'id': 'product_id'} ))"
   ]
  },
  {
   "cell_type": "code",
   "execution_count": null,
   "id": "5039fda7-b699-4c2c-a4f9-da17967f60ff",
   "metadata": {},
   "outputs": [],
   "source": [
    "# Merge on Specific Columns II\n",
    "# In the previous exercise, we learned how to use .rename() to merge two DataFrames whose columns don’t match.\n",
    "\n",
    "# If we don’t want to do that, we have another option. We could use the keywords left_on and right_on to specify which columns we want to perform the merge on. In the example below, the “left” table is the one that comes first (orders), and the “right” table is the one that comes second (customers). This syntax says that we should match the customer_id from orders to the id in customers.\n",
    "\n",
    "# pd.merge(\n",
    "#     orders,\n",
    "#     customers,\n",
    "#     left_on='customer_id',\n",
    "#     right_on='id')\n",
    "\n",
    "# If we use this syntax, we’ll end up with two columns called id, one from the first table and one from the second. Pandas won’t let you have two columns with the same name, so it will change them to id_x and id_y.\n",
    "\n",
    "# It will look like this:\n",
    "\n",
    "# id_x\tcustomer_id\tproduct_id\tquantity\ttimestamp\tid_y\tcustomer_name\taddress\tphone_number\n",
    "# 1\t2\t3\t1\t2017-01-01 00:00:00\t2\tJane Doe\t456 Park Ave\t949-867-5309\n",
    "# 2\t2\t2\t3\t2017-01-01 00:00:00\t2\tJane Doe\t456 Park Ave\t949-867-5309\n",
    "# 3\t3\t1\t1\t2017-01-01 00:00:00\t3\tJoe Schmo\t789 Broadway\t112-358-1321\n",
    "# 4\t3\t2\t2\t2016-02-01 00:00:00\t3\tJoe Schmo\t789 Broadway\t112-358-1321\n",
    "# 5\t3\t3\t3\t2017-02-01 00:00:00\t3\tJoe Schmo\t789 Broadway\t112-358-1321\n",
    "# 6\t1\t4\t2\t2017-03-01 00:00:00\t1\tJohn Smith\t123 Main St.\t212-123-4567\n",
    "# 7\t1\t1\t1\t2017-02-02 00:00:00\t1\tJohn Smith\t123 Main St.\t212-123-4567\n",
    "# 8\t1\t4\t1\t2017-02-02 00:00:00\t1\tJohn Smith\t123 Main St.\t212-123-4567\n",
    "# The new column names id_x and id_y aren’t very helpful for us when we read the table. We can help make them more useful by using the keyword suffixes. We can provide a list of suffixes to use instead of “_x” and “_y”.\n",
    "\n",
    "# For example, we could use the following code to make the suffixes reflect the table names:\n",
    "\n",
    "# pd.merge(\n",
    "#     orders,\n",
    "#     customers,\n",
    "#     left_on='customer_id',\n",
    "#     right_on='id',\n",
    "#     suffixes=['_order', '_customer']\n",
    "# )\n",
    "\n",
    "# The resulting table would look like this:\n",
    "\n",
    "# id_order\tcustomer_id\tproduct_id\tquantity\ttimestamp\tid_customer\tcustomer_name\taddress\tphone_number\n",
    "# 1\t2\t3\t1\t2017-01-01 00:00:00\t2\tJane Doe\t456 Park Ave\t949-867-5309\n",
    "# 2\t2\t2\t3\t2017-01-01 00:00:00\t2\tJane Doe\t456 Park Ave\t949-867-5309\n",
    "# 3\t3\t1\t1\t2017-01-01 00:00:00\t3\tJoe Schmo\t789 Broadway\t112-358-1321\n",
    "# 4\t3\t2\t2\t2016-02-01 00:00:00\t3\tJoe Schmo\t789 Broadway\t112-358-1321\n",
    "# 5\t3\t3\t3\t2017-02-01 00:00:0b0\t3\tJoe Schmo\t789 Broadway\t112-358-1321\n",
    "# 6\t1\t4\t2\t2017-03-01 00:00:00\t1\tJohn Smith\t123 Main St.\t212-123-4567\n",
    "# 7\t1\t1\t1\t2017-02-02 00:00:00\t1\tJohn Smith\t123 Main St.\t212-123-4567\n",
    "# 8\t1\t4\t1\t2017-02-02 00:00:00\t1\tJohn Smith\t123 Main St.\t212-123-4567\n"
   ]
  },
  {
   "cell_type": "code",
   "execution_count": null,
   "id": "9432885d-5503-46e4-ab7f-05188195bd0f",
   "metadata": {},
   "outputs": [],
   "source": [
    "orders, products"
   ]
  },
  {
   "cell_type": "code",
   "execution_count": null,
   "id": "06ed7150-cc1f-45f1-8907-aaf187d4e249",
   "metadata": {},
   "outputs": [],
   "source": [
    "# Merge orders and products using left_on and right_on. Use the suffixes _orders and _products. Save your results to the variable orders_products."
   ]
  },
  {
   "cell_type": "code",
   "execution_count": null,
   "id": "638bb482-9e11-4631-a61a-77f1acc17588",
   "metadata": {},
   "outputs": [],
   "source": [
    "pd.merge(\n",
    "     orders,\n",
    "     products,\n",
    "     left_on = 'product_id',\n",
    "     right_on = 'id',\n",
    "     suffixes = [ '_orders', '_products' ]\n",
    " )"
   ]
  },
  {
   "cell_type": "code",
   "execution_count": null,
   "id": "bf7538bf-c60a-4971-b0b5-ee88fcc76610",
   "metadata": {},
   "outputs": [],
   "source": [
    " orders_products = pd.merge(\n",
    "     orders,\n",
    "     products,\n",
    "     left_on = 'product_id',\n",
    "     right_on = 'id',\n",
    "     suffixes = [ '_orders', '_products' ]\n",
    ")"
   ]
  },
  {
   "cell_type": "code",
   "execution_count": null,
   "id": "4985cf81-3abe-4d12-8a0c-85b787f12b04",
   "metadata": {},
   "outputs": [],
   "source": [
    "orders_products"
   ]
  },
  {
   "cell_type": "code",
   "execution_count": null,
   "id": "a0279724-9276-4dd8-bfd7-9b15034d9c68",
   "metadata": {},
   "outputs": [],
   "source": [
    "# WORKING WITH MULTIPLE DATAFRAMES\n",
    "# Outer Merge\n",
    "# In the previous exercise, we saw that when we merge two DataFrames whose rows don’t match perfectly, we lose the unmatched rows.\n",
    "\n",
    "# This type of merge (where we only include matching rows) is called an inner merge. There are other types of merges that we can use when we want to keep information from the unmatched rows.\n",
    "\n",
    "# Suppose that two companies, Company A and Company B have just merged. They each have a list of customers, but they keep slightly different data. Company A has each customer’s name and email. Company B has each customer’s name and phone number. They have some customers in common, but some are different.\n",
    "\n",
    "# company_a\n",
    "\n",
    "# name\temail\n",
    "# Sally Sparrow\tsally.sparrow@gmail.com\n",
    "# Peter Grant\tpgrant@yahoo.com\n",
    "# Leslie May\tleslie_may@gmail.com\n",
    "# company_b\n",
    "\n",
    "# name\tphone\n",
    "# Peter Grant\t212-345-6789\n",
    "# Leslie May\t626-987-6543\n",
    "# Aaron Burr\t303-456-7891\n",
    "# If we wanted to combine the data from both companies without losing the customers who are missing from one of the tables, we could use an Outer Join. An Outer Join would include all rows from both tables, even if they don’t match. Any missing values are filled in with None or nan (which stands for “Not a Number”).\n",
    "\n",
    "# pd.merge(company_a, company_b, how='outer')\n",
    "\n",
    "# The resulting table would look like this:\n",
    "\n",
    "# name\temail\tphone\n",
    "# Sally Sparrow\tsally.sparrow@gmail.com\tnan\n",
    "# Peter Grant\tpgrant@yahoo.com\t212-345-6789\n",
    "# Leslie May\tleslie_may@gmail.com\t626-987-6543\n",
    "# Aaron Burr\tnan\t303-456-7891\n",
    "\n"
   ]
  },
  {
   "cell_type": "code",
   "execution_count": 8,
   "id": "f46b5258-eb10-4aea-8192-c8da0ab93d08",
   "metadata": {},
   "outputs": [],
   "source": [
    "company_a = pd.DataFrame([\n",
    "  ['Sally Sparrow','sally.sparrow@gmail.com'],\n",
    "  ['Peter Grant', 'pgrant@yahoo.com'],\n",
    "  ['Leslie May', 'leslie_may@gmail.com']],\n",
    "  columns=['name', 'email'])"
   ]
  },
  {
   "cell_type": "code",
   "execution_count": 9,
   "id": "ecb024d1-f7ec-4294-900c-36221f4085a4",
   "metadata": {},
   "outputs": [],
   "source": [
    "company_b = pd.DataFrame([\n",
    "  ['Peter Grant','212-345-6789'],\n",
    "  ['Leslie May', '626-987-6543'],\n",
    "  ['Aaron Burr', '303-456-7891']],\n",
    "  columns=['name', 'phone'])"
   ]
  },
  {
   "cell_type": "code",
   "execution_count": 10,
   "id": "49b83bb3-e81f-4c21-a352-b5e997722d54",
   "metadata": {},
   "outputs": [
    {
     "data": {
      "text/plain": [
       "(            name                    email\n",
       " 0  Sally Sparrow  sally.sparrow@gmail.com\n",
       " 1    Peter Grant         pgrant@yahoo.com\n",
       " 2     Leslie May     leslie_may@gmail.com,\n",
       "           name         phone\n",
       " 0  Peter Grant  212-345-6789\n",
       " 1   Leslie May  626-987-6543\n",
       " 2   Aaron Burr  303-456-7891)"
      ]
     },
     "execution_count": 10,
     "metadata": {},
     "output_type": "execute_result"
    }
   ],
   "source": [
    "company_a, company_b"
   ]
  },
  {
   "cell_type": "code",
   "execution_count": null,
   "id": "d5b64084-30fa-4a3f-a35b-f887352e0fd8",
   "metadata": {},
   "outputs": [],
   "source": [
    "pd.merge(\n",
    "     company_a,\n",
    "     company_b,\n",
    "     left_on = 'name',\n",
    "     right_on = 'name',\n",
    "     how = 'outer' ## <<<----------\n",
    "     #suffixes = [ '_orders', '_products' ]\n",
    " )"
   ]
  },
  {
   "cell_type": "code",
   "execution_count": null,
   "id": "2802275e-972a-4013-adbb-3b55f2c03d09",
   "metadata": {},
   "outputs": [],
   "source": [
    "# There are two hardware stores in town: Store A and Store B. Store A’s inventory is in DataFrame store_a and Store B’s inventory is in DataFrame store_b. They have decided to merge into one big Super Store!\n",
    "\n",
    "# Combine the inventories of Store A and Store B using an outer merge. Save the results to the variable store_a_b_outer."
   ]
  },
  {
   "cell_type": "code",
   "execution_count": 16,
   "id": "80f3f3e9-a0fb-4454-8dd3-4e252dac948a",
   "metadata": {},
   "outputs": [
    {
     "name": "stdout",
     "output_type": "stream",
     "text": [
      "          item  store_a_inventory\n",
      "0       hammer                 12\n",
      "1  screwdriver                 15\n",
      "2        nails                200\n",
      "3       screws                350\n",
      "4          saw                  6\n",
      "5    duct tape                150\n",
      "6       wrench                 12\n",
      "7     pvc pipe                 54\n",
      "            item  store_b_inventory\n",
      "0         hammer                  6\n",
      "1          nails                250\n",
      "2            saw                  6\n",
      "3      duct tape                150\n",
      "4       pvc pipe                 54\n",
      "5           rake                 10\n",
      "6         shovel                 15\n",
      "7  wooden dowels                192\n"
     ]
    }
   ],
   "source": [
    "store_a = pd.read_csv('store_a.csv.txt')\n",
    "print(store_a)\n",
    "store_b = pd.read_csv('store_b.csv.txt')\n",
    "print(store_b)"
   ]
  },
  {
   "cell_type": "code",
   "execution_count": null,
   "id": "a2771365-e3a3-496e-9da5-23e45ab68de7",
   "metadata": {},
   "outputs": [],
   "source": [
    "#pd.merge( store_a, store_b )"
   ]
  },
  {
   "cell_type": "code",
   "execution_count": null,
   "id": "38562d90-d31a-4501-88b2-8009bc09e69e",
   "metadata": {},
   "outputs": [],
   "source": [
    "store_a_b_outer=pd.merge( store_a, store_b, how='outer' )"
   ]
  },
  {
   "cell_type": "code",
   "execution_count": null,
   "id": "935736a8-8e30-4a7f-87a1-c31dd072ecb4",
   "metadata": {},
   "outputs": [],
   "source": [
    "store_a_b_outer\n",
    "print(store_a_b_outer)"
   ]
  },
  {
   "cell_type": "code",
   "execution_count": null,
   "id": "ea42bc21-f1bf-425d-ad84-97faa771853b",
   "metadata": {},
   "outputs": [],
   "source": [
    "# WORKING WITH MULTIPLE DATAFRAMES\n",
    "# Left and Right Merge\n",
    "# Let’s return to the merge of Company A and Company B.\n",
    "\n",
    "# Left Merge\n",
    "# Suppose we want to identify which customers are missing phone information. We would want a list of all customers who have email, but don’t have phone.\n",
    "\n",
    "# We could get this by performing a Left Merge. A Left Merge includes all rows from the first (left) table, but only rows from the second (right) table that match the first table.\n",
    "\n",
    "# For this command, the order of the arguments matters. If the first DataFrame is company_a and we do a left join, we’ll only end up with rows that appear in company_a.\n",
    "\n",
    "# By listing company_a first, we get all customers from Company A, and only customers from Company B who are also customers of Company A.\n",
    "\n",
    "# pd.merge(company_a, company_b, how='left')\n",
    "\n",
    "# The result would look like this:\n",
    "\n",
    "# name\temail\tphone\n",
    "# Sally Sparrow\tsally.sparrow@gmail.com\tNone\n",
    "# Peter Grant\tpgrant@yahoo.com\t212-345-6789\n",
    "# Leslie May\tleslie_may@gmail.com\t626-987-6543\n",
    "# Now let’s say we want a list of all customers who have phone but no email. We can do this by performing a Right Merge.\n",
    "\n",
    "# Right Merge\n",
    "# Right merge is the exact opposite of left merge. Here, the merged table will include all rows from the second (right) table, but only rows from the first (left) table that match the second table.\n",
    "\n",
    "# By listing company_a first and company_b second, we get all customers from Company B, and only customers from Company A who are also customers of Company B.\n",
    "\n",
    "# pd.merge(company_a, company_b, how=\"right\")\n",
    "\n",
    "# The result would look like this:\n",
    "\n",
    "# name\temail\tphone\n",
    "# Peter Grant\tpgrant@yahoo.com\t212-345-6789\n",
    "# Leslie May\tleslie_may@gmail.com\t626-987-6543\n",
    "# Aaron Burr\tNone\t303-456-7891\n"
   ]
  },
  {
   "cell_type": "code",
   "execution_count": 20,
   "id": "509535b1-1a00-49f0-b2e8-814066136b73",
   "metadata": {},
   "outputs": [
    {
     "data": {
      "text/plain": [
       "(          item  store_a_inventory\n",
       " 0       hammer                 12\n",
       " 1  screwdriver                 15\n",
       " 2        nails                200\n",
       " 3       screws                350\n",
       " 4          saw                  6\n",
       " 5    duct tape                150\n",
       " 6       wrench                 12\n",
       " 7     pvc pipe                 54,\n",
       "             item  store_b_inventory\n",
       " 0         hammer                  6\n",
       " 1          nails                250\n",
       " 2            saw                  6\n",
       " 3      duct tape                150\n",
       " 4       pvc pipe                 54\n",
       " 5           rake                 10\n",
       " 6         shovel                 15\n",
       " 7  wooden dowels                192)"
      ]
     },
     "execution_count": 20,
     "metadata": {},
     "output_type": "execute_result"
    }
   ],
   "source": [
    "#company_a, company_b\n",
    "store_a, store_b"
   ]
  },
  {
   "cell_type": "code",
   "execution_count": 13,
   "id": "48374f09-9d52-407c-8849-57e82a47548d",
   "metadata": {},
   "outputs": [
    {
     "data": {
      "text/html": [
       "<div>\n",
       "<style scoped>\n",
       "    .dataframe tbody tr th:only-of-type {\n",
       "        vertical-align: middle;\n",
       "    }\n",
       "\n",
       "    .dataframe tbody tr th {\n",
       "        vertical-align: top;\n",
       "    }\n",
       "\n",
       "    .dataframe thead th {\n",
       "        text-align: right;\n",
       "    }\n",
       "</style>\n",
       "<table border=\"1\" class=\"dataframe\">\n",
       "  <thead>\n",
       "    <tr style=\"text-align: right;\">\n",
       "      <th></th>\n",
       "      <th>name</th>\n",
       "      <th>email</th>\n",
       "      <th>phone</th>\n",
       "    </tr>\n",
       "  </thead>\n",
       "  <tbody>\n",
       "    <tr>\n",
       "      <th>0</th>\n",
       "      <td>Sally Sparrow</td>\n",
       "      <td>sally.sparrow@gmail.com</td>\n",
       "      <td>NaN</td>\n",
       "    </tr>\n",
       "    <tr>\n",
       "      <th>1</th>\n",
       "      <td>Peter Grant</td>\n",
       "      <td>pgrant@yahoo.com</td>\n",
       "      <td>212-345-6789</td>\n",
       "    </tr>\n",
       "    <tr>\n",
       "      <th>2</th>\n",
       "      <td>Leslie May</td>\n",
       "      <td>leslie_may@gmail.com</td>\n",
       "      <td>626-987-6543</td>\n",
       "    </tr>\n",
       "  </tbody>\n",
       "</table>\n",
       "</div>"
      ],
      "text/plain": [
       "            name                    email         phone\n",
       "0  Sally Sparrow  sally.sparrow@gmail.com           NaN\n",
       "1    Peter Grant         pgrant@yahoo.com  212-345-6789\n",
       "2     Leslie May     leslie_may@gmail.com  626-987-6543"
      ]
     },
     "execution_count": 13,
     "metadata": {},
     "output_type": "execute_result"
    }
   ],
   "source": [
    "pd.merge(company_a, company_b, how='left')"
   ]
  },
  {
   "cell_type": "code",
   "execution_count": 14,
   "id": "15e3e1b9-1dd3-433a-b7ce-62fb5944ba7a",
   "metadata": {},
   "outputs": [
    {
     "data": {
      "text/html": [
       "<div>\n",
       "<style scoped>\n",
       "    .dataframe tbody tr th:only-of-type {\n",
       "        vertical-align: middle;\n",
       "    }\n",
       "\n",
       "    .dataframe tbody tr th {\n",
       "        vertical-align: top;\n",
       "    }\n",
       "\n",
       "    .dataframe thead th {\n",
       "        text-align: right;\n",
       "    }\n",
       "</style>\n",
       "<table border=\"1\" class=\"dataframe\">\n",
       "  <thead>\n",
       "    <tr style=\"text-align: right;\">\n",
       "      <th></th>\n",
       "      <th>name</th>\n",
       "      <th>email</th>\n",
       "      <th>phone</th>\n",
       "    </tr>\n",
       "  </thead>\n",
       "  <tbody>\n",
       "    <tr>\n",
       "      <th>0</th>\n",
       "      <td>Peter Grant</td>\n",
       "      <td>pgrant@yahoo.com</td>\n",
       "      <td>212-345-6789</td>\n",
       "    </tr>\n",
       "    <tr>\n",
       "      <th>1</th>\n",
       "      <td>Leslie May</td>\n",
       "      <td>leslie_may@gmail.com</td>\n",
       "      <td>626-987-6543</td>\n",
       "    </tr>\n",
       "    <tr>\n",
       "      <th>2</th>\n",
       "      <td>Aaron Burr</td>\n",
       "      <td>NaN</td>\n",
       "      <td>303-456-7891</td>\n",
       "    </tr>\n",
       "  </tbody>\n",
       "</table>\n",
       "</div>"
      ],
      "text/plain": [
       "          name                 email         phone\n",
       "0  Peter Grant      pgrant@yahoo.com  212-345-6789\n",
       "1   Leslie May  leslie_may@gmail.com  626-987-6543\n",
       "2   Aaron Burr                   NaN  303-456-7891"
      ]
     },
     "execution_count": 14,
     "metadata": {},
     "output_type": "execute_result"
    }
   ],
   "source": [
    "pd.merge(company_a, company_b, how='right')"
   ]
  },
  {
   "cell_type": "code",
   "execution_count": null,
   "id": "2dc88666-8f62-4fbf-8d94-8e2c3e9b776d",
   "metadata": {},
   "outputs": [],
   "source": [
    "# Let’s return to the two hardware stores, Store A and Store B. They’re not quite sure if they want to merge into a big Super Store just yet.\n",
    "\n",
    "# Store A wants to find out what products they carry that Store B does not carry. Using a left merge, combine store_a to store_b and save the results to store_a_b_left.\n",
    "\n",
    "# The items with null in store_b_inventory are carried by Store A, but not Store B."
   ]
  },
  {
   "cell_type": "code",
   "execution_count": null,
   "id": "c1b61afc-591b-412e-bf80-d039ccf7903a",
   "metadata": {},
   "outputs": [],
   "source": [
    "# Let’s return to the two hardware stores, Store A and Store B. They’re not quite sure if they want to merge into a big Super Store just yet.\n",
    "\n",
    "# Store A wants to find out what products they carry that Store B does not carry. Using a left merge, combine store_a to store_b and save the results to store_a_b_left.\n",
    "\n",
    "# The items with null in store_b_inventory are carried by Store A, but not Store B."
   ]
  },
  {
   "cell_type": "code",
   "execution_count": 22,
   "id": "7d45d76e-0312-4642-a3bc-e609f97d12f7",
   "metadata": {},
   "outputs": [],
   "source": [
    "store_a_b_left = pd.merge( store_a, store_b, how='left' )"
   ]
  },
  {
   "cell_type": "code",
   "execution_count": 23,
   "id": "bc67ef8c-942f-4454-943f-1666fa1eeabf",
   "metadata": {},
   "outputs": [
    {
     "data": {
      "text/html": [
       "<div>\n",
       "<style scoped>\n",
       "    .dataframe tbody tr th:only-of-type {\n",
       "        vertical-align: middle;\n",
       "    }\n",
       "\n",
       "    .dataframe tbody tr th {\n",
       "        vertical-align: top;\n",
       "    }\n",
       "\n",
       "    .dataframe thead th {\n",
       "        text-align: right;\n",
       "    }\n",
       "</style>\n",
       "<table border=\"1\" class=\"dataframe\">\n",
       "  <thead>\n",
       "    <tr style=\"text-align: right;\">\n",
       "      <th></th>\n",
       "      <th>item</th>\n",
       "      <th>store_a_inventory</th>\n",
       "      <th>store_b_inventory</th>\n",
       "    </tr>\n",
       "  </thead>\n",
       "  <tbody>\n",
       "    <tr>\n",
       "      <th>0</th>\n",
       "      <td>hammer</td>\n",
       "      <td>12</td>\n",
       "      <td>6.0</td>\n",
       "    </tr>\n",
       "    <tr>\n",
       "      <th>1</th>\n",
       "      <td>screwdriver</td>\n",
       "      <td>15</td>\n",
       "      <td>NaN</td>\n",
       "    </tr>\n",
       "    <tr>\n",
       "      <th>2</th>\n",
       "      <td>nails</td>\n",
       "      <td>200</td>\n",
       "      <td>250.0</td>\n",
       "    </tr>\n",
       "    <tr>\n",
       "      <th>3</th>\n",
       "      <td>screws</td>\n",
       "      <td>350</td>\n",
       "      <td>NaN</td>\n",
       "    </tr>\n",
       "    <tr>\n",
       "      <th>4</th>\n",
       "      <td>saw</td>\n",
       "      <td>6</td>\n",
       "      <td>6.0</td>\n",
       "    </tr>\n",
       "    <tr>\n",
       "      <th>5</th>\n",
       "      <td>duct tape</td>\n",
       "      <td>150</td>\n",
       "      <td>150.0</td>\n",
       "    </tr>\n",
       "    <tr>\n",
       "      <th>6</th>\n",
       "      <td>wrench</td>\n",
       "      <td>12</td>\n",
       "      <td>NaN</td>\n",
       "    </tr>\n",
       "    <tr>\n",
       "      <th>7</th>\n",
       "      <td>pvc pipe</td>\n",
       "      <td>54</td>\n",
       "      <td>54.0</td>\n",
       "    </tr>\n",
       "  </tbody>\n",
       "</table>\n",
       "</div>"
      ],
      "text/plain": [
       "          item  store_a_inventory  store_b_inventory\n",
       "0       hammer                 12                6.0\n",
       "1  screwdriver                 15                NaN\n",
       "2        nails                200              250.0\n",
       "3       screws                350                NaN\n",
       "4          saw                  6                6.0\n",
       "5    duct tape                150              150.0\n",
       "6       wrench                 12                NaN\n",
       "7     pvc pipe                 54               54.0"
      ]
     },
     "execution_count": 23,
     "metadata": {},
     "output_type": "execute_result"
    }
   ],
   "source": [
    "store_a_b_left"
   ]
  },
  {
   "cell_type": "code",
   "execution_count": null,
   "id": "dc00a5d5-5e32-4819-9d06-94264634ba4f",
   "metadata": {},
   "outputs": [],
   "source": [
    "# Now, Store B wants to find out what products they carry that Store A does not carry. Use a left join, to combine the two DataFrames but in the reverse order (i.e., store_b followed by store_a) and save the results to the variable store_b_a_left.\n",
    "\n",
    "# Which items are not carried by Store A, but are carried by Store B?"
   ]
  },
  {
   "cell_type": "code",
   "execution_count": 24,
   "id": "84d8ea81-e907-43d4-ba39-bc37ff64de00",
   "metadata": {},
   "outputs": [
    {
     "data": {
      "text/html": [
       "<div>\n",
       "<style scoped>\n",
       "    .dataframe tbody tr th:only-of-type {\n",
       "        vertical-align: middle;\n",
       "    }\n",
       "\n",
       "    .dataframe tbody tr th {\n",
       "        vertical-align: top;\n",
       "    }\n",
       "\n",
       "    .dataframe thead th {\n",
       "        text-align: right;\n",
       "    }\n",
       "</style>\n",
       "<table border=\"1\" class=\"dataframe\">\n",
       "  <thead>\n",
       "    <tr style=\"text-align: right;\">\n",
       "      <th></th>\n",
       "      <th>item</th>\n",
       "      <th>store_b_inventory</th>\n",
       "      <th>store_a_inventory</th>\n",
       "    </tr>\n",
       "  </thead>\n",
       "  <tbody>\n",
       "    <tr>\n",
       "      <th>0</th>\n",
       "      <td>hammer</td>\n",
       "      <td>6</td>\n",
       "      <td>12.0</td>\n",
       "    </tr>\n",
       "    <tr>\n",
       "      <th>1</th>\n",
       "      <td>nails</td>\n",
       "      <td>250</td>\n",
       "      <td>200.0</td>\n",
       "    </tr>\n",
       "    <tr>\n",
       "      <th>2</th>\n",
       "      <td>saw</td>\n",
       "      <td>6</td>\n",
       "      <td>6.0</td>\n",
       "    </tr>\n",
       "    <tr>\n",
       "      <th>3</th>\n",
       "      <td>duct tape</td>\n",
       "      <td>150</td>\n",
       "      <td>150.0</td>\n",
       "    </tr>\n",
       "    <tr>\n",
       "      <th>4</th>\n",
       "      <td>pvc pipe</td>\n",
       "      <td>54</td>\n",
       "      <td>54.0</td>\n",
       "    </tr>\n",
       "    <tr>\n",
       "      <th>5</th>\n",
       "      <td>rake</td>\n",
       "      <td>10</td>\n",
       "      <td>NaN</td>\n",
       "    </tr>\n",
       "    <tr>\n",
       "      <th>6</th>\n",
       "      <td>shovel</td>\n",
       "      <td>15</td>\n",
       "      <td>NaN</td>\n",
       "    </tr>\n",
       "    <tr>\n",
       "      <th>7</th>\n",
       "      <td>wooden dowels</td>\n",
       "      <td>192</td>\n",
       "      <td>NaN</td>\n",
       "    </tr>\n",
       "  </tbody>\n",
       "</table>\n",
       "</div>"
      ],
      "text/plain": [
       "            item  store_b_inventory  store_a_inventory\n",
       "0         hammer                  6               12.0\n",
       "1          nails                250              200.0\n",
       "2            saw                  6                6.0\n",
       "3      duct tape                150              150.0\n",
       "4       pvc pipe                 54               54.0\n",
       "5           rake                 10                NaN\n",
       "6         shovel                 15                NaN\n",
       "7  wooden dowels                192                NaN"
      ]
     },
     "execution_count": 24,
     "metadata": {},
     "output_type": "execute_result"
    }
   ],
   "source": [
    "pd.merge( store_b, store_a, how = 'left' )"
   ]
  },
  {
   "cell_type": "code",
   "execution_count": 52,
   "id": "90ebc853-5a45-4c18-8a6c-1f6203bb91a1",
   "metadata": {},
   "outputs": [
    {
     "data": {
      "text/html": [
       "<div>\n",
       "<style scoped>\n",
       "    .dataframe tbody tr th:only-of-type {\n",
       "        vertical-align: middle;\n",
       "    }\n",
       "\n",
       "    .dataframe tbody tr th {\n",
       "        vertical-align: top;\n",
       "    }\n",
       "\n",
       "    .dataframe thead th {\n",
       "        text-align: right;\n",
       "    }\n",
       "</style>\n",
       "<table border=\"1\" class=\"dataframe\">\n",
       "  <thead>\n",
       "    <tr style=\"text-align: right;\">\n",
       "      <th></th>\n",
       "      <th>item</th>\n",
       "      <th>store_b_inventory</th>\n",
       "      <th>store_a_inventory</th>\n",
       "    </tr>\n",
       "  </thead>\n",
       "  <tbody>\n",
       "    <tr>\n",
       "      <th>0</th>\n",
       "      <td>hammer</td>\n",
       "      <td>6.0</td>\n",
       "      <td>12.0</td>\n",
       "    </tr>\n",
       "    <tr>\n",
       "      <th>1</th>\n",
       "      <td>nails</td>\n",
       "      <td>250.0</td>\n",
       "      <td>200.0</td>\n",
       "    </tr>\n",
       "    <tr>\n",
       "      <th>2</th>\n",
       "      <td>saw</td>\n",
       "      <td>6.0</td>\n",
       "      <td>6.0</td>\n",
       "    </tr>\n",
       "    <tr>\n",
       "      <th>3</th>\n",
       "      <td>duct tape</td>\n",
       "      <td>150.0</td>\n",
       "      <td>150.0</td>\n",
       "    </tr>\n",
       "    <tr>\n",
       "      <th>4</th>\n",
       "      <td>pvc pipe</td>\n",
       "      <td>54.0</td>\n",
       "      <td>54.0</td>\n",
       "    </tr>\n",
       "    <tr>\n",
       "      <th>5</th>\n",
       "      <td>rake</td>\n",
       "      <td>10.0</td>\n",
       "      <td>NaN</td>\n",
       "    </tr>\n",
       "    <tr>\n",
       "      <th>6</th>\n",
       "      <td>shovel</td>\n",
       "      <td>15.0</td>\n",
       "      <td>NaN</td>\n",
       "    </tr>\n",
       "    <tr>\n",
       "      <th>7</th>\n",
       "      <td>wooden dowels</td>\n",
       "      <td>192.0</td>\n",
       "      <td>NaN</td>\n",
       "    </tr>\n",
       "    <tr>\n",
       "      <th>8</th>\n",
       "      <td>screwdriver</td>\n",
       "      <td>NaN</td>\n",
       "      <td>15.0</td>\n",
       "    </tr>\n",
       "    <tr>\n",
       "      <th>9</th>\n",
       "      <td>screws</td>\n",
       "      <td>NaN</td>\n",
       "      <td>350.0</td>\n",
       "    </tr>\n",
       "    <tr>\n",
       "      <th>10</th>\n",
       "      <td>wrench</td>\n",
       "      <td>NaN</td>\n",
       "      <td>12.0</td>\n",
       "    </tr>\n",
       "  </tbody>\n",
       "</table>\n",
       "</div>"
      ],
      "text/plain": [
       "             item  store_b_inventory  store_a_inventory\n",
       "0          hammer                6.0               12.0\n",
       "1           nails              250.0              200.0\n",
       "2             saw                6.0                6.0\n",
       "3       duct tape              150.0              150.0\n",
       "4        pvc pipe               54.0               54.0\n",
       "5            rake               10.0                NaN\n",
       "6          shovel               15.0                NaN\n",
       "7   wooden dowels              192.0                NaN\n",
       "8     screwdriver                NaN               15.0\n",
       "9          screws                NaN              350.0\n",
       "10         wrench                NaN               12.0"
      ]
     },
     "execution_count": 52,
     "metadata": {},
     "output_type": "execute_result"
    }
   ],
   "source": [
    "####\n",
    "# OUTER merge - include all rows whether they match or not\n",
    "####\n",
    "\n",
    "pd.merge( store_b, store_a, how = 'outer' )"
   ]
  },
  {
   "cell_type": "code",
   "execution_count": null,
   "id": "1acc4fde-7d8b-4e0f-a3e6-646ff6eb1093",
   "metadata": {},
   "outputs": [],
   "source": [
    "# WORKING WITH MULTIPLE DATAFRAMES\n",
    "# Concatenate DataFrames\n",
    "# Sometimes, a dataset is broken into multiple tables. For instance, data is often split into multiple CSV files so that each download is smaller.\n",
    "\n",
    "# When we need to reconstruct a single DataFrame from multiple smaller DataFrames, we can use the method pd.concat([df1, df2, df3, ...]). This method only works if all of the columns are the same in all of the DataFrames.\n",
    "\n",
    "# For instance, suppose that we have two DataFrames:\n",
    "\n",
    "# df1\n",
    "# name\temail\n",
    "# Katja Obinger\tk.obinger@gmail.com\n",
    "# Alison Hendrix\talisonH@yahoo.com\n",
    "# Cosima Niehaus\tcosi.niehaus@gmail.com\n",
    "# Rachel Duncan\trachelduncan@hotmail.com\n",
    "# df2\n",
    "# name\temail\n",
    "# Jean Gray\tjgray@netscape.net\n",
    "# Scott Summers\tssummers@gmail.com\n",
    "# Kitty Pryde\tkitkat@gmail.com\n",
    "# Charles Xavier\tcxavier@hotmail.com\n",
    "# If we want to combine these two DataFrames, we can use the following command:\n",
    "\n",
    "# pd.concat([df1, df2])\n",
    "\n",
    "# That would result in the following DataFrame:\n",
    "\n",
    "# name\temail\n",
    "# Katja Obinger\tk.obinger@gmail.com\n",
    "# Alison Hendrix\talisonH@yahoo.com\n",
    "# Cosima Niehaus\tcosi.niehaus@gmail.com\n",
    "# Rachel Duncan\trachelduncan@hotmail.com\n",
    "# Jean Gray\tjgray@netscape.net\n",
    "# Scott Summers\tssummers@gmail.com\n",
    "# Kitty Pryde\tkitkat@gmail.com\n",
    "# Charles Xavier\tcxavier@hotmail.com\n"
   ]
  },
  {
   "cell_type": "code",
   "execution_count": null,
   "id": "2d2012ec-a186-4252-8311-f04c4a803f60",
   "metadata": {},
   "outputs": [],
   "source": [
    "An ice cream parlor and a bakery have decided to merge.\n",
    "\n",
    "The bakery’s menu is stored in the DataFrame bakery, and the ice cream parlor’s menu is stored in DataFrame ice_cream.\n",
    "\n",
    "Create their new menu by concatenating the two DataFrames into a DataFrame called menu."
   ]
  },
  {
   "cell_type": "code",
   "execution_count": 26,
   "id": "4c99f63a-d342-419a-91f4-17823541a5b6",
   "metadata": {},
   "outputs": [
    {
     "name": "stdout",
     "output_type": "stream",
     "text": [
      "                  item  price\n",
      "0               cookie   2.50\n",
      "1              brownie   3.50\n",
      "2        slice of cake   4.75\n",
      "3  slice of cheesecake   4.75\n",
      "4         slice of pie   5.00\n",
      "                              item  price\n",
      "0     scoop of chocolate ice cream   3.00\n",
      "1       scoop of vanilla ice cream   2.95\n",
      "2    scoop of strawberry ice cream   3.05\n",
      "3  scoop of cookie dough ice cream   3.25\n"
     ]
    }
   ],
   "source": [
    "bakery = pd.read_csv('bakery.csv.txt')\n",
    "print(bakery)\n",
    "ice_cream = pd.read_csv('ice_cream.csv.txt')\n",
    "print(ice_cream)"
   ]
  },
  {
   "cell_type": "raw",
   "id": "8e8c0887-e5fc-47f8-a390-37934043920b",
   "metadata": {},
   "source": [
    "menu = pd.concat( [ bakery, ice_cream ])\n",
    "\n",
    "menu"
   ]
  },
  {
   "cell_type": "code",
   "execution_count": 32,
   "id": "a8766e80-39a5-4079-9c5a-ccf079c5b1cf",
   "metadata": {},
   "outputs": [],
   "source": [
    "# WORKING WITH MULTIPLE DATAFRAMES\n",
    "# Review\n",
    "# This lesson introduced some methods for combining multiple DataFrames:\n",
    "\n",
    "# Creating a DataFrame made by matching the common columns of two DataFrames is called a merge\n",
    "# We can specify which columns should be matches by using the keyword arguments left_on and right_on\n",
    "# We can combine DataFrames whose rows don’t all match using left, right, and outer merges and the how keyword argument\n",
    "# We can stack or concatenate DataFrames with the same columns using pd.concat\n"
   ]
  },
  {
   "cell_type": "code",
   "execution_count": null,
   "id": "60416e69-5b29-48c2-bc4d-d104c0e8b83f",
   "metadata": {},
   "outputs": [],
   "source": [
    "# Cool T-Shirts Inc. just created a website for ordering their products. They want you to analyze two datasets for them:\n",
    "\n",
    "# visits contains information on all visits to their landing page\n",
    "# checkouts contains all users who began to checkout on their website\n",
    "# Use print to inspect each DataFrame."
   ]
  },
  {
   "cell_type": "code",
   "execution_count": 35,
   "id": "e549e6e6-5e1e-4ef3-80db-98ca7e9e886b",
   "metadata": {},
   "outputs": [
    {
     "data": {
      "text/plain": [
       "(                                 user_id          visit_time\n",
       " 0   319350b4-9951-47ef-b3a7-6b252099905f 2017-02-21 07:16:00\n",
       " 1   7435ec9f-576d-4ebd-8791-361b128fca77 2017-05-16 08:37:00\n",
       " 2   0b061e73-f709-42fa-8d1a-5f68176ff154 2017-04-12 19:32:00\n",
       " 3   9133d6f0-e68b-4c8d-bafd-ff2825e8dafe 2017-08-18 04:32:00\n",
       " 4   08d13edb-071c-4cfb-9ee4-8f377d0e932a 2017-07-08 06:24:00\n",
       " ..                                   ...                 ...\n",
       " 95  442efd1c-8d7b-4d6a-83be-8f2a9e08b34f 2017-02-19 11:20:00\n",
       " 96  5679519b-a901-4970-8656-dbf60ffb618d 2017-07-20 04:23:00\n",
       " 97  26deb2d5-1d7e-4774-bf6e-1df2ee9ee59d 2017-09-06 07:29:00\n",
       " 98  fff8f87a-e4a2-4f2c-b3d4-93a4ece95c4f 2017-06-06 23:42:00\n",
       " 99  42617776-2850-431d-9262-a9c11e5ad17f 2017-02-10 10:49:00\n",
       " \n",
       " [100 rows x 2 columns],\n",
       "                                  user_id       checkout_time\n",
       " 0   fe90a9f4-960a-4a0d-9160-e562adb79365 2017-11-09 09:25:00\n",
       " 1   1a35b7eb-f603-407d-91be-a2c3304066fd 2017-08-15 21:25:00\n",
       " 2   e2c24ee0-7fdf-4400-abde-b36378fe5ce6 2017-07-04 15:39:00\n",
       " 3   10dbd3c5-d610-44e9-9994-110a7950b6b4 2017-08-09 21:07:00\n",
       " 4   f028e9dd-77d0-4002-83f6-372a4837fda6 2017-10-27 08:57:00\n",
       " ..                                   ...                 ...\n",
       " 75  7fe800cc-46e8-427c-a7af-f27198d305a1 2017-01-18 13:14:00\n",
       " 76  43db76fc-d522-450d-a371-ef2a683d5bfd 2017-03-26 21:31:00\n",
       " 77  851b52d1-31e9-468d-834f-5363fee108ac 2017-09-21 22:24:00\n",
       " 78  7435ec9f-576d-4ebd-8791-361b128fca77 2017-05-16 08:55:00\n",
       " 79  319350b4-9951-47ef-b3a7-6b252099905f 2017-02-21 07:40:00\n",
       " \n",
       " [80 rows x 2 columns])"
      ]
     },
     "execution_count": 35,
     "metadata": {},
     "output_type": "execute_result"
    }
   ],
   "source": [
    "visits = pd.read_csv('visits.csv.txt',\n",
    "                        parse_dates=[1])\n",
    "checkouts = pd.read_csv('checkouts.csv.txt',\n",
    "                        parse_dates=[1])\n",
    "\n",
    "visits, checkouts"
   ]
  },
  {
   "cell_type": "code",
   "execution_count": null,
   "id": "e5ea66fa-7b33-45ff-a867-e00d4e31299a",
   "metadata": {},
   "outputs": [],
   "source": [
    "# We want to know the amount of time from a user’s initial visit to the website to when they start to check out.\n",
    "\n",
    "# Use merge to combine visits and checkouts and save it to the variable v_to_c."
   ]
  },
  {
   "cell_type": "code",
   "execution_count": 38,
   "id": "cc485d80-7157-4139-bacd-3522e1a50132",
   "metadata": {},
   "outputs": [
    {
     "data": {
      "text/html": [
       "<div>\n",
       "<style scoped>\n",
       "    .dataframe tbody tr th:only-of-type {\n",
       "        vertical-align: middle;\n",
       "    }\n",
       "\n",
       "    .dataframe tbody tr th {\n",
       "        vertical-align: top;\n",
       "    }\n",
       "\n",
       "    .dataframe thead th {\n",
       "        text-align: right;\n",
       "    }\n",
       "</style>\n",
       "<table border=\"1\" class=\"dataframe\">\n",
       "  <thead>\n",
       "    <tr style=\"text-align: right;\">\n",
       "      <th></th>\n",
       "      <th>user_id</th>\n",
       "      <th>visit_time</th>\n",
       "      <th>checkout_time</th>\n",
       "    </tr>\n",
       "  </thead>\n",
       "  <tbody>\n",
       "    <tr>\n",
       "      <th>0</th>\n",
       "      <td>319350b4-9951-47ef-b3a7-6b252099905f</td>\n",
       "      <td>2017-02-21 07:16:00</td>\n",
       "      <td>2017-02-21 07:27:00</td>\n",
       "    </tr>\n",
       "    <tr>\n",
       "      <th>1</th>\n",
       "      <td>319350b4-9951-47ef-b3a7-6b252099905f</td>\n",
       "      <td>2017-02-21 07:16:00</td>\n",
       "      <td>2017-02-21 07:40:00</td>\n",
       "    </tr>\n",
       "    <tr>\n",
       "      <th>2</th>\n",
       "      <td>7435ec9f-576d-4ebd-8791-361b128fca77</td>\n",
       "      <td>2017-05-16 08:37:00</td>\n",
       "      <td>2017-05-16 08:49:00</td>\n",
       "    </tr>\n",
       "    <tr>\n",
       "      <th>3</th>\n",
       "      <td>7435ec9f-576d-4ebd-8791-361b128fca77</td>\n",
       "      <td>2017-05-16 08:37:00</td>\n",
       "      <td>2017-05-16 08:55:00</td>\n",
       "    </tr>\n",
       "    <tr>\n",
       "      <th>4</th>\n",
       "      <td>08d13edb-071c-4cfb-9ee4-8f377d0e932a</td>\n",
       "      <td>2017-07-08 06:24:00</td>\n",
       "      <td>2017-07-08 06:32:00</td>\n",
       "    </tr>\n",
       "    <tr>\n",
       "      <th>...</th>\n",
       "      <td>...</td>\n",
       "      <td>...</td>\n",
       "      <td>...</td>\n",
       "    </tr>\n",
       "    <tr>\n",
       "      <th>75</th>\n",
       "      <td>23a8d1be-3f5c-4b59-aed7-c7f19c51612b</td>\n",
       "      <td>2017-08-11 13:49:00</td>\n",
       "      <td>2017-08-11 14:11:00</td>\n",
       "    </tr>\n",
       "    <tr>\n",
       "      <th>76</th>\n",
       "      <td>8d9ac96c-16be-418e-8df4-1a6202d0b36e</td>\n",
       "      <td>2017-10-07 10:23:00</td>\n",
       "      <td>2017-10-07 10:24:00</td>\n",
       "    </tr>\n",
       "    <tr>\n",
       "      <th>77</th>\n",
       "      <td>8d9ac96c-16be-418e-8df4-1a6202d0b36e</td>\n",
       "      <td>2017-10-07 10:23:00</td>\n",
       "      <td>2017-10-07 10:52:00</td>\n",
       "    </tr>\n",
       "    <tr>\n",
       "      <th>78</th>\n",
       "      <td>5679519b-a901-4970-8656-dbf60ffb618d</td>\n",
       "      <td>2017-07-20 04:23:00</td>\n",
       "      <td>2017-07-20 04:24:00</td>\n",
       "    </tr>\n",
       "    <tr>\n",
       "      <th>79</th>\n",
       "      <td>fff8f87a-e4a2-4f2c-b3d4-93a4ece95c4f</td>\n",
       "      <td>2017-06-06 23:42:00</td>\n",
       "      <td>2017-06-07 00:11:00</td>\n",
       "    </tr>\n",
       "  </tbody>\n",
       "</table>\n",
       "<p>80 rows × 3 columns</p>\n",
       "</div>"
      ],
      "text/plain": [
       "                                 user_id          visit_time  \\\n",
       "0   319350b4-9951-47ef-b3a7-6b252099905f 2017-02-21 07:16:00   \n",
       "1   319350b4-9951-47ef-b3a7-6b252099905f 2017-02-21 07:16:00   \n",
       "2   7435ec9f-576d-4ebd-8791-361b128fca77 2017-05-16 08:37:00   \n",
       "3   7435ec9f-576d-4ebd-8791-361b128fca77 2017-05-16 08:37:00   \n",
       "4   08d13edb-071c-4cfb-9ee4-8f377d0e932a 2017-07-08 06:24:00   \n",
       "..                                   ...                 ...   \n",
       "75  23a8d1be-3f5c-4b59-aed7-c7f19c51612b 2017-08-11 13:49:00   \n",
       "76  8d9ac96c-16be-418e-8df4-1a6202d0b36e 2017-10-07 10:23:00   \n",
       "77  8d9ac96c-16be-418e-8df4-1a6202d0b36e 2017-10-07 10:23:00   \n",
       "78  5679519b-a901-4970-8656-dbf60ffb618d 2017-07-20 04:23:00   \n",
       "79  fff8f87a-e4a2-4f2c-b3d4-93a4ece95c4f 2017-06-06 23:42:00   \n",
       "\n",
       "         checkout_time  \n",
       "0  2017-02-21 07:27:00  \n",
       "1  2017-02-21 07:40:00  \n",
       "2  2017-05-16 08:49:00  \n",
       "3  2017-05-16 08:55:00  \n",
       "4  2017-07-08 06:32:00  \n",
       "..                 ...  \n",
       "75 2017-08-11 14:11:00  \n",
       "76 2017-10-07 10:24:00  \n",
       "77 2017-10-07 10:52:00  \n",
       "78 2017-07-20 04:24:00  \n",
       "79 2017-06-07 00:11:00  \n",
       "\n",
       "[80 rows x 3 columns]"
      ]
     },
     "execution_count": 38,
     "metadata": {},
     "output_type": "execute_result"
    }
   ],
   "source": [
    "pd.merge( visits, checkouts )"
   ]
  },
  {
   "cell_type": "code",
   "execution_count": 45,
   "id": "761dcd19-5805-41e8-826e-f0e4f03b140c",
   "metadata": {},
   "outputs": [],
   "source": [
    "v_to_c = pd.merge( visits, checkouts )"
   ]
  },
  {
   "cell_type": "code",
   "execution_count": null,
   "id": "26991872-d4c5-4a62-be77-149c6cd25d75",
   "metadata": {},
   "outputs": [],
   "source": [
    "#In order to calculate the time between visiting and checking out, define a column of v_to_c called time that calculates the difference between checkout_time and visit_time for every row."
   ]
  },
  {
   "cell_type": "code",
   "execution_count": 48,
   "id": "efa0cb10-b129-49e6-be0d-62e9dbd5653c",
   "metadata": {},
   "outputs": [],
   "source": [
    "v_to_c['time'] = ( v_to_c.checkout_time - v_to_c.visit_time )"
   ]
  },
  {
   "cell_type": "code",
   "execution_count": 49,
   "id": "dc2ad5d8-1261-4117-b502-8d8ac980e571",
   "metadata": {},
   "outputs": [
    {
     "data": {
      "text/html": [
       "<div>\n",
       "<style scoped>\n",
       "    .dataframe tbody tr th:only-of-type {\n",
       "        vertical-align: middle;\n",
       "    }\n",
       "\n",
       "    .dataframe tbody tr th {\n",
       "        vertical-align: top;\n",
       "    }\n",
       "\n",
       "    .dataframe thead th {\n",
       "        text-align: right;\n",
       "    }\n",
       "</style>\n",
       "<table border=\"1\" class=\"dataframe\">\n",
       "  <thead>\n",
       "    <tr style=\"text-align: right;\">\n",
       "      <th></th>\n",
       "      <th>user_id</th>\n",
       "      <th>visit_time</th>\n",
       "      <th>checkout_time</th>\n",
       "      <th>time</th>\n",
       "    </tr>\n",
       "  </thead>\n",
       "  <tbody>\n",
       "    <tr>\n",
       "      <th>0</th>\n",
       "      <td>319350b4-9951-47ef-b3a7-6b252099905f</td>\n",
       "      <td>2017-02-21 07:16:00</td>\n",
       "      <td>2017-02-21 07:27:00</td>\n",
       "      <td>0 days 00:11:00</td>\n",
       "    </tr>\n",
       "    <tr>\n",
       "      <th>1</th>\n",
       "      <td>319350b4-9951-47ef-b3a7-6b252099905f</td>\n",
       "      <td>2017-02-21 07:16:00</td>\n",
       "      <td>2017-02-21 07:40:00</td>\n",
       "      <td>0 days 00:24:00</td>\n",
       "    </tr>\n",
       "    <tr>\n",
       "      <th>2</th>\n",
       "      <td>7435ec9f-576d-4ebd-8791-361b128fca77</td>\n",
       "      <td>2017-05-16 08:37:00</td>\n",
       "      <td>2017-05-16 08:49:00</td>\n",
       "      <td>0 days 00:12:00</td>\n",
       "    </tr>\n",
       "    <tr>\n",
       "      <th>3</th>\n",
       "      <td>7435ec9f-576d-4ebd-8791-361b128fca77</td>\n",
       "      <td>2017-05-16 08:37:00</td>\n",
       "      <td>2017-05-16 08:55:00</td>\n",
       "      <td>0 days 00:18:00</td>\n",
       "    </tr>\n",
       "    <tr>\n",
       "      <th>4</th>\n",
       "      <td>08d13edb-071c-4cfb-9ee4-8f377d0e932a</td>\n",
       "      <td>2017-07-08 06:24:00</td>\n",
       "      <td>2017-07-08 06:32:00</td>\n",
       "      <td>0 days 00:08:00</td>\n",
       "    </tr>\n",
       "    <tr>\n",
       "      <th>...</th>\n",
       "      <td>...</td>\n",
       "      <td>...</td>\n",
       "      <td>...</td>\n",
       "      <td>...</td>\n",
       "    </tr>\n",
       "    <tr>\n",
       "      <th>75</th>\n",
       "      <td>23a8d1be-3f5c-4b59-aed7-c7f19c51612b</td>\n",
       "      <td>2017-08-11 13:49:00</td>\n",
       "      <td>2017-08-11 14:11:00</td>\n",
       "      <td>0 days 00:22:00</td>\n",
       "    </tr>\n",
       "    <tr>\n",
       "      <th>76</th>\n",
       "      <td>8d9ac96c-16be-418e-8df4-1a6202d0b36e</td>\n",
       "      <td>2017-10-07 10:23:00</td>\n",
       "      <td>2017-10-07 10:24:00</td>\n",
       "      <td>0 days 00:01:00</td>\n",
       "    </tr>\n",
       "    <tr>\n",
       "      <th>77</th>\n",
       "      <td>8d9ac96c-16be-418e-8df4-1a6202d0b36e</td>\n",
       "      <td>2017-10-07 10:23:00</td>\n",
       "      <td>2017-10-07 10:52:00</td>\n",
       "      <td>0 days 00:29:00</td>\n",
       "    </tr>\n",
       "    <tr>\n",
       "      <th>78</th>\n",
       "      <td>5679519b-a901-4970-8656-dbf60ffb618d</td>\n",
       "      <td>2017-07-20 04:23:00</td>\n",
       "      <td>2017-07-20 04:24:00</td>\n",
       "      <td>0 days 00:01:00</td>\n",
       "    </tr>\n",
       "    <tr>\n",
       "      <th>79</th>\n",
       "      <td>fff8f87a-e4a2-4f2c-b3d4-93a4ece95c4f</td>\n",
       "      <td>2017-06-06 23:42:00</td>\n",
       "      <td>2017-06-07 00:11:00</td>\n",
       "      <td>0 days 00:29:00</td>\n",
       "    </tr>\n",
       "  </tbody>\n",
       "</table>\n",
       "<p>80 rows × 4 columns</p>\n",
       "</div>"
      ],
      "text/plain": [
       "                                 user_id          visit_time  \\\n",
       "0   319350b4-9951-47ef-b3a7-6b252099905f 2017-02-21 07:16:00   \n",
       "1   319350b4-9951-47ef-b3a7-6b252099905f 2017-02-21 07:16:00   \n",
       "2   7435ec9f-576d-4ebd-8791-361b128fca77 2017-05-16 08:37:00   \n",
       "3   7435ec9f-576d-4ebd-8791-361b128fca77 2017-05-16 08:37:00   \n",
       "4   08d13edb-071c-4cfb-9ee4-8f377d0e932a 2017-07-08 06:24:00   \n",
       "..                                   ...                 ...   \n",
       "75  23a8d1be-3f5c-4b59-aed7-c7f19c51612b 2017-08-11 13:49:00   \n",
       "76  8d9ac96c-16be-418e-8df4-1a6202d0b36e 2017-10-07 10:23:00   \n",
       "77  8d9ac96c-16be-418e-8df4-1a6202d0b36e 2017-10-07 10:23:00   \n",
       "78  5679519b-a901-4970-8656-dbf60ffb618d 2017-07-20 04:23:00   \n",
       "79  fff8f87a-e4a2-4f2c-b3d4-93a4ece95c4f 2017-06-06 23:42:00   \n",
       "\n",
       "         checkout_time            time  \n",
       "0  2017-02-21 07:27:00 0 days 00:11:00  \n",
       "1  2017-02-21 07:40:00 0 days 00:24:00  \n",
       "2  2017-05-16 08:49:00 0 days 00:12:00  \n",
       "3  2017-05-16 08:55:00 0 days 00:18:00  \n",
       "4  2017-07-08 06:32:00 0 days 00:08:00  \n",
       "..                 ...             ...  \n",
       "75 2017-08-11 14:11:00 0 days 00:22:00  \n",
       "76 2017-10-07 10:24:00 0 days 00:01:00  \n",
       "77 2017-10-07 10:52:00 0 days 00:29:00  \n",
       "78 2017-07-20 04:24:00 0 days 00:01:00  \n",
       "79 2017-06-07 00:11:00 0 days 00:29:00  \n",
       "\n",
       "[80 rows x 4 columns]"
      ]
     },
     "execution_count": 49,
     "metadata": {},
     "output_type": "execute_result"
    }
   ],
   "source": [
    "v_to_c"
   ]
  },
  {
   "cell_type": "code",
   "execution_count": null,
   "id": "e579dc91-56d2-40b1-b11c-fbb034aaf444",
   "metadata": {},
   "outputs": [],
   "source": [
    "# Use .mean() to calculate the average time to checkout and print that value to the terminal."
   ]
  },
  {
   "cell_type": "code",
   "execution_count": 51,
   "id": "1e16ddb8-dde8-40a7-8b3a-86b092ecd57d",
   "metadata": {},
   "outputs": [
    {
     "data": {
      "text/plain": [
       "Timedelta('0 days 00:15:24.750000')"
      ]
     },
     "execution_count": 51,
     "metadata": {},
     "output_type": "execute_result"
    }
   ],
   "source": [
    "v_to_c['time'].mean()"
   ]
  }
 ],
 "metadata": {
  "kernelspec": {
   "display_name": "Python 3 (ipykernel)",
   "language": "python",
   "name": "python3"
  },
  "language_info": {
   "codemirror_mode": {
    "name": "ipython",
    "version": 3
   },
   "file_extension": ".py",
   "mimetype": "text/x-python",
   "name": "python",
   "nbconvert_exporter": "python",
   "pygments_lexer": "ipython3",
   "version": "3.10.9"
  }
 },
 "nbformat": 4,
 "nbformat_minor": 5
}
