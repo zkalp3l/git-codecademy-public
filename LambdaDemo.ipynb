{
 "cells": [
  {
   "cell_type": "code",
   "execution_count": 1,
   "id": "0ac89f7a-af90-492e-8c34-6a890d4e3973",
   "metadata": {},
   "outputs": [],
   "source": [
    "upperLam = lambda param : param.upper() "
   ]
  },
  {
   "cell_type": "code",
   "execution_count": 2,
   "id": "5c45703f-66be-4b60-b6f4-9f2a8e148b00",
   "metadata": {},
   "outputs": [
    {
     "name": "stdout",
     "output_type": "stream",
     "text": [
      "ERIC\n"
     ]
    }
   ],
   "source": [
    "print(upperLam('Eric'))"
   ]
  },
  {
   "cell_type": "code",
   "execution_count": 3,
   "id": "ca7f65f2-9c86-4325-ad52-78ea7245e0ee",
   "metadata": {},
   "outputs": [],
   "source": [
    "# Let’s write a lambda function that checks if a string is a substring of the string “This is the master string”.\n",
    "\n",
    "isSubStr = lambda substr : substr in \"This is the master string\""
   ]
  },
  {
   "cell_type": "code",
   "execution_count": 4,
   "id": "9d9968ef-160d-4f15-aee5-ef48659ce24a",
   "metadata": {},
   "outputs": [
    {
     "name": "stdout",
     "output_type": "stream",
     "text": [
      "False\n"
     ]
    }
   ],
   "source": [
    "print( isSubStr('ist'))"
   ]
  },
  {
   "cell_type": "code",
   "execution_count": 5,
   "id": "cbc6e43f-c91a-4793-a54c-4c579b6de561",
   "metadata": {},
   "outputs": [],
   "source": [
    "# Conditional Lambda <WHAT TO RETURN IF STATEMENT IS TRUE> if <IF STATEMENT> else <WHAT TO RETURN IF STATEMENT IS FALSE>\n",
    "condLambda = lambda score : 'You got an A' if score >= 90 else 'You didnt get an A!'"
   ]
  },
  {
   "cell_type": "code",
   "execution_count": 6,
   "id": "a64165e3-19d7-40b2-9b07-f61bf2013998",
   "metadata": {},
   "outputs": [
    {
     "name": "stdout",
     "output_type": "stream",
     "text": [
      "You got an A\n",
      "You didnt get an A!\n",
      "You got an A\n"
     ]
    }
   ],
   "source": [
    "print ( condLambda(95))\n",
    "print ( condLambda(75))\n",
    "print ( condLambda(90))"
   ]
  }
 ],
 "metadata": {
  "kernelspec": {
   "display_name": "Python 3 (ipykernel)",
   "language": "python",
   "name": "python3"
  },
  "language_info": {
   "codemirror_mode": {
    "name": "ipython",
    "version": 3
   },
   "file_extension": ".py",
   "mimetype": "text/x-python",
   "name": "python",
   "nbconvert_exporter": "python",
   "pygments_lexer": "ipython3",
   "version": "3.10.9"
  }
 },
 "nbformat": 4,
 "nbformat_minor": 5
}
